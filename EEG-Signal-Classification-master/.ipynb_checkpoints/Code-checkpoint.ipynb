{
 "cells": [
  {
   "cell_type": "markdown",
   "metadata": {
    "colab_type": "text",
    "id": "SvPQAWreT63x"
   },
   "source": [
    "# Udacity Capstone Project"
   ]
  },
  {
   "cell_type": "markdown",
   "metadata": {
    "colab_type": "text",
    "id": "le3WdOCST7Xm"
   },
   "source": [
    "## EEG signal Based Eye State Classification"
   ]
  },
  {
   "cell_type": "markdown",
   "metadata": {
    "colab_type": "text",
    "id": "ZtrY0ulL5Zl2"
   },
   "source": [
    "### Loading the files in Google colab"
   ]
  },
  {
   "cell_type": "code",
   "execution_count": 1,
   "metadata": {
    "colab": {
     "autoexec": {
      "startup": false,
      "wait_interval": 0
     }
    },
    "colab_type": "code",
    "id": "i2QS1zSNfF8k"
   },
   "outputs": [],
   "source": [
    "# You can skip this step if you are training on local System\n",
    "\n",
    "#!pip install -U -q PyDrive\n",
    "#from pydrive.auth import GoogleAuth\n",
    "#from pydrive.drive import GoogleDrive\n",
    "#from google.colab import auth\n",
    "#from oauth2client.client import GoogleCredentials\n",
    "\n",
    "#auth.authenticate_user()\n",
    "#gauth = GoogleAuth()\n",
    "#gauth.credentials = GoogleCredentials.get_application_default()\n",
    "#drive = GoogleDrive(gauth)\n",
    "\n",
    "#fid = drive.ListFile({'q':\"title='EEG Eye State.txt'\"}).GetList()[0]['id']\n",
    "#f = drive.CreateFile({'id': fid})\n",
    "#f.GetContentFile('EEG Eye State.txt')"
   ]
  },
  {
   "cell_type": "code",
   "execution_count": 2,
   "metadata": {
    "colab": {
     "autoexec": {
      "startup": false,
      "wait_interval": 0
     }
    },
    "colab_type": "code",
    "id": "60hZQgdqflKU"
   },
   "outputs": [],
   "source": [
    "# Loading the dataset\n",
    "\n",
    "fname = \"EEG Eye State.txt\"\n",
    "with open(fname) as f:\n",
    "    content = f.readlines()\n",
    "\n",
    "content = [x.strip() for x in content] \n",
    "content = [x.split(\",\") for x in content]"
   ]
  },
  {
   "cell_type": "code",
   "execution_count": 3,
   "metadata": {
    "colab": {
     "autoexec": {
      "startup": false,
      "wait_interval": 0
     }
    },
    "colab_type": "code",
    "id": "aYVDStrLgnid"
   },
   "outputs": [],
   "source": [
    "# Converting list to numpy array\n",
    "\n",
    "import numpy as np\n",
    "\n",
    "content = np.array(content, dtype = 'float32')"
   ]
  },
  {
   "cell_type": "code",
   "execution_count": 4,
   "metadata": {
    "colab": {
     "autoexec": {
      "startup": false,
      "wait_interval": 0
     }
    },
    "colab_type": "code",
    "id": "W1m_uyCfse2y"
   },
   "outputs": [],
   "source": [
    "# Shuffling the dataset\n",
    "\n",
    "import random\n",
    "random.shuffle(content)"
   ]
  },
  {
   "cell_type": "code",
   "execution_count": 5,
   "metadata": {
    "colab": {
     "autoexec": {
      "startup": false,
      "wait_interval": 0
     }
    },
    "colab_type": "code",
    "id": "LwqzamB1XFmk"
   },
   "outputs": [],
   "source": [
    "# Storing results of algorithms\n",
    "score_p = []"
   ]
  },
  {
   "cell_type": "markdown",
   "metadata": {
    "colab_type": "text",
    "id": "S41pxHVJ5epZ"
   },
   "source": [
    "### Creating X and Y"
   ]
  },
  {
   "cell_type": "code",
   "execution_count": 6,
   "metadata": {
    "colab": {
     "autoexec": {
      "startup": false,
      "wait_interval": 0
     }
    },
    "colab_type": "code",
    "id": "DjnxZvhpgqKy"
   },
   "outputs": [],
   "source": [
    "x = content[:, :-1]\n",
    "y = np.array(content[:, -1], dtype = 'int32')"
   ]
  },
  {
   "cell_type": "code",
   "execution_count": 7,
   "metadata": {
    "colab": {
     "autoexec": {
      "startup": false,
      "wait_interval": 0
     },
     "base_uri": "https://localhost:8080/",
     "height": 73
    },
    "colab_type": "code",
    "executionInfo": {
     "elapsed": 866,
     "status": "ok",
     "timestamp": 1528838208612,
     "user": {
      "displayName": "SHUBHAM VERMA",
      "photoUrl": "https://lh3.googleusercontent.com/a/default-user=s128",
      "userId": "108363614808362191748"
     },
     "user_tz": -330
    },
    "id": "BVr2ve7Ckp1U",
    "outputId": "0c09278d-c6db-4414-803b-8afb7c6a736e"
   },
   "outputs": [
    {
     "data": {
      "text/plain": [
       "array([4329.23, 4009.23, 4289.23, 4148.21, 4350.26, 4586.15, 4096.92,\n",
       "       4641.03, 4222.05, 4238.46, 4211.28, 4280.51, 4635.9 , 4393.85],\n",
       "      dtype=float32)"
      ]
     },
     "execution_count": 7,
     "metadata": {},
     "output_type": "execute_result"
    }
   ],
   "source": [
    "x[0]"
   ]
  },
  {
   "cell_type": "code",
   "execution_count": 8,
   "metadata": {
    "colab": {
     "autoexec": {
      "startup": false,
      "wait_interval": 0
     },
     "base_uri": "https://localhost:8080/",
     "height": 36
    },
    "colab_type": "code",
    "executionInfo": {
     "elapsed": 775,
     "status": "ok",
     "timestamp": 1528838211087,
     "user": {
      "displayName": "SHUBHAM VERMA",
      "photoUrl": "https://lh3.googleusercontent.com/a/default-user=s128",
      "userId": "108363614808362191748"
     },
     "user_tz": -330
    },
    "id": "JTySF2jYUyrO",
    "outputId": "2bef2805-02bb-4180-f6c9-397f60175b41"
   },
   "outputs": [
    {
     "data": {
      "text/plain": [
       "0"
      ]
     },
     "execution_count": 8,
     "metadata": {},
     "output_type": "execute_result"
    }
   ],
   "source": [
    "y[0]"
   ]
  },
  {
   "cell_type": "markdown",
   "metadata": {
    "colab_type": "text",
    "id": "X1tcVoh6kq9p"
   },
   "source": [
    "# Statistical Features approach"
   ]
  },
  {
   "cell_type": "markdown",
   "metadata": {
    "colab_type": "text",
    "id": "Ie0mMLieqB2t"
   },
   "source": [
    "## Data Preparation"
   ]
  },
  {
   "cell_type": "code",
   "execution_count": 9,
   "metadata": {
    "colab": {
     "autoexec": {
      "startup": false,
      "wait_interval": 0
     }
    },
    "colab_type": "code",
    "id": "Tw8m8Wsklewm"
   },
   "outputs": [],
   "source": [
    "import pandas as pd\n",
    "import numpy as np\n",
    "import scipy\n",
    "import scipy.stats"
   ]
  },
  {
   "cell_type": "code",
   "execution_count": 10,
   "metadata": {
    "colab": {
     "autoexec": {
      "startup": false,
      "wait_interval": 0
     }
    },
    "colab_type": "code",
    "id": "CkOJrTBwkqQG"
   },
   "outputs": [],
   "source": [
    "X_columns = ['mean', 'standard deviation', 'kurt', 'skewness']\n",
    "Y_columns = ['label']"
   ]
  },
  {
   "cell_type": "code",
   "execution_count": 11,
   "metadata": {
    "colab": {
     "autoexec": {
      "startup": false,
      "wait_interval": 0
     }
    },
    "colab_type": "code",
    "id": "zlMuSMqSkqUJ"
   },
   "outputs": [],
   "source": [
    "X = pd.DataFrame(columns = X_columns)\n",
    "Y = pd.DataFrame(columns = Y_columns)"
   ]
  },
  {
   "cell_type": "code",
   "execution_count": 12,
   "metadata": {
    "colab": {
     "autoexec": {
      "startup": false,
      "wait_interval": 0
     }
    },
    "colab_type": "code",
    "id": "-SkGMSZHkqOF"
   },
   "outputs": [],
   "source": [
    "for i in range(len(x)):\n",
    "  X.loc[i] = np.array([np.mean(x[i]), np.std(x[i]), scipy.stats.kurtosis(x[i]), scipy.stats.skew(x[i])])\n",
    "  Y.loc[i] = y[i]"
   ]
  },
  {
   "cell_type": "code",
   "execution_count": 13,
   "metadata": {
    "colab": {
     "autoexec": {
      "startup": false,
      "wait_interval": 0
     },
     "base_uri": "https://localhost:8080/",
     "height": 677
    },
    "colab_type": "code",
    "executionInfo": {
     "elapsed": 794,
     "status": "ok",
     "timestamp": 1528838298864,
     "user": {
      "displayName": "SHUBHAM VERMA",
      "photoUrl": "https://lh3.googleusercontent.com/a/default-user=s128",
      "userId": "108363614808362191748"
     },
     "user_tz": -330
    },
    "id": "kkpqklZPowkK",
    "outputId": "34ee5ed1-0bdf-4d6f-91f1-6d4f7958235f"
   },
   "outputs": [
    {
     "data": {
      "text/html": [
       "<div>\n",
       "<style scoped>\n",
       "    .dataframe tbody tr th:only-of-type {\n",
       "        vertical-align: middle;\n",
       "    }\n",
       "\n",
       "    .dataframe tbody tr th {\n",
       "        vertical-align: top;\n",
       "    }\n",
       "\n",
       "    .dataframe thead th {\n",
       "        text-align: right;\n",
       "    }\n",
       "</style>\n",
       "<table border=\"1\" class=\"dataframe\">\n",
       "  <thead>\n",
       "    <tr style=\"text-align: right;\">\n",
       "      <th></th>\n",
       "      <th>mean</th>\n",
       "      <th>standard deviation</th>\n",
       "      <th>kurt</th>\n",
       "      <th>skewness</th>\n",
       "    </tr>\n",
       "  </thead>\n",
       "  <tbody>\n",
       "    <tr>\n",
       "      <th>0</th>\n",
       "      <td>4316.593750</td>\n",
       "      <td>186.395279</td>\n",
       "      <td>-0.686817</td>\n",
       "      <td>0.439234</td>\n",
       "    </tr>\n",
       "    <tr>\n",
       "      <th>1</th>\n",
       "      <td>4316.593750</td>\n",
       "      <td>186.395279</td>\n",
       "      <td>-0.686817</td>\n",
       "      <td>0.439234</td>\n",
       "    </tr>\n",
       "    <tr>\n",
       "      <th>2</th>\n",
       "      <td>4316.593750</td>\n",
       "      <td>186.395279</td>\n",
       "      <td>-0.686817</td>\n",
       "      <td>0.439234</td>\n",
       "    </tr>\n",
       "    <tr>\n",
       "      <th>3</th>\n",
       "      <td>4316.593750</td>\n",
       "      <td>186.395279</td>\n",
       "      <td>-0.686817</td>\n",
       "      <td>0.439234</td>\n",
       "    </tr>\n",
       "    <tr>\n",
       "      <th>4</th>\n",
       "      <td>4316.227051</td>\n",
       "      <td>183.612762</td>\n",
       "      <td>-0.696899</td>\n",
       "      <td>0.422589</td>\n",
       "    </tr>\n",
       "    <tr>\n",
       "      <th>5</th>\n",
       "      <td>4312.748535</td>\n",
       "      <td>186.797379</td>\n",
       "      <td>-0.673855</td>\n",
       "      <td>0.459162</td>\n",
       "    </tr>\n",
       "    <tr>\n",
       "      <th>6</th>\n",
       "      <td>4316.189941</td>\n",
       "      <td>184.204300</td>\n",
       "      <td>-0.716226</td>\n",
       "      <td>0.414606</td>\n",
       "    </tr>\n",
       "    <tr>\n",
       "      <th>7</th>\n",
       "      <td>4316.593750</td>\n",
       "      <td>186.395279</td>\n",
       "      <td>-0.686817</td>\n",
       "      <td>0.439234</td>\n",
       "    </tr>\n",
       "    <tr>\n",
       "      <th>8</th>\n",
       "      <td>4316.189941</td>\n",
       "      <td>184.204300</td>\n",
       "      <td>-0.716226</td>\n",
       "      <td>0.414606</td>\n",
       "    </tr>\n",
       "    <tr>\n",
       "      <th>9</th>\n",
       "      <td>4307.143555</td>\n",
       "      <td>183.993057</td>\n",
       "      <td>-0.686661</td>\n",
       "      <td>0.435931</td>\n",
       "    </tr>\n",
       "    <tr>\n",
       "      <th>10</th>\n",
       "      <td>4307.143555</td>\n",
       "      <td>183.993057</td>\n",
       "      <td>-0.686661</td>\n",
       "      <td>0.435931</td>\n",
       "    </tr>\n",
       "    <tr>\n",
       "      <th>11</th>\n",
       "      <td>4316.189941</td>\n",
       "      <td>184.204300</td>\n",
       "      <td>-0.716226</td>\n",
       "      <td>0.414606</td>\n",
       "    </tr>\n",
       "    <tr>\n",
       "      <th>12</th>\n",
       "      <td>4306.008301</td>\n",
       "      <td>183.946869</td>\n",
       "      <td>-0.734426</td>\n",
       "      <td>0.439418</td>\n",
       "    </tr>\n",
       "    <tr>\n",
       "      <th>13</th>\n",
       "      <td>4312.748535</td>\n",
       "      <td>186.797379</td>\n",
       "      <td>-0.673855</td>\n",
       "      <td>0.459162</td>\n",
       "    </tr>\n",
       "    <tr>\n",
       "      <th>14</th>\n",
       "      <td>4310.731934</td>\n",
       "      <td>183.971970</td>\n",
       "      <td>-0.709318</td>\n",
       "      <td>0.420956</td>\n",
       "    </tr>\n",
       "    <tr>\n",
       "      <th>15</th>\n",
       "      <td>4316.593750</td>\n",
       "      <td>186.395279</td>\n",
       "      <td>-0.686817</td>\n",
       "      <td>0.439234</td>\n",
       "    </tr>\n",
       "    <tr>\n",
       "      <th>16</th>\n",
       "      <td>4300.036621</td>\n",
       "      <td>184.229202</td>\n",
       "      <td>-0.721467</td>\n",
       "      <td>0.474390</td>\n",
       "    </tr>\n",
       "    <tr>\n",
       "      <th>17</th>\n",
       "      <td>4307.143555</td>\n",
       "      <td>183.993057</td>\n",
       "      <td>-0.686661</td>\n",
       "      <td>0.435931</td>\n",
       "    </tr>\n",
       "    <tr>\n",
       "      <th>18</th>\n",
       "      <td>4306.556152</td>\n",
       "      <td>184.059586</td>\n",
       "      <td>-0.773915</td>\n",
       "      <td>0.441874</td>\n",
       "    </tr>\n",
       "    <tr>\n",
       "      <th>19</th>\n",
       "      <td>4299.048340</td>\n",
       "      <td>186.267578</td>\n",
       "      <td>-0.769429</td>\n",
       "      <td>0.457896</td>\n",
       "    </tr>\n",
       "  </tbody>\n",
       "</table>\n",
       "</div>"
      ],
      "text/plain": [
       "           mean  standard deviation      kurt  skewness\n",
       "0   4316.593750          186.395279 -0.686817  0.439234\n",
       "1   4316.593750          186.395279 -0.686817  0.439234\n",
       "2   4316.593750          186.395279 -0.686817  0.439234\n",
       "3   4316.593750          186.395279 -0.686817  0.439234\n",
       "4   4316.227051          183.612762 -0.696899  0.422589\n",
       "5   4312.748535          186.797379 -0.673855  0.459162\n",
       "6   4316.189941          184.204300 -0.716226  0.414606\n",
       "7   4316.593750          186.395279 -0.686817  0.439234\n",
       "8   4316.189941          184.204300 -0.716226  0.414606\n",
       "9   4307.143555          183.993057 -0.686661  0.435931\n",
       "10  4307.143555          183.993057 -0.686661  0.435931\n",
       "11  4316.189941          184.204300 -0.716226  0.414606\n",
       "12  4306.008301          183.946869 -0.734426  0.439418\n",
       "13  4312.748535          186.797379 -0.673855  0.459162\n",
       "14  4310.731934          183.971970 -0.709318  0.420956\n",
       "15  4316.593750          186.395279 -0.686817  0.439234\n",
       "16  4300.036621          184.229202 -0.721467  0.474390\n",
       "17  4307.143555          183.993057 -0.686661  0.435931\n",
       "18  4306.556152          184.059586 -0.773915  0.441874\n",
       "19  4299.048340          186.267578 -0.769429  0.457896"
      ]
     },
     "execution_count": 13,
     "metadata": {},
     "output_type": "execute_result"
    }
   ],
   "source": [
    "X.head(n=20)"
   ]
  },
  {
   "cell_type": "code",
   "execution_count": 14,
   "metadata": {
    "colab": {
     "autoexec": {
      "startup": false,
      "wait_interval": 0
     },
     "base_uri": "https://localhost:8080/",
     "height": 206
    },
    "colab_type": "code",
    "executionInfo": {
     "elapsed": 800,
     "status": "ok",
     "timestamp": 1528838301215,
     "user": {
      "displayName": "SHUBHAM VERMA",
      "photoUrl": "https://lh3.googleusercontent.com/a/default-user=s128",
      "userId": "108363614808362191748"
     },
     "user_tz": -330
    },
    "id": "Exz5fojXo1ZD",
    "outputId": "c19aff3b-9f82-4c35-d727-b348bc0e78a2"
   },
   "outputs": [
    {
     "data": {
      "text/html": [
       "<div>\n",
       "<style scoped>\n",
       "    .dataframe tbody tr th:only-of-type {\n",
       "        vertical-align: middle;\n",
       "    }\n",
       "\n",
       "    .dataframe tbody tr th {\n",
       "        vertical-align: top;\n",
       "    }\n",
       "\n",
       "    .dataframe thead th {\n",
       "        text-align: right;\n",
       "    }\n",
       "</style>\n",
       "<table border=\"1\" class=\"dataframe\">\n",
       "  <thead>\n",
       "    <tr style=\"text-align: right;\">\n",
       "      <th></th>\n",
       "      <th>label</th>\n",
       "    </tr>\n",
       "  </thead>\n",
       "  <tbody>\n",
       "    <tr>\n",
       "      <th>0</th>\n",
       "      <td>0</td>\n",
       "    </tr>\n",
       "    <tr>\n",
       "      <th>1</th>\n",
       "      <td>0</td>\n",
       "    </tr>\n",
       "    <tr>\n",
       "      <th>2</th>\n",
       "      <td>0</td>\n",
       "    </tr>\n",
       "    <tr>\n",
       "      <th>3</th>\n",
       "      <td>0</td>\n",
       "    </tr>\n",
       "    <tr>\n",
       "      <th>4</th>\n",
       "      <td>0</td>\n",
       "    </tr>\n",
       "  </tbody>\n",
       "</table>\n",
       "</div>"
      ],
      "text/plain": [
       "  label\n",
       "0     0\n",
       "1     0\n",
       "2     0\n",
       "3     0\n",
       "4     0"
      ]
     },
     "execution_count": 14,
     "metadata": {},
     "output_type": "execute_result"
    }
   ],
   "source": [
    "Y.head()"
   ]
  },
  {
   "cell_type": "code",
   "execution_count": 15,
   "metadata": {
    "colab": {
     "autoexec": {
      "startup": false,
      "wait_interval": 0
     }
    },
    "colab_type": "code",
    "id": "ZNr_a9BSpe2M"
   },
   "outputs": [],
   "source": [
    "from sklearn.model_selection import train_test_split\n",
    "\n",
    "# Split the 'features' and 'income' data into training and testing sets\n",
    "X_train1, X_test1, y_train1, y_test1 = train_test_split(X, \n",
    "                                                    y, \n",
    "                                                    test_size = 0.2, \n",
    "                                                    random_state = 0)\n",
    "\n"
   ]
  },
  {
   "cell_type": "markdown",
   "metadata": {
    "colab_type": "text",
    "id": "tOVKmTlm975G"
   },
   "source": [
    "## Training on SVM"
   ]
  },
  {
   "cell_type": "code",
   "execution_count": 16,
   "metadata": {
    "colab": {
     "autoexec": {
      "startup": false,
      "wait_interval": 0
     },
     "base_uri": "https://localhost:8080/",
     "height": 91
    },
    "colab_type": "code",
    "executionInfo": {
     "elapsed": 8633,
     "status": "ok",
     "timestamp": 1528838313637,
     "user": {
      "displayName": "SHUBHAM VERMA",
      "photoUrl": "https://lh3.googleusercontent.com/a/default-user=s128",
      "userId": "108363614808362191748"
     },
     "user_tz": -330
    },
    "id": "paKVcOIqpe6R",
    "outputId": "ca6c31e3-be10-4883-d6a3-34a28b6187d4"
   },
   "outputs": [
    {
     "name": "stderr",
     "output_type": "stream",
     "text": [
      "/home/lin/.local/lib/python3.5/site-packages/sklearn/svm/base.py:196: FutureWarning: The default value of gamma will change from 'auto' to 'scale' in version 0.22 to account better for unscaled features. Set gamma explicitly to 'auto' or 'scale' to avoid this warning.\n",
      "  \"avoid this warning.\", FutureWarning)\n"
     ]
    },
    {
     "data": {
      "text/plain": [
       "SVC(C=1.0, cache_size=200, class_weight=None, coef0=0.0,\n",
       "  decision_function_shape='ovr', degree=3, gamma='auto_deprecated',\n",
       "  kernel='rbf', max_iter=-1, probability=False, random_state=None,\n",
       "  shrinking=True, tol=0.001, verbose=False)"
      ]
     },
     "execution_count": 16,
     "metadata": {},
     "output_type": "execute_result"
    }
   ],
   "source": [
    "from sklearn.svm import SVC\n",
    "clf = SVC()\n",
    "clf.fit(X_train1, y_train1) "
   ]
  },
  {
   "cell_type": "code",
   "execution_count": 17,
   "metadata": {
    "colab": {
     "autoexec": {
      "startup": false,
      "wait_interval": 0
     }
    },
    "colab_type": "code",
    "id": "cFTjEv8wpezm"
   },
   "outputs": [],
   "source": [
    "predicted = clf.predict(X_test1)"
   ]
  },
  {
   "cell_type": "code",
   "execution_count": 18,
   "metadata": {
    "colab": {
     "autoexec": {
      "startup": false,
      "wait_interval": 0
     }
    },
    "colab_type": "code",
    "id": "ctpAFaeo8y5u"
   },
   "outputs": [],
   "source": [
    "from sklearn import metrics"
   ]
  },
  {
   "cell_type": "markdown",
   "metadata": {
    "colab_type": "text",
    "id": "fA32BmL1VHdS"
   },
   "source": [
    "### Performance"
   ]
  },
  {
   "cell_type": "code",
   "execution_count": 19,
   "metadata": {
    "colab": {
     "autoexec": {
      "startup": false,
      "wait_interval": 0
     },
     "base_uri": "https://localhost:8080/",
     "height": 91
    },
    "colab_type": "code",
    "executionInfo": {
     "elapsed": 685,
     "status": "ok",
     "timestamp": 1528839731562,
     "user": {
      "displayName": "SHUBHAM VERMA",
      "photoUrl": "https://lh3.googleusercontent.com/a/default-user=s128",
      "userId": "108363614808362191748"
     },
     "user_tz": -330
    },
    "id": "gaISrM048y2n",
    "outputId": "2aa18b1b-4dc3-4892-9026-4eda9fae30ed"
   },
   "outputs": [
    {
     "name": "stdout",
     "output_type": "stream",
     "text": [
      "Accuracy = 0.7039385847797063\n",
      "Precision = 0.7186287192755498\n",
      "Recall = 0.7108125399872041\n",
      "F1 Score = 0.7146992602122869\n"
     ]
    }
   ],
   "source": [
    "print(\"Accuracy = {}\\nPrecision = {}\\nRecall = {}\\nF1 Score = {}\".format(metrics.accuracy_score(y_test1, predicted), metrics.precision_score(y_test1, predicted),metrics.recall_score(y_test1, predicted),metrics.f1_score(y_test1, predicted)))\n",
    "\n",
    "score_p.append([metrics.accuracy_score(y_test1, predicted), metrics.precision_score(y_test1, predicted),metrics.recall_score(y_test1, predicted),metrics.f1_score(y_test1, predicted)]) \n"
   ]
  },
  {
   "cell_type": "code",
   "execution_count": null,
   "metadata": {
    "colab": {
     "autoexec": {
      "startup": false,
      "wait_interval": 0
     }
    },
    "colab_type": "code",
    "id": "q4u3LnbbsNR8"
   },
   "outputs": [],
   "source": []
  },
  {
   "cell_type": "markdown",
   "metadata": {
    "colab_type": "text",
    "id": "aDvHS8kU-JUh"
   },
   "source": [
    "## Training on Logistic Regression"
   ]
  },
  {
   "cell_type": "code",
   "execution_count": 20,
   "metadata": {
    "colab": {
     "autoexec": {
      "startup": false,
      "wait_interval": 0
     }
    },
    "colab_type": "code",
    "id": "pc4_RzElmvdZ"
   },
   "outputs": [],
   "source": [
    "from sklearn.linear_model import LogisticRegression"
   ]
  },
  {
   "cell_type": "code",
   "execution_count": 21,
   "metadata": {
    "colab": {
     "autoexec": {
      "startup": false,
      "wait_interval": 0
     },
     "base_uri": "https://localhost:8080/",
     "height": 111
    },
    "colab_type": "code",
    "executionInfo": {
     "elapsed": 784,
     "status": "ok",
     "timestamp": 1528838337090,
     "user": {
      "displayName": "SHUBHAM VERMA",
      "photoUrl": "https://lh3.googleusercontent.com/a/default-user=s128",
      "userId": "108363614808362191748"
     },
     "user_tz": -330
    },
    "id": "ckjIJXyF-ccn",
    "outputId": "78bef499-c8ab-4d1d-c214-27c21dab3041"
   },
   "outputs": [
    {
     "name": "stderr",
     "output_type": "stream",
     "text": [
      "/home/lin/.local/lib/python3.5/site-packages/sklearn/linear_model/logistic.py:432: FutureWarning: Default solver will be changed to 'lbfgs' in 0.22. Specify a solver to silence this warning.\n",
      "  FutureWarning)\n"
     ]
    },
    {
     "data": {
      "text/plain": [
       "LogisticRegression(C=1.0, class_weight=None, dual=False, fit_intercept=True,\n",
       "          intercept_scaling=1, max_iter=100, multi_class='warn',\n",
       "          n_jobs=None, penalty='l2', random_state=None, solver='warn',\n",
       "          tol=0.0001, verbose=0, warm_start=False)"
      ]
     },
     "execution_count": 21,
     "metadata": {},
     "output_type": "execute_result"
    }
   ],
   "source": [
    "clf_D = LogisticRegression()\n",
    "clf_D.fit(X_train1, y_train1)\n"
   ]
  },
  {
   "cell_type": "code",
   "execution_count": 22,
   "metadata": {
    "colab": {
     "autoexec": {
      "startup": false,
      "wait_interval": 0
     }
    },
    "colab_type": "code",
    "id": "PGT09n8G_U0e"
   },
   "outputs": [],
   "source": [
    "predict = clf_D.predict(X_test1)\n"
   ]
  },
  {
   "cell_type": "markdown",
   "metadata": {
    "colab_type": "text",
    "id": "1cch7p1zVPCO"
   },
   "source": [
    "### Performance"
   ]
  },
  {
   "cell_type": "code",
   "execution_count": 23,
   "metadata": {
    "colab": {
     "autoexec": {
      "startup": false,
      "wait_interval": 0
     },
     "base_uri": "https://localhost:8080/",
     "height": 91
    },
    "colab_type": "code",
    "executionInfo": {
     "elapsed": 1016,
     "status": "ok",
     "timestamp": 1528839743803,
     "user": {
      "displayName": "SHUBHAM VERMA",
      "photoUrl": "https://lh3.googleusercontent.com/a/default-user=s128",
      "userId": "108363614808362191748"
     },
     "user_tz": -330
    },
    "id": "Phhv-p2p_VAk",
    "outputId": "db3f9548-72c9-4c7e-8f49-77983a4ec9d5"
   },
   "outputs": [
    {
     "name": "stdout",
     "output_type": "stream",
     "text": [
      "Accuracy = 0.5300400534045394\n",
      "Precision = 0.5471698113207547\n",
      "Recall = 0.5751759436980166\n",
      "F1 Score = 0.5608234560199625\n"
     ]
    }
   ],
   "source": [
    "print(\"Accuracy = {}\\nPrecision = {}\\nRecall = {}\\nF1 Score = {}\".format(metrics.accuracy_score(y_test1, predict), metrics.precision_score(y_test1, predict),metrics.recall_score(y_test1, predict),metrics.f1_score(y_test1, predict)))\n",
    "score_p.append([metrics.accuracy_score(y_test1, predict), metrics.precision_score(y_test1, predict),metrics.recall_score(y_test1, predict),metrics.f1_score(y_test1, predict)])"
   ]
  },
  {
   "cell_type": "markdown",
   "metadata": {
    "colab_type": "text",
    "id": "GnFFg0vtVeCH"
   },
   "source": [
    "## Second Approach Directly use 14 values of EEG data and use it for prediction "
   ]
  },
  {
   "cell_type": "markdown",
   "metadata": {
    "colab_type": "text",
    "id": "sgqdtQHV6Ce7"
   },
   "source": [
    "### Normalization of data"
   ]
  },
  {
   "cell_type": "markdown",
   "metadata": {
    "colab_type": "text",
    "id": "6odWgZ7wVWGF"
   },
   "source": [
    "Normalization of data is required before using it on Nueral Networks"
   ]
  },
  {
   "cell_type": "code",
   "execution_count": 24,
   "metadata": {
    "colab": {
     "autoexec": {
      "startup": false,
      "wait_interval": 0
     }
    },
    "colab_type": "code",
    "id": "qwpiaNsqg7EU"
   },
   "outputs": [],
   "source": [
    "from sklearn.preprocessing import MinMaxScaler\n",
    "scaler = MinMaxScaler()"
   ]
  },
  {
   "cell_type": "code",
   "execution_count": 25,
   "metadata": {
    "colab": {
     "autoexec": {
      "startup": false,
      "wait_interval": 0
     }
    },
    "colab_type": "code",
    "id": "F1oNrbyBiO0z"
   },
   "outputs": [],
   "source": [
    "scaler.fit(x)\n",
    "x_new = scaler.transform(x)"
   ]
  },
  {
   "cell_type": "code",
   "execution_count": 26,
   "metadata": {
    "colab": {
     "autoexec": {
      "startup": false,
      "wait_interval": 0
     }
    },
    "colab_type": "code",
    "id": "kUrGdTA2Nvjk"
   },
   "outputs": [],
   "source": [
    "data_mean = x.mean()\n",
    "data_std = x.std()\n",
    "x = (x - data_mean)/data_std"
   ]
  },
  {
   "cell_type": "code",
   "execution_count": 27,
   "metadata": {
    "colab": {
     "autoexec": {
      "startup": false,
      "wait_interval": 0
     }
    },
    "colab_type": "code",
    "id": "cIhNcStuldzi"
   },
   "outputs": [],
   "source": [
    "(x_train, x_test) = x[:11000], x[11000:]\n",
    "(y_train, y_test) = y[:11000], y[11000:]"
   ]
  },
  {
   "cell_type": "markdown",
   "metadata": {
    "colab_type": "text",
    "id": "hCJlgBEy58II"
   },
   "source": [
    "## Training on Neural Networks"
   ]
  },
  {
   "cell_type": "markdown",
   "metadata": {
    "colab_type": "text",
    "id": "MN_--9h56Mi9"
   },
   "source": [
    "### Creating Model"
   ]
  },
  {
   "cell_type": "code",
   "execution_count": 28,
   "metadata": {
    "colab": {
     "autoexec": {
      "startup": false,
      "wait_interval": 0
     }
    },
    "colab_type": "code",
    "id": "G8tW2xROi6lz"
   },
   "outputs": [
    {
     "name": "stderr",
     "output_type": "stream",
     "text": [
      "Using TensorFlow backend.\n"
     ]
    }
   ],
   "source": [
    "from keras.models import Sequential\n",
    "from keras.layers import Dense, Dropout"
   ]
  },
  {
   "cell_type": "code",
   "execution_count": 29,
   "metadata": {
    "colab": {
     "autoexec": {
      "startup": false,
      "wait_interval": 0
     },
     "base_uri": "https://localhost:8080/",
     "height": 221
    },
    "colab_type": "code",
    "executionInfo": {
     "elapsed": 836,
     "status": "ok",
     "timestamp": 1528838368502,
     "user": {
      "displayName": "SHUBHAM VERMA",
      "photoUrl": "https://lh3.googleusercontent.com/a/default-user=s128",
      "userId": "108363614808362191748"
     },
     "user_tz": -330
    },
    "id": "4AxUgQBli8xN",
    "outputId": "307361bc-640f-4bef-de28-13600b6523e2"
   },
   "outputs": [
    {
     "name": "stdout",
     "output_type": "stream",
     "text": [
      "_________________________________________________________________\n",
      "Layer (type)                 Output Shape              Param #   \n",
      "=================================================================\n",
      "dense_1 (Dense)              (None, 512)               7680      \n",
      "_________________________________________________________________\n",
      "dense_2 (Dense)              (None, 1)                 513       \n",
      "=================================================================\n",
      "Total params: 8,193\n",
      "Trainable params: 8,193\n",
      "Non-trainable params: 0\n",
      "_________________________________________________________________\n"
     ]
    }
   ],
   "source": [
    "model = Sequential()\n",
    "model.add(Dense(512, activation = 'relu', input_shape = (x.shape[1], )))\n",
    "model.add(Dense(1, activation = 'sigmoid'))\n",
    "model.summary()"
   ]
  },
  {
   "cell_type": "code",
   "execution_count": 30,
   "metadata": {
    "colab": {
     "autoexec": {
      "startup": false,
      "wait_interval": 0
     },
     "base_uri": "https://localhost:8080/",
     "height": 221
    },
    "colab_type": "code",
    "executionInfo": {
     "elapsed": 733,
     "status": "ok",
     "timestamp": 1528838372215,
     "user": {
      "displayName": "SHUBHAM VERMA",
      "photoUrl": "https://lh3.googleusercontent.com/a/default-user=s128",
      "userId": "108363614808362191748"
     },
     "user_tz": -330
    },
    "id": "Lpwu-Tg3jZr2",
    "outputId": "1895fc93-dd34-495a-c551-10a06227d411"
   },
   "outputs": [
    {
     "name": "stdout",
     "output_type": "stream",
     "text": [
      "_________________________________________________________________\n",
      "Layer (type)                 Output Shape              Param #   \n",
      "=================================================================\n",
      "dense_1 (Dense)              (None, 512)               7680      \n",
      "_________________________________________________________________\n",
      "dense_2 (Dense)              (None, 1)                 513       \n",
      "=================================================================\n",
      "Total params: 8,193\n",
      "Trainable params: 8,193\n",
      "Non-trainable params: 0\n",
      "_________________________________________________________________\n"
     ]
    }
   ],
   "source": [
    "model.compile(loss = 'binary_crossentropy', optimizer='adam', metrics=['accuracy'])\n",
    "model.summary()"
   ]
  },
  {
   "cell_type": "markdown",
   "metadata": {
    "colab_type": "text",
    "id": "N9hvDrSn4y4N"
   },
   "source": [
    "### Training"
   ]
  },
  {
   "cell_type": "code",
   "execution_count": 31,
   "metadata": {
    "colab": {
     "autoexec": {
      "startup": false,
      "wait_interval": 0
     },
     "base_uri": "https://localhost:8080/",
     "height": 7482
    },
    "colab_type": "code",
    "executionInfo": {
     "elapsed": 27056,
     "status": "ok",
     "timestamp": 1528838410588,
     "user": {
      "displayName": "SHUBHAM VERMA",
      "photoUrl": "https://lh3.googleusercontent.com/a/default-user=s128",
      "userId": "108363614808362191748"
     },
     "user_tz": -330
    },
    "id": "vKh20CJrmYV7",
    "outputId": "55aa30fa-fdf5-45a6-b6ed-3461156bc844"
   },
   "outputs": [
    {
     "name": "stdout",
     "output_type": "stream",
     "text": [
      "Train on 9900 samples, validate on 1100 samples\n",
      "Epoch 1/100\n",
      " - 1s - loss: 0.6957 - acc: 0.5220 - val_loss: 0.6902 - val_acc: 0.5264\n",
      "\n",
      "Epoch 00001: val_loss improved from inf to 0.69021, saving model to MLP.weights.best.hdf5\n",
      "Epoch 2/100\n",
      " - 0s - loss: 0.6936 - acc: 0.5258 - val_loss: 0.6886 - val_acc: 0.5436\n",
      "\n",
      "Epoch 00002: val_loss improved from 0.69021 to 0.68864, saving model to MLP.weights.best.hdf5\n",
      "Epoch 3/100\n",
      " - 0s - loss: 0.6909 - acc: 0.5412 - val_loss: 0.6864 - val_acc: 0.5691\n",
      "\n",
      "Epoch 00003: val_loss improved from 0.68864 to 0.68644, saving model to MLP.weights.best.hdf5\n",
      "Epoch 4/100\n",
      " - 0s - loss: 0.6865 - acc: 0.5508 - val_loss: 0.6847 - val_acc: 0.5509\n",
      "\n",
      "Epoch 00004: val_loss improved from 0.68644 to 0.68472, saving model to MLP.weights.best.hdf5\n",
      "Epoch 5/100\n",
      " - 0s - loss: 0.6817 - acc: 0.5603 - val_loss: 0.6801 - val_acc: 0.5745\n",
      "\n",
      "Epoch 00005: val_loss improved from 0.68472 to 0.68015, saving model to MLP.weights.best.hdf5\n",
      "Epoch 6/100\n",
      " - 0s - loss: 0.6772 - acc: 0.5588 - val_loss: 0.6769 - val_acc: 0.5755\n",
      "\n",
      "Epoch 00006: val_loss improved from 0.68015 to 0.67688, saving model to MLP.weights.best.hdf5\n",
      "Epoch 7/100\n",
      " - 0s - loss: 0.6730 - acc: 0.5612 - val_loss: 0.6763 - val_acc: 0.5455\n",
      "\n",
      "Epoch 00007: val_loss improved from 0.67688 to 0.67629, saving model to MLP.weights.best.hdf5\n",
      "Epoch 8/100\n",
      " - 0s - loss: 0.6683 - acc: 0.5605 - val_loss: 0.6729 - val_acc: 0.5564\n",
      "\n",
      "Epoch 00008: val_loss improved from 0.67629 to 0.67292, saving model to MLP.weights.best.hdf5\n",
      "Epoch 9/100\n",
      " - 0s - loss: 0.6632 - acc: 0.5761 - val_loss: 0.6706 - val_acc: 0.5655\n",
      "\n",
      "Epoch 00009: val_loss improved from 0.67292 to 0.67061, saving model to MLP.weights.best.hdf5\n",
      "Epoch 10/100\n",
      " - 0s - loss: 0.6599 - acc: 0.5775 - val_loss: 0.6693 - val_acc: 0.5582\n",
      "\n",
      "Epoch 00010: val_loss improved from 0.67061 to 0.66933, saving model to MLP.weights.best.hdf5\n",
      "Epoch 11/100\n",
      " - 0s - loss: 0.6554 - acc: 0.5888 - val_loss: 0.6672 - val_acc: 0.5627\n",
      "\n",
      "Epoch 00011: val_loss improved from 0.66933 to 0.66722, saving model to MLP.weights.best.hdf5\n",
      "Epoch 12/100\n",
      " - 0s - loss: 0.6511 - acc: 0.5978 - val_loss: 0.6660 - val_acc: 0.5627\n",
      "\n",
      "Epoch 00012: val_loss improved from 0.66722 to 0.66603, saving model to MLP.weights.best.hdf5\n",
      "Epoch 13/100\n",
      " - 0s - loss: 0.6462 - acc: 0.5987 - val_loss: 0.6668 - val_acc: 0.5745\n",
      "\n",
      "Epoch 00013: val_loss did not improve from 0.66603\n",
      "Epoch 14/100\n",
      " - 0s - loss: 0.6430 - acc: 0.5997 - val_loss: 0.6633 - val_acc: 0.5809\n",
      "\n",
      "Epoch 00014: val_loss improved from 0.66603 to 0.66334, saving model to MLP.weights.best.hdf5\n",
      "Epoch 15/100\n",
      " - 0s - loss: 0.6405 - acc: 0.6027 - val_loss: 0.6634 - val_acc: 0.5755\n",
      "\n",
      "Epoch 00015: val_loss did not improve from 0.66334\n",
      "Epoch 16/100\n",
      " - 0s - loss: 0.6381 - acc: 0.6042 - val_loss: 0.6636 - val_acc: 0.5709\n",
      "\n",
      "Epoch 00016: val_loss did not improve from 0.66334\n",
      "Epoch 17/100\n",
      " - 0s - loss: 0.6369 - acc: 0.6054 - val_loss: 0.6612 - val_acc: 0.5827\n",
      "\n",
      "Epoch 00017: val_loss improved from 0.66334 to 0.66121, saving model to MLP.weights.best.hdf5\n",
      "Epoch 18/100\n",
      " - 0s - loss: 0.6368 - acc: 0.6069 - val_loss: 0.6612 - val_acc: 0.5691\n",
      "\n",
      "Epoch 00018: val_loss did not improve from 0.66121\n",
      "Epoch 19/100\n",
      " - 0s - loss: 0.6334 - acc: 0.6069 - val_loss: 0.6615 - val_acc: 0.5727\n",
      "\n",
      "Epoch 00019: val_loss did not improve from 0.66121\n",
      "Epoch 20/100\n",
      " - 0s - loss: 0.6343 - acc: 0.6128 - val_loss: 0.6659 - val_acc: 0.5509\n",
      "\n",
      "Epoch 00020: val_loss did not improve from 0.66121\n",
      "Epoch 21/100\n",
      " - 0s - loss: 0.6314 - acc: 0.6108 - val_loss: 0.6602 - val_acc: 0.5718\n",
      "\n",
      "Epoch 00021: val_loss improved from 0.66121 to 0.66024, saving model to MLP.weights.best.hdf5\n",
      "Epoch 22/100\n",
      " - 0s - loss: 0.6289 - acc: 0.6129 - val_loss: 0.6619 - val_acc: 0.5700\n",
      "\n",
      "Epoch 00022: val_loss did not improve from 0.66024\n",
      "Epoch 23/100\n",
      " - 0s - loss: 0.6296 - acc: 0.6111 - val_loss: 0.6599 - val_acc: 0.5809\n",
      "\n",
      "Epoch 00023: val_loss improved from 0.66024 to 0.65988, saving model to MLP.weights.best.hdf5\n",
      "Epoch 24/100\n",
      " - 0s - loss: 0.6265 - acc: 0.6153 - val_loss: 0.6590 - val_acc: 0.5727\n",
      "\n",
      "Epoch 00024: val_loss improved from 0.65988 to 0.65904, saving model to MLP.weights.best.hdf5\n",
      "Epoch 25/100\n",
      " - 0s - loss: 0.6262 - acc: 0.6135 - val_loss: 0.6581 - val_acc: 0.5900\n",
      "\n",
      "Epoch 00025: val_loss improved from 0.65904 to 0.65813, saving model to MLP.weights.best.hdf5\n",
      "Epoch 26/100\n",
      " - 0s - loss: 0.6249 - acc: 0.6213 - val_loss: 0.6580 - val_acc: 0.5773\n",
      "\n",
      "Epoch 00026: val_loss improved from 0.65813 to 0.65805, saving model to MLP.weights.best.hdf5\n",
      "Epoch 27/100\n",
      " - 0s - loss: 0.6233 - acc: 0.6199 - val_loss: 0.6606 - val_acc: 0.5736\n",
      "\n",
      "Epoch 00027: val_loss did not improve from 0.65805\n",
      "Epoch 28/100\n",
      " - 0s - loss: 0.6219 - acc: 0.6196 - val_loss: 0.6598 - val_acc: 0.5745\n",
      "\n",
      "Epoch 00028: val_loss did not improve from 0.65805\n",
      "Epoch 29/100\n",
      " - 0s - loss: 0.6208 - acc: 0.6218 - val_loss: 0.6606 - val_acc: 0.5673\n",
      "\n",
      "Epoch 00029: val_loss did not improve from 0.65805\n",
      "Epoch 30/100\n",
      " - 0s - loss: 0.6210 - acc: 0.6282 - val_loss: 0.6624 - val_acc: 0.5627\n",
      "\n",
      "Epoch 00030: val_loss did not improve from 0.65805\n",
      "Epoch 31/100\n",
      " - 0s - loss: 0.6222 - acc: 0.6230 - val_loss: 0.6572 - val_acc: 0.5809\n",
      "\n",
      "Epoch 00031: val_loss improved from 0.65805 to 0.65716, saving model to MLP.weights.best.hdf5\n",
      "Epoch 32/100\n",
      " - 0s - loss: 0.6180 - acc: 0.6243 - val_loss: 0.6600 - val_acc: 0.5636\n",
      "\n",
      "Epoch 00032: val_loss did not improve from 0.65716\n",
      "Epoch 33/100\n",
      " - 0s - loss: 0.6164 - acc: 0.6271 - val_loss: 0.6591 - val_acc: 0.5718\n",
      "\n",
      "Epoch 00033: val_loss did not improve from 0.65716\n",
      "Epoch 34/100\n",
      " - 0s - loss: 0.6155 - acc: 0.6306 - val_loss: 0.6557 - val_acc: 0.5909\n",
      "\n",
      "Epoch 00034: val_loss improved from 0.65716 to 0.65573, saving model to MLP.weights.best.hdf5\n",
      "Epoch 35/100\n",
      " - 0s - loss: 0.6144 - acc: 0.6301 - val_loss: 0.6555 - val_acc: 0.5900\n",
      "\n",
      "Epoch 00035: val_loss improved from 0.65573 to 0.65546, saving model to MLP.weights.best.hdf5\n",
      "Epoch 36/100\n",
      " - 0s - loss: 0.6140 - acc: 0.6315 - val_loss: 0.6555 - val_acc: 0.5864\n",
      "\n",
      "Epoch 00036: val_loss did not improve from 0.65546\n",
      "Epoch 37/100\n",
      " - 0s - loss: 0.6132 - acc: 0.6328 - val_loss: 0.6580 - val_acc: 0.5691\n",
      "\n",
      "Epoch 00037: val_loss did not improve from 0.65546\n",
      "Epoch 38/100\n",
      " - 0s - loss: 0.6111 - acc: 0.6335 - val_loss: 0.6576 - val_acc: 0.5673\n",
      "\n",
      "Epoch 00038: val_loss did not improve from 0.65546\n",
      "Epoch 39/100\n",
      " - 0s - loss: 0.6111 - acc: 0.6372 - val_loss: 0.6544 - val_acc: 0.5873\n",
      "\n",
      "Epoch 00039: val_loss improved from 0.65546 to 0.65437, saving model to MLP.weights.best.hdf5\n",
      "Epoch 40/100\n",
      " - 0s - loss: 0.6089 - acc: 0.6401 - val_loss: 0.6539 - val_acc: 0.5873\n",
      "\n",
      "Epoch 00040: val_loss improved from 0.65437 to 0.65390, saving model to MLP.weights.best.hdf5\n",
      "Epoch 41/100\n",
      " - 0s - loss: 0.6084 - acc: 0.6352 - val_loss: 0.6539 - val_acc: 0.5873\n",
      "\n",
      "Epoch 00041: val_loss did not improve from 0.65390\n",
      "Epoch 42/100\n",
      " - 0s - loss: 0.6070 - acc: 0.6407 - val_loss: 0.6528 - val_acc: 0.5936\n",
      "\n",
      "Epoch 00042: val_loss improved from 0.65390 to 0.65281, saving model to MLP.weights.best.hdf5\n",
      "Epoch 43/100\n",
      " - 0s - loss: 0.6066 - acc: 0.6383 - val_loss: 0.6575 - val_acc: 0.5718\n",
      "\n",
      "Epoch 00043: val_loss did not improve from 0.65281\n",
      "Epoch 44/100\n",
      " - 1s - loss: 0.6062 - acc: 0.6409 - val_loss: 0.6521 - val_acc: 0.5964\n",
      "\n",
      "Epoch 00044: val_loss improved from 0.65281 to 0.65214, saving model to MLP.weights.best.hdf5\n",
      "Epoch 45/100\n",
      " - 0s - loss: 0.6045 - acc: 0.6378 - val_loss: 0.6516 - val_acc: 0.5836\n",
      "\n",
      "Epoch 00045: val_loss improved from 0.65214 to 0.65159, saving model to MLP.weights.best.hdf5\n",
      "Epoch 46/100\n",
      " - 0s - loss: 0.6043 - acc: 0.6431 - val_loss: 0.6565 - val_acc: 0.5782\n",
      "\n",
      "Epoch 00046: val_loss did not improve from 0.65159\n",
      "Epoch 47/100\n",
      " - 0s - loss: 0.6037 - acc: 0.6458 - val_loss: 0.6575 - val_acc: 0.5718\n",
      "\n",
      "Epoch 00047: val_loss did not improve from 0.65159\n",
      "Epoch 48/100\n",
      " - 0s - loss: 0.6051 - acc: 0.6518 - val_loss: 0.6504 - val_acc: 0.5882\n",
      "\n",
      "Epoch 00048: val_loss improved from 0.65159 to 0.65044, saving model to MLP.weights.best.hdf5\n",
      "Epoch 49/100\n",
      " - 0s - loss: 0.6010 - acc: 0.6434 - val_loss: 0.6527 - val_acc: 0.5891\n",
      "\n",
      "Epoch 00049: val_loss did not improve from 0.65044\n",
      "Epoch 50/100\n",
      " - 0s - loss: 0.5997 - acc: 0.6473 - val_loss: 0.6498 - val_acc: 0.5964\n",
      "\n",
      "Epoch 00050: val_loss improved from 0.65044 to 0.64983, saving model to MLP.weights.best.hdf5\n",
      "Epoch 51/100\n",
      " - 0s - loss: 0.5989 - acc: 0.6509 - val_loss: 0.6515 - val_acc: 0.5900\n"
     ]
    },
    {
     "name": "stdout",
     "output_type": "stream",
     "text": [
      "\n",
      "Epoch 00051: val_loss did not improve from 0.64983\n",
      "Epoch 52/100\n",
      " - 0s - loss: 0.5985 - acc: 0.6529 - val_loss: 0.6560 - val_acc: 0.5727\n",
      "\n",
      "Epoch 00052: val_loss did not improve from 0.64983\n",
      "Epoch 53/100\n",
      " - 0s - loss: 0.5970 - acc: 0.6514 - val_loss: 0.6548 - val_acc: 0.5773\n",
      "\n",
      "Epoch 00053: val_loss did not improve from 0.64983\n",
      "Epoch 54/100\n",
      " - 0s - loss: 0.5975 - acc: 0.6539 - val_loss: 0.6575 - val_acc: 0.5736\n",
      "\n",
      "Epoch 00054: val_loss did not improve from 0.64983\n",
      "Epoch 55/100\n",
      " - 0s - loss: 0.5953 - acc: 0.6598 - val_loss: 0.6480 - val_acc: 0.6009\n",
      "\n",
      "Epoch 00055: val_loss improved from 0.64983 to 0.64804, saving model to MLP.weights.best.hdf5\n",
      "Epoch 56/100\n",
      " - 0s - loss: 0.5950 - acc: 0.6536 - val_loss: 0.6501 - val_acc: 0.6009\n",
      "\n",
      "Epoch 00056: val_loss did not improve from 0.64804\n",
      "Epoch 57/100\n",
      " - 0s - loss: 0.5944 - acc: 0.6549 - val_loss: 0.6479 - val_acc: 0.5955\n",
      "\n",
      "Epoch 00057: val_loss improved from 0.64804 to 0.64791, saving model to MLP.weights.best.hdf5\n",
      "Epoch 58/100\n",
      " - 0s - loss: 0.5931 - acc: 0.6601 - val_loss: 0.6474 - val_acc: 0.5982\n",
      "\n",
      "Epoch 00058: val_loss improved from 0.64791 to 0.64736, saving model to MLP.weights.best.hdf5\n",
      "Epoch 59/100\n",
      " - 0s - loss: 0.5918 - acc: 0.6615 - val_loss: 0.6499 - val_acc: 0.5991\n",
      "\n",
      "Epoch 00059: val_loss did not improve from 0.64736\n",
      "Epoch 60/100\n",
      " - 0s - loss: 0.5912 - acc: 0.6595 - val_loss: 0.6462 - val_acc: 0.6073\n",
      "\n",
      "Epoch 00060: val_loss improved from 0.64736 to 0.64624, saving model to MLP.weights.best.hdf5\n",
      "Epoch 61/100\n",
      " - 0s - loss: 0.5900 - acc: 0.6634 - val_loss: 0.6520 - val_acc: 0.5827\n",
      "\n",
      "Epoch 00061: val_loss did not improve from 0.64624\n",
      "Epoch 62/100\n",
      " - 0s - loss: 0.5898 - acc: 0.6619 - val_loss: 0.6470 - val_acc: 0.6073\n",
      "\n",
      "Epoch 00062: val_loss did not improve from 0.64624\n",
      "Epoch 63/100\n",
      " - 0s - loss: 0.5881 - acc: 0.6648 - val_loss: 0.6492 - val_acc: 0.5964\n",
      "\n",
      "Epoch 00063: val_loss did not improve from 0.64624\n",
      "Epoch 64/100\n",
      " - 0s - loss: 0.5879 - acc: 0.6695 - val_loss: 0.6454 - val_acc: 0.6027\n",
      "\n",
      "Epoch 00064: val_loss improved from 0.64624 to 0.64543, saving model to MLP.weights.best.hdf5\n",
      "Epoch 65/100\n",
      " - 0s - loss: 0.5863 - acc: 0.6698 - val_loss: 0.6462 - val_acc: 0.6064\n",
      "\n",
      "Epoch 00065: val_loss did not improve from 0.64543\n",
      "Epoch 66/100\n",
      " - 0s - loss: 0.5855 - acc: 0.6681 - val_loss: 0.6582 - val_acc: 0.5682\n",
      "\n",
      "Epoch 00066: val_loss did not improve from 0.64543\n",
      "Epoch 67/100\n",
      " - 0s - loss: 0.5847 - acc: 0.6767 - val_loss: 0.6443 - val_acc: 0.6064\n",
      "\n",
      "Epoch 00067: val_loss improved from 0.64543 to 0.64428, saving model to MLP.weights.best.hdf5\n",
      "Epoch 68/100\n",
      " - 0s - loss: 0.5859 - acc: 0.6717 - val_loss: 0.6496 - val_acc: 0.5909\n",
      "\n",
      "Epoch 00068: val_loss did not improve from 0.64428\n",
      "Epoch 69/100\n",
      " - 0s - loss: 0.5828 - acc: 0.6754 - val_loss: 0.6543 - val_acc: 0.5818\n",
      "\n",
      "Epoch 00069: val_loss did not improve from 0.64428\n",
      "Epoch 70/100\n",
      " - 0s - loss: 0.5852 - acc: 0.6706 - val_loss: 0.6434 - val_acc: 0.6009\n",
      "\n",
      "Epoch 00070: val_loss improved from 0.64428 to 0.64336, saving model to MLP.weights.best.hdf5\n",
      "Epoch 71/100\n",
      " - 0s - loss: 0.5816 - acc: 0.6821 - val_loss: 0.6430 - val_acc: 0.6073\n",
      "\n",
      "Epoch 00071: val_loss improved from 0.64336 to 0.64297, saving model to MLP.weights.best.hdf5\n",
      "Epoch 72/100\n",
      " - 0s - loss: 0.5806 - acc: 0.6782 - val_loss: 0.6449 - val_acc: 0.6164\n",
      "\n",
      "Epoch 00072: val_loss did not improve from 0.64297\n",
      "Epoch 73/100\n",
      " - 0s - loss: 0.5791 - acc: 0.6822 - val_loss: 0.6448 - val_acc: 0.6127\n",
      "\n",
      "Epoch 00073: val_loss did not improve from 0.64297\n",
      "Epoch 74/100\n",
      " - 0s - loss: 0.5792 - acc: 0.6818 - val_loss: 0.6477 - val_acc: 0.5864\n",
      "\n",
      "Epoch 00074: val_loss did not improve from 0.64297\n",
      "Epoch 75/100\n",
      " - 0s - loss: 0.5779 - acc: 0.6848 - val_loss: 0.6448 - val_acc: 0.6100\n",
      "\n",
      "Epoch 00075: val_loss did not improve from 0.64297\n",
      "Epoch 76/100\n",
      " - 0s - loss: 0.5767 - acc: 0.6906 - val_loss: 0.6483 - val_acc: 0.5991\n",
      "\n",
      "Epoch 00076: val_loss did not improve from 0.64297\n",
      "Epoch 77/100\n",
      " - 0s - loss: 0.5755 - acc: 0.6890 - val_loss: 0.6441 - val_acc: 0.6164\n",
      "\n",
      "Epoch 00077: val_loss did not improve from 0.64297\n",
      "Epoch 78/100\n",
      " - 0s - loss: 0.5750 - acc: 0.6933 - val_loss: 0.6413 - val_acc: 0.6127\n",
      "\n",
      "Epoch 00078: val_loss improved from 0.64297 to 0.64132, saving model to MLP.weights.best.hdf5\n",
      "Epoch 79/100\n",
      " - 0s - loss: 0.5740 - acc: 0.6917 - val_loss: 0.6441 - val_acc: 0.5882\n",
      "\n",
      "Epoch 00079: val_loss did not improve from 0.64132\n",
      "Epoch 80/100\n",
      " - 0s - loss: 0.5772 - acc: 0.6853 - val_loss: 0.6405 - val_acc: 0.6109\n",
      "\n",
      "Epoch 00080: val_loss improved from 0.64132 to 0.64052, saving model to MLP.weights.best.hdf5\n",
      "Epoch 81/100\n",
      " - 0s - loss: 0.5743 - acc: 0.6847 - val_loss: 0.6404 - val_acc: 0.6164\n",
      "\n",
      "Epoch 00081: val_loss improved from 0.64052 to 0.64044, saving model to MLP.weights.best.hdf5\n",
      "Epoch 82/100\n",
      " - 0s - loss: 0.5719 - acc: 0.7008 - val_loss: 0.6403 - val_acc: 0.6164\n",
      "\n",
      "Epoch 00082: val_loss improved from 0.64044 to 0.64026, saving model to MLP.weights.best.hdf5\n",
      "Epoch 83/100\n",
      " - 0s - loss: 0.5714 - acc: 0.7008 - val_loss: 0.6445 - val_acc: 0.6036\n",
      "\n",
      "Epoch 00083: val_loss did not improve from 0.64026\n",
      "Epoch 84/100\n",
      " - 0s - loss: 0.5701 - acc: 0.7004 - val_loss: 0.6486 - val_acc: 0.6036\n",
      "\n",
      "Epoch 00084: val_loss did not improve from 0.64026\n",
      "Epoch 85/100\n",
      " - 0s - loss: 0.5721 - acc: 0.6902 - val_loss: 0.6414 - val_acc: 0.6227\n",
      "\n",
      "Epoch 00085: val_loss did not improve from 0.64026\n",
      "Epoch 86/100\n",
      " - 0s - loss: 0.5695 - acc: 0.7052 - val_loss: 0.6393 - val_acc: 0.6109\n",
      "\n",
      "Epoch 00086: val_loss improved from 0.64026 to 0.63931, saving model to MLP.weights.best.hdf5\n",
      "Epoch 87/100\n",
      " - 0s - loss: 0.5691 - acc: 0.7025 - val_loss: 0.6406 - val_acc: 0.6282\n",
      "\n",
      "Epoch 00087: val_loss did not improve from 0.63931\n",
      "Epoch 88/100\n",
      " - 0s - loss: 0.5676 - acc: 0.7068 - val_loss: 0.6400 - val_acc: 0.6264\n",
      "\n",
      "Epoch 00088: val_loss did not improve from 0.63931\n",
      "Epoch 89/100\n",
      " - 0s - loss: 0.5667 - acc: 0.7051 - val_loss: 0.6391 - val_acc: 0.6164\n",
      "\n",
      "Epoch 00089: val_loss improved from 0.63931 to 0.63909, saving model to MLP.weights.best.hdf5\n",
      "Epoch 90/100\n",
      " - 0s - loss: 0.5655 - acc: 0.7139 - val_loss: 0.6398 - val_acc: 0.6273\n",
      "\n",
      "Epoch 00090: val_loss did not improve from 0.63909\n",
      "Epoch 91/100\n",
      " - 0s - loss: 0.5648 - acc: 0.7064 - val_loss: 0.6418 - val_acc: 0.6155\n",
      "\n",
      "Epoch 00091: val_loss did not improve from 0.63909\n",
      "Epoch 92/100\n",
      " - 0s - loss: 0.5656 - acc: 0.7069 - val_loss: 0.6418 - val_acc: 0.6173\n",
      "\n",
      "Epoch 00092: val_loss did not improve from 0.63909\n",
      "Epoch 93/100\n",
      " - 0s - loss: 0.5639 - acc: 0.7141 - val_loss: 0.6401 - val_acc: 0.5991\n",
      "\n",
      "Epoch 00093: val_loss did not improve from 0.63909\n",
      "Epoch 94/100\n",
      " - 0s - loss: 0.5664 - acc: 0.6961 - val_loss: 0.6535 - val_acc: 0.6018\n",
      "\n",
      "Epoch 00094: val_loss did not improve from 0.63909\n",
      "Epoch 95/100\n",
      " - 0s - loss: 0.5655 - acc: 0.7020 - val_loss: 0.6393 - val_acc: 0.6300\n",
      "\n",
      "Epoch 00095: val_loss did not improve from 0.63909\n",
      "Epoch 96/100\n",
      " - 0s - loss: 0.5612 - acc: 0.7187 - val_loss: 0.6402 - val_acc: 0.6191\n",
      "\n",
      "Epoch 00096: val_loss did not improve from 0.63909\n",
      "Epoch 97/100\n",
      " - 0s - loss: 0.5609 - acc: 0.7198 - val_loss: 0.6376 - val_acc: 0.6245\n",
      "\n",
      "Epoch 00097: val_loss improved from 0.63909 to 0.63765, saving model to MLP.weights.best.hdf5\n",
      "Epoch 98/100\n",
      " - 0s - loss: 0.5601 - acc: 0.7205 - val_loss: 0.6384 - val_acc: 0.6264\n",
      "\n",
      "Epoch 00098: val_loss did not improve from 0.63765\n",
      "Epoch 99/100\n",
      " - 0s - loss: 0.5601 - acc: 0.7175 - val_loss: 0.6374 - val_acc: 0.6282\n",
      "\n",
      "Epoch 00099: val_loss improved from 0.63765 to 0.63736, saving model to MLP.weights.best.hdf5\n",
      "Epoch 100/100\n",
      " - 0s - loss: 0.5613 - acc: 0.7124 - val_loss: 0.6411 - val_acc: 0.6191\n",
      "\n",
      "Epoch 00100: val_loss did not improve from 0.63736\n"
     ]
    }
   ],
   "source": [
    "from keras.callbacks import ModelCheckpoint\n",
    "\n",
    "checkpointer = ModelCheckpoint(filepath = 'MLP.weights.best.hdf5', verbose = 1, save_best_only = True)\n",
    "hist = model.fit(x_train, y_train, epochs = 100, batch_size=256, validation_split = 0.1, callbacks = [checkpointer], verbose = 2, shuffle = True)"
   ]
  },
  {
   "cell_type": "code",
   "execution_count": 32,
   "metadata": {
    "colab": {
     "autoexec": {
      "startup": false,
      "wait_interval": 0
     },
     "base_uri": "https://localhost:8080/",
     "height": 54
    },
    "colab_type": "code",
    "executionInfo": {
     "elapsed": 1046,
     "status": "ok",
     "timestamp": 1528838421631,
     "user": {
      "displayName": "SHUBHAM VERMA",
      "photoUrl": "https://lh3.googleusercontent.com/a/default-user=s128",
      "userId": "108363614808362191748"
     },
     "user_tz": -330
    },
    "id": "zpdk9x9xngJG",
    "outputId": "40298a3d-369b-4699-ea0e-775cddbc3efd"
   },
   "outputs": [
    {
     "name": "stdout",
     "output_type": "stream",
     "text": [
      "3980/3980 [==============================] - 0s 51us/step\n",
      "Accuracy:  0.5811557788944723\n"
     ]
    }
   ],
   "source": [
    "score = model.evaluate(x_test, y_test, verbose=1)\n",
    "print(\"Accuracy: \", score[1])"
   ]
  },
  {
   "cell_type": "code",
   "execution_count": 33,
   "metadata": {
    "colab": {
     "autoexec": {
      "startup": false,
      "wait_interval": 0
     }
    },
    "colab_type": "code",
    "id": "zL_el0fmwOPF"
   },
   "outputs": [],
   "source": [
    "predict2 = [1 if a>0.5 else 0 for a in model.predict(x_test)] "
   ]
  },
  {
   "cell_type": "markdown",
   "metadata": {
    "colab_type": "text",
    "id": "OINWUOwYV5A0"
   },
   "source": [
    "### Performance"
   ]
  },
  {
   "cell_type": "code",
   "execution_count": 34,
   "metadata": {
    "colab": {
     "autoexec": {
      "startup": false,
      "wait_interval": 0
     },
     "base_uri": "https://localhost:8080/",
     "height": 91
    },
    "colab_type": "code",
    "executionInfo": {
     "elapsed": 982,
     "status": "ok",
     "timestamp": 1528838432724,
     "user": {
      "displayName": "SHUBHAM VERMA",
      "photoUrl": "https://lh3.googleusercontent.com/a/default-user=s128",
      "userId": "108363614808362191748"
     },
     "user_tz": -330
    },
    "id": "ScN-ERsEwXjw",
    "outputId": "b8b64d5c-5c76-4772-cd35-aae9a763d916"
   },
   "outputs": [
    {
     "name": "stdout",
     "output_type": "stream",
     "text": [
      "Accuracy = 0.5811557788944723\n",
      "Precision = 0.5743565300285987\n",
      "Recall = 0.6088933804951996\n",
      "F1 Score = 0.5911209222467501\n"
     ]
    }
   ],
   "source": [
    "print(\"Accuracy = {}\\nPrecision = {}\\nRecall = {}\\nF1 Score = {}\".format(metrics.accuracy_score(y_test, predict2), metrics.precision_score(y_test, predict2),metrics.recall_score(y_test, predict2),metrics.f1_score(y_test, predict2)))\n",
    "#score_p.append([metrics.accuracy_score(y_test, predict2), metrics.precision_score(y_test, predict2),metrics.recall_score(y_test, predict2),metrics.f1_score(y_test, predict2)])"
   ]
  },
  {
   "cell_type": "markdown",
   "metadata": {
    "colab_type": "text",
    "id": "L9mkRjYIa1iz"
   },
   "source": [
    "# Improved Neural Network (Tuning Parameters)"
   ]
  },
  {
   "cell_type": "code",
   "execution_count": 35,
   "metadata": {
    "colab": {
     "autoexec": {
      "startup": false,
      "wait_interval": 0
     },
     "base_uri": "https://localhost:8080/",
     "height": 407
    },
    "colab_type": "code",
    "executionInfo": {
     "elapsed": 948,
     "status": "ok",
     "timestamp": 1528838441631,
     "user": {
      "displayName": "SHUBHAM VERMA",
      "photoUrl": "https://lh3.googleusercontent.com/a/default-user=s128",
      "userId": "108363614808362191748"
     },
     "user_tz": -330
    },
    "id": "tzNim7esa0g7",
    "outputId": "2541c970-7c8c-49d8-fa2d-744f1138fa2d"
   },
   "outputs": [
    {
     "name": "stdout",
     "output_type": "stream",
     "text": [
      "_________________________________________________________________\n",
      "Layer (type)                 Output Shape              Param #   \n",
      "=================================================================\n",
      "dense_3 (Dense)              (None, 1000)              15000     \n",
      "_________________________________________________________________\n",
      "dropout_1 (Dropout)          (None, 1000)              0         \n",
      "_________________________________________________________________\n",
      "dense_4 (Dense)              (None, 1000)              1001000   \n",
      "_________________________________________________________________\n",
      "dropout_2 (Dropout)          (None, 1000)              0         \n",
      "_________________________________________________________________\n",
      "dense_5 (Dense)              (None, 1000)              1001000   \n",
      "_________________________________________________________________\n",
      "dropout_3 (Dropout)          (None, 1000)              0         \n",
      "_________________________________________________________________\n",
      "dense_6 (Dense)              (None, 1)                 1001      \n",
      "=================================================================\n",
      "Total params: 2,018,001\n",
      "Trainable params: 2,018,001\n",
      "Non-trainable params: 0\n",
      "_________________________________________________________________\n"
     ]
    }
   ],
   "source": [
    "model2 = Sequential()\n",
    "model2.add(Dense(1000, activation = 'relu', input_shape = (x.shape[1], )))\n",
    "model2.add(Dropout(0.2))\n",
    "model2.add(Dense(1000, activation = 'relu'))\n",
    "model2.add(Dropout(0.2))\n",
    "model2.add(Dense(1000, activation = 'relu'))\n",
    "model2.add(Dropout(0.2))\n",
    "model2.add(Dense(1, activation = 'sigmoid'))\n",
    "model2.summary()"
   ]
  },
  {
   "cell_type": "code",
   "execution_count": 36,
   "metadata": {
    "colab": {
     "autoexec": {
      "startup": false,
      "wait_interval": 0
     },
     "base_uri": "https://localhost:8080/",
     "height": 407
    },
    "colab_type": "code",
    "executionInfo": {
     "elapsed": 974,
     "status": "ok",
     "timestamp": 1528838447248,
     "user": {
      "displayName": "SHUBHAM VERMA",
      "photoUrl": "https://lh3.googleusercontent.com/a/default-user=s128",
      "userId": "108363614808362191748"
     },
     "user_tz": -330
    },
    "id": "3DCvBvfKbzpn",
    "outputId": "3ebb0199-df7f-442b-bb40-84760eec4f53"
   },
   "outputs": [
    {
     "name": "stdout",
     "output_type": "stream",
     "text": [
      "_________________________________________________________________\n",
      "Layer (type)                 Output Shape              Param #   \n",
      "=================================================================\n",
      "dense_3 (Dense)              (None, 1000)              15000     \n",
      "_________________________________________________________________\n",
      "dropout_1 (Dropout)          (None, 1000)              0         \n",
      "_________________________________________________________________\n",
      "dense_4 (Dense)              (None, 1000)              1001000   \n",
      "_________________________________________________________________\n",
      "dropout_2 (Dropout)          (None, 1000)              0         \n",
      "_________________________________________________________________\n",
      "dense_5 (Dense)              (None, 1000)              1001000   \n",
      "_________________________________________________________________\n",
      "dropout_3 (Dropout)          (None, 1000)              0         \n",
      "_________________________________________________________________\n",
      "dense_6 (Dense)              (None, 1)                 1001      \n",
      "=================================================================\n",
      "Total params: 2,018,001\n",
      "Trainable params: 2,018,001\n",
      "Non-trainable params: 0\n",
      "_________________________________________________________________\n"
     ]
    }
   ],
   "source": [
    "model2.compile(loss = 'binary_crossentropy', optimizer='adam', metrics=['accuracy'])\n",
    "model2.summary()"
   ]
  },
  {
   "cell_type": "code",
   "execution_count": 37,
   "metadata": {
    "colab": {
     "autoexec": {
      "startup": false,
      "wait_interval": 0
     },
     "base_uri": "https://localhost:8080/",
     "height": 14909
    },
    "colab_type": "code",
    "executionInfo": {
     "elapsed": 53194,
     "status": "ok",
     "timestamp": 1528840496221,
     "user": {
      "displayName": "SHUBHAM VERMA",
      "photoUrl": "https://lh3.googleusercontent.com/a/default-user=s128",
      "userId": "108363614808362191748"
     },
     "user_tz": -330
    },
    "id": "qepgTEuYb206",
    "outputId": "6c696856-6b94-45d3-80c0-f7a13b0d393e"
   },
   "outputs": [
    {
     "name": "stdout",
     "output_type": "stream",
     "text": [
      "Train on 9900 samples, validate on 1100 samples\n",
      "Epoch 1/200\n",
      " - 6s - loss: 0.6896 - acc: 0.5364 - val_loss: 0.6840 - val_acc: 0.5436\n",
      "\n",
      "Epoch 00001: val_loss improved from inf to 0.68402, saving model to MLP_new.weights.best.hdf5\n",
      "Epoch 2/200\n",
      " - 6s - loss: 0.6669 - acc: 0.5721 - val_loss: 0.6964 - val_acc: 0.5291\n",
      "\n",
      "Epoch 00002: val_loss did not improve from 0.68402\n",
      "Epoch 3/200\n",
      " - 5s - loss: 0.6406 - acc: 0.6124 - val_loss: 0.6676 - val_acc: 0.5736\n",
      "\n",
      "Epoch 00003: val_loss improved from 0.68402 to 0.66762, saving model to MLP_new.weights.best.hdf5\n",
      "Epoch 4/200\n",
      " - 5s - loss: 0.6224 - acc: 0.6158 - val_loss: 0.6614 - val_acc: 0.5600\n",
      "\n",
      "Epoch 00004: val_loss improved from 0.66762 to 0.66144, saving model to MLP_new.weights.best.hdf5\n",
      "Epoch 5/200\n",
      " - 6s - loss: 0.5991 - acc: 0.6383 - val_loss: 0.6627 - val_acc: 0.5445\n",
      "\n",
      "Epoch 00005: val_loss did not improve from 0.66144\n",
      "Epoch 6/200\n",
      " - 6s - loss: 0.5846 - acc: 0.6507 - val_loss: 0.6626 - val_acc: 0.5491\n",
      "\n",
      "Epoch 00006: val_loss did not improve from 0.66144\n",
      "Epoch 7/200\n",
      " - 5s - loss: 0.5690 - acc: 0.6654 - val_loss: 0.6622 - val_acc: 0.5436\n",
      "\n",
      "Epoch 00007: val_loss did not improve from 0.66144\n",
      "Epoch 8/200\n",
      " - 6s - loss: 0.5801 - acc: 0.6515 - val_loss: 0.6732 - val_acc: 0.5600\n",
      "\n",
      "Epoch 00008: val_loss did not improve from 0.66144\n",
      "Epoch 9/200\n",
      " - 6s - loss: 0.5652 - acc: 0.6703 - val_loss: 0.7033 - val_acc: 0.5418\n",
      "\n",
      "Epoch 00009: val_loss did not improve from 0.66144\n",
      "Epoch 10/200\n",
      " - 6s - loss: 0.5520 - acc: 0.6811 - val_loss: 0.6705 - val_acc: 0.5673\n",
      "\n",
      "Epoch 00010: val_loss did not improve from 0.66144\n",
      "Epoch 11/200\n",
      " - 7s - loss: 0.5256 - acc: 0.7037 - val_loss: 0.6666 - val_acc: 0.5845\n",
      "\n",
      "Epoch 00011: val_loss did not improve from 0.66144\n",
      "Epoch 12/200\n",
      " - 7s - loss: 0.5003 - acc: 0.7377 - val_loss: 0.6477 - val_acc: 0.6227\n",
      "\n",
      "Epoch 00012: val_loss improved from 0.66144 to 0.64771, saving model to MLP_new.weights.best.hdf5\n",
      "Epoch 13/200\n",
      " - 6s - loss: 0.5221 - acc: 0.7193 - val_loss: 0.6457 - val_acc: 0.6327\n",
      "\n",
      "Epoch 00013: val_loss improved from 0.64771 to 0.64573, saving model to MLP_new.weights.best.hdf5\n",
      "Epoch 14/200\n",
      " - 6s - loss: 0.4833 - acc: 0.7713 - val_loss: 0.6602 - val_acc: 0.6227\n",
      "\n",
      "Epoch 00014: val_loss did not improve from 0.64573\n",
      "Epoch 15/200\n",
      " - 6s - loss: 0.4514 - acc: 0.7899 - val_loss: 0.6626 - val_acc: 0.6355\n",
      "\n",
      "Epoch 00015: val_loss did not improve from 0.64573\n",
      "Epoch 16/200\n",
      " - 8s - loss: 0.4573 - acc: 0.7754 - val_loss: 0.7013 - val_acc: 0.5982\n",
      "\n",
      "Epoch 00016: val_loss did not improve from 0.64573\n",
      "Epoch 17/200\n",
      " - 5s - loss: 0.4905 - acc: 0.7489 - val_loss: 0.7322 - val_acc: 0.5918\n",
      "\n",
      "Epoch 00017: val_loss did not improve from 0.64573\n",
      "Epoch 18/200\n",
      " - 6s - loss: 0.4574 - acc: 0.7777 - val_loss: 0.6929 - val_acc: 0.6073\n",
      "\n",
      "Epoch 00018: val_loss did not improve from 0.64573\n",
      "Epoch 19/200\n",
      " - 5s - loss: 0.4295 - acc: 0.8062 - val_loss: 0.6818 - val_acc: 0.6291\n",
      "\n",
      "Epoch 00019: val_loss did not improve from 0.64573\n",
      "Epoch 20/200\n",
      " - 6s - loss: 0.4375 - acc: 0.7920 - val_loss: 0.6232 - val_acc: 0.6964\n",
      "\n",
      "Epoch 00020: val_loss improved from 0.64573 to 0.62322, saving model to MLP_new.weights.best.hdf5\n",
      "Epoch 21/200\n",
      " - 6s - loss: 0.4314 - acc: 0.7903 - val_loss: 0.7659 - val_acc: 0.5909\n",
      "\n",
      "Epoch 00021: val_loss did not improve from 0.62322\n",
      "Epoch 22/200\n",
      " - 5s - loss: 0.4196 - acc: 0.8056 - val_loss: 0.6478 - val_acc: 0.6582\n",
      "\n",
      "Epoch 00022: val_loss did not improve from 0.62322\n",
      "Epoch 23/200\n",
      " - 5s - loss: 0.4096 - acc: 0.8101 - val_loss: 0.6957 - val_acc: 0.6718\n",
      "\n",
      "Epoch 00023: val_loss did not improve from 0.62322\n",
      "Epoch 24/200\n",
      " - 5s - loss: 0.4071 - acc: 0.8144 - val_loss: 0.6082 - val_acc: 0.6873\n",
      "\n",
      "Epoch 00024: val_loss improved from 0.62322 to 0.60819, saving model to MLP_new.weights.best.hdf5\n",
      "Epoch 25/200\n",
      " - 5s - loss: 0.3901 - acc: 0.8212 - val_loss: 0.6384 - val_acc: 0.6900\n",
      "\n",
      "Epoch 00025: val_loss did not improve from 0.60819\n",
      "Epoch 26/200\n",
      " - 5s - loss: 0.3763 - acc: 0.8299 - val_loss: 0.6210 - val_acc: 0.6745\n",
      "\n",
      "Epoch 00026: val_loss did not improve from 0.60819\n",
      "Epoch 27/200\n",
      " - 6s - loss: 0.3987 - acc: 0.8174 - val_loss: 0.6375 - val_acc: 0.7127\n",
      "\n",
      "Epoch 00027: val_loss did not improve from 0.60819\n",
      "Epoch 28/200\n",
      " - 5s - loss: 0.3766 - acc: 0.8309 - val_loss: 0.6816 - val_acc: 0.6582\n",
      "\n",
      "Epoch 00028: val_loss did not improve from 0.60819\n",
      "Epoch 29/200\n",
      " - 5s - loss: 0.4776 - acc: 0.7624 - val_loss: 0.6700 - val_acc: 0.6218\n",
      "\n",
      "Epoch 00029: val_loss did not improve from 0.60819\n",
      "Epoch 30/200\n",
      " - 6s - loss: 0.4016 - acc: 0.8120 - val_loss: 0.6622 - val_acc: 0.6555\n",
      "\n",
      "Epoch 00030: val_loss did not improve from 0.60819\n",
      "Epoch 31/200\n",
      " - 9s - loss: 0.3694 - acc: 0.8326 - val_loss: 0.6450 - val_acc: 0.6727\n",
      "\n",
      "Epoch 00031: val_loss did not improve from 0.60819\n",
      "Epoch 32/200\n",
      " - 7s - loss: 0.3859 - acc: 0.8212 - val_loss: 0.6411 - val_acc: 0.7045\n",
      "\n",
      "Epoch 00032: val_loss did not improve from 0.60819\n",
      "Epoch 33/200\n",
      " - 6s - loss: 0.3634 - acc: 0.8391 - val_loss: 0.6748 - val_acc: 0.7145\n",
      "\n",
      "Epoch 00033: val_loss did not improve from 0.60819\n",
      "Epoch 34/200\n",
      " - 6s - loss: 0.3463 - acc: 0.8498 - val_loss: 0.6329 - val_acc: 0.7245\n",
      "\n",
      "Epoch 00034: val_loss did not improve from 0.60819\n",
      "Epoch 35/200\n",
      " - 6s - loss: 0.3630 - acc: 0.8358 - val_loss: 0.6586 - val_acc: 0.7145\n",
      "\n",
      "Epoch 00035: val_loss did not improve from 0.60819\n",
      "Epoch 36/200\n",
      " - 6s - loss: 0.3718 - acc: 0.8315 - val_loss: 0.6315 - val_acc: 0.7264\n",
      "\n",
      "Epoch 00036: val_loss did not improve from 0.60819\n",
      "Epoch 37/200\n",
      " - 6s - loss: 0.3346 - acc: 0.8543 - val_loss: 0.6645 - val_acc: 0.6955\n",
      "\n",
      "Epoch 00037: val_loss did not improve from 0.60819\n",
      "Epoch 38/200\n",
      " - 5s - loss: 0.3533 - acc: 0.8429 - val_loss: 0.6429 - val_acc: 0.6755\n",
      "\n",
      "Epoch 00038: val_loss did not improve from 0.60819\n",
      "Epoch 39/200\n",
      " - 5s - loss: 0.3510 - acc: 0.8396 - val_loss: 0.6327 - val_acc: 0.6909\n",
      "\n",
      "Epoch 00039: val_loss did not improve from 0.60819\n",
      "Epoch 40/200\n",
      " - 5s - loss: 0.3378 - acc: 0.8541 - val_loss: 0.6398 - val_acc: 0.6991\n",
      "\n",
      "Epoch 00040: val_loss did not improve from 0.60819\n",
      "Epoch 41/200\n",
      " - 5s - loss: 0.3364 - acc: 0.8514 - val_loss: 0.6870 - val_acc: 0.6709\n",
      "\n",
      "Epoch 00041: val_loss did not improve from 0.60819\n",
      "Epoch 42/200\n",
      " - 5s - loss: 0.3507 - acc: 0.8421 - val_loss: 0.6875 - val_acc: 0.7000\n",
      "\n",
      "Epoch 00042: val_loss did not improve from 0.60819\n",
      "Epoch 43/200\n",
      " - 5s - loss: 0.3548 - acc: 0.8434 - val_loss: 0.6348 - val_acc: 0.7236\n",
      "\n",
      "Epoch 00043: val_loss did not improve from 0.60819\n",
      "Epoch 44/200\n",
      " - 6s - loss: 0.3279 - acc: 0.8567 - val_loss: 0.6694 - val_acc: 0.7200\n",
      "\n",
      "Epoch 00044: val_loss did not improve from 0.60819\n",
      "Epoch 45/200\n",
      " - 6s - loss: 0.3334 - acc: 0.8546 - val_loss: 0.6736 - val_acc: 0.7118\n",
      "\n",
      "Epoch 00045: val_loss did not improve from 0.60819\n",
      "Epoch 46/200\n",
      " - 6s - loss: 0.3269 - acc: 0.8547 - val_loss: 0.6450 - val_acc: 0.7345\n",
      "\n",
      "Epoch 00046: val_loss did not improve from 0.60819\n",
      "Epoch 47/200\n",
      " - 5s - loss: 0.3115 - acc: 0.8668 - val_loss: 0.6459 - val_acc: 0.6973\n",
      "\n",
      "Epoch 00047: val_loss did not improve from 0.60819\n",
      "Epoch 48/200\n",
      " - 6s - loss: 0.3048 - acc: 0.8690 - val_loss: 0.6462 - val_acc: 0.7355\n",
      "\n",
      "Epoch 00048: val_loss did not improve from 0.60819\n",
      "Epoch 49/200\n",
      " - 5s - loss: 0.3008 - acc: 0.8698 - val_loss: 0.7094 - val_acc: 0.7382\n",
      "\n",
      "Epoch 00049: val_loss did not improve from 0.60819\n",
      "Epoch 50/200\n",
      " - 7s - loss: 0.3042 - acc: 0.8680 - val_loss: 0.6577 - val_acc: 0.7418\n",
      "\n",
      "Epoch 00050: val_loss did not improve from 0.60819\n",
      "Epoch 51/200\n",
      " - 5s - loss: 0.3082 - acc: 0.8638 - val_loss: 0.7808 - val_acc: 0.7036\n",
      "\n",
      "Epoch 00051: val_loss did not improve from 0.60819\n",
      "Epoch 52/200\n",
      " - 6s - loss: 0.3567 - acc: 0.8367 - val_loss: 0.6125 - val_acc: 0.7209\n",
      "\n",
      "Epoch 00052: val_loss did not improve from 0.60819\n",
      "Epoch 53/200\n",
      " - 6s - loss: 0.3031 - acc: 0.8701 - val_loss: 0.7015 - val_acc: 0.6864\n",
      "\n",
      "Epoch 00053: val_loss did not improve from 0.60819\n",
      "Epoch 54/200\n",
      " - 5s - loss: 0.3174 - acc: 0.8628 - val_loss: 0.9279 - val_acc: 0.6800\n",
      "\n",
      "Epoch 00054: val_loss did not improve from 0.60819\n",
      "Epoch 55/200\n",
      " - 5s - loss: 0.3681 - acc: 0.8370 - val_loss: 0.6007 - val_acc: 0.7018\n",
      "\n",
      "Epoch 00055: val_loss improved from 0.60819 to 0.60073, saving model to MLP_new.weights.best.hdf5\n",
      "Epoch 56/200\n",
      " - 5s - loss: 0.3424 - acc: 0.8466 - val_loss: 0.6217 - val_acc: 0.7009\n",
      "\n",
      "Epoch 00056: val_loss did not improve from 0.60073\n",
      "Epoch 57/200\n",
      " - 5s - loss: 0.3459 - acc: 0.8465 - val_loss: 0.7875 - val_acc: 0.6482\n",
      "\n",
      "Epoch 00057: val_loss did not improve from 0.60073\n",
      "Epoch 58/200\n"
     ]
    },
    {
     "name": "stdout",
     "output_type": "stream",
     "text": [
      " - 6s - loss: 0.3380 - acc: 0.8517 - val_loss: 0.6772 - val_acc: 0.7282\n",
      "\n",
      "Epoch 00058: val_loss did not improve from 0.60073\n",
      "Epoch 59/200\n",
      " - 6s - loss: 0.2962 - acc: 0.8724 - val_loss: 0.6848 - val_acc: 0.7345\n",
      "\n",
      "Epoch 00059: val_loss did not improve from 0.60073\n",
      "Epoch 60/200\n",
      " - 6s - loss: 0.3044 - acc: 0.8666 - val_loss: 0.6665 - val_acc: 0.7409\n",
      "\n",
      "Epoch 00060: val_loss did not improve from 0.60073\n",
      "Epoch 61/200\n",
      " - 6s - loss: 0.2923 - acc: 0.8700 - val_loss: 0.6560 - val_acc: 0.7045\n",
      "\n",
      "Epoch 00061: val_loss did not improve from 0.60073\n",
      "Epoch 62/200\n",
      " - 6s - loss: 0.3210 - acc: 0.8594 - val_loss: 0.6337 - val_acc: 0.7327\n",
      "\n",
      "Epoch 00062: val_loss did not improve from 0.60073\n",
      "Epoch 63/200\n",
      " - 6s - loss: 0.3030 - acc: 0.8692 - val_loss: 0.6551 - val_acc: 0.7400\n",
      "\n",
      "Epoch 00063: val_loss did not improve from 0.60073\n",
      "Epoch 64/200\n",
      " - 6s - loss: 0.2849 - acc: 0.8760 - val_loss: 0.6731 - val_acc: 0.7545\n",
      "\n",
      "Epoch 00064: val_loss did not improve from 0.60073\n",
      "Epoch 65/200\n",
      " - 7s - loss: 0.2894 - acc: 0.8769 - val_loss: 0.7313 - val_acc: 0.7327\n",
      "\n",
      "Epoch 00065: val_loss did not improve from 0.60073\n",
      "Epoch 66/200\n",
      " - 8s - loss: 0.2780 - acc: 0.8800 - val_loss: 0.7114 - val_acc: 0.7409\n",
      "\n",
      "Epoch 00066: val_loss did not improve from 0.60073\n",
      "Epoch 67/200\n",
      " - 6s - loss: 0.2755 - acc: 0.8806 - val_loss: 0.5863 - val_acc: 0.7445\n",
      "\n",
      "Epoch 00067: val_loss improved from 0.60073 to 0.58628, saving model to MLP_new.weights.best.hdf5\n",
      "Epoch 68/200\n",
      " - 5s - loss: 0.2917 - acc: 0.8734 - val_loss: 0.8883 - val_acc: 0.7182\n",
      "\n",
      "Epoch 00068: val_loss did not improve from 0.58628\n",
      "Epoch 69/200\n",
      " - 6s - loss: 0.3116 - acc: 0.8614 - val_loss: 0.6006 - val_acc: 0.7109\n",
      "\n",
      "Epoch 00069: val_loss did not improve from 0.58628\n",
      "Epoch 70/200\n",
      " - 6s - loss: 0.2991 - acc: 0.8676 - val_loss: 0.8084 - val_acc: 0.7227\n",
      "\n",
      "Epoch 00070: val_loss did not improve from 0.58628\n",
      "Epoch 71/200\n",
      " - 6s - loss: 0.2912 - acc: 0.8722 - val_loss: 0.7075 - val_acc: 0.7473\n",
      "\n",
      "Epoch 00071: val_loss did not improve from 0.58628\n",
      "Epoch 72/200\n",
      " - 6s - loss: 0.2951 - acc: 0.8685 - val_loss: 0.5855 - val_acc: 0.7582\n",
      "\n",
      "Epoch 00072: val_loss improved from 0.58628 to 0.58551, saving model to MLP_new.weights.best.hdf5\n",
      "Epoch 73/200\n",
      " - 6s - loss: 0.2676 - acc: 0.8858 - val_loss: 0.7152 - val_acc: 0.7345\n",
      "\n",
      "Epoch 00073: val_loss did not improve from 0.58551\n",
      "Epoch 74/200\n",
      " - 5s - loss: 0.2575 - acc: 0.8915 - val_loss: 0.6965 - val_acc: 0.7418\n",
      "\n",
      "Epoch 00074: val_loss did not improve from 0.58551\n",
      "Epoch 75/200\n",
      " - 5s - loss: 0.2637 - acc: 0.8849 - val_loss: 0.6230 - val_acc: 0.7536\n",
      "\n",
      "Epoch 00075: val_loss did not improve from 0.58551\n",
      "Epoch 76/200\n",
      " - 5s - loss: 0.2668 - acc: 0.8840 - val_loss: 0.6290 - val_acc: 0.7609\n",
      "\n",
      "Epoch 00076: val_loss did not improve from 0.58551\n",
      "Epoch 77/200\n",
      " - 5s - loss: 0.2572 - acc: 0.8906 - val_loss: 0.7130 - val_acc: 0.7527\n",
      "\n",
      "Epoch 00077: val_loss did not improve from 0.58551\n",
      "Epoch 78/200\n",
      " - 5s - loss: 0.2596 - acc: 0.8905 - val_loss: 0.6689 - val_acc: 0.7227\n",
      "\n",
      "Epoch 00078: val_loss did not improve from 0.58551\n",
      "Epoch 79/200\n",
      " - 5s - loss: 0.2610 - acc: 0.8873 - val_loss: 0.7091 - val_acc: 0.7300\n",
      "\n",
      "Epoch 00079: val_loss did not improve from 0.58551\n",
      "Epoch 80/200\n",
      " - 6s - loss: 0.2502 - acc: 0.8940 - val_loss: 0.7728 - val_acc: 0.7527\n",
      "\n",
      "Epoch 00080: val_loss did not improve from 0.58551\n",
      "Epoch 81/200\n",
      " - 5s - loss: 0.2680 - acc: 0.8837 - val_loss: 0.6319 - val_acc: 0.7418\n",
      "\n",
      "Epoch 00081: val_loss did not improve from 0.58551\n",
      "Epoch 82/200\n",
      " - 6s - loss: 0.2833 - acc: 0.8721 - val_loss: 0.5953 - val_acc: 0.7473\n",
      "\n",
      "Epoch 00082: val_loss did not improve from 0.58551\n",
      "Epoch 83/200\n",
      " - 5s - loss: 0.2742 - acc: 0.8798 - val_loss: 0.6972 - val_acc: 0.7555\n",
      "\n",
      "Epoch 00083: val_loss did not improve from 0.58551\n",
      "Epoch 84/200\n",
      " - 6s - loss: 0.2465 - acc: 0.8948 - val_loss: 0.6546 - val_acc: 0.7518\n",
      "\n",
      "Epoch 00084: val_loss did not improve from 0.58551\n",
      "Epoch 85/200\n",
      " - 6s - loss: 0.2560 - acc: 0.8901 - val_loss: 0.7570 - val_acc: 0.7536\n",
      "\n",
      "Epoch 00085: val_loss did not improve from 0.58551\n",
      "Epoch 86/200\n",
      " - 7s - loss: 0.2659 - acc: 0.8824 - val_loss: 0.6620 - val_acc: 0.7418\n",
      "\n",
      "Epoch 00086: val_loss did not improve from 0.58551\n",
      "Epoch 87/200\n",
      " - 6s - loss: 0.2355 - acc: 0.9001 - val_loss: 0.5949 - val_acc: 0.7582\n",
      "\n",
      "Epoch 00087: val_loss did not improve from 0.58551\n",
      "Epoch 88/200\n",
      " - 5s - loss: 0.2344 - acc: 0.8979 - val_loss: 0.6822 - val_acc: 0.7755\n",
      "\n",
      "Epoch 00088: val_loss did not improve from 0.58551\n",
      "Epoch 89/200\n",
      " - 7s - loss: 0.2434 - acc: 0.8972 - val_loss: 0.6034 - val_acc: 0.7745\n",
      "\n",
      "Epoch 00089: val_loss did not improve from 0.58551\n",
      "Epoch 90/200\n",
      " - 10s - loss: 0.2707 - acc: 0.8824 - val_loss: 0.6847 - val_acc: 0.6645\n",
      "\n",
      "Epoch 00090: val_loss did not improve from 0.58551\n",
      "Epoch 91/200\n",
      " - 6s - loss: 0.3883 - acc: 0.8140 - val_loss: 0.8132 - val_acc: 0.7191\n",
      "\n",
      "Epoch 00091: val_loss did not improve from 0.58551\n",
      "Epoch 92/200\n",
      " - 8s - loss: 0.3377 - acc: 0.8445 - val_loss: 0.6455 - val_acc: 0.7482\n",
      "\n",
      "Epoch 00092: val_loss did not improve from 0.58551\n",
      "Epoch 93/200\n",
      " - 11s - loss: 0.2965 - acc: 0.8709 - val_loss: 0.7452 - val_acc: 0.7509\n",
      "\n",
      "Epoch 00093: val_loss did not improve from 0.58551\n",
      "Epoch 94/200\n",
      " - 11s - loss: 0.2553 - acc: 0.8895 - val_loss: 0.6283 - val_acc: 0.7536\n",
      "\n",
      "Epoch 00094: val_loss did not improve from 0.58551\n",
      "Epoch 95/200\n",
      " - 14s - loss: 0.2648 - acc: 0.8878 - val_loss: 0.7302 - val_acc: 0.7564\n",
      "\n",
      "Epoch 00095: val_loss did not improve from 0.58551\n",
      "Epoch 96/200\n",
      " - 18s - loss: 0.2696 - acc: 0.8806 - val_loss: 0.7187 - val_acc: 0.7509\n",
      "\n",
      "Epoch 00096: val_loss did not improve from 0.58551\n",
      "Epoch 97/200\n",
      " - 20s - loss: 0.3169 - acc: 0.8545 - val_loss: 0.7607 - val_acc: 0.7345\n",
      "\n",
      "Epoch 00097: val_loss did not improve from 0.58551\n",
      "Epoch 98/200\n",
      " - 16s - loss: 0.2492 - acc: 0.8948 - val_loss: 0.6098 - val_acc: 0.7673\n",
      "\n",
      "Epoch 00098: val_loss did not improve from 0.58551\n",
      "Epoch 99/200\n",
      " - 15s - loss: 0.2406 - acc: 0.8975 - val_loss: 0.6186 - val_acc: 0.7400\n",
      "\n",
      "Epoch 00099: val_loss did not improve from 0.58551\n",
      "Epoch 100/200\n",
      " - 20s - loss: 0.2574 - acc: 0.8871 - val_loss: 0.7651 - val_acc: 0.7500\n",
      "\n",
      "Epoch 00100: val_loss did not improve from 0.58551\n",
      "Epoch 101/200\n",
      " - 19s - loss: 0.2542 - acc: 0.8925 - val_loss: 0.6381 - val_acc: 0.7609\n",
      "\n",
      "Epoch 00101: val_loss did not improve from 0.58551\n",
      "Epoch 102/200\n",
      " - 16s - loss: 0.2470 - acc: 0.8930 - val_loss: 0.7200 - val_acc: 0.7736\n",
      "\n",
      "Epoch 00102: val_loss did not improve from 0.58551\n",
      "Epoch 103/200\n",
      " - 18s - loss: 0.2612 - acc: 0.8863 - val_loss: 0.8021 - val_acc: 0.7464\n",
      "\n",
      "Epoch 00103: val_loss did not improve from 0.58551\n",
      "Epoch 104/200\n",
      " - 16s - loss: 0.2877 - acc: 0.8735 - val_loss: 0.6707 - val_acc: 0.7264\n",
      "\n",
      "Epoch 00104: val_loss did not improve from 0.58551\n",
      "Epoch 105/200\n",
      " - 19s - loss: 0.2423 - acc: 0.8990 - val_loss: 0.6385 - val_acc: 0.7627\n",
      "\n",
      "Epoch 00105: val_loss did not improve from 0.58551\n",
      "Epoch 106/200\n",
      " - 19s - loss: 0.2397 - acc: 0.8957 - val_loss: 0.8070 - val_acc: 0.7482\n",
      "\n",
      "Epoch 00106: val_loss did not improve from 0.58551\n",
      "Epoch 107/200\n",
      " - 18s - loss: 0.2522 - acc: 0.8900 - val_loss: 0.6546 - val_acc: 0.7736\n",
      "\n",
      "Epoch 00107: val_loss did not improve from 0.58551\n",
      "Epoch 108/200\n",
      " - 14s - loss: 0.2339 - acc: 0.9032 - val_loss: 0.6678 - val_acc: 0.7591\n",
      "\n",
      "Epoch 00108: val_loss did not improve from 0.58551\n",
      "Epoch 109/200\n",
      " - 16s - loss: 0.2350 - acc: 0.9022 - val_loss: 0.5774 - val_acc: 0.7782\n",
      "\n",
      "Epoch 00109: val_loss improved from 0.58551 to 0.57742, saving model to MLP_new.weights.best.hdf5\n",
      "Epoch 110/200\n",
      " - 16s - loss: 0.2251 - acc: 0.9043 - val_loss: 0.5894 - val_acc: 0.7573\n",
      "\n",
      "Epoch 00110: val_loss did not improve from 0.57742\n",
      "Epoch 111/200\n",
      " - 16s - loss: 0.2449 - acc: 0.8978 - val_loss: 0.6760 - val_acc: 0.7627\n",
      "\n",
      "Epoch 00111: val_loss did not improve from 0.57742\n",
      "Epoch 112/200\n",
      " - 14s - loss: 0.2301 - acc: 0.9016 - val_loss: 0.7959 - val_acc: 0.7673\n",
      "\n",
      "Epoch 00112: val_loss did not improve from 0.57742\n",
      "Epoch 113/200\n",
      " - 14s - loss: 0.2437 - acc: 0.8947 - val_loss: 0.8145 - val_acc: 0.7627\n",
      "\n",
      "Epoch 00113: val_loss did not improve from 0.57742\n",
      "Epoch 114/200\n",
      " - 16s - loss: 0.2338 - acc: 0.9015 - val_loss: 0.6453 - val_acc: 0.7727\n",
      "\n",
      "Epoch 00114: val_loss did not improve from 0.57742\n",
      "Epoch 115/200\n",
      " - 15s - loss: 0.2244 - acc: 0.9073 - val_loss: 0.6355 - val_acc: 0.7482\n",
      "\n",
      "Epoch 00115: val_loss did not improve from 0.57742\n",
      "Epoch 116/200\n",
      " - 16s - loss: 0.2296 - acc: 0.9013 - val_loss: 0.7151 - val_acc: 0.7618\n"
     ]
    },
    {
     "name": "stdout",
     "output_type": "stream",
     "text": [
      "\n",
      "Epoch 00116: val_loss did not improve from 0.57742\n",
      "Epoch 117/200\n",
      " - 17s - loss: 0.2086 - acc: 0.9139 - val_loss: 0.6658 - val_acc: 0.7518\n",
      "\n",
      "Epoch 00117: val_loss did not improve from 0.57742\n",
      "Epoch 118/200\n",
      " - 13s - loss: 0.2447 - acc: 0.8987 - val_loss: 0.7503 - val_acc: 0.7718\n",
      "\n",
      "Epoch 00118: val_loss did not improve from 0.57742\n",
      "Epoch 119/200\n",
      " - 12s - loss: 0.2124 - acc: 0.9115 - val_loss: 0.6245 - val_acc: 0.7618\n",
      "\n",
      "Epoch 00119: val_loss did not improve from 0.57742\n",
      "Epoch 120/200\n",
      " - 14s - loss: 0.2177 - acc: 0.9122 - val_loss: 0.6868 - val_acc: 0.7673\n",
      "\n",
      "Epoch 00120: val_loss did not improve from 0.57742\n",
      "Epoch 121/200\n",
      " - 11s - loss: 0.2574 - acc: 0.8903 - val_loss: 0.6100 - val_acc: 0.7827\n",
      "\n",
      "Epoch 00121: val_loss did not improve from 0.57742\n",
      "Epoch 122/200\n",
      " - 14s - loss: 0.2112 - acc: 0.9101 - val_loss: 0.6899 - val_acc: 0.7682\n",
      "\n",
      "Epoch 00122: val_loss did not improve from 0.57742\n",
      "Epoch 123/200\n",
      " - 14s - loss: 0.2434 - acc: 0.8969 - val_loss: 0.8608 - val_acc: 0.7400\n",
      "\n",
      "Epoch 00123: val_loss did not improve from 0.57742\n",
      "Epoch 124/200\n",
      " - 11s - loss: 0.2223 - acc: 0.9066 - val_loss: 0.5951 - val_acc: 0.7718\n",
      "\n",
      "Epoch 00124: val_loss did not improve from 0.57742\n",
      "Epoch 125/200\n",
      " - 13s - loss: 0.2164 - acc: 0.9100 - val_loss: 0.6394 - val_acc: 0.7736\n",
      "\n",
      "Epoch 00125: val_loss did not improve from 0.57742\n",
      "Epoch 126/200\n",
      " - 13s - loss: 0.1989 - acc: 0.9192 - val_loss: 0.6865 - val_acc: 0.7836\n",
      "\n",
      "Epoch 00126: val_loss did not improve from 0.57742\n",
      "Epoch 127/200\n",
      " - 12s - loss: 0.1977 - acc: 0.9205 - val_loss: 0.6559 - val_acc: 0.7627\n",
      "\n",
      "Epoch 00127: val_loss did not improve from 0.57742\n",
      "Epoch 128/200\n",
      " - 11s - loss: 0.1879 - acc: 0.9268 - val_loss: 0.6702 - val_acc: 0.7891\n",
      "\n",
      "Epoch 00128: val_loss did not improve from 0.57742\n",
      "Epoch 129/200\n",
      " - 11s - loss: 0.2085 - acc: 0.9156 - val_loss: 0.6553 - val_acc: 0.7836\n",
      "\n",
      "Epoch 00129: val_loss did not improve from 0.57742\n",
      "Epoch 130/200\n",
      " - 11s - loss: 0.2043 - acc: 0.9129 - val_loss: 0.6894 - val_acc: 0.7645\n",
      "\n",
      "Epoch 00130: val_loss did not improve from 0.57742\n",
      "Epoch 131/200\n",
      " - 11s - loss: 0.2408 - acc: 0.8939 - val_loss: 0.7532 - val_acc: 0.7645\n",
      "\n",
      "Epoch 00131: val_loss did not improve from 0.57742\n",
      "Epoch 132/200\n",
      " - 11s - loss: 0.2181 - acc: 0.9078 - val_loss: 0.5885 - val_acc: 0.7818\n",
      "\n",
      "Epoch 00132: val_loss did not improve from 0.57742\n",
      "Epoch 133/200\n",
      " - 12s - loss: 0.2110 - acc: 0.9095 - val_loss: 0.5803 - val_acc: 0.7709\n",
      "\n",
      "Epoch 00133: val_loss did not improve from 0.57742\n",
      "Epoch 134/200\n",
      " - 13s - loss: 0.2060 - acc: 0.9135 - val_loss: 0.6452 - val_acc: 0.7564\n",
      "\n",
      "Epoch 00134: val_loss did not improve from 0.57742\n",
      "Epoch 135/200\n",
      " - 11s - loss: 0.2180 - acc: 0.9074 - val_loss: 0.5709 - val_acc: 0.7827\n",
      "\n",
      "Epoch 00135: val_loss improved from 0.57742 to 0.57088, saving model to MLP_new.weights.best.hdf5\n",
      "Epoch 136/200\n",
      " - 11s - loss: 0.1956 - acc: 0.9188 - val_loss: 0.5668 - val_acc: 0.7845\n",
      "\n",
      "Epoch 00136: val_loss improved from 0.57088 to 0.56682, saving model to MLP_new.weights.best.hdf5\n",
      "Epoch 137/200\n",
      " - 11s - loss: 0.2062 - acc: 0.9118 - val_loss: 0.6192 - val_acc: 0.7591\n",
      "\n",
      "Epoch 00137: val_loss did not improve from 0.56682\n",
      "Epoch 138/200\n",
      " - 13s - loss: 0.1849 - acc: 0.9283 - val_loss: 0.6339 - val_acc: 0.7527\n",
      "\n",
      "Epoch 00138: val_loss did not improve from 0.56682\n",
      "Epoch 139/200\n",
      " - 13s - loss: 0.1923 - acc: 0.9207 - val_loss: 0.6317 - val_acc: 0.7955\n",
      "\n",
      "Epoch 00139: val_loss did not improve from 0.56682\n",
      "Epoch 140/200\n",
      " - 12s - loss: 0.1759 - acc: 0.9283 - val_loss: 0.5655 - val_acc: 0.7855\n",
      "\n",
      "Epoch 00140: val_loss improved from 0.56682 to 0.56547, saving model to MLP_new.weights.best.hdf5\n",
      "Epoch 141/200\n",
      " - 13s - loss: 0.1804 - acc: 0.9277 - val_loss: 0.6617 - val_acc: 0.7845\n",
      "\n",
      "Epoch 00141: val_loss did not improve from 0.56547\n",
      "Epoch 142/200\n",
      " - 14s - loss: 0.1752 - acc: 0.9271 - val_loss: 0.5712 - val_acc: 0.8036\n",
      "\n",
      "Epoch 00142: val_loss did not improve from 0.56547\n",
      "Epoch 143/200\n",
      " - 11s - loss: 0.1778 - acc: 0.9258 - val_loss: 0.6447 - val_acc: 0.8009\n",
      "\n",
      "Epoch 00143: val_loss did not improve from 0.56547\n",
      "Epoch 144/200\n",
      " - 11s - loss: 0.1801 - acc: 0.9288 - val_loss: 0.6346 - val_acc: 0.7973\n",
      "\n",
      "Epoch 00144: val_loss did not improve from 0.56547\n",
      "Epoch 145/200\n",
      " - 11s - loss: 0.1768 - acc: 0.9249 - val_loss: 0.5633 - val_acc: 0.7791\n",
      "\n",
      "Epoch 00145: val_loss improved from 0.56547 to 0.56331, saving model to MLP_new.weights.best.hdf5\n",
      "Epoch 146/200\n",
      " - 12s - loss: 0.2001 - acc: 0.9165 - val_loss: 0.6396 - val_acc: 0.7736\n",
      "\n",
      "Epoch 00146: val_loss did not improve from 0.56331\n",
      "Epoch 147/200\n",
      " - 12s - loss: 0.1952 - acc: 0.9173 - val_loss: 0.5501 - val_acc: 0.7882\n",
      "\n",
      "Epoch 00147: val_loss improved from 0.56331 to 0.55011, saving model to MLP_new.weights.best.hdf5\n",
      "Epoch 148/200\n",
      " - 27s - loss: 0.1699 - acc: 0.9323 - val_loss: 0.8637 - val_acc: 0.7591\n",
      "\n",
      "Epoch 00148: val_loss did not improve from 0.55011\n",
      "Epoch 149/200\n",
      " - 14s - loss: 0.1969 - acc: 0.9154 - val_loss: 0.5829 - val_acc: 0.7745\n",
      "\n",
      "Epoch 00149: val_loss did not improve from 0.55011\n",
      "Epoch 150/200\n",
      " - 11s - loss: 0.1976 - acc: 0.9176 - val_loss: 0.6590 - val_acc: 0.7882\n",
      "\n",
      "Epoch 00150: val_loss did not improve from 0.55011\n",
      "Epoch 151/200\n",
      " - 12s - loss: 0.1734 - acc: 0.9276 - val_loss: 0.6353 - val_acc: 0.7827\n",
      "\n",
      "Epoch 00151: val_loss did not improve from 0.55011\n",
      "Epoch 152/200\n",
      " - 14s - loss: 0.1643 - acc: 0.9351 - val_loss: 0.5148 - val_acc: 0.8127\n",
      "\n",
      "Epoch 00152: val_loss improved from 0.55011 to 0.51476, saving model to MLP_new.weights.best.hdf5\n",
      "Epoch 153/200\n",
      " - 18s - loss: 0.1634 - acc: 0.9365 - val_loss: 0.6071 - val_acc: 0.7936\n",
      "\n",
      "Epoch 00153: val_loss did not improve from 0.51476\n",
      "Epoch 154/200\n",
      " - 12s - loss: 0.1659 - acc: 0.9330 - val_loss: 0.7049 - val_acc: 0.7855\n",
      "\n",
      "Epoch 00154: val_loss did not improve from 0.51476\n",
      "Epoch 155/200\n",
      " - 13s - loss: 0.1665 - acc: 0.9334 - val_loss: 0.6033 - val_acc: 0.7509\n",
      "\n",
      "Epoch 00155: val_loss did not improve from 0.51476\n",
      "Epoch 156/200\n",
      " - 19s - loss: 0.1988 - acc: 0.9154 - val_loss: 0.6482 - val_acc: 0.7782\n",
      "\n",
      "Epoch 00156: val_loss did not improve from 0.51476\n",
      "Epoch 157/200\n",
      " - 13s - loss: 0.1896 - acc: 0.9236 - val_loss: 0.7371 - val_acc: 0.7673\n",
      "\n",
      "Epoch 00157: val_loss did not improve from 0.51476\n",
      "Epoch 158/200\n",
      " - 14s - loss: 0.1995 - acc: 0.9165 - val_loss: 0.7372 - val_acc: 0.7882\n",
      "\n",
      "Epoch 00158: val_loss did not improve from 0.51476\n",
      "Epoch 159/200\n",
      " - 12s - loss: 0.2148 - acc: 0.9090 - val_loss: 0.5932 - val_acc: 0.7736\n",
      "\n",
      "Epoch 00159: val_loss did not improve from 0.51476\n",
      "Epoch 160/200\n",
      " - 11s - loss: 0.1761 - acc: 0.9302 - val_loss: 0.6968 - val_acc: 0.7900\n",
      "\n",
      "Epoch 00160: val_loss did not improve from 0.51476\n",
      "Epoch 161/200\n",
      " - 11s - loss: 0.1668 - acc: 0.9312 - val_loss: 0.5999 - val_acc: 0.7782\n",
      "\n",
      "Epoch 00161: val_loss did not improve from 0.51476\n",
      "Epoch 162/200\n",
      " - 12s - loss: 0.1637 - acc: 0.9368 - val_loss: 0.6001 - val_acc: 0.7855\n",
      "\n",
      "Epoch 00162: val_loss did not improve from 0.51476\n",
      "Epoch 163/200\n",
      " - 11s - loss: 0.1755 - acc: 0.9276 - val_loss: 0.5514 - val_acc: 0.7955\n",
      "\n",
      "Epoch 00163: val_loss did not improve from 0.51476\n",
      "Epoch 164/200\n",
      " - 11s - loss: 0.1703 - acc: 0.9314 - val_loss: 0.5919 - val_acc: 0.7991\n",
      "\n",
      "Epoch 00164: val_loss did not improve from 0.51476\n",
      "Epoch 165/200\n",
      " - 11s - loss: 0.1619 - acc: 0.9342 - val_loss: 0.7012 - val_acc: 0.7945\n",
      "\n",
      "Epoch 00165: val_loss did not improve from 0.51476\n",
      "Epoch 166/200\n",
      " - 12s - loss: 0.1669 - acc: 0.9308 - val_loss: 0.5612 - val_acc: 0.8000\n",
      "\n",
      "Epoch 00166: val_loss did not improve from 0.51476\n",
      "Epoch 167/200\n",
      " - 11s - loss: 0.1488 - acc: 0.9431 - val_loss: 0.5871 - val_acc: 0.8045\n",
      "\n",
      "Epoch 00167: val_loss did not improve from 0.51476\n",
      "Epoch 168/200\n",
      " - 12s - loss: 0.1721 - acc: 0.9270 - val_loss: 0.5957 - val_acc: 0.8045\n",
      "\n",
      "Epoch 00168: val_loss did not improve from 0.51476\n",
      "Epoch 169/200\n",
      " - 14s - loss: 0.1661 - acc: 0.9349 - val_loss: 0.6273 - val_acc: 0.7709\n",
      "\n",
      "Epoch 00169: val_loss did not improve from 0.51476\n",
      "Epoch 170/200\n",
      " - 11s - loss: 0.1648 - acc: 0.9330 - val_loss: 0.6130 - val_acc: 0.7855\n",
      "\n",
      "Epoch 00170: val_loss did not improve from 0.51476\n",
      "Epoch 171/200\n",
      " - 15s - loss: 0.1587 - acc: 0.9362 - val_loss: 0.5669 - val_acc: 0.7782\n",
      "\n",
      "Epoch 00171: val_loss did not improve from 0.51476\n",
      "Epoch 172/200\n",
      " - 14s - loss: 0.1699 - acc: 0.9321 - val_loss: 0.4941 - val_acc: 0.8045\n",
      "\n",
      "Epoch 00172: val_loss improved from 0.51476 to 0.49414, saving model to MLP_new.weights.best.hdf5\n",
      "Epoch 173/200\n",
      " - 17s - loss: 0.1423 - acc: 0.9453 - val_loss: 0.6717 - val_acc: 0.8118\n"
     ]
    },
    {
     "name": "stdout",
     "output_type": "stream",
     "text": [
      "\n",
      "Epoch 00173: val_loss did not improve from 0.49414\n",
      "Epoch 174/200\n",
      " - 42s - loss: 0.1444 - acc: 0.9415 - val_loss: 0.6941 - val_acc: 0.7782\n",
      "\n",
      "Epoch 00174: val_loss did not improve from 0.49414\n",
      "Epoch 175/200\n",
      " - 15s - loss: 0.1606 - acc: 0.9374 - val_loss: 0.6987 - val_acc: 0.7982\n",
      "\n",
      "Epoch 00175: val_loss did not improve from 0.49414\n",
      "Epoch 176/200\n",
      " - 18s - loss: 0.1742 - acc: 0.9281 - val_loss: 0.5666 - val_acc: 0.8009\n",
      "\n",
      "Epoch 00176: val_loss did not improve from 0.49414\n",
      "Epoch 177/200\n",
      " - 15s - loss: 0.1795 - acc: 0.9247 - val_loss: 0.6307 - val_acc: 0.8009\n",
      "\n",
      "Epoch 00177: val_loss did not improve from 0.49414\n",
      "Epoch 178/200\n",
      " - 15s - loss: 0.1719 - acc: 0.9281 - val_loss: 0.5582 - val_acc: 0.8000\n",
      "\n",
      "Epoch 00178: val_loss did not improve from 0.49414\n",
      "Epoch 179/200\n",
      " - 17s - loss: 0.1544 - acc: 0.9382 - val_loss: 0.6936 - val_acc: 0.7918\n",
      "\n",
      "Epoch 00179: val_loss did not improve from 0.49414\n",
      "Epoch 180/200\n",
      " - 15s - loss: 0.1520 - acc: 0.9383 - val_loss: 0.7123 - val_acc: 0.7718\n",
      "\n",
      "Epoch 00180: val_loss did not improve from 0.49414\n",
      "Epoch 181/200\n",
      " - 14s - loss: 0.1658 - acc: 0.9304 - val_loss: 0.6412 - val_acc: 0.7764\n",
      "\n",
      "Epoch 00181: val_loss did not improve from 0.49414\n",
      "Epoch 182/200\n",
      " - 14s - loss: 0.1866 - acc: 0.9265 - val_loss: 0.5436 - val_acc: 0.7745\n",
      "\n",
      "Epoch 00182: val_loss did not improve from 0.49414\n",
      "Epoch 183/200\n",
      " - 13s - loss: 0.1545 - acc: 0.9367 - val_loss: 0.5656 - val_acc: 0.7900\n",
      "\n",
      "Epoch 00183: val_loss did not improve from 0.49414\n",
      "Epoch 184/200\n",
      " - 14s - loss: 0.1666 - acc: 0.9307 - val_loss: 0.6026 - val_acc: 0.7836\n",
      "\n",
      "Epoch 00184: val_loss did not improve from 0.49414\n",
      "Epoch 185/200\n",
      " - 16s - loss: 0.1607 - acc: 0.9346 - val_loss: 0.6183 - val_acc: 0.7627\n",
      "\n",
      "Epoch 00185: val_loss did not improve from 0.49414\n",
      "Epoch 186/200\n",
      " - 15s - loss: 0.1711 - acc: 0.9313 - val_loss: 0.5560 - val_acc: 0.7855\n",
      "\n",
      "Epoch 00186: val_loss did not improve from 0.49414\n",
      "Epoch 187/200\n",
      " - 14s - loss: 0.1514 - acc: 0.9413 - val_loss: 0.7261 - val_acc: 0.7936\n",
      "\n",
      "Epoch 00187: val_loss did not improve from 0.49414\n",
      "Epoch 188/200\n",
      " - 27s - loss: 0.1700 - acc: 0.9321 - val_loss: 0.5504 - val_acc: 0.7764\n",
      "\n",
      "Epoch 00188: val_loss did not improve from 0.49414\n",
      "Epoch 189/200\n",
      " - 15s - loss: 0.1578 - acc: 0.9351 - val_loss: 0.5455 - val_acc: 0.8109\n",
      "\n",
      "Epoch 00189: val_loss did not improve from 0.49414\n",
      "Epoch 190/200\n",
      " - 15s - loss: 0.1435 - acc: 0.9433 - val_loss: 0.6725 - val_acc: 0.7982\n",
      "\n",
      "Epoch 00190: val_loss did not improve from 0.49414\n",
      "Epoch 191/200\n",
      " - 22s - loss: 0.1561 - acc: 0.9375 - val_loss: 0.5082 - val_acc: 0.8027\n",
      "\n",
      "Epoch 00191: val_loss did not improve from 0.49414\n",
      "Epoch 192/200\n",
      " - 28s - loss: 0.1448 - acc: 0.9420 - val_loss: 0.5863 - val_acc: 0.7964\n",
      "\n",
      "Epoch 00192: val_loss did not improve from 0.49414\n",
      "Epoch 193/200\n",
      " - 16s - loss: 0.1391 - acc: 0.9470 - val_loss: 0.6091 - val_acc: 0.8127\n",
      "\n",
      "Epoch 00193: val_loss did not improve from 0.49414\n",
      "Epoch 194/200\n",
      " - 16s - loss: 0.1363 - acc: 0.9465 - val_loss: 0.6627 - val_acc: 0.8036\n",
      "\n",
      "Epoch 00194: val_loss did not improve from 0.49414\n",
      "Epoch 195/200\n",
      " - 16s - loss: 0.1444 - acc: 0.9406 - val_loss: 0.6343 - val_acc: 0.7536\n",
      "\n",
      "Epoch 00195: val_loss did not improve from 0.49414\n",
      "Epoch 196/200\n",
      " - 16s - loss: 0.1566 - acc: 0.9380 - val_loss: 0.6517 - val_acc: 0.8055\n",
      "\n",
      "Epoch 00196: val_loss did not improve from 0.49414\n",
      "Epoch 197/200\n",
      " - 14s - loss: 0.1564 - acc: 0.9384 - val_loss: 0.6696 - val_acc: 0.7791\n",
      "\n",
      "Epoch 00197: val_loss did not improve from 0.49414\n",
      "Epoch 198/200\n",
      " - 15s - loss: 0.1507 - acc: 0.9404 - val_loss: 0.5786 - val_acc: 0.8045\n",
      "\n",
      "Epoch 00198: val_loss did not improve from 0.49414\n",
      "Epoch 199/200\n",
      " - 15s - loss: 0.1585 - acc: 0.9362 - val_loss: 0.6278 - val_acc: 0.8009\n",
      "\n",
      "Epoch 00199: val_loss did not improve from 0.49414\n",
      "Epoch 200/200\n",
      " - 16s - loss: 0.1553 - acc: 0.9360 - val_loss: 0.7960 - val_acc: 0.7782\n",
      "\n",
      "Epoch 00200: val_loss did not improve from 0.49414\n"
     ]
    }
   ],
   "source": [
    "from keras.callbacks import ModelCheckpoint\n",
    "\n",
    "checkpointer = ModelCheckpoint(filepath = 'MLP_new.weights.best.hdf5', verbose = 1, save_best_only = True)\n",
    "hist1 = model2.fit( x_train, y_train, epochs = 200, batch_size=512, validation_split = 0.1, callbacks = [checkpointer], verbose = 2, shuffle = True )"
   ]
  },
  {
   "cell_type": "code",
   "execution_count": 38,
   "metadata": {
    "colab": {
     "autoexec": {
      "startup": false,
      "wait_interval": 0
     },
     "base_uri": "https://localhost:8080/",
     "height": 54
    },
    "colab_type": "code",
    "executionInfo": {
     "elapsed": 1036,
     "status": "ok",
     "timestamp": 1528838562560,
     "user": {
      "displayName": "SHUBHAM VERMA",
      "photoUrl": "https://lh3.googleusercontent.com/a/default-user=s128",
      "userId": "108363614808362191748"
     },
     "user_tz": -330
    },
    "id": "aNKmoGdQchbo",
    "outputId": "ae555b2c-cba8-4e72-cc55-5614e8b99c9c"
   },
   "outputs": [
    {
     "name": "stdout",
     "output_type": "stream",
     "text": [
      "3980/3980 [==============================] - 4s 992us/step\n",
      "Accuracy:  0.7143216081001051\n"
     ]
    }
   ],
   "source": [
    "score = model2.evaluate(x_test, y_test, verbose=1)\n",
    "print(\"Accuracy: \", score[1])"
   ]
  },
  {
   "cell_type": "code",
   "execution_count": 39,
   "metadata": {
    "colab": {
     "autoexec": {
      "startup": false,
      "wait_interval": 0
     }
    },
    "colab_type": "code",
    "id": "elVEGDtW3JfM"
   },
   "outputs": [],
   "source": [
    "predict3 = [1 if a>=0.5 else 0 for a in model2.predict(x_test)] "
   ]
  },
  {
   "cell_type": "code",
   "execution_count": 40,
   "metadata": {
    "colab": {
     "autoexec": {
      "startup": false,
      "wait_interval": 0
     },
     "base_uri": "https://localhost:8080/",
     "height": 91
    },
    "colab_type": "code",
    "executionInfo": {
     "elapsed": 1086,
     "status": "ok",
     "timestamp": 1528839774224,
     "user": {
      "displayName": "SHUBHAM VERMA",
      "photoUrl": "https://lh3.googleusercontent.com/a/default-user=s128",
      "userId": "108363614808362191748"
     },
     "user_tz": -330
    },
    "id": "bww5JR0i3PGh",
    "outputId": "6b0b172d-8479-4248-e644-a66fa315f6d3"
   },
   "outputs": [
    {
     "name": "stdout",
     "output_type": "stream",
     "text": [
      "Accuracy = 0.714321608040201\n",
      "Precision = 0.64280868385346\n",
      "Recall = 0.9575543203638202\n",
      "F1 Score = 0.7692307692307693\n"
     ]
    }
   ],
   "source": [
    "print(\"Accuracy = {}\\nPrecision = {}\\nRecall = {}\\nF1 Score = {}\".format(metrics.accuracy_score(y_test, predict3), metrics.precision_score(y_test, predict3),metrics.recall_score(y_test, predict3),metrics.f1_score(y_test, predict3)))\n",
    "score_p.append([metrics.accuracy_score(y_test, predict3), metrics.precision_score(y_test, predict3),metrics.recall_score(y_test, predict3),metrics.f1_score(y_test, predict3)])"
   ]
  },
  {
   "cell_type": "code",
   "execution_count": 41,
   "metadata": {
    "colab": {
     "autoexec": {
      "startup": false,
      "wait_interval": 0
     }
    },
    "colab_type": "code",
    "id": "PocmBpI__yv7"
   },
   "outputs": [],
   "source": [
    "import matplotlib.pyplot as plt"
   ]
  },
  {
   "cell_type": "markdown",
   "metadata": {
    "colab_type": "text",
    "id": "lghx16y4_r8Q"
   },
   "source": [
    "# Training on  LSTM"
   ]
  },
  {
   "cell_type": "markdown",
   "metadata": {
    "colab_type": "text",
    "id": "wNp083VrV_ai"
   },
   "source": [
    "### Creating 3D array dataset"
   ]
  },
  {
   "cell_type": "code",
   "execution_count": 42,
   "metadata": {
    "colab": {
     "autoexec": {
      "startup": false,
      "wait_interval": 0
     }
    },
    "colab_type": "code",
    "id": "3AXLNcwEwbIx"
   },
   "outputs": [],
   "source": [
    "X_train = np.asarray(np.reshape(x_train, (x_train.shape[0], 14, 1)))\n",
    "X_test = np.asarray(np.reshape(x_test, (x_test.shape[0], 14, 1)))"
   ]
  },
  {
   "cell_type": "code",
   "execution_count": 43,
   "metadata": {
    "colab": {
     "autoexec": {
      "startup": false,
      "wait_interval": 0
     }
    },
    "colab_type": "code",
    "id": "Krv-k18n3mXy"
   },
   "outputs": [],
   "source": [
    "from keras.layers import Dense, Dropout, CuDNNLSTM, Embedding, LSTM\n",
    "from keras.models import Sequential"
   ]
  },
  {
   "cell_type": "code",
   "execution_count": 44,
   "metadata": {
    "colab": {
     "autoexec": {
      "startup": false,
      "wait_interval": 0
     }
    },
    "colab_type": "code",
    "id": "DR_-hoc-_qx6"
   },
   "outputs": [],
   "source": [
    "model3 = Sequential()\n",
    "model3.add(LSTM(256,input_shape=(14, 1), return_sequences=True))\n",
    "model3.add(LSTM(256))\n",
    "model3.add(Dense(1, activation='sigmoid'))"
   ]
  },
  {
   "cell_type": "code",
   "execution_count": 45,
   "metadata": {
    "colab": {
     "autoexec": {
      "startup": false,
      "wait_interval": 0
     },
     "base_uri": "https://localhost:8080/",
     "height": 258
    },
    "colab_type": "code",
    "executionInfo": {
     "elapsed": 1438,
     "status": "ok",
     "timestamp": 1528838677662,
     "user": {
      "displayName": "SHUBHAM VERMA",
      "photoUrl": "https://lh3.googleusercontent.com/a/default-user=s128",
      "userId": "108363614808362191748"
     },
     "user_tz": -330
    },
    "id": "i8emSgOt_q1c",
    "outputId": "10afeef3-7634-456c-b363-7f6fa8e090c7"
   },
   "outputs": [
    {
     "name": "stdout",
     "output_type": "stream",
     "text": [
      "_________________________________________________________________\n",
      "Layer (type)                 Output Shape              Param #   \n",
      "=================================================================\n",
      "lstm_1 (LSTM)                (None, 14, 256)           264192    \n",
      "_________________________________________________________________\n",
      "lstm_2 (LSTM)                (None, 256)               525312    \n",
      "_________________________________________________________________\n",
      "dense_7 (Dense)              (None, 1)                 257       \n",
      "=================================================================\n",
      "Total params: 789,761\n",
      "Trainable params: 789,761\n",
      "Non-trainable params: 0\n",
      "_________________________________________________________________\n"
     ]
    }
   ],
   "source": [
    "model3.compile(loss='binary_crossentropy', optimizer='adam', metrics=['accuracy'])\n",
    "model3.summary()"
   ]
  },
  {
   "cell_type": "code",
   "execution_count": 46,
   "metadata": {
    "colab": {
     "autoexec": {
      "startup": false,
      "wait_interval": 0
     },
     "base_uri": "https://localhost:8080/",
     "height": 7482
    },
    "colab_type": "code",
    "executionInfo": {
     "elapsed": 276963,
     "status": "ok",
     "timestamp": 1528838958417,
     "user": {
      "displayName": "SHUBHAM VERMA",
      "photoUrl": "https://lh3.googleusercontent.com/a/default-user=s128",
      "userId": "108363614808362191748"
     },
     "user_tz": -330
    },
    "id": "xBzDfMmU_q9s",
    "outputId": "28aab7f6-7404-49ae-b27f-f052677bf381"
   },
   "outputs": [
    {
     "name": "stdout",
     "output_type": "stream",
     "text": [
      "Train on 9900 samples, validate on 1100 samples\n",
      "Epoch 1/100\n",
      " - 107s - loss: 0.6923 - acc: 0.5237 - val_loss: 0.6916 - val_acc: 0.5264\n",
      "\n",
      "Epoch 00001: val_loss improved from inf to 0.69160, saving model to LSTM.weights.best.hdf5\n",
      "Epoch 2/100\n",
      " - 150s - loss: 0.6918 - acc: 0.5221 - val_loss: 0.6914 - val_acc: 0.5264\n",
      "\n",
      "Epoch 00002: val_loss improved from 0.69160 to 0.69144, saving model to LSTM.weights.best.hdf5\n",
      "Epoch 3/100\n",
      " - 108s - loss: 0.6904 - acc: 0.5228 - val_loss: 0.6914 - val_acc: 0.4755\n",
      "\n",
      "Epoch 00003: val_loss improved from 0.69144 to 0.69140, saving model to LSTM.weights.best.hdf5\n",
      "Epoch 4/100\n",
      " - 97s - loss: 0.6848 - acc: 0.5441 - val_loss: 0.6887 - val_acc: 0.5327\n",
      "\n",
      "Epoch 00004: val_loss improved from 0.69140 to 0.68871, saving model to LSTM.weights.best.hdf5\n",
      "Epoch 5/100\n",
      " - 95s - loss: 0.6763 - acc: 0.5564 - val_loss: 0.6813 - val_acc: 0.5418\n",
      "\n",
      "Epoch 00005: val_loss improved from 0.68871 to 0.68126, saving model to LSTM.weights.best.hdf5\n",
      "Epoch 6/100\n",
      " - 106s - loss: 0.6638 - acc: 0.5746 - val_loss: 0.6622 - val_acc: 0.5845\n",
      "\n",
      "Epoch 00006: val_loss improved from 0.68126 to 0.66220, saving model to LSTM.weights.best.hdf5\n",
      "Epoch 7/100\n",
      " - 106s - loss: 0.6664 - acc: 0.5755 - val_loss: 0.6853 - val_acc: 0.5191\n",
      "\n",
      "Epoch 00007: val_loss did not improve from 0.66220\n",
      "Epoch 8/100\n",
      " - 96s - loss: 0.6564 - acc: 0.5751 - val_loss: 0.6789 - val_acc: 0.5682\n",
      "\n",
      "Epoch 00008: val_loss did not improve from 0.66220\n",
      "Epoch 9/100\n",
      " - 96s - loss: 0.6380 - acc: 0.5924 - val_loss: 0.6555 - val_acc: 0.5900\n",
      "\n",
      "Epoch 00009: val_loss improved from 0.66220 to 0.65547, saving model to LSTM.weights.best.hdf5\n",
      "Epoch 10/100\n",
      " - 99s - loss: 0.6338 - acc: 0.5931 - val_loss: 0.6672 - val_acc: 0.5773\n",
      "\n",
      "Epoch 00010: val_loss did not improve from 0.65547\n",
      "Epoch 11/100\n",
      " - 95s - loss: 0.6465 - acc: 0.5972 - val_loss: 0.6534 - val_acc: 0.5909\n",
      "\n",
      "Epoch 00011: val_loss improved from 0.65547 to 0.65337, saving model to LSTM.weights.best.hdf5\n",
      "Epoch 12/100\n",
      " - 100s - loss: 0.6290 - acc: 0.6017 - val_loss: 0.7082 - val_acc: 0.5073\n",
      "\n",
      "Epoch 00012: val_loss did not improve from 0.65337\n",
      "Epoch 13/100\n",
      " - 108s - loss: 0.6249 - acc: 0.5987 - val_loss: 0.6590 - val_acc: 0.5709\n",
      "\n",
      "Epoch 00013: val_loss did not improve from 0.65337\n",
      "Epoch 14/100\n",
      " - 108s - loss: 0.6214 - acc: 0.6028 - val_loss: 0.6791 - val_acc: 0.5145\n",
      "\n",
      "Epoch 00014: val_loss did not improve from 0.65337\n",
      "Epoch 15/100\n",
      " - 109s - loss: 0.6421 - acc: 0.5979 - val_loss: 0.6518 - val_acc: 0.5809\n",
      "\n",
      "Epoch 00015: val_loss improved from 0.65337 to 0.65179, saving model to LSTM.weights.best.hdf5\n",
      "Epoch 16/100\n",
      " - 108s - loss: 0.6307 - acc: 0.5949 - val_loss: 0.6587 - val_acc: 0.5836\n",
      "\n",
      "Epoch 00016: val_loss did not improve from 0.65179\n",
      "Epoch 17/100\n",
      " - 101s - loss: 0.6173 - acc: 0.6003 - val_loss: 0.6543 - val_acc: 0.5645\n",
      "\n",
      "Epoch 00017: val_loss did not improve from 0.65179\n",
      "Epoch 18/100\n",
      " - 90s - loss: 0.6368 - acc: 0.5910 - val_loss: 0.6754 - val_acc: 0.5545\n",
      "\n",
      "Epoch 00018: val_loss did not improve from 0.65179\n",
      "Epoch 19/100\n",
      " - 97s - loss: 0.6494 - acc: 0.5891 - val_loss: 0.6599 - val_acc: 0.5918\n",
      "\n",
      "Epoch 00019: val_loss did not improve from 0.65179\n",
      "Epoch 20/100\n",
      " - 99s - loss: 0.6233 - acc: 0.5979 - val_loss: 0.6475 - val_acc: 0.5827\n",
      "\n",
      "Epoch 00020: val_loss improved from 0.65179 to 0.64747, saving model to LSTM.weights.best.hdf5\n",
      "Epoch 21/100\n",
      " - 105s - loss: 0.6098 - acc: 0.6159 - val_loss: 0.6730 - val_acc: 0.5645\n",
      "\n",
      "Epoch 00021: val_loss did not improve from 0.64747\n",
      "Epoch 22/100\n",
      " - 105s - loss: 0.5963 - acc: 0.6342 - val_loss: 0.6498 - val_acc: 0.5536\n",
      "\n",
      "Epoch 00022: val_loss did not improve from 0.64747\n",
      "Epoch 23/100\n",
      " - 114s - loss: 0.6037 - acc: 0.6199 - val_loss: 0.6752 - val_acc: 0.5409\n",
      "\n",
      "Epoch 00023: val_loss did not improve from 0.64747\n",
      "Epoch 24/100\n",
      " - 110s - loss: 0.6524 - acc: 0.5885 - val_loss: 0.6724 - val_acc: 0.5709\n",
      "\n",
      "Epoch 00024: val_loss did not improve from 0.64747\n",
      "Epoch 25/100\n",
      " - 114s - loss: 0.6453 - acc: 0.6032 - val_loss: 0.6623 - val_acc: 0.5618\n",
      "\n",
      "Epoch 00025: val_loss did not improve from 0.64747\n",
      "Epoch 26/100\n",
      " - 90s - loss: 0.6288 - acc: 0.5962 - val_loss: 0.6544 - val_acc: 0.6009\n",
      "\n",
      "Epoch 00026: val_loss did not improve from 0.64747\n",
      "Epoch 27/100\n",
      " - 76s - loss: 0.6248 - acc: 0.5948 - val_loss: 0.6507 - val_acc: 0.5918\n",
      "\n",
      "Epoch 00027: val_loss did not improve from 0.64747\n",
      "Epoch 28/100\n",
      " - 149s - loss: 0.6160 - acc: 0.6061 - val_loss: 0.6649 - val_acc: 0.5736\n",
      "\n",
      "Epoch 00028: val_loss did not improve from 0.64747\n",
      "Epoch 29/100\n",
      " - 120s - loss: 0.6125 - acc: 0.6192 - val_loss: 0.6762 - val_acc: 0.5927\n",
      "\n",
      "Epoch 00029: val_loss did not improve from 0.64747\n",
      "Epoch 30/100\n",
      " - 129s - loss: 0.6115 - acc: 0.6058 - val_loss: 0.6507 - val_acc: 0.5618\n",
      "\n",
      "Epoch 00030: val_loss did not improve from 0.64747\n",
      "Epoch 31/100\n",
      " - 128s - loss: 0.5978 - acc: 0.6328 - val_loss: 0.7138 - val_acc: 0.5473\n",
      "\n",
      "Epoch 00031: val_loss did not improve from 0.64747\n",
      "Epoch 32/100\n",
      " - 134s - loss: 0.5957 - acc: 0.6283 - val_loss: 0.6623 - val_acc: 0.5645\n",
      "\n",
      "Epoch 00032: val_loss did not improve from 0.64747\n",
      "Epoch 33/100\n",
      " - 147s - loss: 0.6416 - acc: 0.5929 - val_loss: 0.6529 - val_acc: 0.5955\n",
      "\n",
      "Epoch 00033: val_loss did not improve from 0.64747\n",
      "Epoch 34/100\n",
      " - 118s - loss: 0.6281 - acc: 0.6032 - val_loss: 0.6504 - val_acc: 0.5945\n",
      "\n",
      "Epoch 00034: val_loss did not improve from 0.64747\n",
      "Epoch 35/100\n",
      " - 84s - loss: 0.5996 - acc: 0.6158 - val_loss: 0.6730 - val_acc: 0.5491\n",
      "\n",
      "Epoch 00035: val_loss did not improve from 0.64747\n",
      "Epoch 36/100\n",
      " - 77s - loss: 0.5990 - acc: 0.6262 - val_loss: 0.6609 - val_acc: 0.5591\n",
      "\n",
      "Epoch 00036: val_loss did not improve from 0.64747\n",
      "Epoch 37/100\n",
      " - 88s - loss: 0.6016 - acc: 0.6259 - val_loss: 0.6648 - val_acc: 0.5573\n",
      "\n",
      "Epoch 00037: val_loss did not improve from 0.64747\n",
      "Epoch 38/100\n",
      " - 102s - loss: 0.5784 - acc: 0.6465 - val_loss: 0.6613 - val_acc: 0.5600\n",
      "\n",
      "Epoch 00038: val_loss did not improve from 0.64747\n",
      "Epoch 39/100\n",
      " - 132s - loss: 0.5781 - acc: 0.6588 - val_loss: 0.6932 - val_acc: 0.5473\n",
      "\n",
      "Epoch 00039: val_loss did not improve from 0.64747\n",
      "Epoch 40/100\n",
      " - 88s - loss: 0.5730 - acc: 0.6671 - val_loss: 0.6486 - val_acc: 0.6209\n",
      "\n",
      "Epoch 00040: val_loss did not improve from 0.64747\n",
      "Epoch 41/100\n",
      " - 90s - loss: 0.5940 - acc: 0.6505 - val_loss: 0.6516 - val_acc: 0.6245\n",
      "\n",
      "Epoch 00041: val_loss did not improve from 0.64747\n",
      "Epoch 42/100\n",
      " - 89s - loss: 0.5567 - acc: 0.7057 - val_loss: 0.6551 - val_acc: 0.5727\n",
      "\n",
      "Epoch 00042: val_loss did not improve from 0.64747\n",
      "Epoch 43/100\n",
      " - 76s - loss: 0.5565 - acc: 0.6928 - val_loss: 0.6582 - val_acc: 0.6036\n",
      "\n",
      "Epoch 00043: val_loss did not improve from 0.64747\n",
      "Epoch 44/100\n",
      " - 69s - loss: 0.5545 - acc: 0.6905 - val_loss: 0.6341 - val_acc: 0.6073\n",
      "\n",
      "Epoch 00044: val_loss improved from 0.64747 to 0.63409, saving model to LSTM.weights.best.hdf5\n",
      "Epoch 45/100\n",
      " - 67s - loss: 0.5399 - acc: 0.7104 - val_loss: 0.6480 - val_acc: 0.6027\n",
      "\n",
      "Epoch 00045: val_loss did not improve from 0.63409\n",
      "Epoch 46/100\n",
      " - 66s - loss: 0.5449 - acc: 0.7015 - val_loss: 0.6639 - val_acc: 0.5900\n",
      "\n",
      "Epoch 00046: val_loss did not improve from 0.63409\n",
      "Epoch 47/100\n",
      " - 64s - loss: 0.5228 - acc: 0.7233 - val_loss: 0.7073 - val_acc: 0.5745\n",
      "\n",
      "Epoch 00047: val_loss did not improve from 0.63409\n",
      "Epoch 48/100\n",
      " - 69s - loss: 0.5323 - acc: 0.7149 - val_loss: 0.6519 - val_acc: 0.5982\n",
      "\n",
      "Epoch 00048: val_loss did not improve from 0.63409\n",
      "Epoch 49/100\n",
      " - 75s - loss: 0.5045 - acc: 0.7363 - val_loss: 0.6718 - val_acc: 0.5864\n",
      "\n",
      "Epoch 00049: val_loss did not improve from 0.63409\n",
      "Epoch 50/100\n",
      " - 82s - loss: 0.5135 - acc: 0.7314 - val_loss: 0.6601 - val_acc: 0.6018\n",
      "\n",
      "Epoch 00050: val_loss did not improve from 0.63409\n",
      "Epoch 51/100\n",
      " - 63s - loss: 0.5059 - acc: 0.7378 - val_loss: 0.7008 - val_acc: 0.6100\n",
      "\n",
      "Epoch 00051: val_loss did not improve from 0.63409\n",
      "Epoch 52/100\n",
      " - 67s - loss: 0.5132 - acc: 0.7317 - val_loss: 0.6758 - val_acc: 0.5909\n",
      "\n",
      "Epoch 00052: val_loss did not improve from 0.63409\n",
      "Epoch 53/100\n",
      " - 65s - loss: 0.5051 - acc: 0.7352 - val_loss: 0.7051 - val_acc: 0.6009\n",
      "\n",
      "Epoch 00053: val_loss did not improve from 0.63409\n",
      "Epoch 54/100\n",
      " - 62s - loss: 0.4944 - acc: 0.7454 - val_loss: 0.7135 - val_acc: 0.5945\n",
      "\n",
      "Epoch 00054: val_loss did not improve from 0.63409\n",
      "Epoch 55/100\n",
      " - 60s - loss: 0.5106 - acc: 0.7331 - val_loss: 0.7360 - val_acc: 0.5291\n",
      "\n",
      "Epoch 00055: val_loss did not improve from 0.63409\n",
      "Epoch 56/100\n",
      " - 70s - loss: 0.5156 - acc: 0.7310 - val_loss: 0.6951 - val_acc: 0.5973\n"
     ]
    },
    {
     "name": "stdout",
     "output_type": "stream",
     "text": [
      "\n",
      "Epoch 00056: val_loss did not improve from 0.63409\n",
      "Epoch 57/100\n",
      " - 70s - loss: 0.4892 - acc: 0.7444 - val_loss: 0.6772 - val_acc: 0.5973\n",
      "\n",
      "Epoch 00057: val_loss did not improve from 0.63409\n",
      "Epoch 58/100\n",
      " - 67s - loss: 0.4835 - acc: 0.7562 - val_loss: 0.7392 - val_acc: 0.6064\n",
      "\n",
      "Epoch 00058: val_loss did not improve from 0.63409\n",
      "Epoch 59/100\n",
      " - 67s - loss: 0.4922 - acc: 0.7471 - val_loss: 0.7308 - val_acc: 0.6055\n",
      "\n",
      "Epoch 00059: val_loss did not improve from 0.63409\n",
      "Epoch 60/100\n",
      " - 65s - loss: 0.4829 - acc: 0.7533 - val_loss: 0.6982 - val_acc: 0.6136\n",
      "\n",
      "Epoch 00060: val_loss did not improve from 0.63409\n",
      "Epoch 61/100\n",
      " - 62s - loss: 0.4612 - acc: 0.7701 - val_loss: 0.6931 - val_acc: 0.6173\n",
      "\n",
      "Epoch 00061: val_loss did not improve from 0.63409\n",
      "Epoch 62/100\n",
      " - 66s - loss: 0.4587 - acc: 0.7696 - val_loss: 0.7011 - val_acc: 0.6282\n",
      "\n",
      "Epoch 00062: val_loss did not improve from 0.63409\n",
      "Epoch 63/100\n",
      " - 63s - loss: 0.4970 - acc: 0.7453 - val_loss: 0.6608 - val_acc: 0.6209\n",
      "\n",
      "Epoch 00063: val_loss did not improve from 0.63409\n",
      "Epoch 64/100\n",
      " - 60s - loss: 0.4569 - acc: 0.7703 - val_loss: 0.6431 - val_acc: 0.6455\n",
      "\n",
      "Epoch 00064: val_loss did not improve from 0.63409\n",
      "Epoch 65/100\n",
      " - 59s - loss: 0.4478 - acc: 0.7781 - val_loss: 0.6780 - val_acc: 0.6282\n",
      "\n",
      "Epoch 00065: val_loss did not improve from 0.63409\n",
      "Epoch 66/100\n",
      " - 61s - loss: 0.4516 - acc: 0.7778 - val_loss: 0.7119 - val_acc: 0.6100\n",
      "\n",
      "Epoch 00066: val_loss did not improve from 0.63409\n",
      "Epoch 67/100\n",
      " - 71s - loss: 0.4430 - acc: 0.7793 - val_loss: 0.6790 - val_acc: 0.6409\n",
      "\n",
      "Epoch 00067: val_loss did not improve from 0.63409\n",
      "Epoch 68/100\n",
      " - 37s - loss: 0.4361 - acc: 0.7859 - val_loss: 0.6569 - val_acc: 0.6573\n",
      "\n",
      "Epoch 00068: val_loss did not improve from 0.63409\n",
      "Epoch 69/100\n",
      " - 30s - loss: 0.4546 - acc: 0.7791 - val_loss: 0.6394 - val_acc: 0.6600\n",
      "\n",
      "Epoch 00069: val_loss did not improve from 0.63409\n",
      "Epoch 70/100\n",
      " - 30s - loss: 0.4373 - acc: 0.7853 - val_loss: 0.6829 - val_acc: 0.6536\n",
      "\n",
      "Epoch 00070: val_loss did not improve from 0.63409\n",
      "Epoch 71/100\n",
      " - 31s - loss: 0.4276 - acc: 0.7920 - val_loss: 0.6594 - val_acc: 0.6518\n",
      "\n",
      "Epoch 00071: val_loss did not improve from 0.63409\n",
      "Epoch 72/100\n",
      " - 30s - loss: 0.4204 - acc: 0.7949 - val_loss: 0.6916 - val_acc: 0.6555\n",
      "\n",
      "Epoch 00072: val_loss did not improve from 0.63409\n",
      "Epoch 73/100\n",
      " - 30s - loss: 0.4120 - acc: 0.8007 - val_loss: 0.6479 - val_acc: 0.6700\n",
      "\n",
      "Epoch 00073: val_loss did not improve from 0.63409\n",
      "Epoch 74/100\n",
      " - 30s - loss: 0.4242 - acc: 0.7952 - val_loss: 0.6405 - val_acc: 0.6555\n",
      "\n",
      "Epoch 00074: val_loss did not improve from 0.63409\n",
      "Epoch 75/100\n",
      " - 33s - loss: 0.4048 - acc: 0.8092 - val_loss: 0.6889 - val_acc: 0.6364\n",
      "\n",
      "Epoch 00075: val_loss did not improve from 0.63409\n",
      "Epoch 76/100\n",
      " - 29s - loss: 0.4221 - acc: 0.7959 - val_loss: 0.7485 - val_acc: 0.6500\n",
      "\n",
      "Epoch 00076: val_loss did not improve from 0.63409\n",
      "Epoch 77/100\n",
      " - 32s - loss: 0.4143 - acc: 0.7984 - val_loss: 0.6518 - val_acc: 0.6673\n",
      "\n",
      "Epoch 00077: val_loss did not improve from 0.63409\n",
      "Epoch 78/100\n",
      " - 38s - loss: 0.4001 - acc: 0.8131 - val_loss: 0.6788 - val_acc: 0.6627\n",
      "\n",
      "Epoch 00078: val_loss did not improve from 0.63409\n",
      "Epoch 79/100\n",
      " - 37s - loss: 0.3927 - acc: 0.8145 - val_loss: 0.6776 - val_acc: 0.6427\n",
      "\n",
      "Epoch 00079: val_loss did not improve from 0.63409\n",
      "Epoch 80/100\n",
      " - 36s - loss: 0.4118 - acc: 0.8066 - val_loss: 0.6539 - val_acc: 0.6664\n",
      "\n",
      "Epoch 00080: val_loss did not improve from 0.63409\n",
      "Epoch 81/100\n",
      " - 37s - loss: 0.3788 - acc: 0.8267 - val_loss: 0.6485 - val_acc: 0.6800\n",
      "\n",
      "Epoch 00081: val_loss did not improve from 0.63409\n",
      "Epoch 82/100\n",
      " - 37s - loss: 0.4118 - acc: 0.8052 - val_loss: 0.6483 - val_acc: 0.6591\n",
      "\n",
      "Epoch 00082: val_loss did not improve from 0.63409\n",
      "Epoch 83/100\n",
      " - 39s - loss: 0.4310 - acc: 0.7934 - val_loss: 0.6255 - val_acc: 0.6955\n",
      "\n",
      "Epoch 00083: val_loss improved from 0.63409 to 0.62552, saving model to LSTM.weights.best.hdf5\n",
      "Epoch 84/100\n",
      " - 37s - loss: 0.4096 - acc: 0.8078 - val_loss: 0.6431 - val_acc: 0.6636\n",
      "\n",
      "Epoch 00084: val_loss did not improve from 0.62552\n",
      "Epoch 85/100\n",
      " - 38s - loss: 0.3786 - acc: 0.8262 - val_loss: 0.6525 - val_acc: 0.6827\n",
      "\n",
      "Epoch 00085: val_loss did not improve from 0.62552\n",
      "Epoch 86/100\n",
      " - 38s - loss: 0.3968 - acc: 0.8132 - val_loss: 0.6416 - val_acc: 0.6855\n",
      "\n",
      "Epoch 00086: val_loss did not improve from 0.62552\n",
      "Epoch 87/100\n",
      " - 36s - loss: 0.3812 - acc: 0.8219 - val_loss: 0.6299 - val_acc: 0.6773\n",
      "\n",
      "Epoch 00087: val_loss did not improve from 0.62552\n",
      "Epoch 88/100\n",
      " - 36s - loss: 0.3734 - acc: 0.8281 - val_loss: 0.6543 - val_acc: 0.6764\n",
      "\n",
      "Epoch 00088: val_loss did not improve from 0.62552\n",
      "Epoch 89/100\n",
      " - 37s - loss: 0.3763 - acc: 0.8279 - val_loss: 0.6531 - val_acc: 0.6845\n",
      "\n",
      "Epoch 00089: val_loss did not improve from 0.62552\n",
      "Epoch 90/100\n",
      " - 37s - loss: 0.3642 - acc: 0.8333 - val_loss: 0.5903 - val_acc: 0.6964\n",
      "\n",
      "Epoch 00090: val_loss improved from 0.62552 to 0.59030, saving model to LSTM.weights.best.hdf5\n",
      "Epoch 91/100\n",
      " - 37s - loss: 0.3778 - acc: 0.8209 - val_loss: 0.5973 - val_acc: 0.6945\n",
      "\n",
      "Epoch 00091: val_loss did not improve from 0.59030\n",
      "Epoch 92/100\n",
      " - 37s - loss: 0.3726 - acc: 0.8291 - val_loss: 0.5887 - val_acc: 0.7118\n",
      "\n",
      "Epoch 00092: val_loss improved from 0.59030 to 0.58867, saving model to LSTM.weights.best.hdf5\n",
      "Epoch 93/100\n",
      " - 38s - loss: 0.3735 - acc: 0.8274 - val_loss: 0.7545 - val_acc: 0.6455\n",
      "\n",
      "Epoch 00093: val_loss did not improve from 0.58867\n",
      "Epoch 94/100\n",
      " - 36s - loss: 0.3664 - acc: 0.8319 - val_loss: 0.6585 - val_acc: 0.6791\n",
      "\n",
      "Epoch 00094: val_loss did not improve from 0.58867\n",
      "Epoch 95/100\n",
      " - 38s - loss: 0.3592 - acc: 0.8358 - val_loss: 0.6629 - val_acc: 0.7009\n",
      "\n",
      "Epoch 00095: val_loss did not improve from 0.58867\n",
      "Epoch 96/100\n",
      " - 38s - loss: 0.3786 - acc: 0.8230 - val_loss: 0.5877 - val_acc: 0.6991\n",
      "\n",
      "Epoch 00096: val_loss improved from 0.58867 to 0.58771, saving model to LSTM.weights.best.hdf5\n",
      "Epoch 97/100\n",
      " - 37s - loss: 0.3337 - acc: 0.8532 - val_loss: 0.6332 - val_acc: 0.6991\n",
      "\n",
      "Epoch 00097: val_loss did not improve from 0.58771\n",
      "Epoch 98/100\n",
      " - 37s - loss: 0.3298 - acc: 0.8541 - val_loss: 0.6123 - val_acc: 0.7000\n",
      "\n",
      "Epoch 00098: val_loss did not improve from 0.58771\n",
      "Epoch 99/100\n",
      " - 36s - loss: 0.3354 - acc: 0.8497 - val_loss: 0.5795 - val_acc: 0.7127\n",
      "\n",
      "Epoch 00099: val_loss improved from 0.58771 to 0.57949, saving model to LSTM.weights.best.hdf5\n",
      "Epoch 100/100\n",
      " - 37s - loss: 0.3251 - acc: 0.8580 - val_loss: 0.5981 - val_acc: 0.7209\n",
      "\n",
      "Epoch 00100: val_loss did not improve from 0.57949\n"
     ]
    }
   ],
   "source": [
    "from keras.callbacks import ModelCheckpoint\n",
    "\n",
    "checkpointer = ModelCheckpoint(filepath = 'LSTM.weights.best.hdf5', verbose = 1, save_best_only = True)\n",
    "hist = model3.fit(X_train, y_train, epochs = 100, batch_size=256, validation_split = 0.1, callbacks = [checkpointer], verbose = 2, shuffle = True)"
   ]
  },
  {
   "cell_type": "code",
   "execution_count": 58,
   "metadata": {
    "colab": {
     "autoexec": {
      "startup": false,
      "wait_interval": 0
     },
     "base_uri": "https://localhost:8080/",
     "height": 54
    },
    "colab_type": "code",
    "executionInfo": {
     "elapsed": 3253,
     "status": "ok",
     "timestamp": 1528838971145,
     "user": {
      "displayName": "SHUBHAM VERMA",
      "photoUrl": "https://lh3.googleusercontent.com/a/default-user=s128",
      "userId": "108363614808362191748"
     },
     "user_tz": -330
    },
    "id": "BJNcF-Jx_rGD",
    "outputId": "1e48a9ea-72d5-43c8-a843-18f2c778d431"
   },
   "outputs": [
    {
     "ename": "InvalidArgumentError",
     "evalue": "No OpKernel was registered to support Op 'CudnnRNN' with these attrs.  Registered devices: [CPU], Registered kernels:\n  <no registered kernels>\n\n\t [[{{node cu_dnnlstm_1/CudnnRNN}} = CudnnRNN[T=DT_FLOAT, direction=\"unidirectional\", dropout=0, input_mode=\"linear_input\", is_training=true, rnn_mode=\"lstm\", seed=87654321, seed2=0](cu_dnnlstm_1/transpose, cu_dnnlstm_1/ExpandDims_1, cu_dnnlstm_1/ExpandDims_2, cu_dnnlstm_1/concat_1)]]\n\nCaused by op 'cu_dnnlstm_1/CudnnRNN', defined at:\n  File \"/usr/lib/python3.5/runpy.py\", line 184, in _run_module_as_main\n    \"__main__\", mod_spec)\n  File \"/usr/lib/python3.5/runpy.py\", line 85, in _run_code\n    exec(code, run_globals)\n  File \"/home/lin/.local/lib/python3.5/site-packages/ipykernel_launcher.py\", line 16, in <module>\n    app.launch_new_instance()\n  File \"/home/lin/.local/lib/python3.5/site-packages/traitlets/config/application.py\", line 658, in launch_instance\n    app.start()\n  File \"/home/lin/.local/lib/python3.5/site-packages/ipykernel/kernelapp.py\", line 505, in start\n    self.io_loop.start()\n  File \"/home/lin/.local/lib/python3.5/site-packages/tornado/platform/asyncio.py\", line 132, in start\n    self.asyncio_loop.run_forever()\n  File \"/usr/lib/python3.5/asyncio/base_events.py\", line 345, in run_forever\n    self._run_once()\n  File \"/usr/lib/python3.5/asyncio/base_events.py\", line 1312, in _run_once\n    handle._run()\n  File \"/usr/lib/python3.5/asyncio/events.py\", line 125, in _run\n    self._callback(*self._args)\n  File \"/home/lin/.local/lib/python3.5/site-packages/tornado/ioloop.py\", line 758, in _run_callback\n    ret = callback()\n  File \"/home/lin/.local/lib/python3.5/site-packages/tornado/stack_context.py\", line 300, in null_wrapper\n    return fn(*args, **kwargs)\n  File \"/home/lin/.local/lib/python3.5/site-packages/tornado/gen.py\", line 1233, in inner\n    self.run()\n  File \"/home/lin/.local/lib/python3.5/site-packages/tornado/gen.py\", line 1147, in run\n    yielded = self.gen.send(value)\n  File \"/home/lin/.local/lib/python3.5/site-packages/ipykernel/kernelbase.py\", line 370, in dispatch_queue\n    yield self.process_one()\n  File \"/home/lin/.local/lib/python3.5/site-packages/tornado/gen.py\", line 346, in wrapper\n    runner = Runner(result, future, yielded)\n  File \"/home/lin/.local/lib/python3.5/site-packages/tornado/gen.py\", line 1080, in __init__\n    self.run()\n  File \"/home/lin/.local/lib/python3.5/site-packages/tornado/gen.py\", line 1147, in run\n    yielded = self.gen.send(value)\n  File \"/home/lin/.local/lib/python3.5/site-packages/ipykernel/kernelbase.py\", line 357, in process_one\n    yield gen.maybe_future(dispatch(*args))\n  File \"/home/lin/.local/lib/python3.5/site-packages/tornado/gen.py\", line 326, in wrapper\n    yielded = next(result)\n  File \"/home/lin/.local/lib/python3.5/site-packages/ipykernel/kernelbase.py\", line 267, in dispatch_shell\n    yield gen.maybe_future(handler(stream, idents, msg))\n  File \"/home/lin/.local/lib/python3.5/site-packages/tornado/gen.py\", line 326, in wrapper\n    yielded = next(result)\n  File \"/home/lin/.local/lib/python3.5/site-packages/ipykernel/kernelbase.py\", line 534, in execute_request\n    user_expressions, allow_stdin,\n  File \"/home/lin/.local/lib/python3.5/site-packages/tornado/gen.py\", line 326, in wrapper\n    yielded = next(result)\n  File \"/home/lin/.local/lib/python3.5/site-packages/ipykernel/ipkernel.py\", line 294, in do_execute\n    res = shell.run_cell(code, store_history=store_history, silent=silent)\n  File \"/home/lin/.local/lib/python3.5/site-packages/ipykernel/zmqshell.py\", line 536, in run_cell\n    return super(ZMQInteractiveShell, self).run_cell(*args, **kwargs)\n  File \"/home/lin/.local/lib/python3.5/site-packages/IPython/core/interactiveshell.py\", line 2817, in run_cell\n    raw_cell, store_history, silent, shell_futures)\n  File \"/home/lin/.local/lib/python3.5/site-packages/IPython/core/interactiveshell.py\", line 2843, in _run_cell\n    return runner(coro)\n  File \"/home/lin/.local/lib/python3.5/site-packages/IPython/core/async_helpers.py\", line 67, in _pseudo_sync_runner\n    coro.send(None)\n  File \"/home/lin/.local/lib/python3.5/site-packages/IPython/core/interactiveshell.py\", line 3018, in run_cell_async\n    interactivity=interactivity, compiler=compiler, result=result)\n  File \"/home/lin/.local/lib/python3.5/site-packages/IPython/core/interactiveshell.py\", line 3183, in run_ast_nodes\n    if (yield from self.run_code(code, result)):\n  File \"/home/lin/.local/lib/python3.5/site-packages/IPython/core/interactiveshell.py\", line 3265, in run_code\n    exec(code_obj, self.user_global_ns, self.user_ns)\n  File \"<ipython-input-50-5f18ed16c4f7>\", line 2, in <module>\n    model4.add(CuDNNLSTM(units=512, input_shape=(14, 1), return_sequences=True))\n  File \"/home/lin/.local/lib/python3.5/site-packages/keras/engine/sequential.py\", line 165, in add\n    layer(x)\n  File \"/home/lin/.local/lib/python3.5/site-packages/keras/layers/recurrent.py\", line 532, in __call__\n    return super(RNN, self).__call__(inputs, **kwargs)\n  File \"/home/lin/.local/lib/python3.5/site-packages/keras/engine/base_layer.py\", line 457, in __call__\n    output = self.call(inputs, **kwargs)\n  File \"/home/lin/.local/lib/python3.5/site-packages/keras/layers/cudnn_recurrent.py\", line 90, in call\n    output, states = self._process_batch(inputs, initial_state)\n  File \"/home/lin/.local/lib/python3.5/site-packages/keras/layers/cudnn_recurrent.py\", line 517, in _process_batch\n    is_training=True)\n  File \"/home/lin/.local/lib/python3.5/site-packages/tensorflow/contrib/cudnn_rnn/python/ops/cudnn_rnn_ops.py\", line 1544, in __call__\n    input_data, input_h, input_c, params, is_training=is_training)\n  File \"/home/lin/.local/lib/python3.5/site-packages/tensorflow/contrib/cudnn_rnn/python/ops/cudnn_rnn_ops.py\", line 1435, in __call__\n    seed=self._seed)\n  File \"/home/lin/.local/lib/python3.5/site-packages/tensorflow/contrib/cudnn_rnn/python/ops/cudnn_rnn_ops.py\", line 922, in _cudnn_rnn\n    outputs, output_h, output_c, _ = gen_cudnn_rnn_ops.cudnn_rnn(**args)\n  File \"/home/lin/.local/lib/python3.5/site-packages/tensorflow/python/ops/gen_cudnn_rnn_ops.py\", line 116, in cudnn_rnn\n    is_training=is_training, name=name)\n  File \"/home/lin/.local/lib/python3.5/site-packages/tensorflow/python/framework/op_def_library.py\", line 787, in _apply_op_helper\n    op_def=op_def)\n  File \"/home/lin/.local/lib/python3.5/site-packages/tensorflow/python/util/deprecation.py\", line 488, in new_func\n    return func(*args, **kwargs)\n  File \"/home/lin/.local/lib/python3.5/site-packages/tensorflow/python/framework/ops.py\", line 3272, in create_op\n    op_def=op_def)\n  File \"/home/lin/.local/lib/python3.5/site-packages/tensorflow/python/framework/ops.py\", line 1768, in __init__\n    self._traceback = tf_stack.extract_stack()\n\nInvalidArgumentError (see above for traceback): No OpKernel was registered to support Op 'CudnnRNN' with these attrs.  Registered devices: [CPU], Registered kernels:\n  <no registered kernels>\n\n\t [[{{node cu_dnnlstm_1/CudnnRNN}} = CudnnRNN[T=DT_FLOAT, direction=\"unidirectional\", dropout=0, input_mode=\"linear_input\", is_training=true, rnn_mode=\"lstm\", seed=87654321, seed2=0](cu_dnnlstm_1/transpose, cu_dnnlstm_1/ExpandDims_1, cu_dnnlstm_1/ExpandDims_2, cu_dnnlstm_1/concat_1)]]\n",
     "output_type": "error",
     "traceback": [
      "\u001b[0;31m---------------------------------------------------------------------------\u001b[0m",
      "\u001b[0;31mInvalidArgumentError\u001b[0m                      Traceback (most recent call last)",
      "\u001b[0;32m~/.local/lib/python3.5/site-packages/tensorflow/python/client/session.py\u001b[0m in \u001b[0;36m_do_call\u001b[0;34m(self, fn, *args)\u001b[0m\n\u001b[1;32m   1291\u001b[0m     \u001b[0;32mtry\u001b[0m\u001b[0;34m:\u001b[0m\u001b[0;34m\u001b[0m\u001b[0m\n\u001b[0;32m-> 1292\u001b[0;31m       \u001b[0;32mreturn\u001b[0m \u001b[0mfn\u001b[0m\u001b[0;34m(\u001b[0m\u001b[0;34m*\u001b[0m\u001b[0margs\u001b[0m\u001b[0;34m)\u001b[0m\u001b[0;34m\u001b[0m\u001b[0m\n\u001b[0m\u001b[1;32m   1293\u001b[0m     \u001b[0;32mexcept\u001b[0m \u001b[0merrors\u001b[0m\u001b[0;34m.\u001b[0m\u001b[0mOpError\u001b[0m \u001b[0;32mas\u001b[0m \u001b[0me\u001b[0m\u001b[0;34m:\u001b[0m\u001b[0;34m\u001b[0m\u001b[0m\n",
      "\u001b[0;32m~/.local/lib/python3.5/site-packages/tensorflow/python/client/session.py\u001b[0m in \u001b[0;36m_run_fn\u001b[0;34m(feed_dict, fetch_list, target_list, options, run_metadata)\u001b[0m\n\u001b[1;32m   1274\u001b[0m       \u001b[0;31m# Ensure any changes to the graph are reflected in the runtime.\u001b[0m\u001b[0;34m\u001b[0m\u001b[0;34m\u001b[0m\u001b[0m\n\u001b[0;32m-> 1275\u001b[0;31m       \u001b[0mself\u001b[0m\u001b[0;34m.\u001b[0m\u001b[0m_extend_graph\u001b[0m\u001b[0;34m(\u001b[0m\u001b[0;34m)\u001b[0m\u001b[0;34m\u001b[0m\u001b[0m\n\u001b[0m\u001b[1;32m   1276\u001b[0m       return self._call_tf_sessionrun(\n",
      "\u001b[0;32m~/.local/lib/python3.5/site-packages/tensorflow/python/client/session.py\u001b[0m in \u001b[0;36m_extend_graph\u001b[0;34m(self)\u001b[0m\n\u001b[1;32m   1311\u001b[0m     \u001b[0;32mwith\u001b[0m \u001b[0mself\u001b[0m\u001b[0;34m.\u001b[0m\u001b[0m_graph\u001b[0m\u001b[0;34m.\u001b[0m\u001b[0m_session_run_lock\u001b[0m\u001b[0;34m(\u001b[0m\u001b[0;34m)\u001b[0m\u001b[0;34m:\u001b[0m  \u001b[0;31m# pylint: disable=protected-access\u001b[0m\u001b[0;34m\u001b[0m\u001b[0m\n\u001b[0;32m-> 1312\u001b[0;31m       \u001b[0mtf_session\u001b[0m\u001b[0;34m.\u001b[0m\u001b[0mExtendSession\u001b[0m\u001b[0;34m(\u001b[0m\u001b[0mself\u001b[0m\u001b[0;34m.\u001b[0m\u001b[0m_session\u001b[0m\u001b[0;34m)\u001b[0m\u001b[0;34m\u001b[0m\u001b[0m\n\u001b[0m\u001b[1;32m   1313\u001b[0m \u001b[0;34m\u001b[0m\u001b[0m\n",
      "\u001b[0;31mInvalidArgumentError\u001b[0m: No OpKernel was registered to support Op 'CudnnRNN' with these attrs.  Registered devices: [CPU], Registered kernels:\n  <no registered kernels>\n\n\t [[{{node cu_dnnlstm_1/CudnnRNN}} = CudnnRNN[T=DT_FLOAT, direction=\"unidirectional\", dropout=0, input_mode=\"linear_input\", is_training=true, rnn_mode=\"lstm\", seed=87654321, seed2=0](cu_dnnlstm_1/transpose, cu_dnnlstm_1/ExpandDims_1, cu_dnnlstm_1/ExpandDims_2, cu_dnnlstm_1/concat_1)]]",
      "\nDuring handling of the above exception, another exception occurred:\n",
      "\u001b[0;31mInvalidArgumentError\u001b[0m                      Traceback (most recent call last)",
      "\u001b[0;32m<ipython-input-58-810d5f01a918>\u001b[0m in \u001b[0;36m<module>\u001b[0;34m\u001b[0m\n\u001b[0;32m----> 1\u001b[0;31m \u001b[0mscore\u001b[0m \u001b[0;34m=\u001b[0m \u001b[0mmodel3\u001b[0m\u001b[0;34m.\u001b[0m\u001b[0mevaluate\u001b[0m\u001b[0;34m(\u001b[0m\u001b[0mX_test\u001b[0m\u001b[0;34m,\u001b[0m \u001b[0my_test\u001b[0m\u001b[0;34m,\u001b[0m \u001b[0mverbose\u001b[0m\u001b[0;34m=\u001b[0m\u001b[0;36m1\u001b[0m\u001b[0;34m)\u001b[0m\u001b[0;34m\u001b[0m\u001b[0m\n\u001b[0m\u001b[1;32m      2\u001b[0m \u001b[0mprint\u001b[0m\u001b[0;34m(\u001b[0m\u001b[0;34m\"Accuracy: \"\u001b[0m\u001b[0;34m,\u001b[0m \u001b[0mscore\u001b[0m\u001b[0;34m[\u001b[0m\u001b[0;36m1\u001b[0m\u001b[0;34m]\u001b[0m\u001b[0;34m)\u001b[0m\u001b[0;34m\u001b[0m\u001b[0m\n",
      "\u001b[0;32m~/.local/lib/python3.5/site-packages/keras/engine/training.py\u001b[0m in \u001b[0;36mevaluate\u001b[0;34m(self, x, y, batch_size, verbose, sample_weight, steps)\u001b[0m\n\u001b[1;32m   1111\u001b[0m                                          \u001b[0mbatch_size\u001b[0m\u001b[0;34m=\u001b[0m\u001b[0mbatch_size\u001b[0m\u001b[0;34m,\u001b[0m\u001b[0;34m\u001b[0m\u001b[0m\n\u001b[1;32m   1112\u001b[0m                                          \u001b[0mverbose\u001b[0m\u001b[0;34m=\u001b[0m\u001b[0mverbose\u001b[0m\u001b[0;34m,\u001b[0m\u001b[0;34m\u001b[0m\u001b[0m\n\u001b[0;32m-> 1113\u001b[0;31m                                          steps=steps)\n\u001b[0m\u001b[1;32m   1114\u001b[0m \u001b[0;34m\u001b[0m\u001b[0m\n\u001b[1;32m   1115\u001b[0m     def predict(self, x,\n",
      "\u001b[0;32m~/.local/lib/python3.5/site-packages/keras/engine/training_arrays.py\u001b[0m in \u001b[0;36mtest_loop\u001b[0;34m(model, f, ins, batch_size, verbose, steps)\u001b[0m\n\u001b[1;32m    390\u001b[0m                 \u001b[0mins_batch\u001b[0m\u001b[0;34m[\u001b[0m\u001b[0mi\u001b[0m\u001b[0;34m]\u001b[0m \u001b[0;34m=\u001b[0m \u001b[0mins_batch\u001b[0m\u001b[0;34m[\u001b[0m\u001b[0mi\u001b[0m\u001b[0;34m]\u001b[0m\u001b[0;34m.\u001b[0m\u001b[0mtoarray\u001b[0m\u001b[0;34m(\u001b[0m\u001b[0;34m)\u001b[0m\u001b[0;34m\u001b[0m\u001b[0m\n\u001b[1;32m    391\u001b[0m \u001b[0;34m\u001b[0m\u001b[0m\n\u001b[0;32m--> 392\u001b[0;31m             \u001b[0mbatch_outs\u001b[0m \u001b[0;34m=\u001b[0m \u001b[0mf\u001b[0m\u001b[0;34m(\u001b[0m\u001b[0mins_batch\u001b[0m\u001b[0;34m)\u001b[0m\u001b[0;34m\u001b[0m\u001b[0m\n\u001b[0m\u001b[1;32m    393\u001b[0m             \u001b[0;32mif\u001b[0m \u001b[0misinstance\u001b[0m\u001b[0;34m(\u001b[0m\u001b[0mbatch_outs\u001b[0m\u001b[0;34m,\u001b[0m \u001b[0mlist\u001b[0m\u001b[0;34m)\u001b[0m\u001b[0;34m:\u001b[0m\u001b[0;34m\u001b[0m\u001b[0m\n\u001b[1;32m    394\u001b[0m                 \u001b[0;32mif\u001b[0m \u001b[0mbatch_index\u001b[0m \u001b[0;34m==\u001b[0m \u001b[0;36m0\u001b[0m\u001b[0;34m:\u001b[0m\u001b[0;34m\u001b[0m\u001b[0m\n",
      "\u001b[0;32m~/.local/lib/python3.5/site-packages/keras/backend/tensorflow_backend.py\u001b[0m in \u001b[0;36m__call__\u001b[0;34m(self, inputs)\u001b[0m\n\u001b[1;32m   2695\u001b[0m \u001b[0;34m\u001b[0m\u001b[0m\n\u001b[1;32m   2696\u001b[0m     \u001b[0;32mdef\u001b[0m \u001b[0m__call__\u001b[0m\u001b[0;34m(\u001b[0m\u001b[0mself\u001b[0m\u001b[0;34m,\u001b[0m \u001b[0minputs\u001b[0m\u001b[0;34m)\u001b[0m\u001b[0;34m:\u001b[0m\u001b[0;34m\u001b[0m\u001b[0m\n\u001b[0;32m-> 2697\u001b[0;31m         \u001b[0;32mif\u001b[0m \u001b[0mhasattr\u001b[0m\u001b[0;34m(\u001b[0m\u001b[0mget_session\u001b[0m\u001b[0;34m(\u001b[0m\u001b[0;34m)\u001b[0m\u001b[0;34m,\u001b[0m \u001b[0;34m'_make_callable_from_options'\u001b[0m\u001b[0;34m)\u001b[0m\u001b[0;34m:\u001b[0m\u001b[0;34m\u001b[0m\u001b[0m\n\u001b[0m\u001b[1;32m   2698\u001b[0m             \u001b[0;32mif\u001b[0m \u001b[0mpy_any\u001b[0m\u001b[0;34m(\u001b[0m\u001b[0mis_sparse\u001b[0m\u001b[0;34m(\u001b[0m\u001b[0mx\u001b[0m\u001b[0;34m)\u001b[0m \u001b[0;32mfor\u001b[0m \u001b[0mx\u001b[0m \u001b[0;32min\u001b[0m \u001b[0mself\u001b[0m\u001b[0;34m.\u001b[0m\u001b[0minputs\u001b[0m\u001b[0;34m)\u001b[0m\u001b[0;34m:\u001b[0m\u001b[0;34m\u001b[0m\u001b[0m\n\u001b[1;32m   2699\u001b[0m                 \u001b[0;32mif\u001b[0m \u001b[0mpy_any\u001b[0m\u001b[0;34m(\u001b[0m\u001b[0mis_tensor\u001b[0m\u001b[0;34m(\u001b[0m\u001b[0mx\u001b[0m\u001b[0;34m)\u001b[0m \u001b[0;32mfor\u001b[0m \u001b[0mx\u001b[0m \u001b[0;32min\u001b[0m \u001b[0minputs\u001b[0m\u001b[0;34m)\u001b[0m\u001b[0;34m:\u001b[0m\u001b[0;34m\u001b[0m\u001b[0m\n",
      "\u001b[0;32m~/.local/lib/python3.5/site-packages/keras/backend/tensorflow_backend.py\u001b[0m in \u001b[0;36mget_session\u001b[0;34m()\u001b[0m\n\u001b[1;32m    197\u001b[0m                 \u001b[0;31m# not already marked as initialized.\u001b[0m\u001b[0;34m\u001b[0m\u001b[0;34m\u001b[0m\u001b[0m\n\u001b[1;32m    198\u001b[0m                 is_initialized = session.run(\n\u001b[0;32m--> 199\u001b[0;31m                     [tf.is_variable_initialized(v) for v in candidate_vars])\n\u001b[0m\u001b[1;32m    200\u001b[0m                 \u001b[0muninitialized_vars\u001b[0m \u001b[0;34m=\u001b[0m \u001b[0;34m[\u001b[0m\u001b[0;34m]\u001b[0m\u001b[0;34m\u001b[0m\u001b[0m\n\u001b[1;32m    201\u001b[0m                 \u001b[0;32mfor\u001b[0m \u001b[0mflag\u001b[0m\u001b[0;34m,\u001b[0m \u001b[0mv\u001b[0m \u001b[0;32min\u001b[0m \u001b[0mzip\u001b[0m\u001b[0;34m(\u001b[0m\u001b[0mis_initialized\u001b[0m\u001b[0;34m,\u001b[0m \u001b[0mcandidate_vars\u001b[0m\u001b[0;34m)\u001b[0m\u001b[0;34m:\u001b[0m\u001b[0;34m\u001b[0m\u001b[0m\n",
      "\u001b[0;32m~/.local/lib/python3.5/site-packages/tensorflow/python/client/session.py\u001b[0m in \u001b[0;36mrun\u001b[0;34m(self, fetches, feed_dict, options, run_metadata)\u001b[0m\n\u001b[1;32m    885\u001b[0m     \u001b[0;32mtry\u001b[0m\u001b[0;34m:\u001b[0m\u001b[0;34m\u001b[0m\u001b[0m\n\u001b[1;32m    886\u001b[0m       result = self._run(None, fetches, feed_dict, options_ptr,\n\u001b[0;32m--> 887\u001b[0;31m                          run_metadata_ptr)\n\u001b[0m\u001b[1;32m    888\u001b[0m       \u001b[0;32mif\u001b[0m \u001b[0mrun_metadata\u001b[0m\u001b[0;34m:\u001b[0m\u001b[0;34m\u001b[0m\u001b[0m\n\u001b[1;32m    889\u001b[0m         \u001b[0mproto_data\u001b[0m \u001b[0;34m=\u001b[0m \u001b[0mtf_session\u001b[0m\u001b[0;34m.\u001b[0m\u001b[0mTF_GetBuffer\u001b[0m\u001b[0;34m(\u001b[0m\u001b[0mrun_metadata_ptr\u001b[0m\u001b[0;34m)\u001b[0m\u001b[0;34m\u001b[0m\u001b[0m\n",
      "\u001b[0;32m~/.local/lib/python3.5/site-packages/tensorflow/python/client/session.py\u001b[0m in \u001b[0;36m_run\u001b[0;34m(self, handle, fetches, feed_dict, options, run_metadata)\u001b[0m\n\u001b[1;32m   1108\u001b[0m     \u001b[0;32mif\u001b[0m \u001b[0mfinal_fetches\u001b[0m \u001b[0;32mor\u001b[0m \u001b[0mfinal_targets\u001b[0m \u001b[0;32mor\u001b[0m \u001b[0;34m(\u001b[0m\u001b[0mhandle\u001b[0m \u001b[0;32mand\u001b[0m \u001b[0mfeed_dict_tensor\u001b[0m\u001b[0;34m)\u001b[0m\u001b[0;34m:\u001b[0m\u001b[0;34m\u001b[0m\u001b[0m\n\u001b[1;32m   1109\u001b[0m       results = self._do_run(handle, final_targets, final_fetches,\n\u001b[0;32m-> 1110\u001b[0;31m                              feed_dict_tensor, options, run_metadata)\n\u001b[0m\u001b[1;32m   1111\u001b[0m     \u001b[0;32melse\u001b[0m\u001b[0;34m:\u001b[0m\u001b[0;34m\u001b[0m\u001b[0m\n\u001b[1;32m   1112\u001b[0m       \u001b[0mresults\u001b[0m \u001b[0;34m=\u001b[0m \u001b[0;34m[\u001b[0m\u001b[0;34m]\u001b[0m\u001b[0;34m\u001b[0m\u001b[0m\n",
      "\u001b[0;32m~/.local/lib/python3.5/site-packages/tensorflow/python/client/session.py\u001b[0m in \u001b[0;36m_do_run\u001b[0;34m(self, handle, target_list, fetch_list, feed_dict, options, run_metadata)\u001b[0m\n\u001b[1;32m   1284\u001b[0m     \u001b[0;32mif\u001b[0m \u001b[0mhandle\u001b[0m \u001b[0;32mis\u001b[0m \u001b[0;32mNone\u001b[0m\u001b[0;34m:\u001b[0m\u001b[0;34m\u001b[0m\u001b[0m\n\u001b[1;32m   1285\u001b[0m       return self._do_call(_run_fn, feeds, fetches, targets, options,\n\u001b[0;32m-> 1286\u001b[0;31m                            run_metadata)\n\u001b[0m\u001b[1;32m   1287\u001b[0m     \u001b[0;32melse\u001b[0m\u001b[0;34m:\u001b[0m\u001b[0;34m\u001b[0m\u001b[0m\n\u001b[1;32m   1288\u001b[0m       \u001b[0;32mreturn\u001b[0m \u001b[0mself\u001b[0m\u001b[0;34m.\u001b[0m\u001b[0m_do_call\u001b[0m\u001b[0;34m(\u001b[0m\u001b[0m_prun_fn\u001b[0m\u001b[0;34m,\u001b[0m \u001b[0mhandle\u001b[0m\u001b[0;34m,\u001b[0m \u001b[0mfeeds\u001b[0m\u001b[0;34m,\u001b[0m \u001b[0mfetches\u001b[0m\u001b[0;34m)\u001b[0m\u001b[0;34m\u001b[0m\u001b[0m\n",
      "\u001b[0;32m~/.local/lib/python3.5/site-packages/tensorflow/python/client/session.py\u001b[0m in \u001b[0;36m_do_call\u001b[0;34m(self, fn, *args)\u001b[0m\n\u001b[1;32m   1306\u001b[0m           self._config.experimental.client_handles_error_formatting):\n\u001b[1;32m   1307\u001b[0m         \u001b[0mmessage\u001b[0m \u001b[0;34m=\u001b[0m \u001b[0merror_interpolation\u001b[0m\u001b[0;34m.\u001b[0m\u001b[0minterpolate\u001b[0m\u001b[0;34m(\u001b[0m\u001b[0mmessage\u001b[0m\u001b[0;34m,\u001b[0m \u001b[0mself\u001b[0m\u001b[0;34m.\u001b[0m\u001b[0m_graph\u001b[0m\u001b[0;34m)\u001b[0m\u001b[0;34m\u001b[0m\u001b[0m\n\u001b[0;32m-> 1308\u001b[0;31m       \u001b[0;32mraise\u001b[0m \u001b[0mtype\u001b[0m\u001b[0;34m(\u001b[0m\u001b[0me\u001b[0m\u001b[0;34m)\u001b[0m\u001b[0;34m(\u001b[0m\u001b[0mnode_def\u001b[0m\u001b[0;34m,\u001b[0m \u001b[0mop\u001b[0m\u001b[0;34m,\u001b[0m \u001b[0mmessage\u001b[0m\u001b[0;34m)\u001b[0m\u001b[0;34m\u001b[0m\u001b[0m\n\u001b[0m\u001b[1;32m   1309\u001b[0m \u001b[0;34m\u001b[0m\u001b[0m\n\u001b[1;32m   1310\u001b[0m   \u001b[0;32mdef\u001b[0m \u001b[0m_extend_graph\u001b[0m\u001b[0;34m(\u001b[0m\u001b[0mself\u001b[0m\u001b[0;34m)\u001b[0m\u001b[0;34m:\u001b[0m\u001b[0;34m\u001b[0m\u001b[0m\n",
      "\u001b[0;31mInvalidArgumentError\u001b[0m: No OpKernel was registered to support Op 'CudnnRNN' with these attrs.  Registered devices: [CPU], Registered kernels:\n  <no registered kernels>\n\n\t [[{{node cu_dnnlstm_1/CudnnRNN}} = CudnnRNN[T=DT_FLOAT, direction=\"unidirectional\", dropout=0, input_mode=\"linear_input\", is_training=true, rnn_mode=\"lstm\", seed=87654321, seed2=0](cu_dnnlstm_1/transpose, cu_dnnlstm_1/ExpandDims_1, cu_dnnlstm_1/ExpandDims_2, cu_dnnlstm_1/concat_1)]]\n\nCaused by op 'cu_dnnlstm_1/CudnnRNN', defined at:\n  File \"/usr/lib/python3.5/runpy.py\", line 184, in _run_module_as_main\n    \"__main__\", mod_spec)\n  File \"/usr/lib/python3.5/runpy.py\", line 85, in _run_code\n    exec(code, run_globals)\n  File \"/home/lin/.local/lib/python3.5/site-packages/ipykernel_launcher.py\", line 16, in <module>\n    app.launch_new_instance()\n  File \"/home/lin/.local/lib/python3.5/site-packages/traitlets/config/application.py\", line 658, in launch_instance\n    app.start()\n  File \"/home/lin/.local/lib/python3.5/site-packages/ipykernel/kernelapp.py\", line 505, in start\n    self.io_loop.start()\n  File \"/home/lin/.local/lib/python3.5/site-packages/tornado/platform/asyncio.py\", line 132, in start\n    self.asyncio_loop.run_forever()\n  File \"/usr/lib/python3.5/asyncio/base_events.py\", line 345, in run_forever\n    self._run_once()\n  File \"/usr/lib/python3.5/asyncio/base_events.py\", line 1312, in _run_once\n    handle._run()\n  File \"/usr/lib/python3.5/asyncio/events.py\", line 125, in _run\n    self._callback(*self._args)\n  File \"/home/lin/.local/lib/python3.5/site-packages/tornado/ioloop.py\", line 758, in _run_callback\n    ret = callback()\n  File \"/home/lin/.local/lib/python3.5/site-packages/tornado/stack_context.py\", line 300, in null_wrapper\n    return fn(*args, **kwargs)\n  File \"/home/lin/.local/lib/python3.5/site-packages/tornado/gen.py\", line 1233, in inner\n    self.run()\n  File \"/home/lin/.local/lib/python3.5/site-packages/tornado/gen.py\", line 1147, in run\n    yielded = self.gen.send(value)\n  File \"/home/lin/.local/lib/python3.5/site-packages/ipykernel/kernelbase.py\", line 370, in dispatch_queue\n    yield self.process_one()\n  File \"/home/lin/.local/lib/python3.5/site-packages/tornado/gen.py\", line 346, in wrapper\n    runner = Runner(result, future, yielded)\n  File \"/home/lin/.local/lib/python3.5/site-packages/tornado/gen.py\", line 1080, in __init__\n    self.run()\n  File \"/home/lin/.local/lib/python3.5/site-packages/tornado/gen.py\", line 1147, in run\n    yielded = self.gen.send(value)\n  File \"/home/lin/.local/lib/python3.5/site-packages/ipykernel/kernelbase.py\", line 357, in process_one\n    yield gen.maybe_future(dispatch(*args))\n  File \"/home/lin/.local/lib/python3.5/site-packages/tornado/gen.py\", line 326, in wrapper\n    yielded = next(result)\n  File \"/home/lin/.local/lib/python3.5/site-packages/ipykernel/kernelbase.py\", line 267, in dispatch_shell\n    yield gen.maybe_future(handler(stream, idents, msg))\n  File \"/home/lin/.local/lib/python3.5/site-packages/tornado/gen.py\", line 326, in wrapper\n    yielded = next(result)\n  File \"/home/lin/.local/lib/python3.5/site-packages/ipykernel/kernelbase.py\", line 534, in execute_request\n    user_expressions, allow_stdin,\n  File \"/home/lin/.local/lib/python3.5/site-packages/tornado/gen.py\", line 326, in wrapper\n    yielded = next(result)\n  File \"/home/lin/.local/lib/python3.5/site-packages/ipykernel/ipkernel.py\", line 294, in do_execute\n    res = shell.run_cell(code, store_history=store_history, silent=silent)\n  File \"/home/lin/.local/lib/python3.5/site-packages/ipykernel/zmqshell.py\", line 536, in run_cell\n    return super(ZMQInteractiveShell, self).run_cell(*args, **kwargs)\n  File \"/home/lin/.local/lib/python3.5/site-packages/IPython/core/interactiveshell.py\", line 2817, in run_cell\n    raw_cell, store_history, silent, shell_futures)\n  File \"/home/lin/.local/lib/python3.5/site-packages/IPython/core/interactiveshell.py\", line 2843, in _run_cell\n    return runner(coro)\n  File \"/home/lin/.local/lib/python3.5/site-packages/IPython/core/async_helpers.py\", line 67, in _pseudo_sync_runner\n    coro.send(None)\n  File \"/home/lin/.local/lib/python3.5/site-packages/IPython/core/interactiveshell.py\", line 3018, in run_cell_async\n    interactivity=interactivity, compiler=compiler, result=result)\n  File \"/home/lin/.local/lib/python3.5/site-packages/IPython/core/interactiveshell.py\", line 3183, in run_ast_nodes\n    if (yield from self.run_code(code, result)):\n  File \"/home/lin/.local/lib/python3.5/site-packages/IPython/core/interactiveshell.py\", line 3265, in run_code\n    exec(code_obj, self.user_global_ns, self.user_ns)\n  File \"<ipython-input-50-5f18ed16c4f7>\", line 2, in <module>\n    model4.add(CuDNNLSTM(units=512, input_shape=(14, 1), return_sequences=True))\n  File \"/home/lin/.local/lib/python3.5/site-packages/keras/engine/sequential.py\", line 165, in add\n    layer(x)\n  File \"/home/lin/.local/lib/python3.5/site-packages/keras/layers/recurrent.py\", line 532, in __call__\n    return super(RNN, self).__call__(inputs, **kwargs)\n  File \"/home/lin/.local/lib/python3.5/site-packages/keras/engine/base_layer.py\", line 457, in __call__\n    output = self.call(inputs, **kwargs)\n  File \"/home/lin/.local/lib/python3.5/site-packages/keras/layers/cudnn_recurrent.py\", line 90, in call\n    output, states = self._process_batch(inputs, initial_state)\n  File \"/home/lin/.local/lib/python3.5/site-packages/keras/layers/cudnn_recurrent.py\", line 517, in _process_batch\n    is_training=True)\n  File \"/home/lin/.local/lib/python3.5/site-packages/tensorflow/contrib/cudnn_rnn/python/ops/cudnn_rnn_ops.py\", line 1544, in __call__\n    input_data, input_h, input_c, params, is_training=is_training)\n  File \"/home/lin/.local/lib/python3.5/site-packages/tensorflow/contrib/cudnn_rnn/python/ops/cudnn_rnn_ops.py\", line 1435, in __call__\n    seed=self._seed)\n  File \"/home/lin/.local/lib/python3.5/site-packages/tensorflow/contrib/cudnn_rnn/python/ops/cudnn_rnn_ops.py\", line 922, in _cudnn_rnn\n    outputs, output_h, output_c, _ = gen_cudnn_rnn_ops.cudnn_rnn(**args)\n  File \"/home/lin/.local/lib/python3.5/site-packages/tensorflow/python/ops/gen_cudnn_rnn_ops.py\", line 116, in cudnn_rnn\n    is_training=is_training, name=name)\n  File \"/home/lin/.local/lib/python3.5/site-packages/tensorflow/python/framework/op_def_library.py\", line 787, in _apply_op_helper\n    op_def=op_def)\n  File \"/home/lin/.local/lib/python3.5/site-packages/tensorflow/python/util/deprecation.py\", line 488, in new_func\n    return func(*args, **kwargs)\n  File \"/home/lin/.local/lib/python3.5/site-packages/tensorflow/python/framework/ops.py\", line 3272, in create_op\n    op_def=op_def)\n  File \"/home/lin/.local/lib/python3.5/site-packages/tensorflow/python/framework/ops.py\", line 1768, in __init__\n    self._traceback = tf_stack.extract_stack()\n\nInvalidArgumentError (see above for traceback): No OpKernel was registered to support Op 'CudnnRNN' with these attrs.  Registered devices: [CPU], Registered kernels:\n  <no registered kernels>\n\n\t [[{{node cu_dnnlstm_1/CudnnRNN}} = CudnnRNN[T=DT_FLOAT, direction=\"unidirectional\", dropout=0, input_mode=\"linear_input\", is_training=true, rnn_mode=\"lstm\", seed=87654321, seed2=0](cu_dnnlstm_1/transpose, cu_dnnlstm_1/ExpandDims_1, cu_dnnlstm_1/ExpandDims_2, cu_dnnlstm_1/concat_1)]]\n"
     ]
    }
   ],
   "source": [
    "score = model3.evaluate(X_test, y_test, verbose=1)\n",
    "print(\"Accuracy: \", score[1])"
   ]
  },
  {
   "cell_type": "code",
   "execution_count": 57,
   "metadata": {
    "colab": {
     "autoexec": {
      "startup": false,
      "wait_interval": 0
     }
    },
    "colab_type": "code",
    "id": "sUM5b7oW_qvZ"
   },
   "outputs": [
    {
     "ename": "InvalidArgumentError",
     "evalue": "No OpKernel was registered to support Op 'CudnnRNN' with these attrs.  Registered devices: [CPU], Registered kernels:\n  <no registered kernels>\n\n\t [[{{node cu_dnnlstm_1/CudnnRNN}} = CudnnRNN[T=DT_FLOAT, direction=\"unidirectional\", dropout=0, input_mode=\"linear_input\", is_training=true, rnn_mode=\"lstm\", seed=87654321, seed2=0](cu_dnnlstm_1/transpose, cu_dnnlstm_1/ExpandDims_1, cu_dnnlstm_1/ExpandDims_2, cu_dnnlstm_1/concat_1)]]\n\nCaused by op 'cu_dnnlstm_1/CudnnRNN', defined at:\n  File \"/usr/lib/python3.5/runpy.py\", line 184, in _run_module_as_main\n    \"__main__\", mod_spec)\n  File \"/usr/lib/python3.5/runpy.py\", line 85, in _run_code\n    exec(code, run_globals)\n  File \"/home/lin/.local/lib/python3.5/site-packages/ipykernel_launcher.py\", line 16, in <module>\n    app.launch_new_instance()\n  File \"/home/lin/.local/lib/python3.5/site-packages/traitlets/config/application.py\", line 658, in launch_instance\n    app.start()\n  File \"/home/lin/.local/lib/python3.5/site-packages/ipykernel/kernelapp.py\", line 505, in start\n    self.io_loop.start()\n  File \"/home/lin/.local/lib/python3.5/site-packages/tornado/platform/asyncio.py\", line 132, in start\n    self.asyncio_loop.run_forever()\n  File \"/usr/lib/python3.5/asyncio/base_events.py\", line 345, in run_forever\n    self._run_once()\n  File \"/usr/lib/python3.5/asyncio/base_events.py\", line 1312, in _run_once\n    handle._run()\n  File \"/usr/lib/python3.5/asyncio/events.py\", line 125, in _run\n    self._callback(*self._args)\n  File \"/home/lin/.local/lib/python3.5/site-packages/tornado/ioloop.py\", line 758, in _run_callback\n    ret = callback()\n  File \"/home/lin/.local/lib/python3.5/site-packages/tornado/stack_context.py\", line 300, in null_wrapper\n    return fn(*args, **kwargs)\n  File \"/home/lin/.local/lib/python3.5/site-packages/tornado/gen.py\", line 1233, in inner\n    self.run()\n  File \"/home/lin/.local/lib/python3.5/site-packages/tornado/gen.py\", line 1147, in run\n    yielded = self.gen.send(value)\n  File \"/home/lin/.local/lib/python3.5/site-packages/ipykernel/kernelbase.py\", line 370, in dispatch_queue\n    yield self.process_one()\n  File \"/home/lin/.local/lib/python3.5/site-packages/tornado/gen.py\", line 346, in wrapper\n    runner = Runner(result, future, yielded)\n  File \"/home/lin/.local/lib/python3.5/site-packages/tornado/gen.py\", line 1080, in __init__\n    self.run()\n  File \"/home/lin/.local/lib/python3.5/site-packages/tornado/gen.py\", line 1147, in run\n    yielded = self.gen.send(value)\n  File \"/home/lin/.local/lib/python3.5/site-packages/ipykernel/kernelbase.py\", line 357, in process_one\n    yield gen.maybe_future(dispatch(*args))\n  File \"/home/lin/.local/lib/python3.5/site-packages/tornado/gen.py\", line 326, in wrapper\n    yielded = next(result)\n  File \"/home/lin/.local/lib/python3.5/site-packages/ipykernel/kernelbase.py\", line 267, in dispatch_shell\n    yield gen.maybe_future(handler(stream, idents, msg))\n  File \"/home/lin/.local/lib/python3.5/site-packages/tornado/gen.py\", line 326, in wrapper\n    yielded = next(result)\n  File \"/home/lin/.local/lib/python3.5/site-packages/ipykernel/kernelbase.py\", line 534, in execute_request\n    user_expressions, allow_stdin,\n  File \"/home/lin/.local/lib/python3.5/site-packages/tornado/gen.py\", line 326, in wrapper\n    yielded = next(result)\n  File \"/home/lin/.local/lib/python3.5/site-packages/ipykernel/ipkernel.py\", line 294, in do_execute\n    res = shell.run_cell(code, store_history=store_history, silent=silent)\n  File \"/home/lin/.local/lib/python3.5/site-packages/ipykernel/zmqshell.py\", line 536, in run_cell\n    return super(ZMQInteractiveShell, self).run_cell(*args, **kwargs)\n  File \"/home/lin/.local/lib/python3.5/site-packages/IPython/core/interactiveshell.py\", line 2817, in run_cell\n    raw_cell, store_history, silent, shell_futures)\n  File \"/home/lin/.local/lib/python3.5/site-packages/IPython/core/interactiveshell.py\", line 2843, in _run_cell\n    return runner(coro)\n  File \"/home/lin/.local/lib/python3.5/site-packages/IPython/core/async_helpers.py\", line 67, in _pseudo_sync_runner\n    coro.send(None)\n  File \"/home/lin/.local/lib/python3.5/site-packages/IPython/core/interactiveshell.py\", line 3018, in run_cell_async\n    interactivity=interactivity, compiler=compiler, result=result)\n  File \"/home/lin/.local/lib/python3.5/site-packages/IPython/core/interactiveshell.py\", line 3183, in run_ast_nodes\n    if (yield from self.run_code(code, result)):\n  File \"/home/lin/.local/lib/python3.5/site-packages/IPython/core/interactiveshell.py\", line 3265, in run_code\n    exec(code_obj, self.user_global_ns, self.user_ns)\n  File \"<ipython-input-50-5f18ed16c4f7>\", line 2, in <module>\n    model4.add(CuDNNLSTM(units=512, input_shape=(14, 1), return_sequences=True))\n  File \"/home/lin/.local/lib/python3.5/site-packages/keras/engine/sequential.py\", line 165, in add\n    layer(x)\n  File \"/home/lin/.local/lib/python3.5/site-packages/keras/layers/recurrent.py\", line 532, in __call__\n    return super(RNN, self).__call__(inputs, **kwargs)\n  File \"/home/lin/.local/lib/python3.5/site-packages/keras/engine/base_layer.py\", line 457, in __call__\n    output = self.call(inputs, **kwargs)\n  File \"/home/lin/.local/lib/python3.5/site-packages/keras/layers/cudnn_recurrent.py\", line 90, in call\n    output, states = self._process_batch(inputs, initial_state)\n  File \"/home/lin/.local/lib/python3.5/site-packages/keras/layers/cudnn_recurrent.py\", line 517, in _process_batch\n    is_training=True)\n  File \"/home/lin/.local/lib/python3.5/site-packages/tensorflow/contrib/cudnn_rnn/python/ops/cudnn_rnn_ops.py\", line 1544, in __call__\n    input_data, input_h, input_c, params, is_training=is_training)\n  File \"/home/lin/.local/lib/python3.5/site-packages/tensorflow/contrib/cudnn_rnn/python/ops/cudnn_rnn_ops.py\", line 1435, in __call__\n    seed=self._seed)\n  File \"/home/lin/.local/lib/python3.5/site-packages/tensorflow/contrib/cudnn_rnn/python/ops/cudnn_rnn_ops.py\", line 922, in _cudnn_rnn\n    outputs, output_h, output_c, _ = gen_cudnn_rnn_ops.cudnn_rnn(**args)\n  File \"/home/lin/.local/lib/python3.5/site-packages/tensorflow/python/ops/gen_cudnn_rnn_ops.py\", line 116, in cudnn_rnn\n    is_training=is_training, name=name)\n  File \"/home/lin/.local/lib/python3.5/site-packages/tensorflow/python/framework/op_def_library.py\", line 787, in _apply_op_helper\n    op_def=op_def)\n  File \"/home/lin/.local/lib/python3.5/site-packages/tensorflow/python/util/deprecation.py\", line 488, in new_func\n    return func(*args, **kwargs)\n  File \"/home/lin/.local/lib/python3.5/site-packages/tensorflow/python/framework/ops.py\", line 3272, in create_op\n    op_def=op_def)\n  File \"/home/lin/.local/lib/python3.5/site-packages/tensorflow/python/framework/ops.py\", line 1768, in __init__\n    self._traceback = tf_stack.extract_stack()\n\nInvalidArgumentError (see above for traceback): No OpKernel was registered to support Op 'CudnnRNN' with these attrs.  Registered devices: [CPU], Registered kernels:\n  <no registered kernels>\n\n\t [[{{node cu_dnnlstm_1/CudnnRNN}} = CudnnRNN[T=DT_FLOAT, direction=\"unidirectional\", dropout=0, input_mode=\"linear_input\", is_training=true, rnn_mode=\"lstm\", seed=87654321, seed2=0](cu_dnnlstm_1/transpose, cu_dnnlstm_1/ExpandDims_1, cu_dnnlstm_1/ExpandDims_2, cu_dnnlstm_1/concat_1)]]\n",
     "output_type": "error",
     "traceback": [
      "\u001b[0;31m---------------------------------------------------------------------------\u001b[0m",
      "\u001b[0;31mInvalidArgumentError\u001b[0m                      Traceback (most recent call last)",
      "\u001b[0;32m~/.local/lib/python3.5/site-packages/tensorflow/python/client/session.py\u001b[0m in \u001b[0;36m_do_call\u001b[0;34m(self, fn, *args)\u001b[0m\n\u001b[1;32m   1291\u001b[0m     \u001b[0;32mtry\u001b[0m\u001b[0;34m:\u001b[0m\u001b[0;34m\u001b[0m\u001b[0m\n\u001b[0;32m-> 1292\u001b[0;31m       \u001b[0;32mreturn\u001b[0m \u001b[0mfn\u001b[0m\u001b[0;34m(\u001b[0m\u001b[0;34m*\u001b[0m\u001b[0margs\u001b[0m\u001b[0;34m)\u001b[0m\u001b[0;34m\u001b[0m\u001b[0m\n\u001b[0m\u001b[1;32m   1293\u001b[0m     \u001b[0;32mexcept\u001b[0m \u001b[0merrors\u001b[0m\u001b[0;34m.\u001b[0m\u001b[0mOpError\u001b[0m \u001b[0;32mas\u001b[0m \u001b[0me\u001b[0m\u001b[0;34m:\u001b[0m\u001b[0;34m\u001b[0m\u001b[0m\n",
      "\u001b[0;32m~/.local/lib/python3.5/site-packages/tensorflow/python/client/session.py\u001b[0m in \u001b[0;36m_run_fn\u001b[0;34m(feed_dict, fetch_list, target_list, options, run_metadata)\u001b[0m\n\u001b[1;32m   1274\u001b[0m       \u001b[0;31m# Ensure any changes to the graph are reflected in the runtime.\u001b[0m\u001b[0;34m\u001b[0m\u001b[0;34m\u001b[0m\u001b[0m\n\u001b[0;32m-> 1275\u001b[0;31m       \u001b[0mself\u001b[0m\u001b[0;34m.\u001b[0m\u001b[0m_extend_graph\u001b[0m\u001b[0;34m(\u001b[0m\u001b[0;34m)\u001b[0m\u001b[0;34m\u001b[0m\u001b[0m\n\u001b[0m\u001b[1;32m   1276\u001b[0m       return self._call_tf_sessionrun(\n",
      "\u001b[0;32m~/.local/lib/python3.5/site-packages/tensorflow/python/client/session.py\u001b[0m in \u001b[0;36m_extend_graph\u001b[0;34m(self)\u001b[0m\n\u001b[1;32m   1311\u001b[0m     \u001b[0;32mwith\u001b[0m \u001b[0mself\u001b[0m\u001b[0;34m.\u001b[0m\u001b[0m_graph\u001b[0m\u001b[0;34m.\u001b[0m\u001b[0m_session_run_lock\u001b[0m\u001b[0;34m(\u001b[0m\u001b[0;34m)\u001b[0m\u001b[0;34m:\u001b[0m  \u001b[0;31m# pylint: disable=protected-access\u001b[0m\u001b[0;34m\u001b[0m\u001b[0m\n\u001b[0;32m-> 1312\u001b[0;31m       \u001b[0mtf_session\u001b[0m\u001b[0;34m.\u001b[0m\u001b[0mExtendSession\u001b[0m\u001b[0;34m(\u001b[0m\u001b[0mself\u001b[0m\u001b[0;34m.\u001b[0m\u001b[0m_session\u001b[0m\u001b[0;34m)\u001b[0m\u001b[0;34m\u001b[0m\u001b[0m\n\u001b[0m\u001b[1;32m   1313\u001b[0m \u001b[0;34m\u001b[0m\u001b[0m\n",
      "\u001b[0;31mInvalidArgumentError\u001b[0m: No OpKernel was registered to support Op 'CudnnRNN' with these attrs.  Registered devices: [CPU], Registered kernels:\n  <no registered kernels>\n\n\t [[{{node cu_dnnlstm_1/CudnnRNN}} = CudnnRNN[T=DT_FLOAT, direction=\"unidirectional\", dropout=0, input_mode=\"linear_input\", is_training=true, rnn_mode=\"lstm\", seed=87654321, seed2=0](cu_dnnlstm_1/transpose, cu_dnnlstm_1/ExpandDims_1, cu_dnnlstm_1/ExpandDims_2, cu_dnnlstm_1/concat_1)]]",
      "\nDuring handling of the above exception, another exception occurred:\n",
      "\u001b[0;31mInvalidArgumentError\u001b[0m                      Traceback (most recent call last)",
      "\u001b[0;32m<ipython-input-57-de35f085ac96>\u001b[0m in \u001b[0;36m<module>\u001b[0;34m\u001b[0m\n\u001b[0;32m----> 1\u001b[0;31m \u001b[0mpredict4\u001b[0m \u001b[0;34m=\u001b[0m  \u001b[0;34m[\u001b[0m\u001b[0;36m1\u001b[0m \u001b[0;32mif\u001b[0m \u001b[0ma\u001b[0m\u001b[0;34m>\u001b[0m\u001b[0;36m0.5\u001b[0m \u001b[0;32melse\u001b[0m \u001b[0;36m0\u001b[0m \u001b[0;32mfor\u001b[0m \u001b[0ma\u001b[0m \u001b[0;32min\u001b[0m \u001b[0mmodel3\u001b[0m\u001b[0;34m.\u001b[0m\u001b[0mpredict\u001b[0m\u001b[0;34m(\u001b[0m\u001b[0mX_test\u001b[0m\u001b[0;34m)\u001b[0m\u001b[0;34m]\u001b[0m\u001b[0;34m\u001b[0m\u001b[0m\n\u001b[0m",
      "\u001b[0;32m~/.local/lib/python3.5/site-packages/keras/engine/training.py\u001b[0m in \u001b[0;36mpredict\u001b[0;34m(self, x, batch_size, verbose, steps)\u001b[0m\n\u001b[1;32m   1167\u001b[0m                                             \u001b[0mbatch_size\u001b[0m\u001b[0;34m=\u001b[0m\u001b[0mbatch_size\u001b[0m\u001b[0;34m,\u001b[0m\u001b[0;34m\u001b[0m\u001b[0m\n\u001b[1;32m   1168\u001b[0m                                             \u001b[0mverbose\u001b[0m\u001b[0;34m=\u001b[0m\u001b[0mverbose\u001b[0m\u001b[0;34m,\u001b[0m\u001b[0;34m\u001b[0m\u001b[0m\n\u001b[0;32m-> 1169\u001b[0;31m                                             steps=steps)\n\u001b[0m\u001b[1;32m   1170\u001b[0m \u001b[0;34m\u001b[0m\u001b[0m\n\u001b[1;32m   1171\u001b[0m     def train_on_batch(self, x, y,\n",
      "\u001b[0;32m~/.local/lib/python3.5/site-packages/keras/engine/training_arrays.py\u001b[0m in \u001b[0;36mpredict_loop\u001b[0;34m(model, f, ins, batch_size, verbose, steps)\u001b[0m\n\u001b[1;32m    292\u001b[0m                 \u001b[0mins_batch\u001b[0m\u001b[0;34m[\u001b[0m\u001b[0mi\u001b[0m\u001b[0;34m]\u001b[0m \u001b[0;34m=\u001b[0m \u001b[0mins_batch\u001b[0m\u001b[0;34m[\u001b[0m\u001b[0mi\u001b[0m\u001b[0;34m]\u001b[0m\u001b[0;34m.\u001b[0m\u001b[0mtoarray\u001b[0m\u001b[0;34m(\u001b[0m\u001b[0;34m)\u001b[0m\u001b[0;34m\u001b[0m\u001b[0m\n\u001b[1;32m    293\u001b[0m \u001b[0;34m\u001b[0m\u001b[0m\n\u001b[0;32m--> 294\u001b[0;31m             \u001b[0mbatch_outs\u001b[0m \u001b[0;34m=\u001b[0m \u001b[0mf\u001b[0m\u001b[0;34m(\u001b[0m\u001b[0mins_batch\u001b[0m\u001b[0;34m)\u001b[0m\u001b[0;34m\u001b[0m\u001b[0m\n\u001b[0m\u001b[1;32m    295\u001b[0m             \u001b[0mbatch_outs\u001b[0m \u001b[0;34m=\u001b[0m \u001b[0mto_list\u001b[0m\u001b[0;34m(\u001b[0m\u001b[0mbatch_outs\u001b[0m\u001b[0;34m)\u001b[0m\u001b[0;34m\u001b[0m\u001b[0m\n\u001b[1;32m    296\u001b[0m             \u001b[0;32mif\u001b[0m \u001b[0mbatch_index\u001b[0m \u001b[0;34m==\u001b[0m \u001b[0;36m0\u001b[0m\u001b[0;34m:\u001b[0m\u001b[0;34m\u001b[0m\u001b[0m\n",
      "\u001b[0;32m~/.local/lib/python3.5/site-packages/keras/backend/tensorflow_backend.py\u001b[0m in \u001b[0;36m__call__\u001b[0;34m(self, inputs)\u001b[0m\n\u001b[1;32m   2695\u001b[0m \u001b[0;34m\u001b[0m\u001b[0m\n\u001b[1;32m   2696\u001b[0m     \u001b[0;32mdef\u001b[0m \u001b[0m__call__\u001b[0m\u001b[0;34m(\u001b[0m\u001b[0mself\u001b[0m\u001b[0;34m,\u001b[0m \u001b[0minputs\u001b[0m\u001b[0;34m)\u001b[0m\u001b[0;34m:\u001b[0m\u001b[0;34m\u001b[0m\u001b[0m\n\u001b[0;32m-> 2697\u001b[0;31m         \u001b[0;32mif\u001b[0m \u001b[0mhasattr\u001b[0m\u001b[0;34m(\u001b[0m\u001b[0mget_session\u001b[0m\u001b[0;34m(\u001b[0m\u001b[0;34m)\u001b[0m\u001b[0;34m,\u001b[0m \u001b[0;34m'_make_callable_from_options'\u001b[0m\u001b[0;34m)\u001b[0m\u001b[0;34m:\u001b[0m\u001b[0;34m\u001b[0m\u001b[0m\n\u001b[0m\u001b[1;32m   2698\u001b[0m             \u001b[0;32mif\u001b[0m \u001b[0mpy_any\u001b[0m\u001b[0;34m(\u001b[0m\u001b[0mis_sparse\u001b[0m\u001b[0;34m(\u001b[0m\u001b[0mx\u001b[0m\u001b[0;34m)\u001b[0m \u001b[0;32mfor\u001b[0m \u001b[0mx\u001b[0m \u001b[0;32min\u001b[0m \u001b[0mself\u001b[0m\u001b[0;34m.\u001b[0m\u001b[0minputs\u001b[0m\u001b[0;34m)\u001b[0m\u001b[0;34m:\u001b[0m\u001b[0;34m\u001b[0m\u001b[0m\n\u001b[1;32m   2699\u001b[0m                 \u001b[0;32mif\u001b[0m \u001b[0mpy_any\u001b[0m\u001b[0;34m(\u001b[0m\u001b[0mis_tensor\u001b[0m\u001b[0;34m(\u001b[0m\u001b[0mx\u001b[0m\u001b[0;34m)\u001b[0m \u001b[0;32mfor\u001b[0m \u001b[0mx\u001b[0m \u001b[0;32min\u001b[0m \u001b[0minputs\u001b[0m\u001b[0;34m)\u001b[0m\u001b[0;34m:\u001b[0m\u001b[0;34m\u001b[0m\u001b[0m\n",
      "\u001b[0;32m~/.local/lib/python3.5/site-packages/keras/backend/tensorflow_backend.py\u001b[0m in \u001b[0;36mget_session\u001b[0;34m()\u001b[0m\n\u001b[1;32m    197\u001b[0m                 \u001b[0;31m# not already marked as initialized.\u001b[0m\u001b[0;34m\u001b[0m\u001b[0;34m\u001b[0m\u001b[0m\n\u001b[1;32m    198\u001b[0m                 is_initialized = session.run(\n\u001b[0;32m--> 199\u001b[0;31m                     [tf.is_variable_initialized(v) for v in candidate_vars])\n\u001b[0m\u001b[1;32m    200\u001b[0m                 \u001b[0muninitialized_vars\u001b[0m \u001b[0;34m=\u001b[0m \u001b[0;34m[\u001b[0m\u001b[0;34m]\u001b[0m\u001b[0;34m\u001b[0m\u001b[0m\n\u001b[1;32m    201\u001b[0m                 \u001b[0;32mfor\u001b[0m \u001b[0mflag\u001b[0m\u001b[0;34m,\u001b[0m \u001b[0mv\u001b[0m \u001b[0;32min\u001b[0m \u001b[0mzip\u001b[0m\u001b[0;34m(\u001b[0m\u001b[0mis_initialized\u001b[0m\u001b[0;34m,\u001b[0m \u001b[0mcandidate_vars\u001b[0m\u001b[0;34m)\u001b[0m\u001b[0;34m:\u001b[0m\u001b[0;34m\u001b[0m\u001b[0m\n",
      "\u001b[0;32m~/.local/lib/python3.5/site-packages/tensorflow/python/client/session.py\u001b[0m in \u001b[0;36mrun\u001b[0;34m(self, fetches, feed_dict, options, run_metadata)\u001b[0m\n\u001b[1;32m    885\u001b[0m     \u001b[0;32mtry\u001b[0m\u001b[0;34m:\u001b[0m\u001b[0;34m\u001b[0m\u001b[0m\n\u001b[1;32m    886\u001b[0m       result = self._run(None, fetches, feed_dict, options_ptr,\n\u001b[0;32m--> 887\u001b[0;31m                          run_metadata_ptr)\n\u001b[0m\u001b[1;32m    888\u001b[0m       \u001b[0;32mif\u001b[0m \u001b[0mrun_metadata\u001b[0m\u001b[0;34m:\u001b[0m\u001b[0;34m\u001b[0m\u001b[0m\n\u001b[1;32m    889\u001b[0m         \u001b[0mproto_data\u001b[0m \u001b[0;34m=\u001b[0m \u001b[0mtf_session\u001b[0m\u001b[0;34m.\u001b[0m\u001b[0mTF_GetBuffer\u001b[0m\u001b[0;34m(\u001b[0m\u001b[0mrun_metadata_ptr\u001b[0m\u001b[0;34m)\u001b[0m\u001b[0;34m\u001b[0m\u001b[0m\n",
      "\u001b[0;32m~/.local/lib/python3.5/site-packages/tensorflow/python/client/session.py\u001b[0m in \u001b[0;36m_run\u001b[0;34m(self, handle, fetches, feed_dict, options, run_metadata)\u001b[0m\n\u001b[1;32m   1108\u001b[0m     \u001b[0;32mif\u001b[0m \u001b[0mfinal_fetches\u001b[0m \u001b[0;32mor\u001b[0m \u001b[0mfinal_targets\u001b[0m \u001b[0;32mor\u001b[0m \u001b[0;34m(\u001b[0m\u001b[0mhandle\u001b[0m \u001b[0;32mand\u001b[0m \u001b[0mfeed_dict_tensor\u001b[0m\u001b[0;34m)\u001b[0m\u001b[0;34m:\u001b[0m\u001b[0;34m\u001b[0m\u001b[0m\n\u001b[1;32m   1109\u001b[0m       results = self._do_run(handle, final_targets, final_fetches,\n\u001b[0;32m-> 1110\u001b[0;31m                              feed_dict_tensor, options, run_metadata)\n\u001b[0m\u001b[1;32m   1111\u001b[0m     \u001b[0;32melse\u001b[0m\u001b[0;34m:\u001b[0m\u001b[0;34m\u001b[0m\u001b[0m\n\u001b[1;32m   1112\u001b[0m       \u001b[0mresults\u001b[0m \u001b[0;34m=\u001b[0m \u001b[0;34m[\u001b[0m\u001b[0;34m]\u001b[0m\u001b[0;34m\u001b[0m\u001b[0m\n",
      "\u001b[0;32m~/.local/lib/python3.5/site-packages/tensorflow/python/client/session.py\u001b[0m in \u001b[0;36m_do_run\u001b[0;34m(self, handle, target_list, fetch_list, feed_dict, options, run_metadata)\u001b[0m\n\u001b[1;32m   1284\u001b[0m     \u001b[0;32mif\u001b[0m \u001b[0mhandle\u001b[0m \u001b[0;32mis\u001b[0m \u001b[0;32mNone\u001b[0m\u001b[0;34m:\u001b[0m\u001b[0;34m\u001b[0m\u001b[0m\n\u001b[1;32m   1285\u001b[0m       return self._do_call(_run_fn, feeds, fetches, targets, options,\n\u001b[0;32m-> 1286\u001b[0;31m                            run_metadata)\n\u001b[0m\u001b[1;32m   1287\u001b[0m     \u001b[0;32melse\u001b[0m\u001b[0;34m:\u001b[0m\u001b[0;34m\u001b[0m\u001b[0m\n\u001b[1;32m   1288\u001b[0m       \u001b[0;32mreturn\u001b[0m \u001b[0mself\u001b[0m\u001b[0;34m.\u001b[0m\u001b[0m_do_call\u001b[0m\u001b[0;34m(\u001b[0m\u001b[0m_prun_fn\u001b[0m\u001b[0;34m,\u001b[0m \u001b[0mhandle\u001b[0m\u001b[0;34m,\u001b[0m \u001b[0mfeeds\u001b[0m\u001b[0;34m,\u001b[0m \u001b[0mfetches\u001b[0m\u001b[0;34m)\u001b[0m\u001b[0;34m\u001b[0m\u001b[0m\n",
      "\u001b[0;32m~/.local/lib/python3.5/site-packages/tensorflow/python/client/session.py\u001b[0m in \u001b[0;36m_do_call\u001b[0;34m(self, fn, *args)\u001b[0m\n\u001b[1;32m   1306\u001b[0m           self._config.experimental.client_handles_error_formatting):\n\u001b[1;32m   1307\u001b[0m         \u001b[0mmessage\u001b[0m \u001b[0;34m=\u001b[0m \u001b[0merror_interpolation\u001b[0m\u001b[0;34m.\u001b[0m\u001b[0minterpolate\u001b[0m\u001b[0;34m(\u001b[0m\u001b[0mmessage\u001b[0m\u001b[0;34m,\u001b[0m \u001b[0mself\u001b[0m\u001b[0;34m.\u001b[0m\u001b[0m_graph\u001b[0m\u001b[0;34m)\u001b[0m\u001b[0;34m\u001b[0m\u001b[0m\n\u001b[0;32m-> 1308\u001b[0;31m       \u001b[0;32mraise\u001b[0m \u001b[0mtype\u001b[0m\u001b[0;34m(\u001b[0m\u001b[0me\u001b[0m\u001b[0;34m)\u001b[0m\u001b[0;34m(\u001b[0m\u001b[0mnode_def\u001b[0m\u001b[0;34m,\u001b[0m \u001b[0mop\u001b[0m\u001b[0;34m,\u001b[0m \u001b[0mmessage\u001b[0m\u001b[0;34m)\u001b[0m\u001b[0;34m\u001b[0m\u001b[0m\n\u001b[0m\u001b[1;32m   1309\u001b[0m \u001b[0;34m\u001b[0m\u001b[0m\n\u001b[1;32m   1310\u001b[0m   \u001b[0;32mdef\u001b[0m \u001b[0m_extend_graph\u001b[0m\u001b[0;34m(\u001b[0m\u001b[0mself\u001b[0m\u001b[0;34m)\u001b[0m\u001b[0;34m:\u001b[0m\u001b[0;34m\u001b[0m\u001b[0m\n",
      "\u001b[0;31mInvalidArgumentError\u001b[0m: No OpKernel was registered to support Op 'CudnnRNN' with these attrs.  Registered devices: [CPU], Registered kernels:\n  <no registered kernels>\n\n\t [[{{node cu_dnnlstm_1/CudnnRNN}} = CudnnRNN[T=DT_FLOAT, direction=\"unidirectional\", dropout=0, input_mode=\"linear_input\", is_training=true, rnn_mode=\"lstm\", seed=87654321, seed2=0](cu_dnnlstm_1/transpose, cu_dnnlstm_1/ExpandDims_1, cu_dnnlstm_1/ExpandDims_2, cu_dnnlstm_1/concat_1)]]\n\nCaused by op 'cu_dnnlstm_1/CudnnRNN', defined at:\n  File \"/usr/lib/python3.5/runpy.py\", line 184, in _run_module_as_main\n    \"__main__\", mod_spec)\n  File \"/usr/lib/python3.5/runpy.py\", line 85, in _run_code\n    exec(code, run_globals)\n  File \"/home/lin/.local/lib/python3.5/site-packages/ipykernel_launcher.py\", line 16, in <module>\n    app.launch_new_instance()\n  File \"/home/lin/.local/lib/python3.5/site-packages/traitlets/config/application.py\", line 658, in launch_instance\n    app.start()\n  File \"/home/lin/.local/lib/python3.5/site-packages/ipykernel/kernelapp.py\", line 505, in start\n    self.io_loop.start()\n  File \"/home/lin/.local/lib/python3.5/site-packages/tornado/platform/asyncio.py\", line 132, in start\n    self.asyncio_loop.run_forever()\n  File \"/usr/lib/python3.5/asyncio/base_events.py\", line 345, in run_forever\n    self._run_once()\n  File \"/usr/lib/python3.5/asyncio/base_events.py\", line 1312, in _run_once\n    handle._run()\n  File \"/usr/lib/python3.5/asyncio/events.py\", line 125, in _run\n    self._callback(*self._args)\n  File \"/home/lin/.local/lib/python3.5/site-packages/tornado/ioloop.py\", line 758, in _run_callback\n    ret = callback()\n  File \"/home/lin/.local/lib/python3.5/site-packages/tornado/stack_context.py\", line 300, in null_wrapper\n    return fn(*args, **kwargs)\n  File \"/home/lin/.local/lib/python3.5/site-packages/tornado/gen.py\", line 1233, in inner\n    self.run()\n  File \"/home/lin/.local/lib/python3.5/site-packages/tornado/gen.py\", line 1147, in run\n    yielded = self.gen.send(value)\n  File \"/home/lin/.local/lib/python3.5/site-packages/ipykernel/kernelbase.py\", line 370, in dispatch_queue\n    yield self.process_one()\n  File \"/home/lin/.local/lib/python3.5/site-packages/tornado/gen.py\", line 346, in wrapper\n    runner = Runner(result, future, yielded)\n  File \"/home/lin/.local/lib/python3.5/site-packages/tornado/gen.py\", line 1080, in __init__\n    self.run()\n  File \"/home/lin/.local/lib/python3.5/site-packages/tornado/gen.py\", line 1147, in run\n    yielded = self.gen.send(value)\n  File \"/home/lin/.local/lib/python3.5/site-packages/ipykernel/kernelbase.py\", line 357, in process_one\n    yield gen.maybe_future(dispatch(*args))\n  File \"/home/lin/.local/lib/python3.5/site-packages/tornado/gen.py\", line 326, in wrapper\n    yielded = next(result)\n  File \"/home/lin/.local/lib/python3.5/site-packages/ipykernel/kernelbase.py\", line 267, in dispatch_shell\n    yield gen.maybe_future(handler(stream, idents, msg))\n  File \"/home/lin/.local/lib/python3.5/site-packages/tornado/gen.py\", line 326, in wrapper\n    yielded = next(result)\n  File \"/home/lin/.local/lib/python3.5/site-packages/ipykernel/kernelbase.py\", line 534, in execute_request\n    user_expressions, allow_stdin,\n  File \"/home/lin/.local/lib/python3.5/site-packages/tornado/gen.py\", line 326, in wrapper\n    yielded = next(result)\n  File \"/home/lin/.local/lib/python3.5/site-packages/ipykernel/ipkernel.py\", line 294, in do_execute\n    res = shell.run_cell(code, store_history=store_history, silent=silent)\n  File \"/home/lin/.local/lib/python3.5/site-packages/ipykernel/zmqshell.py\", line 536, in run_cell\n    return super(ZMQInteractiveShell, self).run_cell(*args, **kwargs)\n  File \"/home/lin/.local/lib/python3.5/site-packages/IPython/core/interactiveshell.py\", line 2817, in run_cell\n    raw_cell, store_history, silent, shell_futures)\n  File \"/home/lin/.local/lib/python3.5/site-packages/IPython/core/interactiveshell.py\", line 2843, in _run_cell\n    return runner(coro)\n  File \"/home/lin/.local/lib/python3.5/site-packages/IPython/core/async_helpers.py\", line 67, in _pseudo_sync_runner\n    coro.send(None)\n  File \"/home/lin/.local/lib/python3.5/site-packages/IPython/core/interactiveshell.py\", line 3018, in run_cell_async\n    interactivity=interactivity, compiler=compiler, result=result)\n  File \"/home/lin/.local/lib/python3.5/site-packages/IPython/core/interactiveshell.py\", line 3183, in run_ast_nodes\n    if (yield from self.run_code(code, result)):\n  File \"/home/lin/.local/lib/python3.5/site-packages/IPython/core/interactiveshell.py\", line 3265, in run_code\n    exec(code_obj, self.user_global_ns, self.user_ns)\n  File \"<ipython-input-50-5f18ed16c4f7>\", line 2, in <module>\n    model4.add(CuDNNLSTM(units=512, input_shape=(14, 1), return_sequences=True))\n  File \"/home/lin/.local/lib/python3.5/site-packages/keras/engine/sequential.py\", line 165, in add\n    layer(x)\n  File \"/home/lin/.local/lib/python3.5/site-packages/keras/layers/recurrent.py\", line 532, in __call__\n    return super(RNN, self).__call__(inputs, **kwargs)\n  File \"/home/lin/.local/lib/python3.5/site-packages/keras/engine/base_layer.py\", line 457, in __call__\n    output = self.call(inputs, **kwargs)\n  File \"/home/lin/.local/lib/python3.5/site-packages/keras/layers/cudnn_recurrent.py\", line 90, in call\n    output, states = self._process_batch(inputs, initial_state)\n  File \"/home/lin/.local/lib/python3.5/site-packages/keras/layers/cudnn_recurrent.py\", line 517, in _process_batch\n    is_training=True)\n  File \"/home/lin/.local/lib/python3.5/site-packages/tensorflow/contrib/cudnn_rnn/python/ops/cudnn_rnn_ops.py\", line 1544, in __call__\n    input_data, input_h, input_c, params, is_training=is_training)\n  File \"/home/lin/.local/lib/python3.5/site-packages/tensorflow/contrib/cudnn_rnn/python/ops/cudnn_rnn_ops.py\", line 1435, in __call__\n    seed=self._seed)\n  File \"/home/lin/.local/lib/python3.5/site-packages/tensorflow/contrib/cudnn_rnn/python/ops/cudnn_rnn_ops.py\", line 922, in _cudnn_rnn\n    outputs, output_h, output_c, _ = gen_cudnn_rnn_ops.cudnn_rnn(**args)\n  File \"/home/lin/.local/lib/python3.5/site-packages/tensorflow/python/ops/gen_cudnn_rnn_ops.py\", line 116, in cudnn_rnn\n    is_training=is_training, name=name)\n  File \"/home/lin/.local/lib/python3.5/site-packages/tensorflow/python/framework/op_def_library.py\", line 787, in _apply_op_helper\n    op_def=op_def)\n  File \"/home/lin/.local/lib/python3.5/site-packages/tensorflow/python/util/deprecation.py\", line 488, in new_func\n    return func(*args, **kwargs)\n  File \"/home/lin/.local/lib/python3.5/site-packages/tensorflow/python/framework/ops.py\", line 3272, in create_op\n    op_def=op_def)\n  File \"/home/lin/.local/lib/python3.5/site-packages/tensorflow/python/framework/ops.py\", line 1768, in __init__\n    self._traceback = tf_stack.extract_stack()\n\nInvalidArgumentError (see above for traceback): No OpKernel was registered to support Op 'CudnnRNN' with these attrs.  Registered devices: [CPU], Registered kernels:\n  <no registered kernels>\n\n\t [[{{node cu_dnnlstm_1/CudnnRNN}} = CudnnRNN[T=DT_FLOAT, direction=\"unidirectional\", dropout=0, input_mode=\"linear_input\", is_training=true, rnn_mode=\"lstm\", seed=87654321, seed2=0](cu_dnnlstm_1/transpose, cu_dnnlstm_1/ExpandDims_1, cu_dnnlstm_1/ExpandDims_2, cu_dnnlstm_1/concat_1)]]\n"
     ]
    }
   ],
   "source": [
    "predict4 =  [1 if a>0.5 else 0 for a in model3.predict(X_test)]\n"
   ]
  },
  {
   "cell_type": "markdown",
   "metadata": {
    "colab_type": "text",
    "id": "w7rvEI-nWMUY"
   },
   "source": [
    "### Performance"
   ]
  },
  {
   "cell_type": "code",
   "execution_count": 54,
   "metadata": {
    "colab": {
     "autoexec": {
      "startup": false,
      "wait_interval": 0
     },
     "base_uri": "https://localhost:8080/",
     "height": 91
    },
    "colab_type": "code",
    "executionInfo": {
     "elapsed": 984,
     "status": "ok",
     "timestamp": 1528839038465,
     "user": {
      "displayName": "SHUBHAM VERMA",
      "photoUrl": "https://lh3.googleusercontent.com/a/default-user=s128",
      "userId": "108363614808362191748"
     },
     "user_tz": -330
    },
    "id": "36JspPsyZkzb",
    "outputId": "f2d84cb6-c371-4f5a-8f16-ac0363257a8e"
   },
   "outputs": [
    {
     "name": "stdout",
     "output_type": "stream",
     "text": [
      "Accuracy = 0.7037688442211055\n",
      "Precision = 0.7026342451874367\n",
      "Recall = 0.7008590197069227\n",
      "F1 Score = 0.7017455097394384\n"
     ]
    }
   ],
   "source": [
    "#print(\"Accuracy = {}\\nPrecision = {}\\nRecall = {}\\nF1 Score = {}\".format(metrics.accuracy_score(y_test, predict4), metrics.precision_score(y_test, predict4),metrics.recall_score(y_test, predict4),metrics.f1_score(y_test, predict4)))\n",
    "print(\"Accuracy = {}\\nPrecision = {}\\nRecall = {}\\nF1 Score = {}\".format(metrics.accuracy_score(y_test, predict4), metrics.precision_score(y_test, predict4),metrics.recall_score(y_test, predict4),metrics.f1_score(y_test, predict4)))\n",
    "score_p.append([metrics.accuracy_score(y_test, predict4), metrics.precision_score(y_test, predict4),metrics.recall_score(y_test, predict4),metrics.f1_score(y_test, predict4)])"
   ]
  },
  {
   "cell_type": "code",
   "execution_count": null,
   "metadata": {
    "colab": {
     "autoexec": {
      "startup": false,
      "wait_interval": 0
     }
    },
    "colab_type": "code",
    "id": "-1A_bedbZo_G"
   },
   "outputs": [],
   "source": []
  },
  {
   "cell_type": "markdown",
   "metadata": {
    "colab_type": "text",
    "id": "UIwPKYoN5H4j"
   },
   "source": [
    "# Improved LSTM (Tuning Parameter)"
   ]
  },
  {
   "cell_type": "code",
   "execution_count": 50,
   "metadata": {
    "colab": {
     "autoexec": {
      "startup": false,
      "wait_interval": 0
     },
     "base_uri": "https://localhost:8080/",
     "height": 258
    },
    "colab_type": "code",
    "executionInfo": {
     "elapsed": 2295,
     "status": "ok",
     "timestamp": 1528839050515,
     "user": {
      "displayName": "SHUBHAM VERMA",
      "photoUrl": "https://lh3.googleusercontent.com/a/default-user=s128",
      "userId": "108363614808362191748"
     },
     "user_tz": -330
    },
    "id": "OG1XXkwD5IfU",
    "outputId": "5d447fd4-7b3d-4160-fa36-b8789e6e70ca"
   },
   "outputs": [
    {
     "name": "stdout",
     "output_type": "stream",
     "text": [
      "_________________________________________________________________\n",
      "Layer (type)                 Output Shape              Param #   \n",
      "=================================================================\n",
      "cu_dnnlstm_1 (CuDNNLSTM)     (None, 14, 512)           1054720   \n",
      "_________________________________________________________________\n",
      "cu_dnnlstm_2 (CuDNNLSTM)     (None, 512)               2101248   \n",
      "_________________________________________________________________\n",
      "dense_8 (Dense)              (None, 1)                 513       \n",
      "=================================================================\n",
      "Total params: 3,156,481\n",
      "Trainable params: 3,156,481\n",
      "Non-trainable params: 0\n",
      "_________________________________________________________________\n"
     ]
    }
   ],
   "source": [
    "#model4 = Sequential()\n",
    "#model4.add(CuDNNLSTM(units=512, input_shape=(14, 1), return_sequences=True))\n",
    "#model4.add(CuDNNLSTM(units=512))\n",
    "#model4.add(Dense(1, activation='sigmoid'))\n",
    "#model4.summary()"
   ]
  },
  {
   "cell_type": "code",
   "execution_count": 51,
   "metadata": {
    "colab": {
     "autoexec": {
      "startup": false,
      "wait_interval": 0
     },
     "base_uri": "https://localhost:8080/",
     "height": 258
    },
    "colab_type": "code",
    "executionInfo": {
     "elapsed": 959,
     "status": "ok",
     "timestamp": 1528839054269,
     "user": {
      "displayName": "SHUBHAM VERMA",
      "photoUrl": "https://lh3.googleusercontent.com/a/default-user=s128",
      "userId": "108363614808362191748"
     },
     "user_tz": -330
    },
    "id": "SpKkcLWf7Gnr",
    "outputId": "fbb573ca-0fd7-4a07-ebf7-27a5e1dc9e72"
   },
   "outputs": [
    {
     "name": "stdout",
     "output_type": "stream",
     "text": [
      "_________________________________________________________________\n",
      "Layer (type)                 Output Shape              Param #   \n",
      "=================================================================\n",
      "cu_dnnlstm_1 (CuDNNLSTM)     (None, 14, 512)           1054720   \n",
      "_________________________________________________________________\n",
      "cu_dnnlstm_2 (CuDNNLSTM)     (None, 512)               2101248   \n",
      "_________________________________________________________________\n",
      "dense_8 (Dense)              (None, 1)                 513       \n",
      "=================================================================\n",
      "Total params: 3,156,481\n",
      "Trainable params: 3,156,481\n",
      "Non-trainable params: 0\n",
      "_________________________________________________________________\n"
     ]
    }
   ],
   "source": [
    "#model4.compile(loss='binary_crossentropy', optimizer='adam', metrics=['accuracy'])\n",
    "#model4.summary()"
   ]
  },
  {
   "cell_type": "code",
   "execution_count": 59,
   "metadata": {
    "colab": {
     "autoexec": {
      "startup": false,
      "wait_interval": 0
     },
     "base_uri": "https://localhost:8080/",
     "height": 22336
    },
    "colab_type": "code",
    "executionInfo": {
     "elapsed": 525189,
     "status": "ok",
     "timestamp": 1528839584099,
     "user": {
      "displayName": "SHUBHAM VERMA",
      "photoUrl": "https://lh3.googleusercontent.com/a/default-user=s128",
      "userId": "108363614808362191748"
     },
     "user_tz": -330
    },
    "id": "qkVbrRz-7WaH",
    "outputId": "4ec3b388-49c2-4dda-cf4c-56070ed174db"
   },
   "outputs": [
    {
     "name": "stdout",
     "output_type": "stream",
     "text": [
      "Train on 9900 samples, validate on 1100 samples\n",
      "Epoch 1/300\n"
     ]
    },
    {
     "ename": "InvalidArgumentError",
     "evalue": "No OpKernel was registered to support Op 'CudnnRNN' with these attrs.  Registered devices: [CPU], Registered kernels:\n  <no registered kernels>\n\n\t [[{{node cu_dnnlstm_1/CudnnRNN}} = CudnnRNN[T=DT_FLOAT, direction=\"unidirectional\", dropout=0, input_mode=\"linear_input\", is_training=true, rnn_mode=\"lstm\", seed=87654321, seed2=0](cu_dnnlstm_1/transpose, cu_dnnlstm_1/ExpandDims_1, cu_dnnlstm_1/ExpandDims_2, cu_dnnlstm_1/concat_1)]]\n\nCaused by op 'cu_dnnlstm_1/CudnnRNN', defined at:\n  File \"/usr/lib/python3.5/runpy.py\", line 184, in _run_module_as_main\n    \"__main__\", mod_spec)\n  File \"/usr/lib/python3.5/runpy.py\", line 85, in _run_code\n    exec(code, run_globals)\n  File \"/home/lin/.local/lib/python3.5/site-packages/ipykernel_launcher.py\", line 16, in <module>\n    app.launch_new_instance()\n  File \"/home/lin/.local/lib/python3.5/site-packages/traitlets/config/application.py\", line 658, in launch_instance\n    app.start()\n  File \"/home/lin/.local/lib/python3.5/site-packages/ipykernel/kernelapp.py\", line 505, in start\n    self.io_loop.start()\n  File \"/home/lin/.local/lib/python3.5/site-packages/tornado/platform/asyncio.py\", line 132, in start\n    self.asyncio_loop.run_forever()\n  File \"/usr/lib/python3.5/asyncio/base_events.py\", line 345, in run_forever\n    self._run_once()\n  File \"/usr/lib/python3.5/asyncio/base_events.py\", line 1312, in _run_once\n    handle._run()\n  File \"/usr/lib/python3.5/asyncio/events.py\", line 125, in _run\n    self._callback(*self._args)\n  File \"/home/lin/.local/lib/python3.5/site-packages/tornado/ioloop.py\", line 758, in _run_callback\n    ret = callback()\n  File \"/home/lin/.local/lib/python3.5/site-packages/tornado/stack_context.py\", line 300, in null_wrapper\n    return fn(*args, **kwargs)\n  File \"/home/lin/.local/lib/python3.5/site-packages/tornado/gen.py\", line 1233, in inner\n    self.run()\n  File \"/home/lin/.local/lib/python3.5/site-packages/tornado/gen.py\", line 1147, in run\n    yielded = self.gen.send(value)\n  File \"/home/lin/.local/lib/python3.5/site-packages/ipykernel/kernelbase.py\", line 370, in dispatch_queue\n    yield self.process_one()\n  File \"/home/lin/.local/lib/python3.5/site-packages/tornado/gen.py\", line 346, in wrapper\n    runner = Runner(result, future, yielded)\n  File \"/home/lin/.local/lib/python3.5/site-packages/tornado/gen.py\", line 1080, in __init__\n    self.run()\n  File \"/home/lin/.local/lib/python3.5/site-packages/tornado/gen.py\", line 1147, in run\n    yielded = self.gen.send(value)\n  File \"/home/lin/.local/lib/python3.5/site-packages/ipykernel/kernelbase.py\", line 357, in process_one\n    yield gen.maybe_future(dispatch(*args))\n  File \"/home/lin/.local/lib/python3.5/site-packages/tornado/gen.py\", line 326, in wrapper\n    yielded = next(result)\n  File \"/home/lin/.local/lib/python3.5/site-packages/ipykernel/kernelbase.py\", line 267, in dispatch_shell\n    yield gen.maybe_future(handler(stream, idents, msg))\n  File \"/home/lin/.local/lib/python3.5/site-packages/tornado/gen.py\", line 326, in wrapper\n    yielded = next(result)\n  File \"/home/lin/.local/lib/python3.5/site-packages/ipykernel/kernelbase.py\", line 534, in execute_request\n    user_expressions, allow_stdin,\n  File \"/home/lin/.local/lib/python3.5/site-packages/tornado/gen.py\", line 326, in wrapper\n    yielded = next(result)\n  File \"/home/lin/.local/lib/python3.5/site-packages/ipykernel/ipkernel.py\", line 294, in do_execute\n    res = shell.run_cell(code, store_history=store_history, silent=silent)\n  File \"/home/lin/.local/lib/python3.5/site-packages/ipykernel/zmqshell.py\", line 536, in run_cell\n    return super(ZMQInteractiveShell, self).run_cell(*args, **kwargs)\n  File \"/home/lin/.local/lib/python3.5/site-packages/IPython/core/interactiveshell.py\", line 2817, in run_cell\n    raw_cell, store_history, silent, shell_futures)\n  File \"/home/lin/.local/lib/python3.5/site-packages/IPython/core/interactiveshell.py\", line 2843, in _run_cell\n    return runner(coro)\n  File \"/home/lin/.local/lib/python3.5/site-packages/IPython/core/async_helpers.py\", line 67, in _pseudo_sync_runner\n    coro.send(None)\n  File \"/home/lin/.local/lib/python3.5/site-packages/IPython/core/interactiveshell.py\", line 3018, in run_cell_async\n    interactivity=interactivity, compiler=compiler, result=result)\n  File \"/home/lin/.local/lib/python3.5/site-packages/IPython/core/interactiveshell.py\", line 3183, in run_ast_nodes\n    if (yield from self.run_code(code, result)):\n  File \"/home/lin/.local/lib/python3.5/site-packages/IPython/core/interactiveshell.py\", line 3265, in run_code\n    exec(code_obj, self.user_global_ns, self.user_ns)\n  File \"<ipython-input-50-5f18ed16c4f7>\", line 2, in <module>\n    model4.add(CuDNNLSTM(units=512, input_shape=(14, 1), return_sequences=True))\n  File \"/home/lin/.local/lib/python3.5/site-packages/keras/engine/sequential.py\", line 165, in add\n    layer(x)\n  File \"/home/lin/.local/lib/python3.5/site-packages/keras/layers/recurrent.py\", line 532, in __call__\n    return super(RNN, self).__call__(inputs, **kwargs)\n  File \"/home/lin/.local/lib/python3.5/site-packages/keras/engine/base_layer.py\", line 457, in __call__\n    output = self.call(inputs, **kwargs)\n  File \"/home/lin/.local/lib/python3.5/site-packages/keras/layers/cudnn_recurrent.py\", line 90, in call\n    output, states = self._process_batch(inputs, initial_state)\n  File \"/home/lin/.local/lib/python3.5/site-packages/keras/layers/cudnn_recurrent.py\", line 517, in _process_batch\n    is_training=True)\n  File \"/home/lin/.local/lib/python3.5/site-packages/tensorflow/contrib/cudnn_rnn/python/ops/cudnn_rnn_ops.py\", line 1544, in __call__\n    input_data, input_h, input_c, params, is_training=is_training)\n  File \"/home/lin/.local/lib/python3.5/site-packages/tensorflow/contrib/cudnn_rnn/python/ops/cudnn_rnn_ops.py\", line 1435, in __call__\n    seed=self._seed)\n  File \"/home/lin/.local/lib/python3.5/site-packages/tensorflow/contrib/cudnn_rnn/python/ops/cudnn_rnn_ops.py\", line 922, in _cudnn_rnn\n    outputs, output_h, output_c, _ = gen_cudnn_rnn_ops.cudnn_rnn(**args)\n  File \"/home/lin/.local/lib/python3.5/site-packages/tensorflow/python/ops/gen_cudnn_rnn_ops.py\", line 116, in cudnn_rnn\n    is_training=is_training, name=name)\n  File \"/home/lin/.local/lib/python3.5/site-packages/tensorflow/python/framework/op_def_library.py\", line 787, in _apply_op_helper\n    op_def=op_def)\n  File \"/home/lin/.local/lib/python3.5/site-packages/tensorflow/python/util/deprecation.py\", line 488, in new_func\n    return func(*args, **kwargs)\n  File \"/home/lin/.local/lib/python3.5/site-packages/tensorflow/python/framework/ops.py\", line 3272, in create_op\n    op_def=op_def)\n  File \"/home/lin/.local/lib/python3.5/site-packages/tensorflow/python/framework/ops.py\", line 1768, in __init__\n    self._traceback = tf_stack.extract_stack()\n\nInvalidArgumentError (see above for traceback): No OpKernel was registered to support Op 'CudnnRNN' with these attrs.  Registered devices: [CPU], Registered kernels:\n  <no registered kernels>\n\n\t [[{{node cu_dnnlstm_1/CudnnRNN}} = CudnnRNN[T=DT_FLOAT, direction=\"unidirectional\", dropout=0, input_mode=\"linear_input\", is_training=true, rnn_mode=\"lstm\", seed=87654321, seed2=0](cu_dnnlstm_1/transpose, cu_dnnlstm_1/ExpandDims_1, cu_dnnlstm_1/ExpandDims_2, cu_dnnlstm_1/concat_1)]]\n",
     "output_type": "error",
     "traceback": [
      "\u001b[0;31m---------------------------------------------------------------------------\u001b[0m",
      "\u001b[0;31mInvalidArgumentError\u001b[0m                      Traceback (most recent call last)",
      "\u001b[0;32m~/.local/lib/python3.5/site-packages/tensorflow/python/client/session.py\u001b[0m in \u001b[0;36m_do_call\u001b[0;34m(self, fn, *args)\u001b[0m\n\u001b[1;32m   1291\u001b[0m     \u001b[0;32mtry\u001b[0m\u001b[0;34m:\u001b[0m\u001b[0;34m\u001b[0m\u001b[0m\n\u001b[0;32m-> 1292\u001b[0;31m       \u001b[0;32mreturn\u001b[0m \u001b[0mfn\u001b[0m\u001b[0;34m(\u001b[0m\u001b[0;34m*\u001b[0m\u001b[0margs\u001b[0m\u001b[0;34m)\u001b[0m\u001b[0;34m\u001b[0m\u001b[0m\n\u001b[0m\u001b[1;32m   1293\u001b[0m     \u001b[0;32mexcept\u001b[0m \u001b[0merrors\u001b[0m\u001b[0;34m.\u001b[0m\u001b[0mOpError\u001b[0m \u001b[0;32mas\u001b[0m \u001b[0me\u001b[0m\u001b[0;34m:\u001b[0m\u001b[0;34m\u001b[0m\u001b[0m\n",
      "\u001b[0;32m~/.local/lib/python3.5/site-packages/tensorflow/python/client/session.py\u001b[0m in \u001b[0;36m_run_fn\u001b[0;34m(feed_dict, fetch_list, target_list, options, run_metadata)\u001b[0m\n\u001b[1;32m   1274\u001b[0m       \u001b[0;31m# Ensure any changes to the graph are reflected in the runtime.\u001b[0m\u001b[0;34m\u001b[0m\u001b[0;34m\u001b[0m\u001b[0m\n\u001b[0;32m-> 1275\u001b[0;31m       \u001b[0mself\u001b[0m\u001b[0;34m.\u001b[0m\u001b[0m_extend_graph\u001b[0m\u001b[0;34m(\u001b[0m\u001b[0;34m)\u001b[0m\u001b[0;34m\u001b[0m\u001b[0m\n\u001b[0m\u001b[1;32m   1276\u001b[0m       return self._call_tf_sessionrun(\n",
      "\u001b[0;32m~/.local/lib/python3.5/site-packages/tensorflow/python/client/session.py\u001b[0m in \u001b[0;36m_extend_graph\u001b[0;34m(self)\u001b[0m\n\u001b[1;32m   1311\u001b[0m     \u001b[0;32mwith\u001b[0m \u001b[0mself\u001b[0m\u001b[0;34m.\u001b[0m\u001b[0m_graph\u001b[0m\u001b[0;34m.\u001b[0m\u001b[0m_session_run_lock\u001b[0m\u001b[0;34m(\u001b[0m\u001b[0;34m)\u001b[0m\u001b[0;34m:\u001b[0m  \u001b[0;31m# pylint: disable=protected-access\u001b[0m\u001b[0;34m\u001b[0m\u001b[0m\n\u001b[0;32m-> 1312\u001b[0;31m       \u001b[0mtf_session\u001b[0m\u001b[0;34m.\u001b[0m\u001b[0mExtendSession\u001b[0m\u001b[0;34m(\u001b[0m\u001b[0mself\u001b[0m\u001b[0;34m.\u001b[0m\u001b[0m_session\u001b[0m\u001b[0;34m)\u001b[0m\u001b[0;34m\u001b[0m\u001b[0m\n\u001b[0m\u001b[1;32m   1313\u001b[0m \u001b[0;34m\u001b[0m\u001b[0m\n",
      "\u001b[0;31mInvalidArgumentError\u001b[0m: No OpKernel was registered to support Op 'CudnnRNN' with these attrs.  Registered devices: [CPU], Registered kernels:\n  <no registered kernels>\n\n\t [[{{node cu_dnnlstm_1/CudnnRNN}} = CudnnRNN[T=DT_FLOAT, direction=\"unidirectional\", dropout=0, input_mode=\"linear_input\", is_training=true, rnn_mode=\"lstm\", seed=87654321, seed2=0](cu_dnnlstm_1/transpose, cu_dnnlstm_1/ExpandDims_1, cu_dnnlstm_1/ExpandDims_2, cu_dnnlstm_1/concat_1)]]",
      "\nDuring handling of the above exception, another exception occurred:\n",
      "\u001b[0;31mInvalidArgumentError\u001b[0m                      Traceback (most recent call last)",
      "\u001b[0;32m<ipython-input-59-63c8b40ec0be>\u001b[0m in \u001b[0;36m<module>\u001b[0;34m\u001b[0m\n\u001b[1;32m      3\u001b[0m \u001b[0;34m\u001b[0m\u001b[0m\n\u001b[1;32m      4\u001b[0m \u001b[0mcheckpointer\u001b[0m \u001b[0;34m=\u001b[0m \u001b[0mModelCheckpoint\u001b[0m\u001b[0;34m(\u001b[0m\u001b[0mfilepath\u001b[0m \u001b[0;34m=\u001b[0m \u001b[0;34m'LSTM_new.weights.best.hdf5'\u001b[0m\u001b[0;34m,\u001b[0m \u001b[0mverbose\u001b[0m \u001b[0;34m=\u001b[0m \u001b[0;36m1\u001b[0m\u001b[0;34m,\u001b[0m \u001b[0msave_best_only\u001b[0m \u001b[0;34m=\u001b[0m \u001b[0;32mTrue\u001b[0m\u001b[0;34m)\u001b[0m\u001b[0;34m\u001b[0m\u001b[0m\n\u001b[0;32m----> 5\u001b[0;31m \u001b[0mhist\u001b[0m \u001b[0;34m=\u001b[0m \u001b[0mmodel4\u001b[0m\u001b[0;34m.\u001b[0m\u001b[0mfit\u001b[0m\u001b[0;34m(\u001b[0m\u001b[0mX_train\u001b[0m\u001b[0;34m,\u001b[0m \u001b[0my_train\u001b[0m\u001b[0;34m,\u001b[0m \u001b[0mepochs\u001b[0m \u001b[0;34m=\u001b[0m \u001b[0;36m300\u001b[0m\u001b[0;34m,\u001b[0m \u001b[0mbatch_size\u001b[0m\u001b[0;34m=\u001b[0m \u001b[0;36m512\u001b[0m\u001b[0;34m,\u001b[0m \u001b[0mvalidation_split\u001b[0m \u001b[0;34m=\u001b[0m \u001b[0;36m0.1\u001b[0m\u001b[0;34m,\u001b[0m \u001b[0mcallbacks\u001b[0m \u001b[0;34m=\u001b[0m \u001b[0;34m[\u001b[0m\u001b[0mcheckpointer\u001b[0m\u001b[0;34m]\u001b[0m\u001b[0;34m,\u001b[0m \u001b[0mverbose\u001b[0m \u001b[0;34m=\u001b[0m \u001b[0;36m2\u001b[0m\u001b[0;34m,\u001b[0m \u001b[0mshuffle\u001b[0m \u001b[0;34m=\u001b[0m \u001b[0;32mTrue\u001b[0m\u001b[0;34m)\u001b[0m\u001b[0;34m\u001b[0m\u001b[0m\n\u001b[0m",
      "\u001b[0;32m~/.local/lib/python3.5/site-packages/keras/engine/training.py\u001b[0m in \u001b[0;36mfit\u001b[0;34m(self, x, y, batch_size, epochs, verbose, callbacks, validation_split, validation_data, shuffle, class_weight, sample_weight, initial_epoch, steps_per_epoch, validation_steps, **kwargs)\u001b[0m\n\u001b[1;32m   1037\u001b[0m                                         \u001b[0minitial_epoch\u001b[0m\u001b[0;34m=\u001b[0m\u001b[0minitial_epoch\u001b[0m\u001b[0;34m,\u001b[0m\u001b[0;34m\u001b[0m\u001b[0m\n\u001b[1;32m   1038\u001b[0m                                         \u001b[0msteps_per_epoch\u001b[0m\u001b[0;34m=\u001b[0m\u001b[0msteps_per_epoch\u001b[0m\u001b[0;34m,\u001b[0m\u001b[0;34m\u001b[0m\u001b[0m\n\u001b[0;32m-> 1039\u001b[0;31m                                         validation_steps=validation_steps)\n\u001b[0m\u001b[1;32m   1040\u001b[0m \u001b[0;34m\u001b[0m\u001b[0m\n\u001b[1;32m   1041\u001b[0m     def evaluate(self, x=None, y=None,\n",
      "\u001b[0;32m~/.local/lib/python3.5/site-packages/keras/engine/training_arrays.py\u001b[0m in \u001b[0;36mfit_loop\u001b[0;34m(model, f, ins, out_labels, batch_size, epochs, verbose, callbacks, val_f, val_ins, shuffle, callback_metrics, initial_epoch, steps_per_epoch, validation_steps)\u001b[0m\n\u001b[1;32m    197\u001b[0m                     \u001b[0mins_batch\u001b[0m\u001b[0;34m[\u001b[0m\u001b[0mi\u001b[0m\u001b[0;34m]\u001b[0m \u001b[0;34m=\u001b[0m \u001b[0mins_batch\u001b[0m\u001b[0;34m[\u001b[0m\u001b[0mi\u001b[0m\u001b[0;34m]\u001b[0m\u001b[0;34m.\u001b[0m\u001b[0mtoarray\u001b[0m\u001b[0;34m(\u001b[0m\u001b[0;34m)\u001b[0m\u001b[0;34m\u001b[0m\u001b[0m\n\u001b[1;32m    198\u001b[0m \u001b[0;34m\u001b[0m\u001b[0m\n\u001b[0;32m--> 199\u001b[0;31m                 \u001b[0mouts\u001b[0m \u001b[0;34m=\u001b[0m \u001b[0mf\u001b[0m\u001b[0;34m(\u001b[0m\u001b[0mins_batch\u001b[0m\u001b[0;34m)\u001b[0m\u001b[0;34m\u001b[0m\u001b[0m\n\u001b[0m\u001b[1;32m    200\u001b[0m                 \u001b[0mouts\u001b[0m \u001b[0;34m=\u001b[0m \u001b[0mto_list\u001b[0m\u001b[0;34m(\u001b[0m\u001b[0mouts\u001b[0m\u001b[0;34m)\u001b[0m\u001b[0;34m\u001b[0m\u001b[0m\n\u001b[1;32m    201\u001b[0m                 \u001b[0;32mfor\u001b[0m \u001b[0ml\u001b[0m\u001b[0;34m,\u001b[0m \u001b[0mo\u001b[0m \u001b[0;32min\u001b[0m \u001b[0mzip\u001b[0m\u001b[0;34m(\u001b[0m\u001b[0mout_labels\u001b[0m\u001b[0;34m,\u001b[0m \u001b[0mouts\u001b[0m\u001b[0;34m)\u001b[0m\u001b[0;34m:\u001b[0m\u001b[0;34m\u001b[0m\u001b[0m\n",
      "\u001b[0;32m~/.local/lib/python3.5/site-packages/keras/backend/tensorflow_backend.py\u001b[0m in \u001b[0;36m__call__\u001b[0;34m(self, inputs)\u001b[0m\n\u001b[1;32m   2695\u001b[0m \u001b[0;34m\u001b[0m\u001b[0m\n\u001b[1;32m   2696\u001b[0m     \u001b[0;32mdef\u001b[0m \u001b[0m__call__\u001b[0m\u001b[0;34m(\u001b[0m\u001b[0mself\u001b[0m\u001b[0;34m,\u001b[0m \u001b[0minputs\u001b[0m\u001b[0;34m)\u001b[0m\u001b[0;34m:\u001b[0m\u001b[0;34m\u001b[0m\u001b[0m\n\u001b[0;32m-> 2697\u001b[0;31m         \u001b[0;32mif\u001b[0m \u001b[0mhasattr\u001b[0m\u001b[0;34m(\u001b[0m\u001b[0mget_session\u001b[0m\u001b[0;34m(\u001b[0m\u001b[0;34m)\u001b[0m\u001b[0;34m,\u001b[0m \u001b[0;34m'_make_callable_from_options'\u001b[0m\u001b[0;34m)\u001b[0m\u001b[0;34m:\u001b[0m\u001b[0;34m\u001b[0m\u001b[0m\n\u001b[0m\u001b[1;32m   2698\u001b[0m             \u001b[0;32mif\u001b[0m \u001b[0mpy_any\u001b[0m\u001b[0;34m(\u001b[0m\u001b[0mis_sparse\u001b[0m\u001b[0;34m(\u001b[0m\u001b[0mx\u001b[0m\u001b[0;34m)\u001b[0m \u001b[0;32mfor\u001b[0m \u001b[0mx\u001b[0m \u001b[0;32min\u001b[0m \u001b[0mself\u001b[0m\u001b[0;34m.\u001b[0m\u001b[0minputs\u001b[0m\u001b[0;34m)\u001b[0m\u001b[0;34m:\u001b[0m\u001b[0;34m\u001b[0m\u001b[0m\n\u001b[1;32m   2699\u001b[0m                 \u001b[0;32mif\u001b[0m \u001b[0mpy_any\u001b[0m\u001b[0;34m(\u001b[0m\u001b[0mis_tensor\u001b[0m\u001b[0;34m(\u001b[0m\u001b[0mx\u001b[0m\u001b[0;34m)\u001b[0m \u001b[0;32mfor\u001b[0m \u001b[0mx\u001b[0m \u001b[0;32min\u001b[0m \u001b[0minputs\u001b[0m\u001b[0;34m)\u001b[0m\u001b[0;34m:\u001b[0m\u001b[0;34m\u001b[0m\u001b[0m\n",
      "\u001b[0;32m~/.local/lib/python3.5/site-packages/keras/backend/tensorflow_backend.py\u001b[0m in \u001b[0;36mget_session\u001b[0;34m()\u001b[0m\n\u001b[1;32m    197\u001b[0m                 \u001b[0;31m# not already marked as initialized.\u001b[0m\u001b[0;34m\u001b[0m\u001b[0;34m\u001b[0m\u001b[0m\n\u001b[1;32m    198\u001b[0m                 is_initialized = session.run(\n\u001b[0;32m--> 199\u001b[0;31m                     [tf.is_variable_initialized(v) for v in candidate_vars])\n\u001b[0m\u001b[1;32m    200\u001b[0m                 \u001b[0muninitialized_vars\u001b[0m \u001b[0;34m=\u001b[0m \u001b[0;34m[\u001b[0m\u001b[0;34m]\u001b[0m\u001b[0;34m\u001b[0m\u001b[0m\n\u001b[1;32m    201\u001b[0m                 \u001b[0;32mfor\u001b[0m \u001b[0mflag\u001b[0m\u001b[0;34m,\u001b[0m \u001b[0mv\u001b[0m \u001b[0;32min\u001b[0m \u001b[0mzip\u001b[0m\u001b[0;34m(\u001b[0m\u001b[0mis_initialized\u001b[0m\u001b[0;34m,\u001b[0m \u001b[0mcandidate_vars\u001b[0m\u001b[0;34m)\u001b[0m\u001b[0;34m:\u001b[0m\u001b[0;34m\u001b[0m\u001b[0m\n",
      "\u001b[0;32m~/.local/lib/python3.5/site-packages/tensorflow/python/client/session.py\u001b[0m in \u001b[0;36mrun\u001b[0;34m(self, fetches, feed_dict, options, run_metadata)\u001b[0m\n\u001b[1;32m    885\u001b[0m     \u001b[0;32mtry\u001b[0m\u001b[0;34m:\u001b[0m\u001b[0;34m\u001b[0m\u001b[0m\n\u001b[1;32m    886\u001b[0m       result = self._run(None, fetches, feed_dict, options_ptr,\n\u001b[0;32m--> 887\u001b[0;31m                          run_metadata_ptr)\n\u001b[0m\u001b[1;32m    888\u001b[0m       \u001b[0;32mif\u001b[0m \u001b[0mrun_metadata\u001b[0m\u001b[0;34m:\u001b[0m\u001b[0;34m\u001b[0m\u001b[0m\n\u001b[1;32m    889\u001b[0m         \u001b[0mproto_data\u001b[0m \u001b[0;34m=\u001b[0m \u001b[0mtf_session\u001b[0m\u001b[0;34m.\u001b[0m\u001b[0mTF_GetBuffer\u001b[0m\u001b[0;34m(\u001b[0m\u001b[0mrun_metadata_ptr\u001b[0m\u001b[0;34m)\u001b[0m\u001b[0;34m\u001b[0m\u001b[0m\n",
      "\u001b[0;32m~/.local/lib/python3.5/site-packages/tensorflow/python/client/session.py\u001b[0m in \u001b[0;36m_run\u001b[0;34m(self, handle, fetches, feed_dict, options, run_metadata)\u001b[0m\n\u001b[1;32m   1108\u001b[0m     \u001b[0;32mif\u001b[0m \u001b[0mfinal_fetches\u001b[0m \u001b[0;32mor\u001b[0m \u001b[0mfinal_targets\u001b[0m \u001b[0;32mor\u001b[0m \u001b[0;34m(\u001b[0m\u001b[0mhandle\u001b[0m \u001b[0;32mand\u001b[0m \u001b[0mfeed_dict_tensor\u001b[0m\u001b[0;34m)\u001b[0m\u001b[0;34m:\u001b[0m\u001b[0;34m\u001b[0m\u001b[0m\n\u001b[1;32m   1109\u001b[0m       results = self._do_run(handle, final_targets, final_fetches,\n\u001b[0;32m-> 1110\u001b[0;31m                              feed_dict_tensor, options, run_metadata)\n\u001b[0m\u001b[1;32m   1111\u001b[0m     \u001b[0;32melse\u001b[0m\u001b[0;34m:\u001b[0m\u001b[0;34m\u001b[0m\u001b[0m\n\u001b[1;32m   1112\u001b[0m       \u001b[0mresults\u001b[0m \u001b[0;34m=\u001b[0m \u001b[0;34m[\u001b[0m\u001b[0;34m]\u001b[0m\u001b[0;34m\u001b[0m\u001b[0m\n",
      "\u001b[0;32m~/.local/lib/python3.5/site-packages/tensorflow/python/client/session.py\u001b[0m in \u001b[0;36m_do_run\u001b[0;34m(self, handle, target_list, fetch_list, feed_dict, options, run_metadata)\u001b[0m\n\u001b[1;32m   1284\u001b[0m     \u001b[0;32mif\u001b[0m \u001b[0mhandle\u001b[0m \u001b[0;32mis\u001b[0m \u001b[0;32mNone\u001b[0m\u001b[0;34m:\u001b[0m\u001b[0;34m\u001b[0m\u001b[0m\n\u001b[1;32m   1285\u001b[0m       return self._do_call(_run_fn, feeds, fetches, targets, options,\n\u001b[0;32m-> 1286\u001b[0;31m                            run_metadata)\n\u001b[0m\u001b[1;32m   1287\u001b[0m     \u001b[0;32melse\u001b[0m\u001b[0;34m:\u001b[0m\u001b[0;34m\u001b[0m\u001b[0m\n\u001b[1;32m   1288\u001b[0m       \u001b[0;32mreturn\u001b[0m \u001b[0mself\u001b[0m\u001b[0;34m.\u001b[0m\u001b[0m_do_call\u001b[0m\u001b[0;34m(\u001b[0m\u001b[0m_prun_fn\u001b[0m\u001b[0;34m,\u001b[0m \u001b[0mhandle\u001b[0m\u001b[0;34m,\u001b[0m \u001b[0mfeeds\u001b[0m\u001b[0;34m,\u001b[0m \u001b[0mfetches\u001b[0m\u001b[0;34m)\u001b[0m\u001b[0;34m\u001b[0m\u001b[0m\n",
      "\u001b[0;32m~/.local/lib/python3.5/site-packages/tensorflow/python/client/session.py\u001b[0m in \u001b[0;36m_do_call\u001b[0;34m(self, fn, *args)\u001b[0m\n\u001b[1;32m   1306\u001b[0m           self._config.experimental.client_handles_error_formatting):\n\u001b[1;32m   1307\u001b[0m         \u001b[0mmessage\u001b[0m \u001b[0;34m=\u001b[0m \u001b[0merror_interpolation\u001b[0m\u001b[0;34m.\u001b[0m\u001b[0minterpolate\u001b[0m\u001b[0;34m(\u001b[0m\u001b[0mmessage\u001b[0m\u001b[0;34m,\u001b[0m \u001b[0mself\u001b[0m\u001b[0;34m.\u001b[0m\u001b[0m_graph\u001b[0m\u001b[0;34m)\u001b[0m\u001b[0;34m\u001b[0m\u001b[0m\n\u001b[0;32m-> 1308\u001b[0;31m       \u001b[0;32mraise\u001b[0m \u001b[0mtype\u001b[0m\u001b[0;34m(\u001b[0m\u001b[0me\u001b[0m\u001b[0;34m)\u001b[0m\u001b[0;34m(\u001b[0m\u001b[0mnode_def\u001b[0m\u001b[0;34m,\u001b[0m \u001b[0mop\u001b[0m\u001b[0;34m,\u001b[0m \u001b[0mmessage\u001b[0m\u001b[0;34m)\u001b[0m\u001b[0;34m\u001b[0m\u001b[0m\n\u001b[0m\u001b[1;32m   1309\u001b[0m \u001b[0;34m\u001b[0m\u001b[0m\n\u001b[1;32m   1310\u001b[0m   \u001b[0;32mdef\u001b[0m \u001b[0m_extend_graph\u001b[0m\u001b[0;34m(\u001b[0m\u001b[0mself\u001b[0m\u001b[0;34m)\u001b[0m\u001b[0;34m:\u001b[0m\u001b[0;34m\u001b[0m\u001b[0m\n",
      "\u001b[0;31mInvalidArgumentError\u001b[0m: No OpKernel was registered to support Op 'CudnnRNN' with these attrs.  Registered devices: [CPU], Registered kernels:\n  <no registered kernels>\n\n\t [[{{node cu_dnnlstm_1/CudnnRNN}} = CudnnRNN[T=DT_FLOAT, direction=\"unidirectional\", dropout=0, input_mode=\"linear_input\", is_training=true, rnn_mode=\"lstm\", seed=87654321, seed2=0](cu_dnnlstm_1/transpose, cu_dnnlstm_1/ExpandDims_1, cu_dnnlstm_1/ExpandDims_2, cu_dnnlstm_1/concat_1)]]\n\nCaused by op 'cu_dnnlstm_1/CudnnRNN', defined at:\n  File \"/usr/lib/python3.5/runpy.py\", line 184, in _run_module_as_main\n    \"__main__\", mod_spec)\n  File \"/usr/lib/python3.5/runpy.py\", line 85, in _run_code\n    exec(code, run_globals)\n  File \"/home/lin/.local/lib/python3.5/site-packages/ipykernel_launcher.py\", line 16, in <module>\n    app.launch_new_instance()\n  File \"/home/lin/.local/lib/python3.5/site-packages/traitlets/config/application.py\", line 658, in launch_instance\n    app.start()\n  File \"/home/lin/.local/lib/python3.5/site-packages/ipykernel/kernelapp.py\", line 505, in start\n    self.io_loop.start()\n  File \"/home/lin/.local/lib/python3.5/site-packages/tornado/platform/asyncio.py\", line 132, in start\n    self.asyncio_loop.run_forever()\n  File \"/usr/lib/python3.5/asyncio/base_events.py\", line 345, in run_forever\n    self._run_once()\n  File \"/usr/lib/python3.5/asyncio/base_events.py\", line 1312, in _run_once\n    handle._run()\n  File \"/usr/lib/python3.5/asyncio/events.py\", line 125, in _run\n    self._callback(*self._args)\n  File \"/home/lin/.local/lib/python3.5/site-packages/tornado/ioloop.py\", line 758, in _run_callback\n    ret = callback()\n  File \"/home/lin/.local/lib/python3.5/site-packages/tornado/stack_context.py\", line 300, in null_wrapper\n    return fn(*args, **kwargs)\n  File \"/home/lin/.local/lib/python3.5/site-packages/tornado/gen.py\", line 1233, in inner\n    self.run()\n  File \"/home/lin/.local/lib/python3.5/site-packages/tornado/gen.py\", line 1147, in run\n    yielded = self.gen.send(value)\n  File \"/home/lin/.local/lib/python3.5/site-packages/ipykernel/kernelbase.py\", line 370, in dispatch_queue\n    yield self.process_one()\n  File \"/home/lin/.local/lib/python3.5/site-packages/tornado/gen.py\", line 346, in wrapper\n    runner = Runner(result, future, yielded)\n  File \"/home/lin/.local/lib/python3.5/site-packages/tornado/gen.py\", line 1080, in __init__\n    self.run()\n  File \"/home/lin/.local/lib/python3.5/site-packages/tornado/gen.py\", line 1147, in run\n    yielded = self.gen.send(value)\n  File \"/home/lin/.local/lib/python3.5/site-packages/ipykernel/kernelbase.py\", line 357, in process_one\n    yield gen.maybe_future(dispatch(*args))\n  File \"/home/lin/.local/lib/python3.5/site-packages/tornado/gen.py\", line 326, in wrapper\n    yielded = next(result)\n  File \"/home/lin/.local/lib/python3.5/site-packages/ipykernel/kernelbase.py\", line 267, in dispatch_shell\n    yield gen.maybe_future(handler(stream, idents, msg))\n  File \"/home/lin/.local/lib/python3.5/site-packages/tornado/gen.py\", line 326, in wrapper\n    yielded = next(result)\n  File \"/home/lin/.local/lib/python3.5/site-packages/ipykernel/kernelbase.py\", line 534, in execute_request\n    user_expressions, allow_stdin,\n  File \"/home/lin/.local/lib/python3.5/site-packages/tornado/gen.py\", line 326, in wrapper\n    yielded = next(result)\n  File \"/home/lin/.local/lib/python3.5/site-packages/ipykernel/ipkernel.py\", line 294, in do_execute\n    res = shell.run_cell(code, store_history=store_history, silent=silent)\n  File \"/home/lin/.local/lib/python3.5/site-packages/ipykernel/zmqshell.py\", line 536, in run_cell\n    return super(ZMQInteractiveShell, self).run_cell(*args, **kwargs)\n  File \"/home/lin/.local/lib/python3.5/site-packages/IPython/core/interactiveshell.py\", line 2817, in run_cell\n    raw_cell, store_history, silent, shell_futures)\n  File \"/home/lin/.local/lib/python3.5/site-packages/IPython/core/interactiveshell.py\", line 2843, in _run_cell\n    return runner(coro)\n  File \"/home/lin/.local/lib/python3.5/site-packages/IPython/core/async_helpers.py\", line 67, in _pseudo_sync_runner\n    coro.send(None)\n  File \"/home/lin/.local/lib/python3.5/site-packages/IPython/core/interactiveshell.py\", line 3018, in run_cell_async\n    interactivity=interactivity, compiler=compiler, result=result)\n  File \"/home/lin/.local/lib/python3.5/site-packages/IPython/core/interactiveshell.py\", line 3183, in run_ast_nodes\n    if (yield from self.run_code(code, result)):\n  File \"/home/lin/.local/lib/python3.5/site-packages/IPython/core/interactiveshell.py\", line 3265, in run_code\n    exec(code_obj, self.user_global_ns, self.user_ns)\n  File \"<ipython-input-50-5f18ed16c4f7>\", line 2, in <module>\n    model4.add(CuDNNLSTM(units=512, input_shape=(14, 1), return_sequences=True))\n  File \"/home/lin/.local/lib/python3.5/site-packages/keras/engine/sequential.py\", line 165, in add\n    layer(x)\n  File \"/home/lin/.local/lib/python3.5/site-packages/keras/layers/recurrent.py\", line 532, in __call__\n    return super(RNN, self).__call__(inputs, **kwargs)\n  File \"/home/lin/.local/lib/python3.5/site-packages/keras/engine/base_layer.py\", line 457, in __call__\n    output = self.call(inputs, **kwargs)\n  File \"/home/lin/.local/lib/python3.5/site-packages/keras/layers/cudnn_recurrent.py\", line 90, in call\n    output, states = self._process_batch(inputs, initial_state)\n  File \"/home/lin/.local/lib/python3.5/site-packages/keras/layers/cudnn_recurrent.py\", line 517, in _process_batch\n    is_training=True)\n  File \"/home/lin/.local/lib/python3.5/site-packages/tensorflow/contrib/cudnn_rnn/python/ops/cudnn_rnn_ops.py\", line 1544, in __call__\n    input_data, input_h, input_c, params, is_training=is_training)\n  File \"/home/lin/.local/lib/python3.5/site-packages/tensorflow/contrib/cudnn_rnn/python/ops/cudnn_rnn_ops.py\", line 1435, in __call__\n    seed=self._seed)\n  File \"/home/lin/.local/lib/python3.5/site-packages/tensorflow/contrib/cudnn_rnn/python/ops/cudnn_rnn_ops.py\", line 922, in _cudnn_rnn\n    outputs, output_h, output_c, _ = gen_cudnn_rnn_ops.cudnn_rnn(**args)\n  File \"/home/lin/.local/lib/python3.5/site-packages/tensorflow/python/ops/gen_cudnn_rnn_ops.py\", line 116, in cudnn_rnn\n    is_training=is_training, name=name)\n  File \"/home/lin/.local/lib/python3.5/site-packages/tensorflow/python/framework/op_def_library.py\", line 787, in _apply_op_helper\n    op_def=op_def)\n  File \"/home/lin/.local/lib/python3.5/site-packages/tensorflow/python/util/deprecation.py\", line 488, in new_func\n    return func(*args, **kwargs)\n  File \"/home/lin/.local/lib/python3.5/site-packages/tensorflow/python/framework/ops.py\", line 3272, in create_op\n    op_def=op_def)\n  File \"/home/lin/.local/lib/python3.5/site-packages/tensorflow/python/framework/ops.py\", line 1768, in __init__\n    self._traceback = tf_stack.extract_stack()\n\nInvalidArgumentError (see above for traceback): No OpKernel was registered to support Op 'CudnnRNN' with these attrs.  Registered devices: [CPU], Registered kernels:\n  <no registered kernels>\n\n\t [[{{node cu_dnnlstm_1/CudnnRNN}} = CudnnRNN[T=DT_FLOAT, direction=\"unidirectional\", dropout=0, input_mode=\"linear_input\", is_training=true, rnn_mode=\"lstm\", seed=87654321, seed2=0](cu_dnnlstm_1/transpose, cu_dnnlstm_1/ExpandDims_1, cu_dnnlstm_1/ExpandDims_2, cu_dnnlstm_1/concat_1)]]\n"
     ]
    }
   ],
   "source": [
    "#from keras.callbacks import ModelCheckpoint\n",
    "#from tensorflow.contrib.rnn import *\n",
    "\n",
    "#checkpointer = ModelCheckpoint(filepath = 'LSTM_new.weights.best.hdf5', verbose = 1, save_best_only = True)\n",
    "#hist = model4.fit(X_train, y_train, epochs = 300, batch_size= 512, validation_split = 0.1, callbacks = [checkpointer], verbose = 2, shuffle = True)"
   ]
  },
  {
   "cell_type": "code",
   "execution_count": null,
   "metadata": {
    "colab": {
     "autoexec": {
      "startup": false,
      "wait_interval": 0
     },
     "base_uri": "https://localhost:8080/",
     "height": 54
    },
    "colab_type": "code",
    "executionInfo": {
     "elapsed": 1870,
     "status": "ok",
     "timestamp": 1528839612276,
     "user": {
      "displayName": "SHUBHAM VERMA",
      "photoUrl": "https://lh3.googleusercontent.com/a/default-user=s128",
      "userId": "108363614808362191748"
     },
     "user_tz": -330
    },
    "id": "JQugXwes_aIR",
    "outputId": "934c2289-2e6a-4b99-da80-6ddeda6e442c"
   },
   "outputs": [],
   "source": [
    "#score = model4.evaluate(X_test, y_test, verbose=1)\n",
    "#print(\"Accuracy: \", score[1])"
   ]
  },
  {
   "cell_type": "code",
   "execution_count": null,
   "metadata": {
    "colab": {
     "autoexec": {
      "startup": false,
      "wait_interval": 0
     }
    },
    "colab_type": "code",
    "id": "UVV2ZFc-EcB-"
   },
   "outputs": [],
   "source": [
    "#predict5 =  [1 if a>0.5 else 0 for a in model4.predict(X_test)]"
   ]
  },
  {
   "cell_type": "code",
   "execution_count": null,
   "metadata": {
    "colab": {
     "autoexec": {
      "startup": false,
      "wait_interval": 0
     },
     "base_uri": "https://localhost:8080/",
     "height": 91
    },
    "colab_type": "code",
    "executionInfo": {
     "elapsed": 941,
     "status": "ok",
     "timestamp": 1528839807810,
     "user": {
      "displayName": "SHUBHAM VERMA",
      "photoUrl": "https://lh3.googleusercontent.com/a/default-user=s128",
      "userId": "108363614808362191748"
     },
     "user_tz": -330
    },
    "id": "xdUgnqHrDeog",
    "outputId": "17343632-1328-4401-ebfb-f82a7a51fbc0"
   },
   "outputs": [],
   "source": [
    "#print(\"Accuracy = {}\\nPrecision = {}\\nRecall = {}\\nF1 Score = {}\".format(metrics.accuracy_score(y_test, predict5), metrics.precision_score(y_test, predict5),metrics.recall_score(y_test, predict5),metrics.f1_score(y_test, predict5)))\n",
    "#score_p.append([metrics.accuracy_score(y_test, predict5), metrics.precision_score(y_test, predict5),metrics.recall_score(y_test, predict5),metrics.f1_score(y_test, predict5)])"
   ]
  },
  {
   "cell_type": "code",
   "execution_count": null,
   "metadata": {
    "colab": {
     "autoexec": {
      "startup": false,
      "wait_interval": 0
     },
     "base_uri": "https://localhost:8080/",
     "height": 433
    },
    "colab_type": "code",
    "executionInfo": {
     "elapsed": 1654,
     "status": "ok",
     "timestamp": 1528840923415,
     "user": {
      "displayName": "SHUBHAM VERMA",
      "photoUrl": "https://lh3.googleusercontent.com/a/default-user=s128",
      "userId": "108363614808362191748"
     },
     "user_tz": -330
    },
    "id": "1DdDgA0tBBaA",
    "outputId": "dc119fd8-07e2-4426-cbb7-d90d6bbe89bd"
   },
   "outputs": [],
   "source": [
    "#plt.plot(hist.history['loss'], label = 'train')\n",
    "#plt.plot(hist.history['val_loss'], label = 'valid')\n",
    "#plt.legend()\n",
    "#plt.show()"
   ]
  },
  {
   "cell_type": "markdown",
   "metadata": {
    "colab_type": "text",
    "id": "abJ6a5A5WQsw"
   },
   "source": [
    "# Conclusion"
   ]
  },
  {
   "cell_type": "markdown",
   "metadata": {
    "colab_type": "text",
    "id": "_ynCq160WxHd"
   },
   "source": [
    "## Ploting the results"
   ]
  },
  {
   "cell_type": "code",
   "execution_count": 55,
   "metadata": {
    "colab": {
     "autoexec": {
      "startup": false,
      "wait_interval": 0
     },
     "base_uri": "https://localhost:8080/",
     "height": 555
    },
    "colab_type": "code",
    "executionInfo": {
     "elapsed": 1318,
     "status": "ok",
     "timestamp": 1528839815479,
     "user": {
      "displayName": "SHUBHAM VERMA",
      "photoUrl": "https://lh3.googleusercontent.com/a/default-user=s128",
      "userId": "108363614808362191748"
     },
     "user_tz": -330
    },
    "id": "fqXg8759Wy4c",
    "outputId": "77825d5f-3b6b-4d55-8bd6-cacb7325f2fe"
   },
   "outputs": [
    {
     "data": {
      "image/png": "[encoded data removed]",
      "text/plain": [
       "<Figure size 640x480 with 1 Axes>"
      ]
     },
     "metadata": {},
     "output_type": "display_data"
    }
   ],
   "source": [
    "#For plotting the results code is copied from Udacity Finding Donors for Charity ML Project\n",
    "\n",
    "\n",
    "import matplotlib.pyplot as plt; plt.rcdefaults()\n",
    "import numpy as np\n",
    "import matplotlib.pyplot as plt\n",
    "import matplotlib.patches as mpatches\n",
    "\n",
    "objects = ['Accuracy score', 'Precision score', 'Recall score', 'F1 score']\n",
    "w =  0.15\n",
    "y_pos = np.arange(len(objects))\n",
    "\n",
    "color = ['#A00000','#00A0A0','#00A000', '#FFFF00']\n",
    "s = 0\n",
    "for i in range(len(score_p)):\n",
    "    plt.bar(y_pos+s, score_p[i], color = color[i], width = w )\n",
    "    s += w\n",
    "    \n",
    "plt.xticks(y_pos + 0.22, objects)\n",
    "plt.ylabel('Scores')\n",
    "plt.title('Performance')\n",
    "plt.suptitle(\"Performance Metrics for Models\", fontsize = 16, y = 1.10)\n",
    "\n",
    "p = ['SVM',  'Logistic Regression', 'Neural Network', 'LSTM']\n",
    "\n",
    "patches = []\n",
    "\n",
    "for k in range(len(p)):\n",
    "    patches.append(mpatches.Patch(color = color[k], label = p[k]))\n",
    "\n",
    "plt.legend(handles = patches, bbox_to_anchor = (0.5, 1.19),loc = 'upper center', borderaxespad = 0., ncol = 4, fontsize = 'x-large')\n",
    "\n",
    "plt.show();"
   ]
  },
  {
   "cell_type": "code",
   "execution_count": null,
   "metadata": {
    "colab": {
     "autoexec": {
      "startup": false,
      "wait_interval": 0
     }
    },
    "colab_type": "code",
    "id": "ZQLo40OUYRtr"
   },
   "outputs": [],
   "source": []
  },
  {
   "cell_type": "code",
   "execution_count": null,
   "metadata": {},
   "outputs": [],
   "source": []
  },
  {
   "cell_type": "code",
   "execution_count": null,
   "metadata": {},
   "outputs": [],
   "source": []
  }
 ],
 "metadata": {
  "accelerator": "GPU",
  "colab": {
   "collapsed_sections": [],
   "default_view": {},
   "name": "Capstone.ipynb",
   "provenance": [],
   "version": "0.3.2",
   "views": {}
  },
  "kernelspec": {
   "display_name": "Python 3",
   "language": "python",
   "name": "python3"
  },
  "language_info": {
   "codemirror_mode": {
    "name": "ipython",
    "version": 3
   },
   "file_extension": ".py",
   "mimetype": "text/x-python",
   "name": "python",
   "nbconvert_exporter": "python",
   "pygments_lexer": "ipython3",
   "version": "3.5.2"
  }
 },
 "nbformat": 4,
 "nbformat_minor": 1
}

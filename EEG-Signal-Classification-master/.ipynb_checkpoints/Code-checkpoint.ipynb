{
 "cells": [
  {
   "cell_type": "markdown",
   "metadata": {
    "colab_type": "text",
    "id": "SvPQAWreT63x"
   },
   "source": [
    "# Udacity Capstone Project"
   ]
  },
  {
   "cell_type": "markdown",
   "metadata": {
    "colab_type": "text",
    "id": "le3WdOCST7Xm"
   },
   "source": [
    "## EEG signal Based Eye State Classification"
   ]
  },
  {
   "cell_type": "code",
   "execution_count": 2,
   "metadata": {
    "colab": {
     "autoexec": {
      "startup": false,
      "wait_interval": 0
     }
    },
    "colab_type": "code",
    "id": "60hZQgdqflKU"
   },
   "outputs": [],
   "source": [
    "# Loading the dataset\n",
    "\n",
    "fname = \"EEG Eye State.txt\"\n",
    "with open(fname) as f:\n",
    "    content = f.readlines()\n",
    "\n",
    "content = [x.strip() for x in content] \n",
    "content = [x.split(\",\") for x in content]"
   ]
  },
  {
   "cell_type": "code",
   "execution_count": 3,
   "metadata": {
    "colab": {
     "autoexec": {
      "startup": false,
      "wait_interval": 0
     }
    },
    "colab_type": "code",
    "id": "aYVDStrLgnid"
   },
   "outputs": [],
   "source": [
    "# Converting list to numpy array\n",
    "\n",
    "import numpy as np\n",
    "\n",
    "content = np.array(content, dtype = 'float32')"
   ]
  },
  {
   "cell_type": "code",
   "execution_count": 4,
   "metadata": {
    "colab": {
     "autoexec": {
      "startup": false,
      "wait_interval": 0
     }
    },
    "colab_type": "code",
    "id": "W1m_uyCfse2y"
   },
   "outputs": [],
   "source": [
    "# Shuffling the dataset\n",
    "\n",
    "import random\n",
    "random.shuffle(content)"
   ]
  },
  {
   "cell_type": "code",
   "execution_count": 5,
   "metadata": {
    "colab": {
     "autoexec": {
      "startup": false,
      "wait_interval": 0
     }
    },
    "colab_type": "code",
    "id": "LwqzamB1XFmk"
   },
   "outputs": [],
   "source": [
    "# Storing results of algorithms\n",
    "score_p = []"
   ]
  },
  {
   "cell_type": "markdown",
   "metadata": {
    "colab_type": "text",
    "id": "S41pxHVJ5epZ"
   },
   "source": [
    "### Creating X and Y"
   ]
  },
  {
   "cell_type": "code",
   "execution_count": 6,
   "metadata": {
    "colab": {
     "autoexec": {
      "startup": false,
      "wait_interval": 0
     }
    },
    "colab_type": "code",
    "id": "DjnxZvhpgqKy"
   },
   "outputs": [],
   "source": [
    "x = content[:, :-1]\n",
    "y = np.array(content[:, -1], dtype = 'int32')"
   ]
  },
  {
   "cell_type": "code",
   "execution_count": 7,
   "metadata": {
    "colab": {
     "autoexec": {
      "startup": false,
      "wait_interval": 0
     },
     "base_uri": "https://localhost:8080/",
     "height": 73
    },
    "colab_type": "code",
    "executionInfo": {
     "elapsed": 866,
     "status": "ok",
     "timestamp": 1528838208612,
     "user": {
      "displayName": "SHUBHAM VERMA",
      "photoUrl": "https://lh3.googleusercontent.com/a/default-user=s128",
      "userId": "108363614808362191748"
     },
     "user_tz": -330
    },
    "id": "BVr2ve7Ckp1U",
    "outputId": "0c09278d-c6db-4414-803b-8afb7c6a736e"
   },
   "outputs": [
    {
     "data": {
      "text/plain": [
       "array([4329.23, 4009.23, 4289.23, 4148.21, 4350.26, 4586.15, 4096.92,\n",
       "       4641.03, 4222.05, 4238.46, 4211.28, 4280.51, 4635.9 , 4393.85],\n",
       "      dtype=float32)"
      ]
     },
     "execution_count": 7,
     "metadata": {},
     "output_type": "execute_result"
    }
   ],
   "source": [
    "x[0]"
   ]
  },
  {
   "cell_type": "code",
   "execution_count": 8,
   "metadata": {
    "colab": {
     "autoexec": {
      "startup": false,
      "wait_interval": 0
     },
     "base_uri": "https://localhost:8080/",
     "height": 36
    },
    "colab_type": "code",
    "executionInfo": {
     "elapsed": 775,
     "status": "ok",
     "timestamp": 1528838211087,
     "user": {
      "displayName": "SHUBHAM VERMA",
      "photoUrl": "https://lh3.googleusercontent.com/a/default-user=s128",
      "userId": "108363614808362191748"
     },
     "user_tz": -330
    },
    "id": "JTySF2jYUyrO",
    "outputId": "2bef2805-02bb-4180-f6c9-397f60175b41"
   },
   "outputs": [
    {
     "data": {
      "text/plain": [
       "0"
      ]
     },
     "execution_count": 8,
     "metadata": {},
     "output_type": "execute_result"
    }
   ],
   "source": [
    "y[0]"
   ]
  },
  {
   "cell_type": "markdown",
   "metadata": {
    "colab_type": "text",
    "id": "X1tcVoh6kq9p"
   },
   "source": [
    "# Statistical Features approach"
   ]
  },
  {
   "cell_type": "markdown",
   "metadata": {
    "colab_type": "text",
    "id": "Ie0mMLieqB2t"
   },
   "source": [
    "## Data Preparation"
   ]
  },
  {
   "cell_type": "code",
   "execution_count": 9,
   "metadata": {
    "colab": {
     "autoexec": {
      "startup": false,
      "wait_interval": 0
     }
    },
    "colab_type": "code",
    "id": "Tw8m8Wsklewm"
   },
   "outputs": [],
   "source": [
    "import pandas as pd\n",
    "import numpy as np\n",
    "import scipy\n",
    "import scipy.stats"
   ]
  },
  {
   "cell_type": "code",
   "execution_count": 10,
   "metadata": {
    "colab": {
     "autoexec": {
      "startup": false,
      "wait_interval": 0
     }
    },
    "colab_type": "code",
    "id": "CkOJrTBwkqQG"
   },
   "outputs": [],
   "source": [
    "X_columns = ['mean', 'standard deviation', 'kurt', 'skewness']\n",
    "Y_columns = ['label']"
   ]
  },
  {
   "cell_type": "code",
   "execution_count": 11,
   "metadata": {
    "colab": {
     "autoexec": {
      "startup": false,
      "wait_interval": 0
     }
    },
    "colab_type": "code",
    "id": "zlMuSMqSkqUJ"
   },
   "outputs": [],
   "source": [
    "X = pd.DataFrame(columns = X_columns)\n",
    "Y = pd.DataFrame(columns = Y_columns)"
   ]
  },
  {
   "cell_type": "code",
   "execution_count": 12,
   "metadata": {
    "colab": {
     "autoexec": {
      "startup": false,
      "wait_interval": 0
     }
    },
    "colab_type": "code",
    "id": "-SkGMSZHkqOF"
   },
   "outputs": [],
   "source": [
    "for i in range(len(x)):\n",
    "  X.loc[i] = np.array([np.mean(x[i]), np.std(x[i]), scipy.stats.kurtosis(x[i]), scipy.stats.skew(x[i])])\n",
    "  Y.loc[i] = y[i]"
   ]
  },
  {
   "cell_type": "code",
   "execution_count": 13,
   "metadata": {
    "colab": {
     "autoexec": {
      "startup": false,
      "wait_interval": 0
     },
     "base_uri": "https://localhost:8080/",
     "height": 677
    },
    "colab_type": "code",
    "executionInfo": {
     "elapsed": 794,
     "status": "ok",
     "timestamp": 1528838298864,
     "user": {
      "displayName": "SHUBHAM VERMA",
      "photoUrl": "https://lh3.googleusercontent.com/a/default-user=s128",
      "userId": "108363614808362191748"
     },
     "user_tz": -330
    },
    "id": "kkpqklZPowkK",
    "outputId": "34ee5ed1-0bdf-4d6f-91f1-6d4f7958235f"
   },
   "outputs": [
    {
     "data": {
      "text/html": [
       "<div>\n",
       "<style scoped>\n",
       "    .dataframe tbody tr th:only-of-type {\n",
       "        vertical-align: middle;\n",
       "    }\n",
       "\n",
       "    .dataframe tbody tr th {\n",
       "        vertical-align: top;\n",
       "    }\n",
       "\n",
       "    .dataframe thead th {\n",
       "        text-align: right;\n",
       "    }\n",
       "</style>\n",
       "<table border=\"1\" class=\"dataframe\">\n",
       "  <thead>\n",
       "    <tr style=\"text-align: right;\">\n",
       "      <th></th>\n",
       "      <th>mean</th>\n",
       "      <th>standard deviation</th>\n",
       "      <th>kurt</th>\n",
       "      <th>skewness</th>\n",
       "    </tr>\n",
       "  </thead>\n",
       "  <tbody>\n",
       "    <tr>\n",
       "      <th>0</th>\n",
       "      <td>4316.593750</td>\n",
       "      <td>186.395279</td>\n",
       "      <td>-0.686817</td>\n",
       "      <td>0.439234</td>\n",
       "    </tr>\n",
       "    <tr>\n",
       "      <th>1</th>\n",
       "      <td>4312.748535</td>\n",
       "      <td>186.797379</td>\n",
       "      <td>-0.673855</td>\n",
       "      <td>0.459162</td>\n",
       "    </tr>\n",
       "    <tr>\n",
       "      <th>2</th>\n",
       "      <td>4312.748535</td>\n",
       "      <td>186.797379</td>\n",
       "      <td>-0.673855</td>\n",
       "      <td>0.459162</td>\n",
       "    </tr>\n",
       "    <tr>\n",
       "      <th>3</th>\n",
       "      <td>4316.593750</td>\n",
       "      <td>186.395279</td>\n",
       "      <td>-0.686817</td>\n",
       "      <td>0.439234</td>\n",
       "    </tr>\n",
       "    <tr>\n",
       "      <th>4</th>\n",
       "      <td>4316.227051</td>\n",
       "      <td>183.612762</td>\n",
       "      <td>-0.696899</td>\n",
       "      <td>0.422589</td>\n",
       "    </tr>\n",
       "    <tr>\n",
       "      <th>5</th>\n",
       "      <td>4312.160645</td>\n",
       "      <td>184.608978</td>\n",
       "      <td>-0.693921</td>\n",
       "      <td>0.443294</td>\n",
       "    </tr>\n",
       "    <tr>\n",
       "      <th>6</th>\n",
       "      <td>4312.748535</td>\n",
       "      <td>186.797379</td>\n",
       "      <td>-0.673855</td>\n",
       "      <td>0.459162</td>\n",
       "    </tr>\n",
       "    <tr>\n",
       "      <th>7</th>\n",
       "      <td>4306.008301</td>\n",
       "      <td>183.946869</td>\n",
       "      <td>-0.734426</td>\n",
       "      <td>0.439418</td>\n",
       "    </tr>\n",
       "    <tr>\n",
       "      <th>8</th>\n",
       "      <td>4312.160645</td>\n",
       "      <td>184.608978</td>\n",
       "      <td>-0.693921</td>\n",
       "      <td>0.443294</td>\n",
       "    </tr>\n",
       "    <tr>\n",
       "      <th>9</th>\n",
       "      <td>4316.189941</td>\n",
       "      <td>184.204300</td>\n",
       "      <td>-0.716226</td>\n",
       "      <td>0.414606</td>\n",
       "    </tr>\n",
       "    <tr>\n",
       "      <th>10</th>\n",
       "      <td>4306.556152</td>\n",
       "      <td>184.059586</td>\n",
       "      <td>-0.773915</td>\n",
       "      <td>0.441874</td>\n",
       "    </tr>\n",
       "    <tr>\n",
       "      <th>11</th>\n",
       "      <td>4307.947754</td>\n",
       "      <td>183.828476</td>\n",
       "      <td>-0.711179</td>\n",
       "      <td>0.456295</td>\n",
       "    </tr>\n",
       "    <tr>\n",
       "      <th>12</th>\n",
       "      <td>4309.229980</td>\n",
       "      <td>184.245834</td>\n",
       "      <td>-0.741166</td>\n",
       "      <td>0.445671</td>\n",
       "    </tr>\n",
       "    <tr>\n",
       "      <th>13</th>\n",
       "      <td>4306.556152</td>\n",
       "      <td>184.059586</td>\n",
       "      <td>-0.773915</td>\n",
       "      <td>0.441874</td>\n",
       "    </tr>\n",
       "    <tr>\n",
       "      <th>14</th>\n",
       "      <td>4298.790527</td>\n",
       "      <td>185.073944</td>\n",
       "      <td>-0.714309</td>\n",
       "      <td>0.475782</td>\n",
       "    </tr>\n",
       "    <tr>\n",
       "      <th>15</th>\n",
       "      <td>4312.160645</td>\n",
       "      <td>184.608978</td>\n",
       "      <td>-0.693921</td>\n",
       "      <td>0.443294</td>\n",
       "    </tr>\n",
       "    <tr>\n",
       "      <th>16</th>\n",
       "      <td>4302.344238</td>\n",
       "      <td>185.532516</td>\n",
       "      <td>-0.719003</td>\n",
       "      <td>0.481021</td>\n",
       "    </tr>\n",
       "    <tr>\n",
       "      <th>17</th>\n",
       "      <td>4312.160645</td>\n",
       "      <td>184.608978</td>\n",
       "      <td>-0.693921</td>\n",
       "      <td>0.443294</td>\n",
       "    </tr>\n",
       "    <tr>\n",
       "      <th>18</th>\n",
       "      <td>4316.227051</td>\n",
       "      <td>183.612762</td>\n",
       "      <td>-0.696899</td>\n",
       "      <td>0.422589</td>\n",
       "    </tr>\n",
       "    <tr>\n",
       "      <th>19</th>\n",
       "      <td>4300.038086</td>\n",
       "      <td>186.187546</td>\n",
       "      <td>-0.767577</td>\n",
       "      <td>0.470105</td>\n",
       "    </tr>\n",
       "  </tbody>\n",
       "</table>\n",
       "</div>"
      ],
      "text/plain": [
       "           mean  standard deviation      kurt  skewness\n",
       "0   4316.593750          186.395279 -0.686817  0.439234\n",
       "1   4312.748535          186.797379 -0.673855  0.459162\n",
       "2   4312.748535          186.797379 -0.673855  0.459162\n",
       "3   4316.593750          186.395279 -0.686817  0.439234\n",
       "4   4316.227051          183.612762 -0.696899  0.422589\n",
       "5   4312.160645          184.608978 -0.693921  0.443294\n",
       "6   4312.748535          186.797379 -0.673855  0.459162\n",
       "7   4306.008301          183.946869 -0.734426  0.439418\n",
       "8   4312.160645          184.608978 -0.693921  0.443294\n",
       "9   4316.189941          184.204300 -0.716226  0.414606\n",
       "10  4306.556152          184.059586 -0.773915  0.441874\n",
       "11  4307.947754          183.828476 -0.711179  0.456295\n",
       "12  4309.229980          184.245834 -0.741166  0.445671\n",
       "13  4306.556152          184.059586 -0.773915  0.441874\n",
       "14  4298.790527          185.073944 -0.714309  0.475782\n",
       "15  4312.160645          184.608978 -0.693921  0.443294\n",
       "16  4302.344238          185.532516 -0.719003  0.481021\n",
       "17  4312.160645          184.608978 -0.693921  0.443294\n",
       "18  4316.227051          183.612762 -0.696899  0.422589\n",
       "19  4300.038086          186.187546 -0.767577  0.470105"
      ]
     },
     "execution_count": 13,
     "metadata": {},
     "output_type": "execute_result"
    }
   ],
   "source": [
    "X.head(n=20)"
   ]
  },
  {
   "cell_type": "code",
   "execution_count": 14,
   "metadata": {
    "colab": {
     "autoexec": {
      "startup": false,
      "wait_interval": 0
     },
     "base_uri": "https://localhost:8080/",
     "height": 206
    },
    "colab_type": "code",
    "executionInfo": {
     "elapsed": 800,
     "status": "ok",
     "timestamp": 1528838301215,
     "user": {
      "displayName": "SHUBHAM VERMA",
      "photoUrl": "https://lh3.googleusercontent.com/a/default-user=s128",
      "userId": "108363614808362191748"
     },
     "user_tz": -330
    },
    "id": "Exz5fojXo1ZD",
    "outputId": "c19aff3b-9f82-4c35-d727-b348bc0e78a2"
   },
   "outputs": [
    {
     "data": {
      "text/html": [
       "<div>\n",
       "<style scoped>\n",
       "    .dataframe tbody tr th:only-of-type {\n",
       "        vertical-align: middle;\n",
       "    }\n",
       "\n",
       "    .dataframe tbody tr th {\n",
       "        vertical-align: top;\n",
       "    }\n",
       "\n",
       "    .dataframe thead th {\n",
       "        text-align: right;\n",
       "    }\n",
       "</style>\n",
       "<table border=\"1\" class=\"dataframe\">\n",
       "  <thead>\n",
       "    <tr style=\"text-align: right;\">\n",
       "      <th></th>\n",
       "      <th>label</th>\n",
       "    </tr>\n",
       "  </thead>\n",
       "  <tbody>\n",
       "    <tr>\n",
       "      <th>0</th>\n",
       "      <td>0</td>\n",
       "    </tr>\n",
       "    <tr>\n",
       "      <th>1</th>\n",
       "      <td>0</td>\n",
       "    </tr>\n",
       "    <tr>\n",
       "      <th>2</th>\n",
       "      <td>0</td>\n",
       "    </tr>\n",
       "    <tr>\n",
       "      <th>3</th>\n",
       "      <td>0</td>\n",
       "    </tr>\n",
       "    <tr>\n",
       "      <th>4</th>\n",
       "      <td>0</td>\n",
       "    </tr>\n",
       "  </tbody>\n",
       "</table>\n",
       "</div>"
      ],
      "text/plain": [
       "  label\n",
       "0     0\n",
       "1     0\n",
       "2     0\n",
       "3     0\n",
       "4     0"
      ]
     },
     "execution_count": 14,
     "metadata": {},
     "output_type": "execute_result"
    }
   ],
   "source": [
    "Y.head()"
   ]
  },
  {
   "cell_type": "code",
   "execution_count": 15,
   "metadata": {
    "colab": {
     "autoexec": {
      "startup": false,
      "wait_interval": 0
     }
    },
    "colab_type": "code",
    "id": "ZNr_a9BSpe2M"
   },
   "outputs": [],
   "source": [
    "from sklearn.model_selection import train_test_split\n",
    "\n",
    "# Split the 'features' and 'income' data into training and testing sets\n",
    "X_train1, X_test1, y_train1, y_test1 = train_test_split(X, \n",
    "                                                    y, \n",
    "                                                    test_size = 0.2, \n",
    "                                                    random_state = 0)\n",
    "\n"
   ]
  },
  {
   "cell_type": "markdown",
   "metadata": {
    "colab_type": "text",
    "id": "tOVKmTlm975G"
   },
   "source": [
    "## Training on SVM"
   ]
  },
  {
   "cell_type": "code",
   "execution_count": 16,
   "metadata": {
    "colab": {
     "autoexec": {
      "startup": false,
      "wait_interval": 0
     },
     "base_uri": "https://localhost:8080/",
     "height": 91
    },
    "colab_type": "code",
    "executionInfo": {
     "elapsed": 8633,
     "status": "ok",
     "timestamp": 1528838313637,
     "user": {
      "displayName": "SHUBHAM VERMA",
      "photoUrl": "https://lh3.googleusercontent.com/a/default-user=s128",
      "userId": "108363614808362191748"
     },
     "user_tz": -330
    },
    "id": "paKVcOIqpe6R",
    "outputId": "ca6c31e3-be10-4883-d6a3-34a28b6187d4"
   },
   "outputs": [
    {
     "name": "stderr",
     "output_type": "stream",
     "text": [
      "/home/lin/.local/lib/python3.5/site-packages/sklearn/svm/base.py:196: FutureWarning: The default value of gamma will change from 'auto' to 'scale' in version 0.22 to account better for unscaled features. Set gamma explicitly to 'auto' or 'scale' to avoid this warning.\n",
      "  \"avoid this warning.\", FutureWarning)\n"
     ]
    },
    {
     "data": {
      "text/plain": [
       "SVC(C=1.0, cache_size=200, class_weight=None, coef0=0.0,\n",
       "  decision_function_shape='ovr', degree=3, gamma='auto_deprecated',\n",
       "  kernel='rbf', max_iter=-1, probability=False, random_state=None,\n",
       "  shrinking=True, tol=0.001, verbose=False)"
      ]
     },
     "execution_count": 16,
     "metadata": {},
     "output_type": "execute_result"
    }
   ],
   "source": [
    "from sklearn.svm import SVC\n",
    "clf = SVC()\n",
    "clf.fit(X_train1, y_train1) "
   ]
  },
  {
   "cell_type": "code",
   "execution_count": 17,
   "metadata": {
    "colab": {
     "autoexec": {
      "startup": false,
      "wait_interval": 0
     }
    },
    "colab_type": "code",
    "id": "cFTjEv8wpezm"
   },
   "outputs": [],
   "source": [
    "predicted = clf.predict(X_test1)"
   ]
  },
  {
   "cell_type": "code",
   "execution_count": 18,
   "metadata": {
    "colab": {
     "autoexec": {
      "startup": false,
      "wait_interval": 0
     }
    },
    "colab_type": "code",
    "id": "ctpAFaeo8y5u"
   },
   "outputs": [],
   "source": [
    "from sklearn import metrics"
   ]
  },
  {
   "cell_type": "markdown",
   "metadata": {
    "colab_type": "text",
    "id": "fA32BmL1VHdS"
   },
   "source": [
    "### Performance"
   ]
  },
  {
   "cell_type": "code",
   "execution_count": 19,
   "metadata": {
    "colab": {
     "autoexec": {
      "startup": false,
      "wait_interval": 0
     },
     "base_uri": "https://localhost:8080/",
     "height": 91
    },
    "colab_type": "code",
    "executionInfo": {
     "elapsed": 685,
     "status": "ok",
     "timestamp": 1528839731562,
     "user": {
      "displayName": "SHUBHAM VERMA",
      "photoUrl": "https://lh3.googleusercontent.com/a/default-user=s128",
      "userId": "108363614808362191748"
     },
     "user_tz": -330
    },
    "id": "gaISrM048y2n",
    "outputId": "2aa18b1b-4dc3-4892-9026-4eda9fae30ed"
   },
   "outputs": [
    {
     "name": "stdout",
     "output_type": "stream",
     "text": [
      "Accuracy = 0.6975967957276369\n",
      "Precision = 0.7016434892541087\n",
      "Recall = 0.7189119170984456\n",
      "F1 Score = 0.710172744721689\n"
     ]
    }
   ],
   "source": [
    "print(\"Accuracy = {}\\nPrecision = {}\\nRecall = {}\\nF1 Score = {}\".format(metrics.accuracy_score(y_test1, predicted), metrics.precision_score(y_test1, predicted),metrics.recall_score(y_test1, predicted),metrics.f1_score(y_test1, predicted)))\n",
    "\n",
    "score_p.append([metrics.accuracy_score(y_test1, predicted), metrics.precision_score(y_test1, predicted),metrics.recall_score(y_test1, predicted),metrics.f1_score(y_test1, predicted)]) \n"
   ]
  },
  {
   "cell_type": "code",
   "execution_count": null,
   "metadata": {
    "colab": {
     "autoexec": {
      "startup": false,
      "wait_interval": 0
     }
    },
    "colab_type": "code",
    "id": "q4u3LnbbsNR8"
   },
   "outputs": [],
   "source": []
  },
  {
   "cell_type": "markdown",
   "metadata": {
    "colab_type": "text",
    "id": "aDvHS8kU-JUh"
   },
   "source": [
    "## Training on Logistic Regression"
   ]
  },
  {
   "cell_type": "code",
   "execution_count": 20,
   "metadata": {
    "colab": {
     "autoexec": {
      "startup": false,
      "wait_interval": 0
     }
    },
    "colab_type": "code",
    "id": "pc4_RzElmvdZ"
   },
   "outputs": [],
   "source": [
    "from sklearn.linear_model import LogisticRegression"
   ]
  },
  {
   "cell_type": "code",
   "execution_count": 21,
   "metadata": {
    "colab": {
     "autoexec": {
      "startup": false,
      "wait_interval": 0
     },
     "base_uri": "https://localhost:8080/",
     "height": 111
    },
    "colab_type": "code",
    "executionInfo": {
     "elapsed": 784,
     "status": "ok",
     "timestamp": 1528838337090,
     "user": {
      "displayName": "SHUBHAM VERMA",
      "photoUrl": "https://lh3.googleusercontent.com/a/default-user=s128",
      "userId": "108363614808362191748"
     },
     "user_tz": -330
    },
    "id": "ckjIJXyF-ccn",
    "outputId": "78bef499-c8ab-4d1d-c214-27c21dab3041"
   },
   "outputs": [
    {
     "name": "stderr",
     "output_type": "stream",
     "text": [
      "/home/lin/.local/lib/python3.5/site-packages/sklearn/linear_model/logistic.py:432: FutureWarning: Default solver will be changed to 'lbfgs' in 0.22. Specify a solver to silence this warning.\n",
      "  FutureWarning)\n"
     ]
    },
    {
     "data": {
      "text/plain": [
       "LogisticRegression(C=1.0, class_weight=None, dual=False, fit_intercept=True,\n",
       "          intercept_scaling=1, max_iter=100, multi_class='warn',\n",
       "          n_jobs=None, penalty='l2', random_state=None, solver='warn',\n",
       "          tol=0.0001, verbose=0, warm_start=False)"
      ]
     },
     "execution_count": 21,
     "metadata": {},
     "output_type": "execute_result"
    }
   ],
   "source": [
    "clf_D = LogisticRegression()\n",
    "clf_D.fit(X_train1, y_train1)\n"
   ]
  },
  {
   "cell_type": "code",
   "execution_count": 22,
   "metadata": {
    "colab": {
     "autoexec": {
      "startup": false,
      "wait_interval": 0
     }
    },
    "colab_type": "code",
    "id": "PGT09n8G_U0e"
   },
   "outputs": [],
   "source": [
    "predict = clf_D.predict(X_test1)\n"
   ]
  },
  {
   "cell_type": "markdown",
   "metadata": {
    "colab_type": "text",
    "id": "1cch7p1zVPCO"
   },
   "source": [
    "### Performance"
   ]
  },
  {
   "cell_type": "code",
   "execution_count": 23,
   "metadata": {
    "colab": {
     "autoexec": {
      "startup": false,
      "wait_interval": 0
     },
     "base_uri": "https://localhost:8080/",
     "height": 91
    },
    "colab_type": "code",
    "executionInfo": {
     "elapsed": 1016,
     "status": "ok",
     "timestamp": 1528839743803,
     "user": {
      "displayName": "SHUBHAM VERMA",
      "photoUrl": "https://lh3.googleusercontent.com/a/default-user=s128",
      "userId": "108363614808362191748"
     },
     "user_tz": -330
    },
    "id": "Phhv-p2p_VAk",
    "outputId": "db3f9548-72c9-4c7e-8f49-77983a4ec9d5"
   },
   "outputs": [
    {
     "name": "stdout",
     "output_type": "stream",
     "text": [
      "Accuracy = 0.5283711615487316\n",
      "Precision = 0.5395770392749245\n",
      "Recall = 0.5783678756476683\n",
      "F1 Score = 0.5582994685839325\n"
     ]
    }
   ],
   "source": [
    "print(\"Accuracy = {}\\nPrecision = {}\\nRecall = {}\\nF1 Score = {}\".format(metrics.accuracy_score(y_test1, predict), metrics.precision_score(y_test1, predict),metrics.recall_score(y_test1, predict),metrics.f1_score(y_test1, predict)))\n",
    "score_p.append([metrics.accuracy_score(y_test1, predict), metrics.precision_score(y_test1, predict),metrics.recall_score(y_test1, predict),metrics.f1_score(y_test1, predict)])"
   ]
  },
  {
   "cell_type": "markdown",
   "metadata": {
    "colab_type": "text",
    "id": "GnFFg0vtVeCH"
   },
   "source": [
    "## Second Approach Directly use 14 values of EEG data and use it for prediction "
   ]
  },
  {
   "cell_type": "markdown",
   "metadata": {
    "colab_type": "text",
    "id": "sgqdtQHV6Ce7"
   },
   "source": [
    "### Normalization of data"
   ]
  },
  {
   "cell_type": "markdown",
   "metadata": {
    "colab_type": "text",
    "id": "6odWgZ7wVWGF"
   },
   "source": [
    "Normalization of data is required before using it on Nueral Networks"
   ]
  },
  {
   "cell_type": "code",
   "execution_count": 24,
   "metadata": {
    "colab": {
     "autoexec": {
      "startup": false,
      "wait_interval": 0
     }
    },
    "colab_type": "code",
    "id": "qwpiaNsqg7EU"
   },
   "outputs": [],
   "source": [
    "from sklearn.preprocessing import MinMaxScaler\n",
    "scaler = MinMaxScaler()"
   ]
  },
  {
   "cell_type": "code",
   "execution_count": 25,
   "metadata": {
    "colab": {
     "autoexec": {
      "startup": false,
      "wait_interval": 0
     }
    },
    "colab_type": "code",
    "id": "F1oNrbyBiO0z"
   },
   "outputs": [],
   "source": [
    "scaler.fit(x)\n",
    "x_new = scaler.transform(x)"
   ]
  },
  {
   "cell_type": "code",
   "execution_count": 26,
   "metadata": {
    "colab": {
     "autoexec": {
      "startup": false,
      "wait_interval": 0
     }
    },
    "colab_type": "code",
    "id": "kUrGdTA2Nvjk"
   },
   "outputs": [],
   "source": [
    "data_mean = x.mean()\n",
    "data_std = x.std()\n",
    "x = (x - data_mean)/data_std"
   ]
  },
  {
   "cell_type": "code",
   "execution_count": 27,
   "metadata": {
    "colab": {
     "autoexec": {
      "startup": false,
      "wait_interval": 0
     }
    },
    "colab_type": "code",
    "id": "cIhNcStuldzi"
   },
   "outputs": [],
   "source": [
    "(x_train, x_test) = x[:11000], x[11000:]\n",
    "(y_train, y_test) = y[:11000], y[11000:]"
   ]
  },
  {
   "cell_type": "markdown",
   "metadata": {
    "colab_type": "text",
    "id": "hCJlgBEy58II"
   },
   "source": [
    "## Training on Neural Networks"
   ]
  },
  {
   "cell_type": "markdown",
   "metadata": {
    "colab_type": "text",
    "id": "MN_--9h56Mi9"
   },
   "source": [
    "### Creating Model"
   ]
  },
  {
   "cell_type": "code",
   "execution_count": 28,
   "metadata": {
    "colab": {
     "autoexec": {
      "startup": false,
      "wait_interval": 0
     }
    },
    "colab_type": "code",
    "id": "G8tW2xROi6lz"
   },
   "outputs": [
    {
     "name": "stderr",
     "output_type": "stream",
     "text": [
      "Using TensorFlow backend.\n"
     ]
    }
   ],
   "source": [
    "from keras.models import Sequential\n",
    "from keras.layers import Dense, Dropout"
   ]
  },
  {
   "cell_type": "code",
   "execution_count": 29,
   "metadata": {
    "colab": {
     "autoexec": {
      "startup": false,
      "wait_interval": 0
     },
     "base_uri": "https://localhost:8080/",
     "height": 221
    },
    "colab_type": "code",
    "executionInfo": {
     "elapsed": 836,
     "status": "ok",
     "timestamp": 1528838368502,
     "user": {
      "displayName": "SHUBHAM VERMA",
      "photoUrl": "https://lh3.googleusercontent.com/a/default-user=s128",
      "userId": "108363614808362191748"
     },
     "user_tz": -330
    },
    "id": "4AxUgQBli8xN",
    "outputId": "307361bc-640f-4bef-de28-13600b6523e2"
   },
   "outputs": [
    {
     "name": "stdout",
     "output_type": "stream",
     "text": [
      "_________________________________________________________________\n",
      "Layer (type)                 Output Shape              Param #   \n",
      "=================================================================\n",
      "dense_1 (Dense)              (None, 512)               7680      \n",
      "_________________________________________________________________\n",
      "dense_2 (Dense)              (None, 1)                 513       \n",
      "=================================================================\n",
      "Total params: 8,193\n",
      "Trainable params: 8,193\n",
      "Non-trainable params: 0\n",
      "_________________________________________________________________\n"
     ]
    }
   ],
   "source": [
    "model = Sequential()\n",
    "model.add(Dense(512, activation = 'relu', input_shape = (x.shape[1], )))\n",
    "model.add(Dense(1, activation = 'sigmoid'))\n",
    "model.summary()"
   ]
  },
  {
   "cell_type": "code",
   "execution_count": 30,
   "metadata": {
    "colab": {
     "autoexec": {
      "startup": false,
      "wait_interval": 0
     },
     "base_uri": "https://localhost:8080/",
     "height": 221
    },
    "colab_type": "code",
    "executionInfo": {
     "elapsed": 733,
     "status": "ok",
     "timestamp": 1528838372215,
     "user": {
      "displayName": "SHUBHAM VERMA",
      "photoUrl": "https://lh3.googleusercontent.com/a/default-user=s128",
      "userId": "108363614808362191748"
     },
     "user_tz": -330
    },
    "id": "Lpwu-Tg3jZr2",
    "outputId": "1895fc93-dd34-495a-c551-10a06227d411"
   },
   "outputs": [
    {
     "name": "stdout",
     "output_type": "stream",
     "text": [
      "_________________________________________________________________\n",
      "Layer (type)                 Output Shape              Param #   \n",
      "=================================================================\n",
      "dense_1 (Dense)              (None, 512)               7680      \n",
      "_________________________________________________________________\n",
      "dense_2 (Dense)              (None, 1)                 513       \n",
      "=================================================================\n",
      "Total params: 8,193\n",
      "Trainable params: 8,193\n",
      "Non-trainable params: 0\n",
      "_________________________________________________________________\n"
     ]
    }
   ],
   "source": [
    "model.compile(loss = 'binary_crossentropy', optimizer='adam', metrics=['accuracy'])\n",
    "model.summary()"
   ]
  },
  {
   "cell_type": "markdown",
   "metadata": {
    "colab_type": "text",
    "id": "N9hvDrSn4y4N"
   },
   "source": [
    "### Training"
   ]
  },
  {
   "cell_type": "code",
   "execution_count": 31,
   "metadata": {
    "colab": {
     "autoexec": {
      "startup": false,
      "wait_interval": 0
     },
     "base_uri": "https://localhost:8080/",
     "height": 7482
    },
    "colab_type": "code",
    "executionInfo": {
     "elapsed": 27056,
     "status": "ok",
     "timestamp": 1528838410588,
     "user": {
      "displayName": "SHUBHAM VERMA",
      "photoUrl": "https://lh3.googleusercontent.com/a/default-user=s128",
      "userId": "108363614808362191748"
     },
     "user_tz": -330
    },
    "id": "vKh20CJrmYV7",
    "outputId": "55aa30fa-fdf5-45a6-b6ed-3461156bc844"
   },
   "outputs": [
    {
     "name": "stdout",
     "output_type": "stream",
     "text": [
      "Train on 9900 samples, validate on 1100 samples\n",
      "Epoch 1/100\n",
      " - 1s - loss: 0.6957 - acc: 0.5267 - val_loss: 0.6914 - val_acc: 0.5164\n",
      "\n",
      "Epoch 00001: val_loss improved from inf to 0.69139, saving model to MLP.weights.best.hdf5\n",
      "Epoch 2/100\n",
      " - 0s - loss: 0.6937 - acc: 0.5286 - val_loss: 0.6905 - val_acc: 0.5300\n",
      "\n",
      "Epoch 00002: val_loss improved from 0.69139 to 0.69046, saving model to MLP.weights.best.hdf5\n",
      "Epoch 3/100\n",
      " - 1s - loss: 0.6911 - acc: 0.5341 - val_loss: 0.6887 - val_acc: 0.5382\n",
      "\n",
      "Epoch 00003: val_loss improved from 0.69046 to 0.68868, saving model to MLP.weights.best.hdf5\n",
      "Epoch 4/100\n",
      " - 0s - loss: 0.6876 - acc: 0.5393 - val_loss: 0.6867 - val_acc: 0.5291\n",
      "\n",
      "Epoch 00004: val_loss improved from 0.68868 to 0.68668, saving model to MLP.weights.best.hdf5\n",
      "Epoch 5/100\n",
      " - 0s - loss: 0.6833 - acc: 0.5427 - val_loss: 0.6849 - val_acc: 0.5345\n",
      "\n",
      "Epoch 00005: val_loss improved from 0.68668 to 0.68486, saving model to MLP.weights.best.hdf5\n",
      "Epoch 6/100\n",
      " - 0s - loss: 0.6786 - acc: 0.5497 - val_loss: 0.6827 - val_acc: 0.5155\n",
      "\n",
      "Epoch 00006: val_loss improved from 0.68486 to 0.68265, saving model to MLP.weights.best.hdf5\n",
      "Epoch 7/100\n",
      " - 0s - loss: 0.6735 - acc: 0.5611 - val_loss: 0.6811 - val_acc: 0.5200\n",
      "\n",
      "Epoch 00007: val_loss improved from 0.68265 to 0.68105, saving model to MLP.weights.best.hdf5\n",
      "Epoch 8/100\n",
      " - 0s - loss: 0.6703 - acc: 0.5681 - val_loss: 0.6798 - val_acc: 0.5227\n",
      "\n",
      "Epoch 00008: val_loss improved from 0.68105 to 0.67985, saving model to MLP.weights.best.hdf5\n",
      "Epoch 9/100\n",
      " - 0s - loss: 0.6641 - acc: 0.5767 - val_loss: 0.6836 - val_acc: 0.5400\n",
      "\n",
      "Epoch 00009: val_loss did not improve from 0.67985\n",
      "Epoch 10/100\n",
      " - 0s - loss: 0.6602 - acc: 0.5948 - val_loss: 0.6785 - val_acc: 0.5300\n",
      "\n",
      "Epoch 00010: val_loss improved from 0.67985 to 0.67847, saving model to MLP.weights.best.hdf5\n",
      "Epoch 11/100\n",
      " - 0s - loss: 0.6546 - acc: 0.5958 - val_loss: 0.6781 - val_acc: 0.5391\n",
      "\n",
      "Epoch 00011: val_loss improved from 0.67847 to 0.67806, saving model to MLP.weights.best.hdf5\n",
      "Epoch 12/100\n",
      " - 0s - loss: 0.6503 - acc: 0.6006 - val_loss: 0.6796 - val_acc: 0.5282\n",
      "\n",
      "Epoch 00012: val_loss did not improve from 0.67806\n",
      "Epoch 13/100\n",
      " - 0s - loss: 0.6467 - acc: 0.6062 - val_loss: 0.6778 - val_acc: 0.5445\n",
      "\n",
      "Epoch 00013: val_loss improved from 0.67806 to 0.67783, saving model to MLP.weights.best.hdf5\n",
      "Epoch 14/100\n",
      " - 0s - loss: 0.6388 - acc: 0.6091 - val_loss: 0.6775 - val_acc: 0.5455\n",
      "\n",
      "Epoch 00014: val_loss improved from 0.67783 to 0.67749, saving model to MLP.weights.best.hdf5\n",
      "Epoch 15/100\n",
      " - 0s - loss: 0.6386 - acc: 0.6121 - val_loss: 0.6821 - val_acc: 0.5418\n",
      "\n",
      "Epoch 00015: val_loss did not improve from 0.67749\n",
      "Epoch 16/100\n",
      " - 0s - loss: 0.6337 - acc: 0.6122 - val_loss: 0.6783 - val_acc: 0.5364\n",
      "\n",
      "Epoch 00016: val_loss did not improve from 0.67749\n",
      "Epoch 17/100\n",
      " - 0s - loss: 0.6302 - acc: 0.6147 - val_loss: 0.6776 - val_acc: 0.5482\n",
      "\n",
      "Epoch 00017: val_loss did not improve from 0.67749\n",
      "Epoch 18/100\n",
      " - 0s - loss: 0.6291 - acc: 0.6192 - val_loss: 0.6797 - val_acc: 0.5373\n",
      "\n",
      "Epoch 00018: val_loss did not improve from 0.67749\n",
      "Epoch 19/100\n",
      " - 0s - loss: 0.6261 - acc: 0.6197 - val_loss: 0.6817 - val_acc: 0.5382\n",
      "\n",
      "Epoch 00019: val_loss did not improve from 0.67749\n",
      "Epoch 20/100\n",
      " - 0s - loss: 0.6248 - acc: 0.6252 - val_loss: 0.6785 - val_acc: 0.5409\n",
      "\n",
      "Epoch 00020: val_loss did not improve from 0.67749\n",
      "Epoch 21/100\n",
      " - 0s - loss: 0.6236 - acc: 0.6229 - val_loss: 0.6780 - val_acc: 0.5455\n",
      "\n",
      "Epoch 00021: val_loss did not improve from 0.67749\n",
      "Epoch 22/100\n",
      " - 0s - loss: 0.6211 - acc: 0.6187 - val_loss: 0.6836 - val_acc: 0.5391\n",
      "\n",
      "Epoch 00022: val_loss did not improve from 0.67749\n",
      "Epoch 23/100\n",
      " - 0s - loss: 0.6206 - acc: 0.6333 - val_loss: 0.6832 - val_acc: 0.5418\n",
      "\n",
      "Epoch 00023: val_loss did not improve from 0.67749\n",
      "Epoch 24/100\n",
      " - 0s - loss: 0.6214 - acc: 0.6236 - val_loss: 0.6772 - val_acc: 0.5509\n",
      "\n",
      "Epoch 00024: val_loss improved from 0.67749 to 0.67716, saving model to MLP.weights.best.hdf5\n",
      "Epoch 25/100\n",
      " - 0s - loss: 0.6164 - acc: 0.6314 - val_loss: 0.6808 - val_acc: 0.5409\n",
      "\n",
      "Epoch 00025: val_loss did not improve from 0.67716\n",
      "Epoch 26/100\n",
      " - 0s - loss: 0.6146 - acc: 0.6317 - val_loss: 0.6814 - val_acc: 0.5427\n",
      "\n",
      "Epoch 00026: val_loss did not improve from 0.67716\n",
      "Epoch 27/100\n",
      " - 0s - loss: 0.6142 - acc: 0.6324 - val_loss: 0.6836 - val_acc: 0.5436\n",
      "\n",
      "Epoch 00027: val_loss did not improve from 0.67716\n",
      "Epoch 28/100\n",
      " - 0s - loss: 0.6124 - acc: 0.6328 - val_loss: 0.6803 - val_acc: 0.5355\n",
      "\n",
      "Epoch 00028: val_loss did not improve from 0.67716\n",
      "Epoch 29/100\n",
      " - 0s - loss: 0.6125 - acc: 0.6378 - val_loss: 0.6765 - val_acc: 0.5509\n",
      "\n",
      "Epoch 00029: val_loss improved from 0.67716 to 0.67652, saving model to MLP.weights.best.hdf5\n",
      "Epoch 30/100\n",
      " - 0s - loss: 0.6106 - acc: 0.6347 - val_loss: 0.6766 - val_acc: 0.5418\n",
      "\n",
      "Epoch 00030: val_loss did not improve from 0.67652\n",
      "Epoch 31/100\n",
      " - 0s - loss: 0.6100 - acc: 0.6357 - val_loss: 0.6792 - val_acc: 0.5391\n",
      "\n",
      "Epoch 00031: val_loss did not improve from 0.67652\n",
      "Epoch 32/100\n",
      " - 0s - loss: 0.6080 - acc: 0.6406 - val_loss: 0.6750 - val_acc: 0.5527\n",
      "\n",
      "Epoch 00032: val_loss improved from 0.67652 to 0.67497, saving model to MLP.weights.best.hdf5\n",
      "Epoch 33/100\n",
      " - 0s - loss: 0.6073 - acc: 0.6416 - val_loss: 0.6758 - val_acc: 0.5427\n",
      "\n",
      "Epoch 00033: val_loss did not improve from 0.67497\n",
      "Epoch 34/100\n",
      " - 0s - loss: 0.6047 - acc: 0.6399 - val_loss: 0.6745 - val_acc: 0.5564\n",
      "\n",
      "Epoch 00034: val_loss improved from 0.67497 to 0.67447, saving model to MLP.weights.best.hdf5\n",
      "Epoch 35/100\n",
      " - 0s - loss: 0.6049 - acc: 0.6389 - val_loss: 0.6818 - val_acc: 0.5436\n",
      "\n",
      "Epoch 00035: val_loss did not improve from 0.67447\n",
      "Epoch 36/100\n",
      " - 0s - loss: 0.6033 - acc: 0.6469 - val_loss: 0.6809 - val_acc: 0.5455\n",
      "\n",
      "Epoch 00036: val_loss did not improve from 0.67447\n",
      "Epoch 37/100\n",
      " - 0s - loss: 0.6022 - acc: 0.6492 - val_loss: 0.6741 - val_acc: 0.5418\n",
      "\n",
      "Epoch 00037: val_loss improved from 0.67447 to 0.67409, saving model to MLP.weights.best.hdf5\n",
      "Epoch 38/100\n",
      " - 0s - loss: 0.5999 - acc: 0.6486 - val_loss: 0.6742 - val_acc: 0.5409\n",
      "\n",
      "Epoch 00038: val_loss did not improve from 0.67409\n",
      "Epoch 39/100\n",
      " - 0s - loss: 0.5984 - acc: 0.6541 - val_loss: 0.6733 - val_acc: 0.5455\n",
      "\n",
      "Epoch 00039: val_loss improved from 0.67409 to 0.67334, saving model to MLP.weights.best.hdf5\n",
      "Epoch 40/100\n",
      " - 0s - loss: 0.5977 - acc: 0.6506 - val_loss: 0.6721 - val_acc: 0.5473\n",
      "\n",
      "Epoch 00040: val_loss improved from 0.67334 to 0.67205, saving model to MLP.weights.best.hdf5\n",
      "Epoch 41/100\n",
      " - 0s - loss: 0.5968 - acc: 0.6501 - val_loss: 0.6724 - val_acc: 0.5518\n",
      "\n",
      "Epoch 00041: val_loss did not improve from 0.67205\n",
      "Epoch 42/100\n",
      " - 0s - loss: 0.5958 - acc: 0.6555 - val_loss: 0.6712 - val_acc: 0.5527\n",
      "\n",
      "Epoch 00042: val_loss improved from 0.67205 to 0.67116, saving model to MLP.weights.best.hdf5\n",
      "Epoch 43/100\n",
      " - 0s - loss: 0.5936 - acc: 0.6561 - val_loss: 0.6710 - val_acc: 0.5491\n",
      "\n",
      "Epoch 00043: val_loss improved from 0.67116 to 0.67101, saving model to MLP.weights.best.hdf5\n",
      "Epoch 44/100\n",
      " - 0s - loss: 0.5930 - acc: 0.6573 - val_loss: 0.6733 - val_acc: 0.5509\n",
      "\n",
      "Epoch 00044: val_loss did not improve from 0.67101\n",
      "Epoch 45/100\n",
      " - 0s - loss: 0.5913 - acc: 0.6668 - val_loss: 0.6712 - val_acc: 0.5691\n",
      "\n",
      "Epoch 00045: val_loss did not improve from 0.67101\n",
      "Epoch 46/100\n",
      " - 0s - loss: 0.5921 - acc: 0.6621 - val_loss: 0.6788 - val_acc: 0.5536\n",
      "\n",
      "Epoch 00046: val_loss did not improve from 0.67101\n",
      "Epoch 47/100\n",
      " - 0s - loss: 0.5898 - acc: 0.6681 - val_loss: 0.6741 - val_acc: 0.5491\n",
      "\n",
      "Epoch 00047: val_loss did not improve from 0.67101\n",
      "Epoch 48/100\n",
      " - 0s - loss: 0.5881 - acc: 0.6659 - val_loss: 0.6673 - val_acc: 0.5700\n",
      "\n",
      "Epoch 00048: val_loss improved from 0.67101 to 0.66733, saving model to MLP.weights.best.hdf5\n",
      "Epoch 49/100\n",
      " - 0s - loss: 0.5861 - acc: 0.6688 - val_loss: 0.6708 - val_acc: 0.5536\n",
      "\n",
      "Epoch 00049: val_loss did not improve from 0.66733\n",
      "Epoch 50/100\n",
      " - 0s - loss: 0.5859 - acc: 0.6763 - val_loss: 0.6664 - val_acc: 0.5655\n",
      "\n",
      "Epoch 00050: val_loss improved from 0.66733 to 0.66642, saving model to MLP.weights.best.hdf5\n",
      "Epoch 51/100\n",
      " - 0s - loss: 0.5847 - acc: 0.6693 - val_loss: 0.6663 - val_acc: 0.5609\n",
      "\n",
      "Epoch 00051: val_loss improved from 0.66642 to 0.66631, saving model to MLP.weights.best.hdf5\n",
      "Epoch 52/100\n",
      " - 0s - loss: 0.5826 - acc: 0.6759 - val_loss: 0.6665 - val_acc: 0.5682\n",
      "\n",
      "Epoch 00052: val_loss did not improve from 0.66631\n",
      "Epoch 53/100\n"
     ]
    },
    {
     "name": "stdout",
     "output_type": "stream",
     "text": [
      " - 0s - loss: 0.5818 - acc: 0.6774 - val_loss: 0.6763 - val_acc: 0.5591\n",
      "\n",
      "Epoch 00053: val_loss did not improve from 0.66631\n",
      "Epoch 54/100\n",
      " - 0s - loss: 0.5821 - acc: 0.6740 - val_loss: 0.6651 - val_acc: 0.5664\n",
      "\n",
      "Epoch 00054: val_loss improved from 0.66631 to 0.66512, saving model to MLP.weights.best.hdf5\n",
      "Epoch 55/100\n",
      " - 0s - loss: 0.5796 - acc: 0.6808 - val_loss: 0.6655 - val_acc: 0.5655\n",
      "\n",
      "Epoch 00055: val_loss did not improve from 0.66512\n",
      "Epoch 56/100\n",
      " - 0s - loss: 0.5779 - acc: 0.6813 - val_loss: 0.6695 - val_acc: 0.5600\n",
      "\n",
      "Epoch 00056: val_loss did not improve from 0.66512\n",
      "Epoch 57/100\n",
      " - 0s - loss: 0.5760 - acc: 0.6868 - val_loss: 0.6636 - val_acc: 0.5755\n",
      "\n",
      "Epoch 00057: val_loss improved from 0.66512 to 0.66359, saving model to MLP.weights.best.hdf5\n",
      "Epoch 58/100\n",
      " - 0s - loss: 0.5748 - acc: 0.6894 - val_loss: 0.6630 - val_acc: 0.5700\n",
      "\n",
      "Epoch 00058: val_loss improved from 0.66359 to 0.66304, saving model to MLP.weights.best.hdf5\n",
      "Epoch 59/100\n",
      " - 0s - loss: 0.5738 - acc: 0.6932 - val_loss: 0.6629 - val_acc: 0.5727\n",
      "\n",
      "Epoch 00059: val_loss improved from 0.66304 to 0.66291, saving model to MLP.weights.best.hdf5\n",
      "Epoch 60/100\n",
      " - 0s - loss: 0.5715 - acc: 0.6944 - val_loss: 0.6677 - val_acc: 0.5618\n",
      "\n",
      "Epoch 00060: val_loss did not improve from 0.66291\n",
      "Epoch 61/100\n",
      " - 0s - loss: 0.5712 - acc: 0.6930 - val_loss: 0.6662 - val_acc: 0.5618\n",
      "\n",
      "Epoch 00061: val_loss did not improve from 0.66291\n",
      "Epoch 62/100\n",
      " - 0s - loss: 0.5700 - acc: 0.7026 - val_loss: 0.6624 - val_acc: 0.5855\n",
      "\n",
      "Epoch 00062: val_loss improved from 0.66291 to 0.66236, saving model to MLP.weights.best.hdf5\n",
      "Epoch 63/100\n",
      " - 0s - loss: 0.5680 - acc: 0.6986 - val_loss: 0.6614 - val_acc: 0.5773\n",
      "\n",
      "Epoch 00063: val_loss improved from 0.66236 to 0.66144, saving model to MLP.weights.best.hdf5\n",
      "Epoch 64/100\n",
      " - 0s - loss: 0.5657 - acc: 0.7070 - val_loss: 0.6599 - val_acc: 0.5845\n",
      "\n",
      "Epoch 00064: val_loss improved from 0.66144 to 0.65995, saving model to MLP.weights.best.hdf5\n",
      "Epoch 65/100\n",
      " - 0s - loss: 0.5662 - acc: 0.7013 - val_loss: 0.6598 - val_acc: 0.5764\n",
      "\n",
      "Epoch 00065: val_loss improved from 0.65995 to 0.65977, saving model to MLP.weights.best.hdf5\n",
      "Epoch 66/100\n",
      " - 0s - loss: 0.5691 - acc: 0.6956 - val_loss: 0.6636 - val_acc: 0.5755\n",
      "\n",
      "Epoch 00066: val_loss did not improve from 0.65977\n",
      "Epoch 67/100\n",
      " - 0s - loss: 0.5630 - acc: 0.7076 - val_loss: 0.6582 - val_acc: 0.5882\n",
      "\n",
      "Epoch 00067: val_loss improved from 0.65977 to 0.65820, saving model to MLP.weights.best.hdf5\n",
      "Epoch 68/100\n",
      " - 0s - loss: 0.5615 - acc: 0.7106 - val_loss: 0.6583 - val_acc: 0.5964\n",
      "\n",
      "Epoch 00068: val_loss did not improve from 0.65820\n",
      "Epoch 69/100\n",
      " - 0s - loss: 0.5603 - acc: 0.7117 - val_loss: 0.6601 - val_acc: 0.5773\n",
      "\n",
      "Epoch 00069: val_loss did not improve from 0.65820\n",
      "Epoch 70/100\n",
      " - 0s - loss: 0.5599 - acc: 0.7117 - val_loss: 0.6575 - val_acc: 0.5864\n",
      "\n",
      "Epoch 00070: val_loss improved from 0.65820 to 0.65745, saving model to MLP.weights.best.hdf5\n",
      "Epoch 71/100\n",
      " - 0s - loss: 0.5612 - acc: 0.7078 - val_loss: 0.6583 - val_acc: 0.5845\n",
      "\n",
      "Epoch 00071: val_loss did not improve from 0.65745\n",
      "Epoch 72/100\n",
      " - 0s - loss: 0.5562 - acc: 0.7167 - val_loss: 0.6633 - val_acc: 0.5691\n",
      "\n",
      "Epoch 00072: val_loss did not improve from 0.65745\n",
      "Epoch 73/100\n",
      " - 0s - loss: 0.5544 - acc: 0.7246 - val_loss: 0.6573 - val_acc: 0.5945\n",
      "\n",
      "Epoch 00073: val_loss improved from 0.65745 to 0.65728, saving model to MLP.weights.best.hdf5\n",
      "Epoch 74/100\n",
      " - 1s - loss: 0.5536 - acc: 0.7229 - val_loss: 0.6561 - val_acc: 0.5936\n",
      "\n",
      "Epoch 00074: val_loss improved from 0.65728 to 0.65606, saving model to MLP.weights.best.hdf5\n",
      "Epoch 75/100\n",
      " - 0s - loss: 0.5530 - acc: 0.7261 - val_loss: 0.6582 - val_acc: 0.5845\n",
      "\n",
      "Epoch 00075: val_loss did not improve from 0.65606\n",
      "Epoch 76/100\n",
      " - 0s - loss: 0.5521 - acc: 0.7273 - val_loss: 0.6581 - val_acc: 0.5882\n",
      "\n",
      "Epoch 00076: val_loss did not improve from 0.65606\n",
      "Epoch 77/100\n",
      " - 0s - loss: 0.5512 - acc: 0.7230 - val_loss: 0.6557 - val_acc: 0.5909\n",
      "\n",
      "Epoch 00077: val_loss improved from 0.65606 to 0.65572, saving model to MLP.weights.best.hdf5\n",
      "Epoch 78/100\n",
      " - 0s - loss: 0.5493 - acc: 0.7286 - val_loss: 0.6544 - val_acc: 0.6064\n",
      "\n",
      "Epoch 00078: val_loss improved from 0.65572 to 0.65439, saving model to MLP.weights.best.hdf5\n",
      "Epoch 79/100\n",
      " - 0s - loss: 0.5465 - acc: 0.7372 - val_loss: 0.6527 - val_acc: 0.6027\n",
      "\n",
      "Epoch 00079: val_loss improved from 0.65439 to 0.65272, saving model to MLP.weights.best.hdf5\n",
      "Epoch 80/100\n",
      " - 0s - loss: 0.5467 - acc: 0.7323 - val_loss: 0.6516 - val_acc: 0.6009\n",
      "\n",
      "Epoch 00080: val_loss improved from 0.65272 to 0.65157, saving model to MLP.weights.best.hdf5\n",
      "Epoch 81/100\n",
      " - 0s - loss: 0.5458 - acc: 0.7307 - val_loss: 0.6567 - val_acc: 0.5982\n",
      "\n",
      "Epoch 00081: val_loss did not improve from 0.65157\n",
      "Epoch 82/100\n",
      " - 0s - loss: 0.5432 - acc: 0.7369 - val_loss: 0.6526 - val_acc: 0.6009\n",
      "\n",
      "Epoch 00082: val_loss did not improve from 0.65157\n",
      "Epoch 83/100\n",
      " - 0s - loss: 0.5416 - acc: 0.7425 - val_loss: 0.6525 - val_acc: 0.6000\n",
      "\n",
      "Epoch 00083: val_loss did not improve from 0.65157\n",
      "Epoch 84/100\n",
      " - 0s - loss: 0.5401 - acc: 0.7414 - val_loss: 0.6541 - val_acc: 0.5900\n",
      "\n",
      "Epoch 00084: val_loss did not improve from 0.65157\n",
      "Epoch 85/100\n",
      " - 0s - loss: 0.5418 - acc: 0.7340 - val_loss: 0.6558 - val_acc: 0.5891\n",
      "\n",
      "Epoch 00085: val_loss did not improve from 0.65157\n",
      "Epoch 86/100\n",
      " - 0s - loss: 0.5390 - acc: 0.7404 - val_loss: 0.6519 - val_acc: 0.5982\n",
      "\n",
      "Epoch 00086: val_loss did not improve from 0.65157\n",
      "Epoch 87/100\n",
      " - 0s - loss: 0.5381 - acc: 0.7414 - val_loss: 0.6538 - val_acc: 0.6009\n",
      "\n",
      "Epoch 00087: val_loss did not improve from 0.65157\n",
      "Epoch 88/100\n",
      " - 0s - loss: 0.5358 - acc: 0.7444 - val_loss: 0.6567 - val_acc: 0.6045\n",
      "\n",
      "Epoch 00088: val_loss did not improve from 0.65157\n",
      "Epoch 89/100\n",
      " - 0s - loss: 0.5348 - acc: 0.7455 - val_loss: 0.6521 - val_acc: 0.6055\n",
      "\n",
      "Epoch 00089: val_loss did not improve from 0.65157\n",
      "Epoch 90/100\n",
      " - 0s - loss: 0.5342 - acc: 0.7435 - val_loss: 0.6516 - val_acc: 0.6009\n",
      "\n",
      "Epoch 00090: val_loss did not improve from 0.65157\n",
      "Epoch 91/100\n",
      " - 0s - loss: 0.5320 - acc: 0.7468 - val_loss: 0.6502 - val_acc: 0.5945\n",
      "\n",
      "Epoch 00091: val_loss improved from 0.65157 to 0.65018, saving model to MLP.weights.best.hdf5\n",
      "Epoch 92/100\n",
      " - 0s - loss: 0.5324 - acc: 0.7477 - val_loss: 0.6491 - val_acc: 0.5918\n",
      "\n",
      "Epoch 00092: val_loss improved from 0.65018 to 0.64905, saving model to MLP.weights.best.hdf5\n",
      "Epoch 93/100\n",
      " - 1s - loss: 0.5297 - acc: 0.7476 - val_loss: 0.6497 - val_acc: 0.6018\n",
      "\n",
      "Epoch 00093: val_loss did not improve from 0.64905\n",
      "Epoch 94/100\n",
      " - 0s - loss: 0.5300 - acc: 0.7453 - val_loss: 0.6552 - val_acc: 0.6082\n",
      "\n",
      "Epoch 00094: val_loss did not improve from 0.64905\n",
      "Epoch 95/100\n",
      " - 0s - loss: 0.5278 - acc: 0.7495 - val_loss: 0.6498 - val_acc: 0.6027\n",
      "\n",
      "Epoch 00095: val_loss did not improve from 0.64905\n",
      "Epoch 96/100\n",
      " - 0s - loss: 0.5263 - acc: 0.7504 - val_loss: 0.6527 - val_acc: 0.6109\n",
      "\n",
      "Epoch 00096: val_loss did not improve from 0.64905\n",
      "Epoch 97/100\n",
      " - 0s - loss: 0.5260 - acc: 0.7510 - val_loss: 0.6482 - val_acc: 0.6000\n",
      "\n",
      "Epoch 00097: val_loss improved from 0.64905 to 0.64824, saving model to MLP.weights.best.hdf5\n",
      "Epoch 98/100\n",
      " - 0s - loss: 0.5252 - acc: 0.7501 - val_loss: 0.6464 - val_acc: 0.6064\n",
      "\n",
      "Epoch 00098: val_loss improved from 0.64824 to 0.64640, saving model to MLP.weights.best.hdf5\n",
      "Epoch 99/100\n",
      " - 0s - loss: 0.5215 - acc: 0.7592 - val_loss: 0.6538 - val_acc: 0.5873\n",
      "\n",
      "Epoch 00099: val_loss did not improve from 0.64640\n",
      "Epoch 100/100\n",
      " - 0s - loss: 0.5242 - acc: 0.7524 - val_loss: 0.6503 - val_acc: 0.5927\n",
      "\n",
      "Epoch 00100: val_loss did not improve from 0.64640\n"
     ]
    }
   ],
   "source": [
    "from keras.callbacks import ModelCheckpoint\n",
    "\n",
    "checkpointer = ModelCheckpoint(filepath = 'MLP.weights.best.hdf5', verbose = 1, save_best_only = True)\n",
    "hist = model.fit(x_train, y_train, epochs = 100, batch_size=256, validation_split = 0.1, callbacks = [checkpointer], verbose = 2, shuffle = True)"
   ]
  },
  {
   "cell_type": "code",
   "execution_count": 32,
   "metadata": {
    "colab": {
     "autoexec": {
      "startup": false,
      "wait_interval": 0
     },
     "base_uri": "https://localhost:8080/",
     "height": 54
    },
    "colab_type": "code",
    "executionInfo": {
     "elapsed": 1046,
     "status": "ok",
     "timestamp": 1528838421631,
     "user": {
      "displayName": "SHUBHAM VERMA",
      "photoUrl": "https://lh3.googleusercontent.com/a/default-user=s128",
      "userId": "108363614808362191748"
     },
     "user_tz": -330
    },
    "id": "zpdk9x9xngJG",
    "outputId": "40298a3d-369b-4699-ea0e-775cddbc3efd"
   },
   "outputs": [
    {
     "name": "stdout",
     "output_type": "stream",
     "text": [
      "3980/3980 [==============================] - 0s 47us/step\n",
      "Accuracy:  0.5891959798994975\n"
     ]
    }
   ],
   "source": [
    "score = model.evaluate(x_test, y_test, verbose=1)\n",
    "print(\"Accuracy: \", score[1])"
   ]
  },
  {
   "cell_type": "code",
   "execution_count": 33,
   "metadata": {
    "colab": {
     "autoexec": {
      "startup": false,
      "wait_interval": 0
     }
    },
    "colab_type": "code",
    "id": "zL_el0fmwOPF"
   },
   "outputs": [],
   "source": [
    "predict2 = [1 if a>0.5 else 0 for a in model.predict(x_test)] "
   ]
  },
  {
   "cell_type": "markdown",
   "metadata": {
    "colab_type": "text",
    "id": "OINWUOwYV5A0"
   },
   "source": [
    "### Performance"
   ]
  },
  {
   "cell_type": "code",
   "execution_count": 34,
   "metadata": {
    "colab": {
     "autoexec": {
      "startup": false,
      "wait_interval": 0
     },
     "base_uri": "https://localhost:8080/",
     "height": 91
    },
    "colab_type": "code",
    "executionInfo": {
     "elapsed": 982,
     "status": "ok",
     "timestamp": 1528838432724,
     "user": {
      "displayName": "SHUBHAM VERMA",
      "photoUrl": "https://lh3.googleusercontent.com/a/default-user=s128",
      "userId": "108363614808362191748"
     },
     "user_tz": -330
    },
    "id": "ScN-ERsEwXjw",
    "outputId": "b8b64d5c-5c76-4772-cd35-aae9a763d916"
   },
   "outputs": [
    {
     "name": "stdout",
     "output_type": "stream",
     "text": [
      "Accuracy = 0.5891959798994975\n",
      "Precision = 0.5676941084666407\n",
      "Recall = 0.7341069626639758\n",
      "F1 Score = 0.6402640264026402\n"
     ]
    }
   ],
   "source": [
    "print(\"Accuracy = {}\\nPrecision = {}\\nRecall = {}\\nF1 Score = {}\".format(metrics.accuracy_score(y_test, predict2), metrics.precision_score(y_test, predict2),metrics.recall_score(y_test, predict2),metrics.f1_score(y_test, predict2)))\n",
    "#score_p.append([metrics.accuracy_score(y_test, predict2), metrics.precision_score(y_test, predict2),metrics.recall_score(y_test, predict2),metrics.f1_score(y_test, predict2)])"
   ]
  },
  {
   "cell_type": "markdown",
   "metadata": {
    "colab_type": "text",
    "id": "L9mkRjYIa1iz"
   },
   "source": [
    "# Improved Neural Network (Tuning Parameters)"
   ]
  },
  {
   "cell_type": "code",
   "execution_count": 35,
   "metadata": {
    "colab": {
     "autoexec": {
      "startup": false,
      "wait_interval": 0
     },
     "base_uri": "https://localhost:8080/",
     "height": 407
    },
    "colab_type": "code",
    "executionInfo": {
     "elapsed": 948,
     "status": "ok",
     "timestamp": 1528838441631,
     "user": {
      "displayName": "SHUBHAM VERMA",
      "photoUrl": "https://lh3.googleusercontent.com/a/default-user=s128",
      "userId": "108363614808362191748"
     },
     "user_tz": -330
    },
    "id": "tzNim7esa0g7",
    "outputId": "2541c970-7c8c-49d8-fa2d-744f1138fa2d"
   },
   "outputs": [
    {
     "name": "stdout",
     "output_type": "stream",
     "text": [
      "_________________________________________________________________\n",
      "Layer (type)                 Output Shape              Param #   \n",
      "=================================================================\n",
      "dense_3 (Dense)              (None, 1000)              15000     \n",
      "_________________________________________________________________\n",
      "dropout_1 (Dropout)          (None, 1000)              0         \n",
      "_________________________________________________________________\n",
      "dense_4 (Dense)              (None, 1000)              1001000   \n",
      "_________________________________________________________________\n",
      "dropout_2 (Dropout)          (None, 1000)              0         \n",
      "_________________________________________________________________\n",
      "dense_5 (Dense)              (None, 1000)              1001000   \n",
      "_________________________________________________________________\n",
      "dropout_3 (Dropout)          (None, 1000)              0         \n",
      "_________________________________________________________________\n",
      "dense_6 (Dense)              (None, 1)                 1001      \n",
      "=================================================================\n",
      "Total params: 2,018,001\n",
      "Trainable params: 2,018,001\n",
      "Non-trainable params: 0\n",
      "_________________________________________________________________\n"
     ]
    }
   ],
   "source": [
    "model2 = Sequential()\n",
    "model2.add(Dense(1000, activation = 'relu', input_shape = (x.shape[1], )))\n",
    "model2.add(Dropout(0.2))\n",
    "model2.add(Dense(1000, activation = 'relu'))\n",
    "model2.add(Dropout(0.2))\n",
    "model2.add(Dense(1000, activation = 'relu'))\n",
    "model2.add(Dropout(0.2))\n",
    "model2.add(Dense(1, activation = 'sigmoid'))\n",
    "model2.summary()"
   ]
  },
  {
   "cell_type": "code",
   "execution_count": 36,
   "metadata": {
    "colab": {
     "autoexec": {
      "startup": false,
      "wait_interval": 0
     },
     "base_uri": "https://localhost:8080/",
     "height": 407
    },
    "colab_type": "code",
    "executionInfo": {
     "elapsed": 974,
     "status": "ok",
     "timestamp": 1528838447248,
     "user": {
      "displayName": "SHUBHAM VERMA",
      "photoUrl": "https://lh3.googleusercontent.com/a/default-user=s128",
      "userId": "108363614808362191748"
     },
     "user_tz": -330
    },
    "id": "3DCvBvfKbzpn",
    "outputId": "3ebb0199-df7f-442b-bb40-84760eec4f53"
   },
   "outputs": [
    {
     "name": "stdout",
     "output_type": "stream",
     "text": [
      "_________________________________________________________________\n",
      "Layer (type)                 Output Shape              Param #   \n",
      "=================================================================\n",
      "dense_3 (Dense)              (None, 1000)              15000     \n",
      "_________________________________________________________________\n",
      "dropout_1 (Dropout)          (None, 1000)              0         \n",
      "_________________________________________________________________\n",
      "dense_4 (Dense)              (None, 1000)              1001000   \n",
      "_________________________________________________________________\n",
      "dropout_2 (Dropout)          (None, 1000)              0         \n",
      "_________________________________________________________________\n",
      "dense_5 (Dense)              (None, 1000)              1001000   \n",
      "_________________________________________________________________\n",
      "dropout_3 (Dropout)          (None, 1000)              0         \n",
      "_________________________________________________________________\n",
      "dense_6 (Dense)              (None, 1)                 1001      \n",
      "=================================================================\n",
      "Total params: 2,018,001\n",
      "Trainable params: 2,018,001\n",
      "Non-trainable params: 0\n",
      "_________________________________________________________________\n"
     ]
    }
   ],
   "source": [
    "model2.compile(loss = 'binary_crossentropy', optimizer='adam', metrics=['accuracy'])\n",
    "model2.summary()"
   ]
  },
  {
   "cell_type": "code",
   "execution_count": 37,
   "metadata": {
    "colab": {
     "autoexec": {
      "startup": false,
      "wait_interval": 0
     },
     "base_uri": "https://localhost:8080/",
     "height": 14909
    },
    "colab_type": "code",
    "executionInfo": {
     "elapsed": 53194,
     "status": "ok",
     "timestamp": 1528840496221,
     "user": {
      "displayName": "SHUBHAM VERMA",
      "photoUrl": "https://lh3.googleusercontent.com/a/default-user=s128",
      "userId": "108363614808362191748"
     },
     "user_tz": -330
    },
    "id": "qepgTEuYb206",
    "outputId": "6c696856-6b94-45d3-80c0-f7a13b0d393e"
   },
   "outputs": [
    {
     "name": "stdout",
     "output_type": "stream",
     "text": [
      "Train on 9900 samples, validate on 1100 samples\n",
      "Epoch 1/200\n",
      " - 7s - loss: 0.6898 - acc: 0.5307 - val_loss: 0.7009 - val_acc: 0.4945\n",
      "\n",
      "Epoch 00001: val_loss improved from inf to 0.70091, saving model to MLP_new.weights.best.hdf5\n",
      "Epoch 2/200\n",
      " - 4s - loss: 0.6798 - acc: 0.5542 - val_loss: 0.6857 - val_acc: 0.5464\n",
      "\n",
      "Epoch 00002: val_loss improved from 0.70091 to 0.68566, saving model to MLP_new.weights.best.hdf5\n",
      "Epoch 3/200\n",
      " - 4s - loss: 0.6425 - acc: 0.6139 - val_loss: 0.6786 - val_acc: 0.5500\n",
      "\n",
      "Epoch 00003: val_loss improved from 0.68566 to 0.67862, saving model to MLP_new.weights.best.hdf5\n",
      "Epoch 4/200\n",
      " - 3s - loss: 0.5961 - acc: 0.6485 - val_loss: 0.6690 - val_acc: 0.5609\n",
      "\n",
      "Epoch 00004: val_loss improved from 0.67862 to 0.66902, saving model to MLP_new.weights.best.hdf5\n",
      "Epoch 5/200\n",
      " - 4s - loss: 0.5791 - acc: 0.6603 - val_loss: 0.6641 - val_acc: 0.5682\n",
      "\n",
      "Epoch 00005: val_loss improved from 0.66902 to 0.66406, saving model to MLP_new.weights.best.hdf5\n",
      "Epoch 6/200\n",
      " - 4s - loss: 0.5552 - acc: 0.6804 - val_loss: 0.6875 - val_acc: 0.5473\n",
      "\n",
      "Epoch 00006: val_loss did not improve from 0.66406\n",
      "Epoch 7/200\n",
      " - 4s - loss: 0.5452 - acc: 0.6807 - val_loss: 0.6761 - val_acc: 0.5655\n",
      "\n",
      "Epoch 00007: val_loss did not improve from 0.66406\n",
      "Epoch 8/200\n",
      " - 4s - loss: 0.5132 - acc: 0.7051 - val_loss: 0.6581 - val_acc: 0.6109\n",
      "\n",
      "Epoch 00008: val_loss improved from 0.66406 to 0.65809, saving model to MLP_new.weights.best.hdf5\n",
      "Epoch 9/200\n",
      " - 4s - loss: 0.5001 - acc: 0.7396 - val_loss: 0.6470 - val_acc: 0.6273\n",
      "\n",
      "Epoch 00009: val_loss improved from 0.65809 to 0.64700, saving model to MLP_new.weights.best.hdf5\n",
      "Epoch 10/200\n",
      " - 4s - loss: 0.4812 - acc: 0.7691 - val_loss: 0.6843 - val_acc: 0.6227\n",
      "\n",
      "Epoch 00010: val_loss did not improve from 0.64700\n",
      "Epoch 11/200\n",
      " - 3s - loss: 0.4812 - acc: 0.7730 - val_loss: 0.6576 - val_acc: 0.6200\n",
      "\n",
      "Epoch 00011: val_loss did not improve from 0.64700\n",
      "Epoch 12/200\n",
      " - 3s - loss: 0.4756 - acc: 0.7743 - val_loss: 0.6337 - val_acc: 0.6545\n",
      "\n",
      "Epoch 00012: val_loss improved from 0.64700 to 0.63372, saving model to MLP_new.weights.best.hdf5\n",
      "Epoch 13/200\n",
      " - 4s - loss: 0.4335 - acc: 0.8010 - val_loss: 0.6319 - val_acc: 0.6509\n",
      "\n",
      "Epoch 00013: val_loss improved from 0.63372 to 0.63192, saving model to MLP_new.weights.best.hdf5\n",
      "Epoch 14/200\n",
      " - 3s - loss: 0.4303 - acc: 0.7989 - val_loss: 0.6838 - val_acc: 0.6227\n",
      "\n",
      "Epoch 00014: val_loss did not improve from 0.63192\n",
      "Epoch 15/200\n",
      " - 4s - loss: 0.4486 - acc: 0.7828 - val_loss: 0.6314 - val_acc: 0.6500\n",
      "\n",
      "Epoch 00015: val_loss improved from 0.63192 to 0.63140, saving model to MLP_new.weights.best.hdf5\n",
      "Epoch 16/200\n",
      " - 3s - loss: 0.4161 - acc: 0.8135 - val_loss: 0.6569 - val_acc: 0.6545\n",
      "\n",
      "Epoch 00016: val_loss did not improve from 0.63140\n",
      "Epoch 17/200\n",
      " - 3s - loss: 0.4253 - acc: 0.7991 - val_loss: 0.6552 - val_acc: 0.6509\n",
      "\n",
      "Epoch 00017: val_loss did not improve from 0.63140\n",
      "Epoch 18/200\n",
      " - 4s - loss: 0.3905 - acc: 0.8247 - val_loss: 0.6365 - val_acc: 0.6818\n",
      "\n",
      "Epoch 00018: val_loss did not improve from 0.63140\n",
      "Epoch 19/200\n",
      " - 4s - loss: 0.3846 - acc: 0.8246 - val_loss: 0.6352 - val_acc: 0.6736\n",
      "\n",
      "Epoch 00019: val_loss did not improve from 0.63140\n",
      "Epoch 20/200\n",
      " - 5s - loss: 0.3817 - acc: 0.8259 - val_loss: 0.6534 - val_acc: 0.6555\n",
      "\n",
      "Epoch 00020: val_loss did not improve from 0.63140\n",
      "Epoch 21/200\n",
      " - 4s - loss: 0.3734 - acc: 0.8386 - val_loss: 0.6667 - val_acc: 0.6664\n",
      "\n",
      "Epoch 00021: val_loss did not improve from 0.63140\n",
      "Epoch 22/200\n",
      " - 4s - loss: 0.3864 - acc: 0.8241 - val_loss: 0.6626 - val_acc: 0.6582\n",
      "\n",
      "Epoch 00022: val_loss did not improve from 0.63140\n",
      "Epoch 23/200\n",
      " - 4s - loss: 0.3864 - acc: 0.8204 - val_loss: 0.6295 - val_acc: 0.6818\n",
      "\n",
      "Epoch 00023: val_loss improved from 0.63140 to 0.62951, saving model to MLP_new.weights.best.hdf5\n",
      "Epoch 24/200\n",
      " - 4s - loss: 0.3859 - acc: 0.8232 - val_loss: 0.6217 - val_acc: 0.6809\n",
      "\n",
      "Epoch 00024: val_loss improved from 0.62951 to 0.62170, saving model to MLP_new.weights.best.hdf5\n",
      "Epoch 25/200\n",
      " - 4s - loss: 0.3535 - acc: 0.8458 - val_loss: 0.6420 - val_acc: 0.6945\n",
      "\n",
      "Epoch 00025: val_loss did not improve from 0.62170\n",
      "Epoch 26/200\n",
      " - 5s - loss: 0.3442 - acc: 0.8509 - val_loss: 0.6233 - val_acc: 0.6964\n",
      "\n",
      "Epoch 00026: val_loss did not improve from 0.62170\n",
      "Epoch 27/200\n",
      " - 8s - loss: 0.3498 - acc: 0.8444 - val_loss: 0.6383 - val_acc: 0.6727\n",
      "\n",
      "Epoch 00027: val_loss did not improve from 0.62170\n",
      "Epoch 28/200\n",
      " - 7s - loss: 0.3398 - acc: 0.8502 - val_loss: 0.6174 - val_acc: 0.7036\n",
      "\n",
      "Epoch 00028: val_loss improved from 0.62170 to 0.61744, saving model to MLP_new.weights.best.hdf5\n",
      "Epoch 29/200\n",
      " - 6s - loss: 0.3612 - acc: 0.8334 - val_loss: 0.6319 - val_acc: 0.7055\n",
      "\n",
      "Epoch 00029: val_loss did not improve from 0.61744\n",
      "Epoch 30/200\n",
      " - 6s - loss: 0.3305 - acc: 0.8566 - val_loss: 0.6363 - val_acc: 0.6927\n",
      "\n",
      "Epoch 00030: val_loss did not improve from 0.61744\n",
      "Epoch 31/200\n",
      " - 5s - loss: 0.3196 - acc: 0.8583 - val_loss: 0.6795 - val_acc: 0.7073\n",
      "\n",
      "Epoch 00031: val_loss did not improve from 0.61744\n",
      "Epoch 32/200\n",
      " - 4s - loss: 0.3359 - acc: 0.8459 - val_loss: 0.6090 - val_acc: 0.7082\n",
      "\n",
      "Epoch 00032: val_loss improved from 0.61744 to 0.60901, saving model to MLP_new.weights.best.hdf5\n",
      "Epoch 33/200\n",
      " - 4s - loss: 0.3187 - acc: 0.8576 - val_loss: 0.6595 - val_acc: 0.6945\n",
      "\n",
      "Epoch 00033: val_loss did not improve from 0.60901\n",
      "Epoch 34/200\n",
      " - 4s - loss: 0.3312 - acc: 0.8547 - val_loss: 0.6175 - val_acc: 0.6964\n",
      "\n",
      "Epoch 00034: val_loss did not improve from 0.60901\n",
      "Epoch 35/200\n",
      " - 4s - loss: 0.3496 - acc: 0.8430 - val_loss: 0.6470 - val_acc: 0.6873\n",
      "\n",
      "Epoch 00035: val_loss did not improve from 0.60901\n",
      "Epoch 36/200\n",
      " - 5s - loss: 0.3339 - acc: 0.8469 - val_loss: 0.6513 - val_acc: 0.7236\n",
      "\n",
      "Epoch 00036: val_loss did not improve from 0.60901\n",
      "Epoch 37/200\n",
      " - 4s - loss: 0.3231 - acc: 0.8525 - val_loss: 0.6308 - val_acc: 0.6836\n",
      "\n",
      "Epoch 00037: val_loss did not improve from 0.60901\n",
      "Epoch 38/200\n",
      " - 6s - loss: 0.3370 - acc: 0.8451 - val_loss: 0.6060 - val_acc: 0.7091\n",
      "\n",
      "Epoch 00038: val_loss improved from 0.60901 to 0.60604, saving model to MLP_new.weights.best.hdf5\n",
      "Epoch 39/200\n",
      " - 4s - loss: 0.3116 - acc: 0.8614 - val_loss: 0.6290 - val_acc: 0.7191\n",
      "\n",
      "Epoch 00039: val_loss did not improve from 0.60604\n",
      "Epoch 40/200\n",
      " - 4s - loss: 0.3241 - acc: 0.8512 - val_loss: 0.6638 - val_acc: 0.6691\n",
      "\n",
      "Epoch 00040: val_loss did not improve from 0.60604\n",
      "Epoch 41/200\n",
      " - 4s - loss: 0.3150 - acc: 0.8588 - val_loss: 0.6188 - val_acc: 0.7064\n",
      "\n",
      "Epoch 00041: val_loss did not improve from 0.60604\n",
      "Epoch 42/200\n",
      " - 4s - loss: 0.2960 - acc: 0.8681 - val_loss: 0.6129 - val_acc: 0.7400\n",
      "\n",
      "Epoch 00042: val_loss did not improve from 0.60604\n",
      "Epoch 43/200\n",
      " - 5s - loss: 0.2873 - acc: 0.8719 - val_loss: 0.6120 - val_acc: 0.7255\n",
      "\n",
      "Epoch 00043: val_loss did not improve from 0.60604\n",
      "Epoch 44/200\n",
      " - 4s - loss: 0.2858 - acc: 0.8730 - val_loss: 0.6299 - val_acc: 0.7236\n",
      "\n",
      "Epoch 00044: val_loss did not improve from 0.60604\n",
      "Epoch 45/200\n",
      " - 4s - loss: 0.2828 - acc: 0.8715 - val_loss: 0.6140 - val_acc: 0.7136\n",
      "\n",
      "Epoch 00045: val_loss did not improve from 0.60604\n",
      "Epoch 46/200\n",
      " - 4s - loss: 0.2926 - acc: 0.8704 - val_loss: 0.5861 - val_acc: 0.7509\n",
      "\n",
      "Epoch 00046: val_loss improved from 0.60604 to 0.58610, saving model to MLP_new.weights.best.hdf5\n",
      "Epoch 47/200\n",
      " - 4s - loss: 0.3040 - acc: 0.8630 - val_loss: 0.5918 - val_acc: 0.7391\n",
      "\n",
      "Epoch 00047: val_loss did not improve from 0.58610\n",
      "Epoch 48/200\n",
      " - 5s - loss: 0.2882 - acc: 0.8752 - val_loss: 0.5929 - val_acc: 0.7409\n",
      "\n",
      "Epoch 00048: val_loss did not improve from 0.58610\n",
      "Epoch 49/200\n",
      " - 5s - loss: 0.2735 - acc: 0.8786 - val_loss: 0.6860 - val_acc: 0.7345\n",
      "\n",
      "Epoch 00049: val_loss did not improve from 0.58610\n",
      "Epoch 50/200\n",
      " - 4s - loss: 0.3024 - acc: 0.8642 - val_loss: 0.6307 - val_acc: 0.6973\n",
      "\n",
      "Epoch 00050: val_loss did not improve from 0.58610\n",
      "Epoch 51/200\n",
      " - 6s - loss: 0.3566 - acc: 0.8300 - val_loss: 0.5839 - val_acc: 0.7291\n",
      "\n",
      "Epoch 00051: val_loss improved from 0.58610 to 0.58393, saving model to MLP_new.weights.best.hdf5\n",
      "Epoch 52/200\n",
      " - 8s - loss: 0.2981 - acc: 0.8631 - val_loss: 0.5958 - val_acc: 0.7282\n",
      "\n",
      "Epoch 00052: val_loss did not improve from 0.58393\n",
      "Epoch 53/200\n",
      " - 7s - loss: 0.2768 - acc: 0.8770 - val_loss: 0.6854 - val_acc: 0.7136\n",
      "\n",
      "Epoch 00053: val_loss did not improve from 0.58393\n",
      "Epoch 54/200\n",
      " - 8s - loss: 0.2858 - acc: 0.8718 - val_loss: 0.6117 - val_acc: 0.7518\n",
      "\n",
      "Epoch 00054: val_loss did not improve from 0.58393\n",
      "Epoch 55/200\n"
     ]
    },
    {
     "name": "stdout",
     "output_type": "stream",
     "text": [
      " - 7s - loss: 0.2766 - acc: 0.8800 - val_loss: 0.6408 - val_acc: 0.7455\n",
      "\n",
      "Epoch 00055: val_loss did not improve from 0.58393\n",
      "Epoch 56/200\n",
      " - 6s - loss: 0.2536 - acc: 0.8898 - val_loss: 0.6239 - val_acc: 0.7536\n",
      "\n",
      "Epoch 00056: val_loss did not improve from 0.58393\n",
      "Epoch 57/200\n",
      " - 7s - loss: 0.2575 - acc: 0.8856 - val_loss: 0.6885 - val_acc: 0.7409\n",
      "\n",
      "Epoch 00057: val_loss did not improve from 0.58393\n",
      "Epoch 58/200\n",
      " - 7s - loss: 0.2487 - acc: 0.8904 - val_loss: 0.5980 - val_acc: 0.7364\n",
      "\n",
      "Epoch 00058: val_loss did not improve from 0.58393\n",
      "Epoch 59/200\n",
      " - 8s - loss: 0.2540 - acc: 0.8869 - val_loss: 0.5940 - val_acc: 0.7627\n",
      "\n",
      "Epoch 00059: val_loss did not improve from 0.58393\n",
      "Epoch 60/200\n",
      " - 10s - loss: 0.2408 - acc: 0.8967 - val_loss: 0.6032 - val_acc: 0.7355\n",
      "\n",
      "Epoch 00060: val_loss did not improve from 0.58393\n",
      "Epoch 61/200\n",
      " - 8s - loss: 0.2564 - acc: 0.8868 - val_loss: 0.5780 - val_acc: 0.7709\n",
      "\n",
      "Epoch 00061: val_loss improved from 0.58393 to 0.57801, saving model to MLP_new.weights.best.hdf5\n",
      "Epoch 62/200\n",
      " - 7s - loss: 0.2418 - acc: 0.8941 - val_loss: 0.5918 - val_acc: 0.7700\n",
      "\n",
      "Epoch 00062: val_loss did not improve from 0.57801\n",
      "Epoch 63/200\n",
      " - 6s - loss: 0.2489 - acc: 0.8953 - val_loss: 0.6328 - val_acc: 0.7600\n",
      "\n",
      "Epoch 00063: val_loss did not improve from 0.57801\n",
      "Epoch 64/200\n",
      " - 7s - loss: 0.2550 - acc: 0.8869 - val_loss: 0.7541 - val_acc: 0.7136\n",
      "\n",
      "Epoch 00064: val_loss did not improve from 0.57801\n",
      "Epoch 65/200\n",
      " - 8s - loss: 0.2672 - acc: 0.8853 - val_loss: 0.5845 - val_acc: 0.7636\n",
      "\n",
      "Epoch 00065: val_loss did not improve from 0.57801\n",
      "Epoch 66/200\n",
      " - 10s - loss: 0.2693 - acc: 0.8815 - val_loss: 0.6348 - val_acc: 0.7445\n",
      "\n",
      "Epoch 00066: val_loss did not improve from 0.57801\n",
      "Epoch 67/200\n",
      " - 8s - loss: 0.2432 - acc: 0.8924 - val_loss: 0.6538 - val_acc: 0.7282\n",
      "\n",
      "Epoch 00067: val_loss did not improve from 0.57801\n",
      "Epoch 68/200\n",
      " - 8s - loss: 0.2384 - acc: 0.8975 - val_loss: 0.6615 - val_acc: 0.7464\n",
      "\n",
      "Epoch 00068: val_loss did not improve from 0.57801\n",
      "Epoch 69/200\n",
      " - 10s - loss: 0.2293 - acc: 0.8965 - val_loss: 0.5671 - val_acc: 0.7655\n",
      "\n",
      "Epoch 00069: val_loss improved from 0.57801 to 0.56712, saving model to MLP_new.weights.best.hdf5\n",
      "Epoch 70/200\n",
      " - 7s - loss: 0.2355 - acc: 0.8956 - val_loss: 0.6640 - val_acc: 0.7500\n",
      "\n",
      "Epoch 00070: val_loss did not improve from 0.56712\n",
      "Epoch 71/200\n",
      " - 7s - loss: 0.2499 - acc: 0.8883 - val_loss: 0.5808 - val_acc: 0.7409\n",
      "\n",
      "Epoch 00071: val_loss did not improve from 0.56712\n",
      "Epoch 72/200\n",
      " - 8s - loss: 0.2452 - acc: 0.8913 - val_loss: 0.6450 - val_acc: 0.7500\n",
      "\n",
      "Epoch 00072: val_loss did not improve from 0.56712\n",
      "Epoch 73/200\n",
      " - 10s - loss: 0.2573 - acc: 0.8843 - val_loss: 0.5824 - val_acc: 0.7555\n",
      "\n",
      "Epoch 00073: val_loss did not improve from 0.56712\n",
      "Epoch 74/200\n",
      " - 9s - loss: 0.2331 - acc: 0.8945 - val_loss: 0.6048 - val_acc: 0.7718\n",
      "\n",
      "Epoch 00074: val_loss did not improve from 0.56712\n",
      "Epoch 75/200\n",
      " - 10s - loss: 0.2340 - acc: 0.8986 - val_loss: 0.6079 - val_acc: 0.7800\n",
      "\n",
      "Epoch 00075: val_loss did not improve from 0.56712\n",
      "Epoch 76/200\n",
      " - 7s - loss: 0.2245 - acc: 0.9012 - val_loss: 0.5562 - val_acc: 0.7782\n",
      "\n",
      "Epoch 00076: val_loss improved from 0.56712 to 0.55625, saving model to MLP_new.weights.best.hdf5\n",
      "Epoch 77/200\n",
      " - 8s - loss: 0.2077 - acc: 0.9131 - val_loss: 0.5848 - val_acc: 0.7755\n",
      "\n",
      "Epoch 00077: val_loss did not improve from 0.55625\n",
      "Epoch 78/200\n",
      " - 8s - loss: 0.2118 - acc: 0.9092 - val_loss: 0.6639 - val_acc: 0.7600\n",
      "\n",
      "Epoch 00078: val_loss did not improve from 0.55625\n",
      "Epoch 79/200\n",
      " - 7s - loss: 0.2203 - acc: 0.9021 - val_loss: 0.5566 - val_acc: 0.7936\n",
      "\n",
      "Epoch 00079: val_loss did not improve from 0.55625\n",
      "Epoch 80/200\n",
      " - 8s - loss: 0.2219 - acc: 0.9043 - val_loss: 0.5743 - val_acc: 0.7818\n",
      "\n",
      "Epoch 00080: val_loss did not improve from 0.55625\n",
      "Epoch 81/200\n",
      " - 7s - loss: 0.2499 - acc: 0.8886 - val_loss: 0.6552 - val_acc: 0.7400\n",
      "\n",
      "Epoch 00081: val_loss did not improve from 0.55625\n",
      "Epoch 82/200\n",
      " - 8s - loss: 0.2454 - acc: 0.8900 - val_loss: 0.6493 - val_acc: 0.7500\n",
      "\n",
      "Epoch 00082: val_loss did not improve from 0.55625\n",
      "Epoch 83/200\n",
      " - 7s - loss: 0.2037 - acc: 0.9139 - val_loss: 0.5539 - val_acc: 0.7518\n",
      "\n",
      "Epoch 00083: val_loss improved from 0.55625 to 0.55394, saving model to MLP_new.weights.best.hdf5\n",
      "Epoch 84/200\n",
      " - 7s - loss: 0.2127 - acc: 0.9107 - val_loss: 0.6420 - val_acc: 0.7773\n",
      "\n",
      "Epoch 00084: val_loss did not improve from 0.55394\n",
      "Epoch 85/200\n",
      " - 9s - loss: 0.2039 - acc: 0.9175 - val_loss: 0.5753 - val_acc: 0.7891\n",
      "\n",
      "Epoch 00085: val_loss did not improve from 0.55394\n",
      "Epoch 86/200\n",
      " - 9s - loss: 0.1984 - acc: 0.9185 - val_loss: 0.6334 - val_acc: 0.7673\n",
      "\n",
      "Epoch 00086: val_loss did not improve from 0.55394\n",
      "Epoch 87/200\n",
      " - 8s - loss: 0.2090 - acc: 0.9104 - val_loss: 0.5823 - val_acc: 0.8009\n",
      "\n",
      "Epoch 00087: val_loss did not improve from 0.55394\n",
      "Epoch 88/200\n",
      " - 8s - loss: 0.1974 - acc: 0.9171 - val_loss: 0.5745 - val_acc: 0.7773\n",
      "\n",
      "Epoch 00088: val_loss did not improve from 0.55394\n",
      "Epoch 89/200\n",
      " - 9s - loss: 0.1917 - acc: 0.9181 - val_loss: 0.5534 - val_acc: 0.7664\n",
      "\n",
      "Epoch 00089: val_loss improved from 0.55394 to 0.55342, saving model to MLP_new.weights.best.hdf5\n",
      "Epoch 90/200\n",
      " - 9s - loss: 0.2091 - acc: 0.9097 - val_loss: 0.6165 - val_acc: 0.7818\n",
      "\n",
      "Epoch 00090: val_loss did not improve from 0.55342\n",
      "Epoch 91/200\n",
      " - 8s - loss: 0.2009 - acc: 0.9157 - val_loss: 0.5598 - val_acc: 0.7936\n",
      "\n",
      "Epoch 00091: val_loss did not improve from 0.55342\n",
      "Epoch 92/200\n",
      " - 9s - loss: 0.1945 - acc: 0.9205 - val_loss: 0.5586 - val_acc: 0.7709\n",
      "\n",
      "Epoch 00092: val_loss did not improve from 0.55342\n",
      "Epoch 93/200\n",
      " - 8s - loss: 0.2250 - acc: 0.9000 - val_loss: 0.5187 - val_acc: 0.8055\n",
      "\n",
      "Epoch 00093: val_loss improved from 0.55342 to 0.51873, saving model to MLP_new.weights.best.hdf5\n",
      "Epoch 94/200\n",
      " - 8s - loss: 0.1987 - acc: 0.9152 - val_loss: 0.6390 - val_acc: 0.7600\n",
      "\n",
      "Epoch 00094: val_loss did not improve from 0.51873\n",
      "Epoch 95/200\n",
      " - 7s - loss: 0.2019 - acc: 0.9136 - val_loss: 0.5529 - val_acc: 0.7836\n",
      "\n",
      "Epoch 00095: val_loss did not improve from 0.51873\n",
      "Epoch 96/200\n",
      " - 7s - loss: 0.2272 - acc: 0.8984 - val_loss: 0.4838 - val_acc: 0.7873\n",
      "\n",
      "Epoch 00096: val_loss improved from 0.51873 to 0.48376, saving model to MLP_new.weights.best.hdf5\n",
      "Epoch 97/200\n",
      " - 7s - loss: 0.2014 - acc: 0.9147 - val_loss: 0.4938 - val_acc: 0.7918\n",
      "\n",
      "Epoch 00097: val_loss did not improve from 0.48376\n",
      "Epoch 98/200\n",
      " - 7s - loss: 0.1801 - acc: 0.9271 - val_loss: 0.5924 - val_acc: 0.7827\n",
      "\n",
      "Epoch 00098: val_loss did not improve from 0.48376\n",
      "Epoch 99/200\n",
      " - 8s - loss: 0.1881 - acc: 0.9224 - val_loss: 0.6764 - val_acc: 0.7736\n",
      "\n",
      "Epoch 00099: val_loss did not improve from 0.48376\n",
      "Epoch 100/200\n",
      " - 7s - loss: 0.2040 - acc: 0.9137 - val_loss: 0.5578 - val_acc: 0.7800\n",
      "\n",
      "Epoch 00100: val_loss did not improve from 0.48376\n",
      "Epoch 101/200\n",
      " - 12s - loss: 0.1879 - acc: 0.9200 - val_loss: 0.5286 - val_acc: 0.7991\n",
      "\n",
      "Epoch 00101: val_loss did not improve from 0.48376\n",
      "Epoch 102/200\n",
      " - 8s - loss: 0.1829 - acc: 0.9224 - val_loss: 0.6345 - val_acc: 0.7809\n",
      "\n",
      "Epoch 00102: val_loss did not improve from 0.48376\n",
      "Epoch 103/200\n",
      " - 8s - loss: 0.1839 - acc: 0.9246 - val_loss: 0.5312 - val_acc: 0.8055\n",
      "\n",
      "Epoch 00103: val_loss did not improve from 0.48376\n",
      "Epoch 104/200\n",
      " - 8s - loss: 0.1821 - acc: 0.9227 - val_loss: 0.4988 - val_acc: 0.8145\n",
      "\n",
      "Epoch 00104: val_loss did not improve from 0.48376\n",
      "Epoch 105/200\n",
      " - 8s - loss: 0.1715 - acc: 0.9326 - val_loss: 0.6925 - val_acc: 0.7736\n",
      "\n",
      "Epoch 00105: val_loss did not improve from 0.48376\n",
      "Epoch 106/200\n",
      " - 7s - loss: 0.2001 - acc: 0.9162 - val_loss: 0.4848 - val_acc: 0.7945\n",
      "\n",
      "Epoch 00106: val_loss did not improve from 0.48376\n",
      "Epoch 107/200\n",
      " - 9s - loss: 0.1680 - acc: 0.9322 - val_loss: 0.5117 - val_acc: 0.8027\n",
      "\n",
      "Epoch 00107: val_loss did not improve from 0.48376\n",
      "Epoch 108/200\n",
      " - 9s - loss: 0.1739 - acc: 0.9288 - val_loss: 0.5023 - val_acc: 0.8191\n",
      "\n",
      "Epoch 00108: val_loss did not improve from 0.48376\n",
      "Epoch 109/200\n",
      " - 10s - loss: 0.1844 - acc: 0.9246 - val_loss: 0.5983 - val_acc: 0.7964\n",
      "\n",
      "Epoch 00109: val_loss did not improve from 0.48376\n",
      "Epoch 110/200\n",
      " - 8s - loss: 0.1808 - acc: 0.9275 - val_loss: 0.5346 - val_acc: 0.7973\n",
      "\n",
      "Epoch 00110: val_loss did not improve from 0.48376\n",
      "Epoch 111/200\n",
      " - 11s - loss: 0.1720 - acc: 0.9317 - val_loss: 0.5839 - val_acc: 0.8018\n",
      "\n",
      "Epoch 00111: val_loss did not improve from 0.48376\n",
      "Epoch 112/200\n",
      " - 11s - loss: 0.1645 - acc: 0.9349 - val_loss: 0.5480 - val_acc: 0.8200\n"
     ]
    },
    {
     "name": "stdout",
     "output_type": "stream",
     "text": [
      "\n",
      "Epoch 00112: val_loss did not improve from 0.48376\n",
      "Epoch 113/200\n",
      " - 9s - loss: 0.1666 - acc: 0.9317 - val_loss: 0.5136 - val_acc: 0.8100\n",
      "\n",
      "Epoch 00113: val_loss did not improve from 0.48376\n",
      "Epoch 114/200\n",
      " - 8s - loss: 0.1786 - acc: 0.9274 - val_loss: 0.4954 - val_acc: 0.7982\n",
      "\n",
      "Epoch 00114: val_loss did not improve from 0.48376\n",
      "Epoch 115/200\n",
      " - 8s - loss: 0.1973 - acc: 0.9205 - val_loss: 0.5939 - val_acc: 0.7991\n",
      "\n",
      "Epoch 00115: val_loss did not improve from 0.48376\n",
      "Epoch 116/200\n",
      " - 8s - loss: 0.1676 - acc: 0.9344 - val_loss: 0.7431 - val_acc: 0.7691\n",
      "\n",
      "Epoch 00116: val_loss did not improve from 0.48376\n",
      "Epoch 117/200\n",
      " - 12s - loss: 0.2025 - acc: 0.9131 - val_loss: 0.4900 - val_acc: 0.7836\n",
      "\n",
      "Epoch 00117: val_loss did not improve from 0.48376\n",
      "Epoch 118/200\n",
      " - 10s - loss: 0.2304 - acc: 0.8997 - val_loss: 0.6121 - val_acc: 0.7682\n",
      "\n",
      "Epoch 00118: val_loss did not improve from 0.48376\n",
      "Epoch 119/200\n",
      " - 9s - loss: 0.2020 - acc: 0.9149 - val_loss: 0.5260 - val_acc: 0.7882\n",
      "\n",
      "Epoch 00119: val_loss did not improve from 0.48376\n",
      "Epoch 120/200\n",
      " - 9s - loss: 0.1766 - acc: 0.9258 - val_loss: 0.5416 - val_acc: 0.7873\n",
      "\n",
      "Epoch 00120: val_loss did not improve from 0.48376\n",
      "Epoch 121/200\n",
      " - 9s - loss: 0.1786 - acc: 0.9276 - val_loss: 0.4934 - val_acc: 0.8027\n",
      "\n",
      "Epoch 00121: val_loss did not improve from 0.48376\n",
      "Epoch 122/200\n",
      " - 8s - loss: 0.1768 - acc: 0.9261 - val_loss: 0.4933 - val_acc: 0.8245\n",
      "\n",
      "Epoch 00122: val_loss did not improve from 0.48376\n",
      "Epoch 123/200\n",
      " - 8s - loss: 0.1618 - acc: 0.9348 - val_loss: 0.4709 - val_acc: 0.8064\n",
      "\n",
      "Epoch 00123: val_loss improved from 0.48376 to 0.47092, saving model to MLP_new.weights.best.hdf5\n",
      "Epoch 124/200\n",
      " - 8s - loss: 0.1748 - acc: 0.9267 - val_loss: 0.5424 - val_acc: 0.7936\n",
      "\n",
      "Epoch 00124: val_loss did not improve from 0.47092\n",
      "Epoch 125/200\n",
      " - 11s - loss: 0.1633 - acc: 0.9347 - val_loss: 0.5171 - val_acc: 0.8209\n",
      "\n",
      "Epoch 00125: val_loss did not improve from 0.47092\n",
      "Epoch 126/200\n",
      " - 12s - loss: 0.1618 - acc: 0.9348 - val_loss: 0.5515 - val_acc: 0.8155\n",
      "\n",
      "Epoch 00126: val_loss did not improve from 0.47092\n",
      "Epoch 127/200\n",
      " - 7s - loss: 0.1642 - acc: 0.9331 - val_loss: 0.5074 - val_acc: 0.8164\n",
      "\n",
      "Epoch 00127: val_loss did not improve from 0.47092\n",
      "Epoch 128/200\n",
      " - 7s - loss: 0.1650 - acc: 0.9346 - val_loss: 0.5077 - val_acc: 0.8236\n",
      "\n",
      "Epoch 00128: val_loss did not improve from 0.47092\n",
      "Epoch 129/200\n",
      " - 7s - loss: 0.1589 - acc: 0.9380 - val_loss: 0.5313 - val_acc: 0.8136\n",
      "\n",
      "Epoch 00129: val_loss did not improve from 0.47092\n",
      "Epoch 130/200\n",
      " - 8s - loss: 0.1593 - acc: 0.9359 - val_loss: 0.5699 - val_acc: 0.8000\n",
      "\n",
      "Epoch 00130: val_loss did not improve from 0.47092\n",
      "Epoch 131/200\n",
      " - 8s - loss: 0.1611 - acc: 0.9342 - val_loss: 0.4898 - val_acc: 0.8209\n",
      "\n",
      "Epoch 00131: val_loss did not improve from 0.47092\n",
      "Epoch 132/200\n",
      " - 8s - loss: 0.1563 - acc: 0.9381 - val_loss: 0.4889 - val_acc: 0.8091\n",
      "\n",
      "Epoch 00132: val_loss did not improve from 0.47092\n",
      "Epoch 133/200\n",
      " - 8s - loss: 0.1615 - acc: 0.9326 - val_loss: 0.5536 - val_acc: 0.8082\n",
      "\n",
      "Epoch 00133: val_loss did not improve from 0.47092\n",
      "Epoch 134/200\n",
      " - 8s - loss: 0.1607 - acc: 0.9340 - val_loss: 0.6141 - val_acc: 0.8064\n",
      "\n",
      "Epoch 00134: val_loss did not improve from 0.47092\n",
      "Epoch 135/200\n",
      " - 9s - loss: 0.1511 - acc: 0.9406 - val_loss: 0.4916 - val_acc: 0.8173\n",
      "\n",
      "Epoch 00135: val_loss did not improve from 0.47092\n",
      "Epoch 136/200\n",
      " - 8s - loss: 0.1533 - acc: 0.9399 - val_loss: 0.5148 - val_acc: 0.8127\n",
      "\n",
      "Epoch 00136: val_loss did not improve from 0.47092\n",
      "Epoch 137/200\n",
      " - 8s - loss: 0.1481 - acc: 0.9410 - val_loss: 0.4984 - val_acc: 0.8218\n",
      "\n",
      "Epoch 00137: val_loss did not improve from 0.47092\n",
      "Epoch 138/200\n",
      " - 8s - loss: 0.1497 - acc: 0.9407 - val_loss: 0.5541 - val_acc: 0.8109\n",
      "\n",
      "Epoch 00138: val_loss did not improve from 0.47092\n",
      "Epoch 139/200\n",
      " - 7s - loss: 0.1409 - acc: 0.9445 - val_loss: 0.4628 - val_acc: 0.8245\n",
      "\n",
      "Epoch 00139: val_loss improved from 0.47092 to 0.46278, saving model to MLP_new.weights.best.hdf5\n",
      "Epoch 140/200\n",
      " - 8s - loss: 0.1321 - acc: 0.9506 - val_loss: 0.5763 - val_acc: 0.8218\n",
      "\n",
      "Epoch 00140: val_loss did not improve from 0.46278\n",
      "Epoch 141/200\n",
      " - 7s - loss: 0.1385 - acc: 0.9482 - val_loss: 0.5167 - val_acc: 0.8227\n",
      "\n",
      "Epoch 00141: val_loss did not improve from 0.46278\n",
      "Epoch 142/200\n",
      " - 6s - loss: 0.1432 - acc: 0.9439 - val_loss: 0.6092 - val_acc: 0.8018\n",
      "\n",
      "Epoch 00142: val_loss did not improve from 0.46278\n",
      "Epoch 143/200\n",
      " - 7s - loss: 0.1381 - acc: 0.9453 - val_loss: 0.4972 - val_acc: 0.8145\n",
      "\n",
      "Epoch 00143: val_loss did not improve from 0.46278\n",
      "Epoch 144/200\n",
      " - 7s - loss: 0.1683 - acc: 0.9309 - val_loss: 0.5059 - val_acc: 0.8227\n",
      "\n",
      "Epoch 00144: val_loss did not improve from 0.46278\n",
      "Epoch 145/200\n",
      " - 8s - loss: 0.1377 - acc: 0.9474 - val_loss: 0.4502 - val_acc: 0.8300\n",
      "\n",
      "Epoch 00145: val_loss improved from 0.46278 to 0.45018, saving model to MLP_new.weights.best.hdf5\n",
      "Epoch 146/200\n",
      " - 7s - loss: 0.1527 - acc: 0.9378 - val_loss: 0.5703 - val_acc: 0.7909\n",
      "\n",
      "Epoch 00146: val_loss did not improve from 0.45018\n",
      "Epoch 147/200\n",
      " - 8s - loss: 0.1646 - acc: 0.9338 - val_loss: 0.4799 - val_acc: 0.8155\n",
      "\n",
      "Epoch 00147: val_loss did not improve from 0.45018\n",
      "Epoch 148/200\n",
      " - 8s - loss: 0.1413 - acc: 0.9438 - val_loss: 0.5421 - val_acc: 0.8118\n",
      "\n",
      "Epoch 00148: val_loss did not improve from 0.45018\n",
      "Epoch 149/200\n",
      " - 8s - loss: 0.1310 - acc: 0.9485 - val_loss: 0.4918 - val_acc: 0.8300\n",
      "\n",
      "Epoch 00149: val_loss did not improve from 0.45018\n",
      "Epoch 150/200\n",
      " - 8s - loss: 0.1492 - acc: 0.9407 - val_loss: 0.5197 - val_acc: 0.8155\n",
      "\n",
      "Epoch 00150: val_loss did not improve from 0.45018\n",
      "Epoch 151/200\n",
      " - 8s - loss: 0.1694 - acc: 0.9295 - val_loss: 0.4637 - val_acc: 0.8364\n",
      "\n",
      "Epoch 00151: val_loss did not improve from 0.45018\n",
      "Epoch 152/200\n",
      " - 8s - loss: 0.1558 - acc: 0.9363 - val_loss: 0.5080 - val_acc: 0.8164\n",
      "\n",
      "Epoch 00152: val_loss did not improve from 0.45018\n",
      "Epoch 153/200\n",
      " - 7s - loss: 0.1551 - acc: 0.9369 - val_loss: 0.5244 - val_acc: 0.8036\n",
      "\n",
      "Epoch 00153: val_loss did not improve from 0.45018\n",
      "Epoch 154/200\n",
      " - 9s - loss: 0.1630 - acc: 0.9320 - val_loss: 0.5552 - val_acc: 0.8064\n",
      "\n",
      "Epoch 00154: val_loss did not improve from 0.45018\n",
      "Epoch 155/200\n",
      " - 11s - loss: 0.1516 - acc: 0.9371 - val_loss: 0.6293 - val_acc: 0.8082\n",
      "\n",
      "Epoch 00155: val_loss did not improve from 0.45018\n",
      "Epoch 156/200\n",
      " - 12s - loss: 0.1838 - acc: 0.9211 - val_loss: 0.5402 - val_acc: 0.8018\n",
      "\n",
      "Epoch 00156: val_loss did not improve from 0.45018\n",
      "Epoch 157/200\n",
      " - 10s - loss: 0.1692 - acc: 0.9300 - val_loss: 0.6314 - val_acc: 0.8091\n",
      "\n",
      "Epoch 00157: val_loss did not improve from 0.45018\n",
      "Epoch 158/200\n",
      " - 8s - loss: 0.1381 - acc: 0.9480 - val_loss: 0.4440 - val_acc: 0.8409\n",
      "\n",
      "Epoch 00158: val_loss improved from 0.45018 to 0.44398, saving model to MLP_new.weights.best.hdf5\n",
      "Epoch 159/200\n",
      " - 10s - loss: 0.1347 - acc: 0.9475 - val_loss: 0.4674 - val_acc: 0.8336\n",
      "\n",
      "Epoch 00159: val_loss did not improve from 0.44398\n",
      "Epoch 160/200\n",
      " - 14s - loss: 0.1405 - acc: 0.9427 - val_loss: 0.5542 - val_acc: 0.8291\n",
      "\n",
      "Epoch 00160: val_loss did not improve from 0.44398\n",
      "Epoch 161/200\n",
      " - 10s - loss: 0.1430 - acc: 0.9423 - val_loss: 0.6142 - val_acc: 0.8182\n",
      "\n",
      "Epoch 00161: val_loss did not improve from 0.44398\n",
      "Epoch 162/200\n",
      " - 10s - loss: 0.1303 - acc: 0.9486 - val_loss: 0.4639 - val_acc: 0.8364\n",
      "\n",
      "Epoch 00162: val_loss did not improve from 0.44398\n",
      "Epoch 163/200\n",
      " - 10s - loss: 0.1483 - acc: 0.9396 - val_loss: 0.7285 - val_acc: 0.7727\n",
      "\n",
      "Epoch 00163: val_loss did not improve from 0.44398\n",
      "Epoch 164/200\n",
      " - 10s - loss: 0.1528 - acc: 0.9362 - val_loss: 0.4864 - val_acc: 0.8355\n",
      "\n",
      "Epoch 00164: val_loss did not improve from 0.44398\n",
      "Epoch 165/200\n",
      " - 10s - loss: 0.1403 - acc: 0.9425 - val_loss: 0.4916 - val_acc: 0.8318\n",
      "\n",
      "Epoch 00165: val_loss did not improve from 0.44398\n",
      "Epoch 166/200\n",
      " - 12s - loss: 0.1346 - acc: 0.9457 - val_loss: 0.4644 - val_acc: 0.8373\n",
      "\n",
      "Epoch 00166: val_loss did not improve from 0.44398\n",
      "Epoch 167/200\n",
      " - 11s - loss: 0.1406 - acc: 0.9406 - val_loss: 0.4566 - val_acc: 0.8364\n",
      "\n",
      "Epoch 00167: val_loss did not improve from 0.44398\n",
      "Epoch 168/200\n",
      " - 11s - loss: 0.1295 - acc: 0.9495 - val_loss: 0.4615 - val_acc: 0.8218\n",
      "\n",
      "Epoch 00168: val_loss did not improve from 0.44398\n",
      "Epoch 169/200\n",
      " - 8s - loss: 0.1289 - acc: 0.9492 - val_loss: 0.4562 - val_acc: 0.8236\n",
      "\n",
      "Epoch 00169: val_loss did not improve from 0.44398\n",
      "Epoch 170/200\n",
      " - 10s - loss: 0.1352 - acc: 0.9454 - val_loss: 0.4458 - val_acc: 0.8345\n"
     ]
    },
    {
     "name": "stdout",
     "output_type": "stream",
     "text": [
      "\n",
      "Epoch 00170: val_loss did not improve from 0.44398\n",
      "Epoch 171/200\n",
      " - 15s - loss: 0.1452 - acc: 0.9401 - val_loss: 0.4753 - val_acc: 0.8245\n",
      "\n",
      "Epoch 00171: val_loss did not improve from 0.44398\n",
      "Epoch 172/200\n",
      " - 11s - loss: 0.1237 - acc: 0.9515 - val_loss: 0.4857 - val_acc: 0.8091\n",
      "\n",
      "Epoch 00172: val_loss did not improve from 0.44398\n",
      "Epoch 173/200\n",
      " - 9s - loss: 0.1602 - acc: 0.9333 - val_loss: 0.4748 - val_acc: 0.8327\n",
      "\n",
      "Epoch 00173: val_loss did not improve from 0.44398\n",
      "Epoch 174/200\n",
      " - 9s - loss: 0.1352 - acc: 0.9470 - val_loss: 0.4939 - val_acc: 0.8245\n",
      "\n",
      "Epoch 00174: val_loss did not improve from 0.44398\n",
      "Epoch 175/200\n",
      " - 12s - loss: 0.1500 - acc: 0.9409 - val_loss: 0.4930 - val_acc: 0.8264\n",
      "\n",
      "Epoch 00175: val_loss did not improve from 0.44398\n",
      "Epoch 176/200\n",
      " - 9s - loss: 0.1568 - acc: 0.9381 - val_loss: 0.5765 - val_acc: 0.8027\n",
      "\n",
      "Epoch 00176: val_loss did not improve from 0.44398\n",
      "Epoch 177/200\n",
      " - 10s - loss: 0.1521 - acc: 0.9376 - val_loss: 0.6179 - val_acc: 0.7827\n",
      "\n",
      "Epoch 00177: val_loss did not improve from 0.44398\n",
      "Epoch 178/200\n",
      " - 10s - loss: 0.1563 - acc: 0.9379 - val_loss: 0.5219 - val_acc: 0.8209\n",
      "\n",
      "Epoch 00178: val_loss did not improve from 0.44398\n",
      "Epoch 179/200\n",
      " - 9s - loss: 0.1484 - acc: 0.9407 - val_loss: 0.4828 - val_acc: 0.8255\n",
      "\n",
      "Epoch 00179: val_loss did not improve from 0.44398\n",
      "Epoch 180/200\n",
      " - 8s - loss: 0.1489 - acc: 0.9401 - val_loss: 0.4702 - val_acc: 0.8055\n",
      "\n",
      "Epoch 00180: val_loss did not improve from 0.44398\n",
      "Epoch 181/200\n",
      " - 9s - loss: 0.1402 - acc: 0.9448 - val_loss: 0.5105 - val_acc: 0.8127\n",
      "\n",
      "Epoch 00181: val_loss did not improve from 0.44398\n",
      "Epoch 182/200\n",
      " - 10s - loss: 0.1316 - acc: 0.9475 - val_loss: 0.4993 - val_acc: 0.8291\n",
      "\n",
      "Epoch 00182: val_loss did not improve from 0.44398\n",
      "Epoch 183/200\n",
      " - 9s - loss: 0.1193 - acc: 0.9562 - val_loss: 0.5356 - val_acc: 0.8236\n",
      "\n",
      "Epoch 00183: val_loss did not improve from 0.44398\n",
      "Epoch 184/200\n",
      " - 15s - loss: 0.1415 - acc: 0.9463 - val_loss: 0.4371 - val_acc: 0.8182\n",
      "\n",
      "Epoch 00184: val_loss improved from 0.44398 to 0.43706, saving model to MLP_new.weights.best.hdf5\n",
      "Epoch 185/200\n",
      " - 10s - loss: 0.1435 - acc: 0.9416 - val_loss: 0.4314 - val_acc: 0.8264\n",
      "\n",
      "Epoch 00185: val_loss improved from 0.43706 to 0.43144, saving model to MLP_new.weights.best.hdf5\n",
      "Epoch 186/200\n",
      " - 9s - loss: 0.1256 - acc: 0.9497 - val_loss: 0.4631 - val_acc: 0.8273\n",
      "\n",
      "Epoch 00186: val_loss did not improve from 0.43144\n",
      "Epoch 187/200\n",
      " - 9s - loss: 0.1207 - acc: 0.9524 - val_loss: 0.5681 - val_acc: 0.8218\n",
      "\n",
      "Epoch 00187: val_loss did not improve from 0.43144\n",
      "Epoch 188/200\n",
      " - 8s - loss: 0.1206 - acc: 0.9517 - val_loss: 0.5642 - val_acc: 0.8236\n",
      "\n",
      "Epoch 00188: val_loss did not improve from 0.43144\n",
      "Epoch 189/200\n",
      " - 9s - loss: 0.1315 - acc: 0.9475 - val_loss: 0.5557 - val_acc: 0.7882\n",
      "\n",
      "Epoch 00189: val_loss did not improve from 0.43144\n",
      "Epoch 190/200\n",
      " - 8s - loss: 0.1654 - acc: 0.9329 - val_loss: 0.5080 - val_acc: 0.7945\n",
      "\n",
      "Epoch 00190: val_loss did not improve from 0.43144\n",
      "Epoch 191/200\n",
      " - 8s - loss: 0.1551 - acc: 0.9352 - val_loss: 0.4317 - val_acc: 0.8409\n",
      "\n",
      "Epoch 00191: val_loss did not improve from 0.43144\n",
      "Epoch 192/200\n",
      " - 11s - loss: 0.1249 - acc: 0.9505 - val_loss: 0.5542 - val_acc: 0.8118\n",
      "\n",
      "Epoch 00192: val_loss did not improve from 0.43144\n",
      "Epoch 193/200\n",
      " - 11s - loss: 0.1327 - acc: 0.9486 - val_loss: 0.5131 - val_acc: 0.8145\n",
      "\n",
      "Epoch 00193: val_loss did not improve from 0.43144\n",
      "Epoch 194/200\n",
      " - 9s - loss: 0.1277 - acc: 0.9489 - val_loss: 0.4275 - val_acc: 0.8209\n",
      "\n",
      "Epoch 00194: val_loss improved from 0.43144 to 0.42749, saving model to MLP_new.weights.best.hdf5\n",
      "Epoch 195/200\n",
      " - 10s - loss: 0.1386 - acc: 0.9454 - val_loss: 0.4489 - val_acc: 0.8373\n",
      "\n",
      "Epoch 00195: val_loss did not improve from 0.42749\n",
      "Epoch 196/200\n",
      " - 9s - loss: 0.1240 - acc: 0.9515 - val_loss: 0.4130 - val_acc: 0.8400\n",
      "\n",
      "Epoch 00196: val_loss improved from 0.42749 to 0.41304, saving model to MLP_new.weights.best.hdf5\n",
      "Epoch 197/200\n",
      " - 7s - loss: 0.1134 - acc: 0.9555 - val_loss: 0.4170 - val_acc: 0.8509\n",
      "\n",
      "Epoch 00197: val_loss did not improve from 0.41304\n",
      "Epoch 198/200\n",
      " - 8s - loss: 0.1205 - acc: 0.9498 - val_loss: 0.4360 - val_acc: 0.8400\n",
      "\n",
      "Epoch 00198: val_loss did not improve from 0.41304\n",
      "Epoch 199/200\n",
      " - 8s - loss: 0.1127 - acc: 0.9581 - val_loss: 0.5160 - val_acc: 0.8327\n",
      "\n",
      "Epoch 00199: val_loss did not improve from 0.41304\n",
      "Epoch 200/200\n",
      " - 8s - loss: 0.1062 - acc: 0.9583 - val_loss: 0.4830 - val_acc: 0.8336\n",
      "\n",
      "Epoch 00200: val_loss did not improve from 0.41304\n"
     ]
    }
   ],
   "source": [
    "from keras.callbacks import ModelCheckpoint\n",
    "\n",
    "checkpointer = ModelCheckpoint(filepath = 'MLP_new.weights.best.hdf5', verbose = 1, save_best_only = True)\n",
    "hist1 = model2.fit( x_train, y_train, epochs = 200, batch_size=512, validation_split = 0.1, callbacks = [checkpointer], verbose = 2, shuffle = True )"
   ]
  },
  {
   "cell_type": "code",
   "execution_count": 38,
   "metadata": {
    "colab": {
     "autoexec": {
      "startup": false,
      "wait_interval": 0
     },
     "base_uri": "https://localhost:8080/",
     "height": 54
    },
    "colab_type": "code",
    "executionInfo": {
     "elapsed": 1036,
     "status": "ok",
     "timestamp": 1528838562560,
     "user": {
      "displayName": "SHUBHAM VERMA",
      "photoUrl": "https://lh3.googleusercontent.com/a/default-user=s128",
      "userId": "108363614808362191748"
     },
     "user_tz": -330
    },
    "id": "aNKmoGdQchbo",
    "outputId": "ae555b2c-cba8-4e72-cc55-5614e8b99c9c"
   },
   "outputs": [
    {
     "name": "stdout",
     "output_type": "stream",
     "text": [
      "3980/3980 [==============================] - 4s 1ms/step\n",
      "Accuracy:  0.7773869346134626\n"
     ]
    }
   ],
   "source": [
    "score = model2.evaluate(x_test, y_test, verbose=1)\n",
    "print(\"Accuracy: \", score[1])"
   ]
  },
  {
   "cell_type": "code",
   "execution_count": 39,
   "metadata": {
    "colab": {
     "autoexec": {
      "startup": false,
      "wait_interval": 0
     }
    },
    "colab_type": "code",
    "id": "elVEGDtW3JfM"
   },
   "outputs": [],
   "source": [
    "predict3 = [1 if a>=0.5 else 0 for a in model2.predict(x_test)] "
   ]
  },
  {
   "cell_type": "code",
   "execution_count": 40,
   "metadata": {
    "colab": {
     "autoexec": {
      "startup": false,
      "wait_interval": 0
     },
     "base_uri": "https://localhost:8080/",
     "height": 91
    },
    "colab_type": "code",
    "executionInfo": {
     "elapsed": 1086,
     "status": "ok",
     "timestamp": 1528839774224,
     "user": {
      "displayName": "SHUBHAM VERMA",
      "photoUrl": "https://lh3.googleusercontent.com/a/default-user=s128",
      "userId": "108363614808362191748"
     },
     "user_tz": -330
    },
    "id": "bww5JR0i3PGh",
    "outputId": "6b0b172d-8479-4248-e644-a66fa315f6d3"
   },
   "outputs": [
    {
     "name": "stdout",
     "output_type": "stream",
     "text": [
      "Accuracy = 0.7773869346733668\n",
      "Precision = 0.7124031007751938\n",
      "Recall = 0.9273461150353178\n",
      "F1 Score = 0.8057869355545813\n"
     ]
    }
   ],
   "source": [
    "print(\"Accuracy = {}\\nPrecision = {}\\nRecall = {}\\nF1 Score = {}\".format(metrics.accuracy_score(y_test, predict3), metrics.precision_score(y_test, predict3),metrics.recall_score(y_test, predict3),metrics.f1_score(y_test, predict3)))\n",
    "score_p.append([metrics.accuracy_score(y_test, predict3), metrics.precision_score(y_test, predict3),metrics.recall_score(y_test, predict3),metrics.f1_score(y_test, predict3)])"
   ]
  },
  {
   "cell_type": "code",
   "execution_count": 41,
   "metadata": {
    "colab": {
     "autoexec": {
      "startup": false,
      "wait_interval": 0
     }
    },
    "colab_type": "code",
    "id": "PocmBpI__yv7"
   },
   "outputs": [],
   "source": [
    "import matplotlib.pyplot as plt"
   ]
  },
  {
   "cell_type": "markdown",
   "metadata": {
    "colab_type": "text",
    "id": "lghx16y4_r8Q"
   },
   "source": [
    "# Training on  LSTM"
   ]
  },
  {
   "cell_type": "markdown",
   "metadata": {
    "colab_type": "text",
    "id": "wNp083VrV_ai"
   },
   "source": [
    "### Creating 3D array dataset"
   ]
  },
  {
   "cell_type": "code",
   "execution_count": 42,
   "metadata": {
    "colab": {
     "autoexec": {
      "startup": false,
      "wait_interval": 0
     }
    },
    "colab_type": "code",
    "id": "3AXLNcwEwbIx"
   },
   "outputs": [],
   "source": [
    "X_train = np.asarray(np.reshape(x_train, (x_train.shape[0], 14, 1)))\n",
    "X_test = np.asarray(np.reshape(x_test, (x_test.shape[0], 14, 1)))"
   ]
  },
  {
   "cell_type": "code",
   "execution_count": 43,
   "metadata": {
    "colab": {
     "autoexec": {
      "startup": false,
      "wait_interval": 0
     }
    },
    "colab_type": "code",
    "id": "Krv-k18n3mXy"
   },
   "outputs": [],
   "source": [
    "from keras.layers import Dense, Dropout, CuDNNLSTM, Embedding, LSTM\n",
    "from keras.models import Sequential"
   ]
  },
  {
   "cell_type": "code",
   "execution_count": 44,
   "metadata": {
    "colab": {
     "autoexec": {
      "startup": false,
      "wait_interval": 0
     }
    },
    "colab_type": "code",
    "id": "DR_-hoc-_qx6"
   },
   "outputs": [],
   "source": [
    "model3 = Sequential()\n",
    "model3.add(LSTM(256,input_shape=(14, 1), return_sequences=True))\n",
    "model3.add(LSTM(256))\n",
    "model3.add(Dense(1, activation='sigmoid'))"
   ]
  },
  {
   "cell_type": "code",
   "execution_count": 45,
   "metadata": {
    "colab": {
     "autoexec": {
      "startup": false,
      "wait_interval": 0
     },
     "base_uri": "https://localhost:8080/",
     "height": 258
    },
    "colab_type": "code",
    "executionInfo": {
     "elapsed": 1438,
     "status": "ok",
     "timestamp": 1528838677662,
     "user": {
      "displayName": "SHUBHAM VERMA",
      "photoUrl": "https://lh3.googleusercontent.com/a/default-user=s128",
      "userId": "108363614808362191748"
     },
     "user_tz": -330
    },
    "id": "i8emSgOt_q1c",
    "outputId": "10afeef3-7634-456c-b363-7f6fa8e090c7"
   },
   "outputs": [
    {
     "name": "stdout",
     "output_type": "stream",
     "text": [
      "_________________________________________________________________\n",
      "Layer (type)                 Output Shape              Param #   \n",
      "=================================================================\n",
      "lstm_1 (LSTM)                (None, 14, 256)           264192    \n",
      "_________________________________________________________________\n",
      "lstm_2 (LSTM)                (None, 256)               525312    \n",
      "_________________________________________________________________\n",
      "dense_7 (Dense)              (None, 1)                 257       \n",
      "=================================================================\n",
      "Total params: 789,761\n",
      "Trainable params: 789,761\n",
      "Non-trainable params: 0\n",
      "_________________________________________________________________\n"
     ]
    }
   ],
   "source": [
    "model3.compile(loss='binary_crossentropy', optimizer='adam', metrics=['accuracy'])\n",
    "model3.summary()"
   ]
  },
  {
   "cell_type": "code",
   "execution_count": 46,
   "metadata": {
    "colab": {
     "autoexec": {
      "startup": false,
      "wait_interval": 0
     },
     "base_uri": "https://localhost:8080/",
     "height": 7482
    },
    "colab_type": "code",
    "executionInfo": {
     "elapsed": 276963,
     "status": "ok",
     "timestamp": 1528838958417,
     "user": {
      "displayName": "SHUBHAM VERMA",
      "photoUrl": "https://lh3.googleusercontent.com/a/default-user=s128",
      "userId": "108363614808362191748"
     },
     "user_tz": -330
    },
    "id": "xBzDfMmU_q9s",
    "outputId": "28aab7f6-7404-49ae-b27f-f052677bf381"
   },
   "outputs": [
    {
     "name": "stdout",
     "output_type": "stream",
     "text": [
      "Train on 9900 samples, validate on 1100 samples\n",
      "Epoch 1/100\n",
      " - 59s - loss: 0.6923 - acc: 0.5166 - val_loss: 0.6926 - val_acc: 0.5164\n",
      "\n",
      "Epoch 00001: val_loss improved from inf to 0.69257, saving model to LSTM.weights.best.hdf5\n",
      "Epoch 2/100\n",
      " - 72s - loss: 0.6908 - acc: 0.5286 - val_loss: 0.6924 - val_acc: 0.5036\n",
      "\n",
      "Epoch 00002: val_loss improved from 0.69257 to 0.69243, saving model to LSTM.weights.best.hdf5\n",
      "Epoch 3/100\n",
      " - 71s - loss: 0.6850 - acc: 0.5473 - val_loss: 0.6905 - val_acc: 0.5218\n",
      "\n",
      "Epoch 00003: val_loss improved from 0.69243 to 0.69055, saving model to LSTM.weights.best.hdf5\n",
      "Epoch 4/100\n",
      " - 56s - loss: 0.6823 - acc: 0.5505 - val_loss: 0.6921 - val_acc: 0.5300\n",
      "\n",
      "Epoch 00004: val_loss did not improve from 0.69055\n",
      "Epoch 5/100\n",
      " - 79s - loss: 0.6724 - acc: 0.5555 - val_loss: 0.6890 - val_acc: 0.5118\n",
      "\n",
      "Epoch 00005: val_loss improved from 0.69055 to 0.68898, saving model to LSTM.weights.best.hdf5\n",
      "Epoch 6/100\n",
      " - 59s - loss: 0.6643 - acc: 0.5702 - val_loss: 0.6889 - val_acc: 0.5109\n",
      "\n",
      "Epoch 00006: val_loss improved from 0.68898 to 0.68889, saving model to LSTM.weights.best.hdf5\n",
      "Epoch 7/100\n",
      " - 57s - loss: 0.6592 - acc: 0.5760 - val_loss: 0.6890 - val_acc: 0.5073\n",
      "\n",
      "Epoch 00007: val_loss did not improve from 0.68889\n",
      "Epoch 8/100\n",
      " - 59s - loss: 0.6380 - acc: 0.5930 - val_loss: 0.6746 - val_acc: 0.5736\n",
      "\n",
      "Epoch 00008: val_loss improved from 0.68889 to 0.67456, saving model to LSTM.weights.best.hdf5\n",
      "Epoch 9/100\n",
      " - 59s - loss: 0.6326 - acc: 0.5953 - val_loss: 0.6790 - val_acc: 0.5518\n",
      "\n",
      "Epoch 00009: val_loss did not improve from 0.67456\n",
      "Epoch 10/100\n",
      " - 73s - loss: 0.6559 - acc: 0.5711 - val_loss: 0.6858 - val_acc: 0.5327\n",
      "\n",
      "Epoch 00010: val_loss did not improve from 0.67456\n",
      "Epoch 11/100\n",
      " - 68s - loss: 0.6747 - acc: 0.5564 - val_loss: 0.6907 - val_acc: 0.5191\n",
      "\n",
      "Epoch 00011: val_loss did not improve from 0.67456\n",
      "Epoch 12/100\n",
      " - 57s - loss: 0.6746 - acc: 0.5723 - val_loss: 0.6962 - val_acc: 0.5227\n",
      "\n",
      "Epoch 00012: val_loss did not improve from 0.67456\n",
      "Epoch 13/100\n",
      " - 63s - loss: 0.6682 - acc: 0.5619 - val_loss: 0.6821 - val_acc: 0.5391\n",
      "\n",
      "Epoch 00013: val_loss did not improve from 0.67456\n",
      "Epoch 14/100\n",
      " - 66s - loss: 0.6539 - acc: 0.5802 - val_loss: 0.6819 - val_acc: 0.5209\n",
      "\n",
      "Epoch 00014: val_loss did not improve from 0.67456\n",
      "Epoch 15/100\n",
      " - 65s - loss: 0.6469 - acc: 0.5932 - val_loss: 0.6845 - val_acc: 0.5236\n",
      "\n",
      "Epoch 00015: val_loss did not improve from 0.67456\n",
      "Epoch 16/100\n",
      " - 61s - loss: 0.6452 - acc: 0.5890 - val_loss: 0.6845 - val_acc: 0.5191\n",
      "\n",
      "Epoch 00016: val_loss did not improve from 0.67456\n",
      "Epoch 17/100\n",
      " - 54s - loss: 0.6452 - acc: 0.5912 - val_loss: 0.6853 - val_acc: 0.5400\n",
      "\n",
      "Epoch 00017: val_loss did not improve from 0.67456\n",
      "Epoch 18/100\n",
      " - 58s - loss: 0.6358 - acc: 0.5986 - val_loss: 0.6852 - val_acc: 0.5673\n",
      "\n",
      "Epoch 00018: val_loss did not improve from 0.67456\n",
      "Epoch 19/100\n",
      " - 62s - loss: 0.6410 - acc: 0.5915 - val_loss: 0.6678 - val_acc: 0.5609\n",
      "\n",
      "Epoch 00019: val_loss improved from 0.67456 to 0.66784, saving model to LSTM.weights.best.hdf5\n",
      "Epoch 20/100\n",
      " - 62s - loss: 0.6219 - acc: 0.6087 - val_loss: 0.6701 - val_acc: 0.5636\n",
      "\n",
      "Epoch 00020: val_loss did not improve from 0.66784\n",
      "Epoch 21/100\n",
      " - 55s - loss: 0.6110 - acc: 0.6125 - val_loss: 0.6700 - val_acc: 0.5636\n",
      "\n",
      "Epoch 00021: val_loss did not improve from 0.66784\n",
      "Epoch 22/100\n",
      " - 53s - loss: 0.6212 - acc: 0.5964 - val_loss: 0.7110 - val_acc: 0.5564\n",
      "\n",
      "Epoch 00022: val_loss did not improve from 0.66784\n",
      "Epoch 23/100\n",
      " - 53s - loss: 0.6181 - acc: 0.6025 - val_loss: 0.6776 - val_acc: 0.5627\n",
      "\n",
      "Epoch 00023: val_loss did not improve from 0.66784\n",
      "Epoch 24/100\n",
      " - 59s - loss: 0.6160 - acc: 0.6115 - val_loss: 0.6712 - val_acc: 0.5564\n",
      "\n",
      "Epoch 00024: val_loss did not improve from 0.66784\n",
      "Epoch 25/100\n",
      " - 55s - loss: 0.6059 - acc: 0.6176 - val_loss: 0.6631 - val_acc: 0.5664\n",
      "\n",
      "Epoch 00025: val_loss improved from 0.66784 to 0.66308, saving model to LSTM.weights.best.hdf5\n",
      "Epoch 26/100\n",
      " - 58s - loss: 0.5996 - acc: 0.6273 - val_loss: 0.6712 - val_acc: 0.5618\n",
      "\n",
      "Epoch 00026: val_loss did not improve from 0.66308\n",
      "Epoch 27/100\n",
      " - 57s - loss: 0.6341 - acc: 0.6004 - val_loss: 0.6743 - val_acc: 0.5409\n",
      "\n",
      "Epoch 00027: val_loss did not improve from 0.66308\n",
      "Epoch 28/100\n",
      " - 82s - loss: 0.6226 - acc: 0.6064 - val_loss: 0.6671 - val_acc: 0.5491\n",
      "\n",
      "Epoch 00028: val_loss did not improve from 0.66308\n",
      "Epoch 29/100\n",
      " - 74s - loss: 0.6087 - acc: 0.6104 - val_loss: 0.6650 - val_acc: 0.5600\n",
      "\n",
      "Epoch 00029: val_loss did not improve from 0.66308\n",
      "Epoch 30/100\n",
      " - 74s - loss: 0.6029 - acc: 0.6216 - val_loss: 0.6875 - val_acc: 0.5545\n",
      "\n",
      "Epoch 00030: val_loss did not improve from 0.66308\n",
      "Epoch 31/100\n",
      " - 73s - loss: 0.5990 - acc: 0.6294 - val_loss: 0.6701 - val_acc: 0.5691\n",
      "\n",
      "Epoch 00031: val_loss did not improve from 0.66308\n",
      "Epoch 32/100\n",
      " - 68s - loss: 0.5955 - acc: 0.6419 - val_loss: 0.6505 - val_acc: 0.5809\n",
      "\n",
      "Epoch 00032: val_loss improved from 0.66308 to 0.65049, saving model to LSTM.weights.best.hdf5\n",
      "Epoch 33/100\n",
      " - 88s - loss: 0.5794 - acc: 0.6678 - val_loss: 0.6808 - val_acc: 0.5718\n",
      "\n",
      "Epoch 00033: val_loss did not improve from 0.65049\n",
      "Epoch 34/100\n",
      " - 59s - loss: 0.6009 - acc: 0.6588 - val_loss: 0.6635 - val_acc: 0.5618\n",
      "\n",
      "Epoch 00034: val_loss did not improve from 0.65049\n",
      "Epoch 35/100\n",
      " - 59s - loss: 0.6029 - acc: 0.6194 - val_loss: 0.6565 - val_acc: 0.5609\n",
      "\n",
      "Epoch 00035: val_loss did not improve from 0.65049\n",
      "Epoch 36/100\n",
      " - 61s - loss: 0.5854 - acc: 0.6549 - val_loss: 0.6462 - val_acc: 0.6045\n",
      "\n",
      "Epoch 00036: val_loss improved from 0.65049 to 0.64623, saving model to LSTM.weights.best.hdf5\n",
      "Epoch 37/100\n",
      " - 62s - loss: 0.5671 - acc: 0.6847 - val_loss: 0.6602 - val_acc: 0.5864\n",
      "\n",
      "Epoch 00037: val_loss did not improve from 0.64623\n",
      "Epoch 38/100\n",
      " - 56s - loss: 0.5627 - acc: 0.6925 - val_loss: 0.6381 - val_acc: 0.6345\n",
      "\n",
      "Epoch 00038: val_loss improved from 0.64623 to 0.63811, saving model to LSTM.weights.best.hdf5\n",
      "Epoch 39/100\n",
      " - 60s - loss: 0.5621 - acc: 0.6867 - val_loss: 0.6897 - val_acc: 0.5555\n",
      "\n",
      "Epoch 00039: val_loss did not improve from 0.63811\n",
      "Epoch 40/100\n",
      " - 64s - loss: 0.6064 - acc: 0.6288 - val_loss: 0.6862 - val_acc: 0.5273\n",
      "\n",
      "Epoch 00040: val_loss did not improve from 0.63811\n",
      "Epoch 41/100\n",
      " - 59s - loss: 0.6005 - acc: 0.6236 - val_loss: 0.6687 - val_acc: 0.5600\n",
      "\n",
      "Epoch 00041: val_loss did not improve from 0.63811\n",
      "Epoch 42/100\n",
      " - 55s - loss: 0.5701 - acc: 0.6843 - val_loss: 0.6563 - val_acc: 0.6109\n",
      "\n",
      "Epoch 00042: val_loss did not improve from 0.63811\n",
      "Epoch 43/100\n",
      " - 62s - loss: 0.5550 - acc: 0.7038 - val_loss: 0.6577 - val_acc: 0.5945\n",
      "\n",
      "Epoch 00043: val_loss did not improve from 0.63811\n",
      "Epoch 44/100\n",
      " - 52s - loss: 0.5348 - acc: 0.7182 - val_loss: 0.6506 - val_acc: 0.6118\n",
      "\n",
      "Epoch 00044: val_loss did not improve from 0.63811\n",
      "Epoch 45/100\n",
      " - 57s - loss: 0.5220 - acc: 0.7285 - val_loss: 0.6594 - val_acc: 0.6309\n",
      "\n",
      "Epoch 00045: val_loss did not improve from 0.63811\n",
      "Epoch 46/100\n",
      " - 50s - loss: 0.5018 - acc: 0.7444 - val_loss: 0.6527 - val_acc: 0.6409\n",
      "\n",
      "Epoch 00046: val_loss did not improve from 0.63811\n",
      "Epoch 47/100\n",
      " - 50s - loss: 0.4999 - acc: 0.7444 - val_loss: 0.6458 - val_acc: 0.6509\n",
      "\n",
      "Epoch 00047: val_loss did not improve from 0.63811\n",
      "Epoch 48/100\n",
      " - 50s - loss: 0.5074 - acc: 0.7387 - val_loss: 0.6950 - val_acc: 0.6300\n",
      "\n",
      "Epoch 00048: val_loss did not improve from 0.63811\n",
      "Epoch 49/100\n",
      " - 50s - loss: 0.4847 - acc: 0.7552 - val_loss: 0.6529 - val_acc: 0.6218\n",
      "\n",
      "Epoch 00049: val_loss did not improve from 0.63811\n",
      "Epoch 50/100\n",
      " - 49s - loss: 0.4672 - acc: 0.7688 - val_loss: 0.6505 - val_acc: 0.6500\n",
      "\n",
      "Epoch 00050: val_loss did not improve from 0.63811\n",
      "Epoch 51/100\n",
      " - 24s - loss: 0.4681 - acc: 0.7675 - val_loss: 0.6443 - val_acc: 0.6491\n",
      "\n",
      "Epoch 00051: val_loss did not improve from 0.63811\n",
      "Epoch 52/100\n",
      " - 24s - loss: 0.4643 - acc: 0.7685 - val_loss: 0.6486 - val_acc: 0.6455\n",
      "\n",
      "Epoch 00052: val_loss did not improve from 0.63811\n",
      "Epoch 53/100\n",
      " - 23s - loss: 0.4637 - acc: 0.7703 - val_loss: 0.6523 - val_acc: 0.6527\n",
      "\n",
      "Epoch 00053: val_loss did not improve from 0.63811\n",
      "Epoch 54/100\n",
      " - 22s - loss: 0.4653 - acc: 0.7676 - val_loss: 0.7124 - val_acc: 0.6336\n",
      "\n",
      "Epoch 00054: val_loss did not improve from 0.63811\n",
      "Epoch 55/100\n",
      " - 23s - loss: 0.4714 - acc: 0.7648 - val_loss: 0.6433 - val_acc: 0.6636\n",
      "\n",
      "Epoch 00055: val_loss did not improve from 0.63811\n",
      "Epoch 56/100\n",
      " - 24s - loss: 0.4551 - acc: 0.7728 - val_loss: 0.7382 - val_acc: 0.5955\n"
     ]
    },
    {
     "name": "stdout",
     "output_type": "stream",
     "text": [
      "\n",
      "Epoch 00056: val_loss did not improve from 0.63811\n",
      "Epoch 57/100\n",
      " - 20s - loss: 0.4619 - acc: 0.7715 - val_loss: 0.6261 - val_acc: 0.6600\n",
      "\n",
      "Epoch 00057: val_loss improved from 0.63811 to 0.62606, saving model to LSTM.weights.best.hdf5\n",
      "Epoch 58/100\n",
      " - 23s - loss: 0.4545 - acc: 0.7758 - val_loss: 0.7241 - val_acc: 0.6136\n",
      "\n",
      "Epoch 00058: val_loss did not improve from 0.62606\n",
      "Epoch 59/100\n",
      " - 23s - loss: 0.4548 - acc: 0.7702 - val_loss: 0.8163 - val_acc: 0.6264\n",
      "\n",
      "Epoch 00059: val_loss did not improve from 0.62606\n",
      "Epoch 60/100\n",
      " - 21s - loss: 0.4682 - acc: 0.7620 - val_loss: 0.6338 - val_acc: 0.6455\n",
      "\n",
      "Epoch 00060: val_loss did not improve from 0.62606\n",
      "Epoch 61/100\n",
      " - 22s - loss: 0.4409 - acc: 0.7841 - val_loss: 0.6355 - val_acc: 0.6655\n",
      "\n",
      "Epoch 00061: val_loss did not improve from 0.62606\n",
      "Epoch 62/100\n",
      " - 23s - loss: 0.4287 - acc: 0.7948 - val_loss: 0.6445 - val_acc: 0.6564\n",
      "\n",
      "Epoch 00062: val_loss did not improve from 0.62606\n",
      "Epoch 63/100\n",
      " - 20s - loss: 0.4486 - acc: 0.7779 - val_loss: 0.6073 - val_acc: 0.6918\n",
      "\n",
      "Epoch 00063: val_loss improved from 0.62606 to 0.60729, saving model to LSTM.weights.best.hdf5\n",
      "Epoch 64/100\n",
      " - 23s - loss: 0.4317 - acc: 0.7857 - val_loss: 0.6248 - val_acc: 0.6773\n",
      "\n",
      "Epoch 00064: val_loss did not improve from 0.60729\n",
      "Epoch 65/100\n",
      " - 23s - loss: 0.4301 - acc: 0.7924 - val_loss: 0.6345 - val_acc: 0.6700\n",
      "\n",
      "Epoch 00065: val_loss did not improve from 0.60729\n",
      "Epoch 66/100\n",
      " - 22s - loss: 0.4280 - acc: 0.7932 - val_loss: 0.6250 - val_acc: 0.6827\n",
      "\n",
      "Epoch 00066: val_loss did not improve from 0.60729\n",
      "Epoch 67/100\n",
      " - 27s - loss: 0.4147 - acc: 0.8001 - val_loss: 0.6416 - val_acc: 0.6636\n",
      "\n",
      "Epoch 00067: val_loss did not improve from 0.60729\n",
      "Epoch 68/100\n",
      " - 25s - loss: 0.4292 - acc: 0.7951 - val_loss: 0.6273 - val_acc: 0.6718\n",
      "\n",
      "Epoch 00068: val_loss did not improve from 0.60729\n",
      "Epoch 69/100\n",
      " - 19s - loss: 0.3991 - acc: 0.8102 - val_loss: 0.5954 - val_acc: 0.6800\n",
      "\n",
      "Epoch 00069: val_loss improved from 0.60729 to 0.59537, saving model to LSTM.weights.best.hdf5\n",
      "Epoch 70/100\n",
      " - 20s - loss: 0.3997 - acc: 0.8128 - val_loss: 0.6271 - val_acc: 0.6645\n",
      "\n",
      "Epoch 00070: val_loss did not improve from 0.59537\n",
      "Epoch 71/100\n",
      " - 18s - loss: 0.4069 - acc: 0.8036 - val_loss: 0.6017 - val_acc: 0.6936\n",
      "\n",
      "Epoch 00071: val_loss did not improve from 0.59537\n",
      "Epoch 72/100\n",
      " - 23s - loss: 0.4003 - acc: 0.8098 - val_loss: 0.6228 - val_acc: 0.6691\n",
      "\n",
      "Epoch 00072: val_loss did not improve from 0.59537\n",
      "Epoch 73/100\n",
      " - 24s - loss: 0.3840 - acc: 0.8234 - val_loss: 0.6470 - val_acc: 0.6691\n",
      "\n",
      "Epoch 00073: val_loss did not improve from 0.59537\n",
      "Epoch 74/100\n",
      " - 22s - loss: 0.3886 - acc: 0.8212 - val_loss: 0.6312 - val_acc: 0.6864\n",
      "\n",
      "Epoch 00074: val_loss did not improve from 0.59537\n",
      "Epoch 75/100\n",
      " - 23s - loss: 0.3595 - acc: 0.8368 - val_loss: 0.5986 - val_acc: 0.7109\n",
      "\n",
      "Epoch 00075: val_loss did not improve from 0.59537\n",
      "Epoch 76/100\n",
      " - 22s - loss: 0.3449 - acc: 0.8447 - val_loss: 0.7045 - val_acc: 0.6582\n",
      "\n",
      "Epoch 00076: val_loss did not improve from 0.59537\n",
      "Epoch 77/100\n",
      " - 23s - loss: 0.3569 - acc: 0.8378 - val_loss: 0.5877 - val_acc: 0.7236\n",
      "\n",
      "Epoch 00077: val_loss improved from 0.59537 to 0.58770, saving model to LSTM.weights.best.hdf5\n",
      "Epoch 78/100\n",
      " - 28s - loss: 0.3432 - acc: 0.8458 - val_loss: 0.5957 - val_acc: 0.7191\n",
      "\n",
      "Epoch 00078: val_loss did not improve from 0.58770\n",
      "Epoch 79/100\n",
      " - 24s - loss: 0.3477 - acc: 0.8444 - val_loss: 0.5601 - val_acc: 0.7264\n",
      "\n",
      "Epoch 00079: val_loss improved from 0.58770 to 0.56013, saving model to LSTM.weights.best.hdf5\n",
      "Epoch 80/100\n",
      " - 26s - loss: 0.3565 - acc: 0.8369 - val_loss: 0.5928 - val_acc: 0.7027\n",
      "\n",
      "Epoch 00080: val_loss did not improve from 0.56013\n",
      "Epoch 81/100\n",
      " - 22s - loss: 0.3273 - acc: 0.8555 - val_loss: 0.6152 - val_acc: 0.7182\n",
      "\n",
      "Epoch 00081: val_loss did not improve from 0.56013\n",
      "Epoch 82/100\n",
      " - 19s - loss: 0.3334 - acc: 0.8522 - val_loss: 0.5661 - val_acc: 0.7227\n",
      "\n",
      "Epoch 00082: val_loss did not improve from 0.56013\n",
      "Epoch 83/100\n",
      " - 20s - loss: 0.3389 - acc: 0.8469 - val_loss: 0.5999 - val_acc: 0.7173\n",
      "\n",
      "Epoch 00083: val_loss did not improve from 0.56013\n",
      "Epoch 84/100\n",
      " - 20s - loss: 0.3298 - acc: 0.8536 - val_loss: 0.5907 - val_acc: 0.7182\n",
      "\n",
      "Epoch 00084: val_loss did not improve from 0.56013\n",
      "Epoch 85/100\n",
      " - 23s - loss: 0.3227 - acc: 0.8557 - val_loss: 0.5581 - val_acc: 0.7218\n",
      "\n",
      "Epoch 00085: val_loss improved from 0.56013 to 0.55812, saving model to LSTM.weights.best.hdf5\n",
      "Epoch 86/100\n",
      " - 21s - loss: 0.3082 - acc: 0.8645 - val_loss: 0.6647 - val_acc: 0.6927\n",
      "\n",
      "Epoch 00086: val_loss did not improve from 0.55812\n",
      "Epoch 87/100\n",
      " - 22s - loss: 0.3140 - acc: 0.8625 - val_loss: 0.5580 - val_acc: 0.7245\n",
      "\n",
      "Epoch 00087: val_loss improved from 0.55812 to 0.55796, saving model to LSTM.weights.best.hdf5\n",
      "Epoch 88/100\n",
      " - 22s - loss: 0.3464 - acc: 0.8429 - val_loss: 0.5677 - val_acc: 0.7264\n",
      "\n",
      "Epoch 00088: val_loss did not improve from 0.55796\n",
      "Epoch 89/100\n",
      " - 20s - loss: 0.2980 - acc: 0.8689 - val_loss: 0.5627 - val_acc: 0.7436\n",
      "\n",
      "Epoch 00089: val_loss did not improve from 0.55796\n",
      "Epoch 90/100\n",
      " - 19s - loss: 0.2948 - acc: 0.8669 - val_loss: 0.5453 - val_acc: 0.7364\n",
      "\n",
      "Epoch 00090: val_loss improved from 0.55796 to 0.54532, saving model to LSTM.weights.best.hdf5\n",
      "Epoch 91/100\n",
      " - 21s - loss: 0.2830 - acc: 0.8773 - val_loss: 0.5966 - val_acc: 0.7045\n",
      "\n",
      "Epoch 00091: val_loss did not improve from 0.54532\n",
      "Epoch 92/100\n",
      " - 23s - loss: 0.3094 - acc: 0.8632 - val_loss: 0.5387 - val_acc: 0.7155\n",
      "\n",
      "Epoch 00092: val_loss improved from 0.54532 to 0.53867, saving model to LSTM.weights.best.hdf5\n",
      "Epoch 93/100\n",
      " - 23s - loss: 0.2992 - acc: 0.8685 - val_loss: 0.5646 - val_acc: 0.7400\n",
      "\n",
      "Epoch 00093: val_loss did not improve from 0.53867\n",
      "Epoch 94/100\n",
      " - 22s - loss: 0.2975 - acc: 0.8670 - val_loss: 0.5856 - val_acc: 0.7282\n",
      "\n",
      "Epoch 00094: val_loss did not improve from 0.53867\n",
      "Epoch 95/100\n",
      " - 28s - loss: 0.2867 - acc: 0.8719 - val_loss: 0.6245 - val_acc: 0.7100\n",
      "\n",
      "Epoch 00095: val_loss did not improve from 0.53867\n",
      "Epoch 96/100\n",
      " - 19s - loss: 0.3025 - acc: 0.8639 - val_loss: 0.5643 - val_acc: 0.7482\n",
      "\n",
      "Epoch 00096: val_loss did not improve from 0.53867\n",
      "Epoch 97/100\n",
      " - 20s - loss: 0.2862 - acc: 0.8717 - val_loss: 0.5542 - val_acc: 0.7445\n",
      "\n",
      "Epoch 00097: val_loss did not improve from 0.53867\n",
      "Epoch 98/100\n",
      " - 18s - loss: 0.2759 - acc: 0.8798 - val_loss: 0.5486 - val_acc: 0.7473\n",
      "\n",
      "Epoch 00098: val_loss did not improve from 0.53867\n",
      "Epoch 99/100\n",
      " - 19s - loss: 0.2703 - acc: 0.8812 - val_loss: 0.5751 - val_acc: 0.7300\n",
      "\n",
      "Epoch 00099: val_loss did not improve from 0.53867\n",
      "Epoch 100/100\n",
      " - 18s - loss: 0.2756 - acc: 0.8767 - val_loss: 0.6402 - val_acc: 0.7064\n",
      "\n",
      "Epoch 00100: val_loss did not improve from 0.53867\n"
     ]
    }
   ],
   "source": [
    "from keras.callbacks import ModelCheckpoint\n",
    "\n",
    "checkpointer = ModelCheckpoint(filepath = 'LSTM.weights.best.hdf5', verbose = 1, save_best_only = True)\n",
    "hist = model3.fit(X_train, y_train, epochs = 100, batch_size=256, validation_split = 0.1, callbacks = [checkpointer], verbose = 2, shuffle = True)"
   ]
  },
  {
   "cell_type": "code",
   "execution_count": 47,
   "metadata": {
    "colab": {
     "autoexec": {
      "startup": false,
      "wait_interval": 0
     },
     "base_uri": "https://localhost:8080/",
     "height": 54
    },
    "colab_type": "code",
    "executionInfo": {
     "elapsed": 3253,
     "status": "ok",
     "timestamp": 1528838971145,
     "user": {
      "displayName": "SHUBHAM VERMA",
      "photoUrl": "https://lh3.googleusercontent.com/a/default-user=s128",
      "userId": "108363614808362191748"
     },
     "user_tz": -330
    },
    "id": "BJNcF-Jx_rGD",
    "outputId": "1e48a9ea-72d5-43c8-a843-18f2c778d431"
   },
   "outputs": [
    {
     "name": "stdout",
     "output_type": "stream",
     "text": [
      "3980/3980 [==============================] - 4s 1ms/step\n",
      "Accuracy:  0.676884422170457\n"
     ]
    }
   ],
   "source": [
    "score = model3.evaluate(X_test, y_test, verbose=1)\n",
    "print(\"Accuracy: \", score[1])"
   ]
  },
  {
   "cell_type": "code",
   "execution_count": 48,
   "metadata": {
    "colab": {
     "autoexec": {
      "startup": false,
      "wait_interval": 0
     }
    },
    "colab_type": "code",
    "id": "sUM5b7oW_qvZ"
   },
   "outputs": [],
   "source": [
    "predict4 =  [1 if a>0.5 else 0 for a in model3.predict(X_test)]\n"
   ]
  },
  {
   "cell_type": "markdown",
   "metadata": {
    "colab_type": "text",
    "id": "w7rvEI-nWMUY"
   },
   "source": [
    "### Performance"
   ]
  },
  {
   "cell_type": "code",
   "execution_count": 49,
   "metadata": {
    "colab": {
     "autoexec": {
      "startup": false,
      "wait_interval": 0
     },
     "base_uri": "https://localhost:8080/",
     "height": 91
    },
    "colab_type": "code",
    "executionInfo": {
     "elapsed": 984,
     "status": "ok",
     "timestamp": 1528839038465,
     "user": {
      "displayName": "SHUBHAM VERMA",
      "photoUrl": "https://lh3.googleusercontent.com/a/default-user=s128",
      "userId": "108363614808362191748"
     },
     "user_tz": -330
    },
    "id": "36JspPsyZkzb",
    "outputId": "f2d84cb6-c371-4f5a-8f16-ac0363257a8e"
   },
   "outputs": [
    {
     "name": "stdout",
     "output_type": "stream",
     "text": [
      "Accuracy = 0.6768844221105528\n",
      "Precision = 0.6515679442508711\n",
      "Recall = 0.7547931382441978\n",
      "F1 Score = 0.6993922393641888\n"
     ]
    }
   ],
   "source": [
    "#print(\"Accuracy = {}\\nPrecision = {}\\nRecall = {}\\nF1 Score = {}\".format(metrics.accuracy_score(y_test, predict4), metrics.precision_score(y_test, predict4),metrics.recall_score(y_test, predict4),metrics.f1_score(y_test, predict4)))\n",
    "print(\"Accuracy = {}\\nPrecision = {}\\nRecall = {}\\nF1 Score = {}\".format(metrics.accuracy_score(y_test, predict4), metrics.precision_score(y_test, predict4),metrics.recall_score(y_test, predict4),metrics.f1_score(y_test, predict4)))\n",
    "score_p.append([metrics.accuracy_score(y_test, predict4), metrics.precision_score(y_test, predict4),metrics.recall_score(y_test, predict4),metrics.f1_score(y_test, predict4)])"
   ]
  },
  {
   "cell_type": "code",
   "execution_count": null,
   "metadata": {
    "colab": {
     "autoexec": {
      "startup": false,
      "wait_interval": 0
     }
    },
    "colab_type": "code",
    "id": "-1A_bedbZo_G"
   },
   "outputs": [],
   "source": []
  },
  {
   "cell_type": "markdown",
   "metadata": {
    "colab_type": "text",
    "id": "UIwPKYoN5H4j"
   },
   "source": [
    "# Improved LSTM (Tuning Parameter)"
   ]
  },
  {
   "cell_type": "code",
   "execution_count": 50,
   "metadata": {
    "colab": {
     "autoexec": {
      "startup": false,
      "wait_interval": 0
     },
     "base_uri": "https://localhost:8080/",
     "height": 258
    },
    "colab_type": "code",
    "executionInfo": {
     "elapsed": 2295,
     "status": "ok",
     "timestamp": 1528839050515,
     "user": {
      "displayName": "SHUBHAM VERMA",
      "photoUrl": "https://lh3.googleusercontent.com/a/default-user=s128",
      "userId": "108363614808362191748"
     },
     "user_tz": -330
    },
    "id": "OG1XXkwD5IfU",
    "outputId": "5d447fd4-7b3d-4160-fa36-b8789e6e70ca"
   },
   "outputs": [
    {
     "name": "stdout",
     "output_type": "stream",
     "text": [
      "_________________________________________________________________\n",
      "Layer (type)                 Output Shape              Param #   \n",
      "=================================================================\n",
      "cu_dnnlstm_1 (CuDNNLSTM)     (None, 14, 512)           1054720   \n",
      "_________________________________________________________________\n",
      "cu_dnnlstm_2 (CuDNNLSTM)     (None, 512)               2101248   \n",
      "_________________________________________________________________\n",
      "dense_8 (Dense)              (None, 1)                 513       \n",
      "=================================================================\n",
      "Total params: 3,156,481\n",
      "Trainable params: 3,156,481\n",
      "Non-trainable params: 0\n",
      "_________________________________________________________________\n"
     ]
    }
   ],
   "source": [
    "#model4 = Sequential()\n",
    "#model4.add(CuDNNLSTM(units=512, input_shape=(14, 1), return_sequences=True))\n",
    "#model4.add(CuDNNLSTM(units=512))\n",
    "#model4.add(Dense(1, activation='sigmoid'))\n",
    "#model4.summary()"
   ]
  },
  {
   "cell_type": "code",
   "execution_count": 51,
   "metadata": {
    "colab": {
     "autoexec": {
      "startup": false,
      "wait_interval": 0
     },
     "base_uri": "https://localhost:8080/",
     "height": 258
    },
    "colab_type": "code",
    "executionInfo": {
     "elapsed": 959,
     "status": "ok",
     "timestamp": 1528839054269,
     "user": {
      "displayName": "SHUBHAM VERMA",
      "photoUrl": "https://lh3.googleusercontent.com/a/default-user=s128",
      "userId": "108363614808362191748"
     },
     "user_tz": -330
    },
    "id": "SpKkcLWf7Gnr",
    "outputId": "fbb573ca-0fd7-4a07-ebf7-27a5e1dc9e72"
   },
   "outputs": [
    {
     "name": "stdout",
     "output_type": "stream",
     "text": [
      "_________________________________________________________________\n",
      "Layer (type)                 Output Shape              Param #   \n",
      "=================================================================\n",
      "cu_dnnlstm_1 (CuDNNLSTM)     (None, 14, 512)           1054720   \n",
      "_________________________________________________________________\n",
      "cu_dnnlstm_2 (CuDNNLSTM)     (None, 512)               2101248   \n",
      "_________________________________________________________________\n",
      "dense_8 (Dense)              (None, 1)                 513       \n",
      "=================================================================\n",
      "Total params: 3,156,481\n",
      "Trainable params: 3,156,481\n",
      "Non-trainable params: 0\n",
      "_________________________________________________________________\n"
     ]
    }
   ],
   "source": [
    "#model4.compile(loss='binary_crossentropy', optimizer='adam', metrics=['accuracy'])\n",
    "#model4.summary()"
   ]
  },
  {
   "cell_type": "code",
   "execution_count": 52,
   "metadata": {
    "colab": {
     "autoexec": {
      "startup": false,
      "wait_interval": 0
     },
     "base_uri": "https://localhost:8080/",
     "height": 22336
    },
    "colab_type": "code",
    "executionInfo": {
     "elapsed": 525189,
     "status": "ok",
     "timestamp": 1528839584099,
     "user": {
      "displayName": "SHUBHAM VERMA",
      "photoUrl": "https://lh3.googleusercontent.com/a/default-user=s128",
      "userId": "108363614808362191748"
     },
     "user_tz": -330
    },
    "id": "qkVbrRz-7WaH",
    "outputId": "4ec3b388-49c2-4dda-cf4c-56070ed174db"
   },
   "outputs": [
    {
     "name": "stdout",
     "output_type": "stream",
     "text": [
      "Train on 9900 samples, validate on 1100 samples\n",
      "Epoch 1/300\n"
     ]
    },
    {
     "ename": "InvalidArgumentError",
     "evalue": "No OpKernel was registered to support Op 'CudnnRNN' with these attrs.  Registered devices: [CPU], Registered kernels:\n  <no registered kernels>\n\n\t [[{{node cu_dnnlstm_1/CudnnRNN}} = CudnnRNN[T=DT_FLOAT, direction=\"unidirectional\", dropout=0, input_mode=\"linear_input\", is_training=true, rnn_mode=\"lstm\", seed=87654321, seed2=0](cu_dnnlstm_1/transpose, cu_dnnlstm_1/ExpandDims_1, cu_dnnlstm_1/ExpandDims_2, cu_dnnlstm_1/concat_1)]]\n\nCaused by op 'cu_dnnlstm_1/CudnnRNN', defined at:\n  File \"/usr/lib/python3.5/runpy.py\", line 184, in _run_module_as_main\n    \"__main__\", mod_spec)\n  File \"/usr/lib/python3.5/runpy.py\", line 85, in _run_code\n    exec(code, run_globals)\n  File \"/home/lin/.local/lib/python3.5/site-packages/ipykernel_launcher.py\", line 16, in <module>\n    app.launch_new_instance()\n  File \"/home/lin/.local/lib/python3.5/site-packages/traitlets/config/application.py\", line 658, in launch_instance\n    app.start()\n  File \"/home/lin/.local/lib/python3.5/site-packages/ipykernel/kernelapp.py\", line 505, in start\n    self.io_loop.start()\n  File \"/home/lin/.local/lib/python3.5/site-packages/tornado/platform/asyncio.py\", line 132, in start\n    self.asyncio_loop.run_forever()\n  File \"/usr/lib/python3.5/asyncio/base_events.py\", line 345, in run_forever\n    self._run_once()\n  File \"/usr/lib/python3.5/asyncio/base_events.py\", line 1312, in _run_once\n    handle._run()\n  File \"/usr/lib/python3.5/asyncio/events.py\", line 125, in _run\n    self._callback(*self._args)\n  File \"/home/lin/.local/lib/python3.5/site-packages/tornado/ioloop.py\", line 758, in _run_callback\n    ret = callback()\n  File \"/home/lin/.local/lib/python3.5/site-packages/tornado/stack_context.py\", line 300, in null_wrapper\n    return fn(*args, **kwargs)\n  File \"/home/lin/.local/lib/python3.5/site-packages/tornado/gen.py\", line 1233, in inner\n    self.run()\n  File \"/home/lin/.local/lib/python3.5/site-packages/tornado/gen.py\", line 1147, in run\n    yielded = self.gen.send(value)\n  File \"/home/lin/.local/lib/python3.5/site-packages/ipykernel/kernelbase.py\", line 370, in dispatch_queue\n    yield self.process_one()\n  File \"/home/lin/.local/lib/python3.5/site-packages/tornado/gen.py\", line 346, in wrapper\n    runner = Runner(result, future, yielded)\n  File \"/home/lin/.local/lib/python3.5/site-packages/tornado/gen.py\", line 1080, in __init__\n    self.run()\n  File \"/home/lin/.local/lib/python3.5/site-packages/tornado/gen.py\", line 1147, in run\n    yielded = self.gen.send(value)\n  File \"/home/lin/.local/lib/python3.5/site-packages/ipykernel/kernelbase.py\", line 357, in process_one\n    yield gen.maybe_future(dispatch(*args))\n  File \"/home/lin/.local/lib/python3.5/site-packages/tornado/gen.py\", line 326, in wrapper\n    yielded = next(result)\n  File \"/home/lin/.local/lib/python3.5/site-packages/ipykernel/kernelbase.py\", line 267, in dispatch_shell\n    yield gen.maybe_future(handler(stream, idents, msg))\n  File \"/home/lin/.local/lib/python3.5/site-packages/tornado/gen.py\", line 326, in wrapper\n    yielded = next(result)\n  File \"/home/lin/.local/lib/python3.5/site-packages/ipykernel/kernelbase.py\", line 534, in execute_request\n    user_expressions, allow_stdin,\n  File \"/home/lin/.local/lib/python3.5/site-packages/tornado/gen.py\", line 326, in wrapper\n    yielded = next(result)\n  File \"/home/lin/.local/lib/python3.5/site-packages/ipykernel/ipkernel.py\", line 294, in do_execute\n    res = shell.run_cell(code, store_history=store_history, silent=silent)\n  File \"/home/lin/.local/lib/python3.5/site-packages/ipykernel/zmqshell.py\", line 536, in run_cell\n    return super(ZMQInteractiveShell, self).run_cell(*args, **kwargs)\n  File \"/home/lin/.local/lib/python3.5/site-packages/IPython/core/interactiveshell.py\", line 2817, in run_cell\n    raw_cell, store_history, silent, shell_futures)\n  File \"/home/lin/.local/lib/python3.5/site-packages/IPython/core/interactiveshell.py\", line 2843, in _run_cell\n    return runner(coro)\n  File \"/home/lin/.local/lib/python3.5/site-packages/IPython/core/async_helpers.py\", line 67, in _pseudo_sync_runner\n    coro.send(None)\n  File \"/home/lin/.local/lib/python3.5/site-packages/IPython/core/interactiveshell.py\", line 3018, in run_cell_async\n    interactivity=interactivity, compiler=compiler, result=result)\n  File \"/home/lin/.local/lib/python3.5/site-packages/IPython/core/interactiveshell.py\", line 3183, in run_ast_nodes\n    if (yield from self.run_code(code, result)):\n  File \"/home/lin/.local/lib/python3.5/site-packages/IPython/core/interactiveshell.py\", line 3265, in run_code\n    exec(code_obj, self.user_global_ns, self.user_ns)\n  File \"<ipython-input-50-5f18ed16c4f7>\", line 2, in <module>\n    model4.add(CuDNNLSTM(units=512, input_shape=(14, 1), return_sequences=True))\n  File \"/home/lin/.local/lib/python3.5/site-packages/keras/engine/sequential.py\", line 165, in add\n    layer(x)\n  File \"/home/lin/.local/lib/python3.5/site-packages/keras/layers/recurrent.py\", line 532, in __call__\n    return super(RNN, self).__call__(inputs, **kwargs)\n  File \"/home/lin/.local/lib/python3.5/site-packages/keras/engine/base_layer.py\", line 457, in __call__\n    output = self.call(inputs, **kwargs)\n  File \"/home/lin/.local/lib/python3.5/site-packages/keras/layers/cudnn_recurrent.py\", line 90, in call\n    output, states = self._process_batch(inputs, initial_state)\n  File \"/home/lin/.local/lib/python3.5/site-packages/keras/layers/cudnn_recurrent.py\", line 517, in _process_batch\n    is_training=True)\n  File \"/home/lin/.local/lib/python3.5/site-packages/tensorflow/contrib/cudnn_rnn/python/ops/cudnn_rnn_ops.py\", line 1544, in __call__\n    input_data, input_h, input_c, params, is_training=is_training)\n  File \"/home/lin/.local/lib/python3.5/site-packages/tensorflow/contrib/cudnn_rnn/python/ops/cudnn_rnn_ops.py\", line 1435, in __call__\n    seed=self._seed)\n  File \"/home/lin/.local/lib/python3.5/site-packages/tensorflow/contrib/cudnn_rnn/python/ops/cudnn_rnn_ops.py\", line 922, in _cudnn_rnn\n    outputs, output_h, output_c, _ = gen_cudnn_rnn_ops.cudnn_rnn(**args)\n  File \"/home/lin/.local/lib/python3.5/site-packages/tensorflow/python/ops/gen_cudnn_rnn_ops.py\", line 116, in cudnn_rnn\n    is_training=is_training, name=name)\n  File \"/home/lin/.local/lib/python3.5/site-packages/tensorflow/python/framework/op_def_library.py\", line 787, in _apply_op_helper\n    op_def=op_def)\n  File \"/home/lin/.local/lib/python3.5/site-packages/tensorflow/python/util/deprecation.py\", line 488, in new_func\n    return func(*args, **kwargs)\n  File \"/home/lin/.local/lib/python3.5/site-packages/tensorflow/python/framework/ops.py\", line 3272, in create_op\n    op_def=op_def)\n  File \"/home/lin/.local/lib/python3.5/site-packages/tensorflow/python/framework/ops.py\", line 1768, in __init__\n    self._traceback = tf_stack.extract_stack()\n\nInvalidArgumentError (see above for traceback): No OpKernel was registered to support Op 'CudnnRNN' with these attrs.  Registered devices: [CPU], Registered kernels:\n  <no registered kernels>\n\n\t [[{{node cu_dnnlstm_1/CudnnRNN}} = CudnnRNN[T=DT_FLOAT, direction=\"unidirectional\", dropout=0, input_mode=\"linear_input\", is_training=true, rnn_mode=\"lstm\", seed=87654321, seed2=0](cu_dnnlstm_1/transpose, cu_dnnlstm_1/ExpandDims_1, cu_dnnlstm_1/ExpandDims_2, cu_dnnlstm_1/concat_1)]]\n",
     "output_type": "error",
     "traceback": [
      "\u001b[0;31m---------------------------------------------------------------------------\u001b[0m",
      "\u001b[0;31mInvalidArgumentError\u001b[0m                      Traceback (most recent call last)",
      "\u001b[0;32m~/.local/lib/python3.5/site-packages/tensorflow/python/client/session.py\u001b[0m in \u001b[0;36m_do_call\u001b[0;34m(self, fn, *args)\u001b[0m\n\u001b[1;32m   1291\u001b[0m     \u001b[0;32mtry\u001b[0m\u001b[0;34m:\u001b[0m\u001b[0;34m\u001b[0m\u001b[0m\n\u001b[0;32m-> 1292\u001b[0;31m       \u001b[0;32mreturn\u001b[0m \u001b[0mfn\u001b[0m\u001b[0;34m(\u001b[0m\u001b[0;34m*\u001b[0m\u001b[0margs\u001b[0m\u001b[0;34m)\u001b[0m\u001b[0;34m\u001b[0m\u001b[0m\n\u001b[0m\u001b[1;32m   1293\u001b[0m     \u001b[0;32mexcept\u001b[0m \u001b[0merrors\u001b[0m\u001b[0;34m.\u001b[0m\u001b[0mOpError\u001b[0m \u001b[0;32mas\u001b[0m \u001b[0me\u001b[0m\u001b[0;34m:\u001b[0m\u001b[0;34m\u001b[0m\u001b[0m\n",
      "\u001b[0;32m~/.local/lib/python3.5/site-packages/tensorflow/python/client/session.py\u001b[0m in \u001b[0;36m_run_fn\u001b[0;34m(feed_dict, fetch_list, target_list, options, run_metadata)\u001b[0m\n\u001b[1;32m   1274\u001b[0m       \u001b[0;31m# Ensure any changes to the graph are reflected in the runtime.\u001b[0m\u001b[0;34m\u001b[0m\u001b[0;34m\u001b[0m\u001b[0m\n\u001b[0;32m-> 1275\u001b[0;31m       \u001b[0mself\u001b[0m\u001b[0;34m.\u001b[0m\u001b[0m_extend_graph\u001b[0m\u001b[0;34m(\u001b[0m\u001b[0;34m)\u001b[0m\u001b[0;34m\u001b[0m\u001b[0m\n\u001b[0m\u001b[1;32m   1276\u001b[0m       return self._call_tf_sessionrun(\n",
      "\u001b[0;32m~/.local/lib/python3.5/site-packages/tensorflow/python/client/session.py\u001b[0m in \u001b[0;36m_extend_graph\u001b[0;34m(self)\u001b[0m\n\u001b[1;32m   1311\u001b[0m     \u001b[0;32mwith\u001b[0m \u001b[0mself\u001b[0m\u001b[0;34m.\u001b[0m\u001b[0m_graph\u001b[0m\u001b[0;34m.\u001b[0m\u001b[0m_session_run_lock\u001b[0m\u001b[0;34m(\u001b[0m\u001b[0;34m)\u001b[0m\u001b[0;34m:\u001b[0m  \u001b[0;31m# pylint: disable=protected-access\u001b[0m\u001b[0;34m\u001b[0m\u001b[0m\n\u001b[0;32m-> 1312\u001b[0;31m       \u001b[0mtf_session\u001b[0m\u001b[0;34m.\u001b[0m\u001b[0mExtendSession\u001b[0m\u001b[0;34m(\u001b[0m\u001b[0mself\u001b[0m\u001b[0;34m.\u001b[0m\u001b[0m_session\u001b[0m\u001b[0;34m)\u001b[0m\u001b[0;34m\u001b[0m\u001b[0m\n\u001b[0m\u001b[1;32m   1313\u001b[0m \u001b[0;34m\u001b[0m\u001b[0m\n",
      "\u001b[0;31mInvalidArgumentError\u001b[0m: No OpKernel was registered to support Op 'CudnnRNN' with these attrs.  Registered devices: [CPU], Registered kernels:\n  <no registered kernels>\n\n\t [[{{node cu_dnnlstm_1/CudnnRNN}} = CudnnRNN[T=DT_FLOAT, direction=\"unidirectional\", dropout=0, input_mode=\"linear_input\", is_training=true, rnn_mode=\"lstm\", seed=87654321, seed2=0](cu_dnnlstm_1/transpose, cu_dnnlstm_1/ExpandDims_1, cu_dnnlstm_1/ExpandDims_2, cu_dnnlstm_1/concat_1)]]",
      "\nDuring handling of the above exception, another exception occurred:\n",
      "\u001b[0;31mInvalidArgumentError\u001b[0m                      Traceback (most recent call last)",
      "\u001b[0;32m<ipython-input-52-63c8b40ec0be>\u001b[0m in \u001b[0;36m<module>\u001b[0;34m\u001b[0m\n\u001b[1;32m      3\u001b[0m \u001b[0;34m\u001b[0m\u001b[0m\n\u001b[1;32m      4\u001b[0m \u001b[0mcheckpointer\u001b[0m \u001b[0;34m=\u001b[0m \u001b[0mModelCheckpoint\u001b[0m\u001b[0;34m(\u001b[0m\u001b[0mfilepath\u001b[0m \u001b[0;34m=\u001b[0m \u001b[0;34m'LSTM_new.weights.best.hdf5'\u001b[0m\u001b[0;34m,\u001b[0m \u001b[0mverbose\u001b[0m \u001b[0;34m=\u001b[0m \u001b[0;36m1\u001b[0m\u001b[0;34m,\u001b[0m \u001b[0msave_best_only\u001b[0m \u001b[0;34m=\u001b[0m \u001b[0;32mTrue\u001b[0m\u001b[0;34m)\u001b[0m\u001b[0;34m\u001b[0m\u001b[0m\n\u001b[0;32m----> 5\u001b[0;31m \u001b[0mhist\u001b[0m \u001b[0;34m=\u001b[0m \u001b[0mmodel4\u001b[0m\u001b[0;34m.\u001b[0m\u001b[0mfit\u001b[0m\u001b[0;34m(\u001b[0m\u001b[0mX_train\u001b[0m\u001b[0;34m,\u001b[0m \u001b[0my_train\u001b[0m\u001b[0;34m,\u001b[0m \u001b[0mepochs\u001b[0m \u001b[0;34m=\u001b[0m \u001b[0;36m300\u001b[0m\u001b[0;34m,\u001b[0m \u001b[0mbatch_size\u001b[0m\u001b[0;34m=\u001b[0m \u001b[0;36m512\u001b[0m\u001b[0;34m,\u001b[0m \u001b[0mvalidation_split\u001b[0m \u001b[0;34m=\u001b[0m \u001b[0;36m0.1\u001b[0m\u001b[0;34m,\u001b[0m \u001b[0mcallbacks\u001b[0m \u001b[0;34m=\u001b[0m \u001b[0;34m[\u001b[0m\u001b[0mcheckpointer\u001b[0m\u001b[0;34m]\u001b[0m\u001b[0;34m,\u001b[0m \u001b[0mverbose\u001b[0m \u001b[0;34m=\u001b[0m \u001b[0;36m2\u001b[0m\u001b[0;34m,\u001b[0m \u001b[0mshuffle\u001b[0m \u001b[0;34m=\u001b[0m \u001b[0;32mTrue\u001b[0m\u001b[0;34m)\u001b[0m\u001b[0;34m\u001b[0m\u001b[0m\n\u001b[0m",
      "\u001b[0;32m~/.local/lib/python3.5/site-packages/keras/engine/training.py\u001b[0m in \u001b[0;36mfit\u001b[0;34m(self, x, y, batch_size, epochs, verbose, callbacks, validation_split, validation_data, shuffle, class_weight, sample_weight, initial_epoch, steps_per_epoch, validation_steps, **kwargs)\u001b[0m\n\u001b[1;32m   1037\u001b[0m                                         \u001b[0minitial_epoch\u001b[0m\u001b[0;34m=\u001b[0m\u001b[0minitial_epoch\u001b[0m\u001b[0;34m,\u001b[0m\u001b[0;34m\u001b[0m\u001b[0m\n\u001b[1;32m   1038\u001b[0m                                         \u001b[0msteps_per_epoch\u001b[0m\u001b[0;34m=\u001b[0m\u001b[0msteps_per_epoch\u001b[0m\u001b[0;34m,\u001b[0m\u001b[0;34m\u001b[0m\u001b[0m\n\u001b[0;32m-> 1039\u001b[0;31m                                         validation_steps=validation_steps)\n\u001b[0m\u001b[1;32m   1040\u001b[0m \u001b[0;34m\u001b[0m\u001b[0m\n\u001b[1;32m   1041\u001b[0m     def evaluate(self, x=None, y=None,\n",
      "\u001b[0;32m~/.local/lib/python3.5/site-packages/keras/engine/training_arrays.py\u001b[0m in \u001b[0;36mfit_loop\u001b[0;34m(model, f, ins, out_labels, batch_size, epochs, verbose, callbacks, val_f, val_ins, shuffle, callback_metrics, initial_epoch, steps_per_epoch, validation_steps)\u001b[0m\n\u001b[1;32m    197\u001b[0m                     \u001b[0mins_batch\u001b[0m\u001b[0;34m[\u001b[0m\u001b[0mi\u001b[0m\u001b[0;34m]\u001b[0m \u001b[0;34m=\u001b[0m \u001b[0mins_batch\u001b[0m\u001b[0;34m[\u001b[0m\u001b[0mi\u001b[0m\u001b[0;34m]\u001b[0m\u001b[0;34m.\u001b[0m\u001b[0mtoarray\u001b[0m\u001b[0;34m(\u001b[0m\u001b[0;34m)\u001b[0m\u001b[0;34m\u001b[0m\u001b[0m\n\u001b[1;32m    198\u001b[0m \u001b[0;34m\u001b[0m\u001b[0m\n\u001b[0;32m--> 199\u001b[0;31m                 \u001b[0mouts\u001b[0m \u001b[0;34m=\u001b[0m \u001b[0mf\u001b[0m\u001b[0;34m(\u001b[0m\u001b[0mins_batch\u001b[0m\u001b[0;34m)\u001b[0m\u001b[0;34m\u001b[0m\u001b[0m\n\u001b[0m\u001b[1;32m    200\u001b[0m                 \u001b[0mouts\u001b[0m \u001b[0;34m=\u001b[0m \u001b[0mto_list\u001b[0m\u001b[0;34m(\u001b[0m\u001b[0mouts\u001b[0m\u001b[0;34m)\u001b[0m\u001b[0;34m\u001b[0m\u001b[0m\n\u001b[1;32m    201\u001b[0m                 \u001b[0;32mfor\u001b[0m \u001b[0ml\u001b[0m\u001b[0;34m,\u001b[0m \u001b[0mo\u001b[0m \u001b[0;32min\u001b[0m \u001b[0mzip\u001b[0m\u001b[0;34m(\u001b[0m\u001b[0mout_labels\u001b[0m\u001b[0;34m,\u001b[0m \u001b[0mouts\u001b[0m\u001b[0;34m)\u001b[0m\u001b[0;34m:\u001b[0m\u001b[0;34m\u001b[0m\u001b[0m\n",
      "\u001b[0;32m~/.local/lib/python3.5/site-packages/keras/backend/tensorflow_backend.py\u001b[0m in \u001b[0;36m__call__\u001b[0;34m(self, inputs)\u001b[0m\n\u001b[1;32m   2695\u001b[0m \u001b[0;34m\u001b[0m\u001b[0m\n\u001b[1;32m   2696\u001b[0m     \u001b[0;32mdef\u001b[0m \u001b[0m__call__\u001b[0m\u001b[0;34m(\u001b[0m\u001b[0mself\u001b[0m\u001b[0;34m,\u001b[0m \u001b[0minputs\u001b[0m\u001b[0;34m)\u001b[0m\u001b[0;34m:\u001b[0m\u001b[0;34m\u001b[0m\u001b[0m\n\u001b[0;32m-> 2697\u001b[0;31m         \u001b[0;32mif\u001b[0m \u001b[0mhasattr\u001b[0m\u001b[0;34m(\u001b[0m\u001b[0mget_session\u001b[0m\u001b[0;34m(\u001b[0m\u001b[0;34m)\u001b[0m\u001b[0;34m,\u001b[0m \u001b[0;34m'_make_callable_from_options'\u001b[0m\u001b[0;34m)\u001b[0m\u001b[0;34m:\u001b[0m\u001b[0;34m\u001b[0m\u001b[0m\n\u001b[0m\u001b[1;32m   2698\u001b[0m             \u001b[0;32mif\u001b[0m \u001b[0mpy_any\u001b[0m\u001b[0;34m(\u001b[0m\u001b[0mis_sparse\u001b[0m\u001b[0;34m(\u001b[0m\u001b[0mx\u001b[0m\u001b[0;34m)\u001b[0m \u001b[0;32mfor\u001b[0m \u001b[0mx\u001b[0m \u001b[0;32min\u001b[0m \u001b[0mself\u001b[0m\u001b[0;34m.\u001b[0m\u001b[0minputs\u001b[0m\u001b[0;34m)\u001b[0m\u001b[0;34m:\u001b[0m\u001b[0;34m\u001b[0m\u001b[0m\n\u001b[1;32m   2699\u001b[0m                 \u001b[0;32mif\u001b[0m \u001b[0mpy_any\u001b[0m\u001b[0;34m(\u001b[0m\u001b[0mis_tensor\u001b[0m\u001b[0;34m(\u001b[0m\u001b[0mx\u001b[0m\u001b[0;34m)\u001b[0m \u001b[0;32mfor\u001b[0m \u001b[0mx\u001b[0m \u001b[0;32min\u001b[0m \u001b[0minputs\u001b[0m\u001b[0;34m)\u001b[0m\u001b[0;34m:\u001b[0m\u001b[0;34m\u001b[0m\u001b[0m\n",
      "\u001b[0;32m~/.local/lib/python3.5/site-packages/keras/backend/tensorflow_backend.py\u001b[0m in \u001b[0;36mget_session\u001b[0;34m()\u001b[0m\n\u001b[1;32m    197\u001b[0m                 \u001b[0;31m# not already marked as initialized.\u001b[0m\u001b[0;34m\u001b[0m\u001b[0;34m\u001b[0m\u001b[0m\n\u001b[1;32m    198\u001b[0m                 is_initialized = session.run(\n\u001b[0;32m--> 199\u001b[0;31m                     [tf.is_variable_initialized(v) for v in candidate_vars])\n\u001b[0m\u001b[1;32m    200\u001b[0m                 \u001b[0muninitialized_vars\u001b[0m \u001b[0;34m=\u001b[0m \u001b[0;34m[\u001b[0m\u001b[0;34m]\u001b[0m\u001b[0;34m\u001b[0m\u001b[0m\n\u001b[1;32m    201\u001b[0m                 \u001b[0;32mfor\u001b[0m \u001b[0mflag\u001b[0m\u001b[0;34m,\u001b[0m \u001b[0mv\u001b[0m \u001b[0;32min\u001b[0m \u001b[0mzip\u001b[0m\u001b[0;34m(\u001b[0m\u001b[0mis_initialized\u001b[0m\u001b[0;34m,\u001b[0m \u001b[0mcandidate_vars\u001b[0m\u001b[0;34m)\u001b[0m\u001b[0;34m:\u001b[0m\u001b[0;34m\u001b[0m\u001b[0m\n",
      "\u001b[0;32m~/.local/lib/python3.5/site-packages/tensorflow/python/client/session.py\u001b[0m in \u001b[0;36mrun\u001b[0;34m(self, fetches, feed_dict, options, run_metadata)\u001b[0m\n\u001b[1;32m    885\u001b[0m     \u001b[0;32mtry\u001b[0m\u001b[0;34m:\u001b[0m\u001b[0;34m\u001b[0m\u001b[0m\n\u001b[1;32m    886\u001b[0m       result = self._run(None, fetches, feed_dict, options_ptr,\n\u001b[0;32m--> 887\u001b[0;31m                          run_metadata_ptr)\n\u001b[0m\u001b[1;32m    888\u001b[0m       \u001b[0;32mif\u001b[0m \u001b[0mrun_metadata\u001b[0m\u001b[0;34m:\u001b[0m\u001b[0;34m\u001b[0m\u001b[0m\n\u001b[1;32m    889\u001b[0m         \u001b[0mproto_data\u001b[0m \u001b[0;34m=\u001b[0m \u001b[0mtf_session\u001b[0m\u001b[0;34m.\u001b[0m\u001b[0mTF_GetBuffer\u001b[0m\u001b[0;34m(\u001b[0m\u001b[0mrun_metadata_ptr\u001b[0m\u001b[0;34m)\u001b[0m\u001b[0;34m\u001b[0m\u001b[0m\n",
      "\u001b[0;32m~/.local/lib/python3.5/site-packages/tensorflow/python/client/session.py\u001b[0m in \u001b[0;36m_run\u001b[0;34m(self, handle, fetches, feed_dict, options, run_metadata)\u001b[0m\n\u001b[1;32m   1108\u001b[0m     \u001b[0;32mif\u001b[0m \u001b[0mfinal_fetches\u001b[0m \u001b[0;32mor\u001b[0m \u001b[0mfinal_targets\u001b[0m \u001b[0;32mor\u001b[0m \u001b[0;34m(\u001b[0m\u001b[0mhandle\u001b[0m \u001b[0;32mand\u001b[0m \u001b[0mfeed_dict_tensor\u001b[0m\u001b[0;34m)\u001b[0m\u001b[0;34m:\u001b[0m\u001b[0;34m\u001b[0m\u001b[0m\n\u001b[1;32m   1109\u001b[0m       results = self._do_run(handle, final_targets, final_fetches,\n\u001b[0;32m-> 1110\u001b[0;31m                              feed_dict_tensor, options, run_metadata)\n\u001b[0m\u001b[1;32m   1111\u001b[0m     \u001b[0;32melse\u001b[0m\u001b[0;34m:\u001b[0m\u001b[0;34m\u001b[0m\u001b[0m\n\u001b[1;32m   1112\u001b[0m       \u001b[0mresults\u001b[0m \u001b[0;34m=\u001b[0m \u001b[0;34m[\u001b[0m\u001b[0;34m]\u001b[0m\u001b[0;34m\u001b[0m\u001b[0m\n",
      "\u001b[0;32m~/.local/lib/python3.5/site-packages/tensorflow/python/client/session.py\u001b[0m in \u001b[0;36m_do_run\u001b[0;34m(self, handle, target_list, fetch_list, feed_dict, options, run_metadata)\u001b[0m\n\u001b[1;32m   1284\u001b[0m     \u001b[0;32mif\u001b[0m \u001b[0mhandle\u001b[0m \u001b[0;32mis\u001b[0m \u001b[0;32mNone\u001b[0m\u001b[0;34m:\u001b[0m\u001b[0;34m\u001b[0m\u001b[0m\n\u001b[1;32m   1285\u001b[0m       return self._do_call(_run_fn, feeds, fetches, targets, options,\n\u001b[0;32m-> 1286\u001b[0;31m                            run_metadata)\n\u001b[0m\u001b[1;32m   1287\u001b[0m     \u001b[0;32melse\u001b[0m\u001b[0;34m:\u001b[0m\u001b[0;34m\u001b[0m\u001b[0m\n\u001b[1;32m   1288\u001b[0m       \u001b[0;32mreturn\u001b[0m \u001b[0mself\u001b[0m\u001b[0;34m.\u001b[0m\u001b[0m_do_call\u001b[0m\u001b[0;34m(\u001b[0m\u001b[0m_prun_fn\u001b[0m\u001b[0;34m,\u001b[0m \u001b[0mhandle\u001b[0m\u001b[0;34m,\u001b[0m \u001b[0mfeeds\u001b[0m\u001b[0;34m,\u001b[0m \u001b[0mfetches\u001b[0m\u001b[0;34m)\u001b[0m\u001b[0;34m\u001b[0m\u001b[0m\n",
      "\u001b[0;32m~/.local/lib/python3.5/site-packages/tensorflow/python/client/session.py\u001b[0m in \u001b[0;36m_do_call\u001b[0;34m(self, fn, *args)\u001b[0m\n\u001b[1;32m   1306\u001b[0m           self._config.experimental.client_handles_error_formatting):\n\u001b[1;32m   1307\u001b[0m         \u001b[0mmessage\u001b[0m \u001b[0;34m=\u001b[0m \u001b[0merror_interpolation\u001b[0m\u001b[0;34m.\u001b[0m\u001b[0minterpolate\u001b[0m\u001b[0;34m(\u001b[0m\u001b[0mmessage\u001b[0m\u001b[0;34m,\u001b[0m \u001b[0mself\u001b[0m\u001b[0;34m.\u001b[0m\u001b[0m_graph\u001b[0m\u001b[0;34m)\u001b[0m\u001b[0;34m\u001b[0m\u001b[0m\n\u001b[0;32m-> 1308\u001b[0;31m       \u001b[0;32mraise\u001b[0m \u001b[0mtype\u001b[0m\u001b[0;34m(\u001b[0m\u001b[0me\u001b[0m\u001b[0;34m)\u001b[0m\u001b[0;34m(\u001b[0m\u001b[0mnode_def\u001b[0m\u001b[0;34m,\u001b[0m \u001b[0mop\u001b[0m\u001b[0;34m,\u001b[0m \u001b[0mmessage\u001b[0m\u001b[0;34m)\u001b[0m\u001b[0;34m\u001b[0m\u001b[0m\n\u001b[0m\u001b[1;32m   1309\u001b[0m \u001b[0;34m\u001b[0m\u001b[0m\n\u001b[1;32m   1310\u001b[0m   \u001b[0;32mdef\u001b[0m \u001b[0m_extend_graph\u001b[0m\u001b[0;34m(\u001b[0m\u001b[0mself\u001b[0m\u001b[0;34m)\u001b[0m\u001b[0;34m:\u001b[0m\u001b[0;34m\u001b[0m\u001b[0m\n",
      "\u001b[0;31mInvalidArgumentError\u001b[0m: No OpKernel was registered to support Op 'CudnnRNN' with these attrs.  Registered devices: [CPU], Registered kernels:\n  <no registered kernels>\n\n\t [[{{node cu_dnnlstm_1/CudnnRNN}} = CudnnRNN[T=DT_FLOAT, direction=\"unidirectional\", dropout=0, input_mode=\"linear_input\", is_training=true, rnn_mode=\"lstm\", seed=87654321, seed2=0](cu_dnnlstm_1/transpose, cu_dnnlstm_1/ExpandDims_1, cu_dnnlstm_1/ExpandDims_2, cu_dnnlstm_1/concat_1)]]\n\nCaused by op 'cu_dnnlstm_1/CudnnRNN', defined at:\n  File \"/usr/lib/python3.5/runpy.py\", line 184, in _run_module_as_main\n    \"__main__\", mod_spec)\n  File \"/usr/lib/python3.5/runpy.py\", line 85, in _run_code\n    exec(code, run_globals)\n  File \"/home/lin/.local/lib/python3.5/site-packages/ipykernel_launcher.py\", line 16, in <module>\n    app.launch_new_instance()\n  File \"/home/lin/.local/lib/python3.5/site-packages/traitlets/config/application.py\", line 658, in launch_instance\n    app.start()\n  File \"/home/lin/.local/lib/python3.5/site-packages/ipykernel/kernelapp.py\", line 505, in start\n    self.io_loop.start()\n  File \"/home/lin/.local/lib/python3.5/site-packages/tornado/platform/asyncio.py\", line 132, in start\n    self.asyncio_loop.run_forever()\n  File \"/usr/lib/python3.5/asyncio/base_events.py\", line 345, in run_forever\n    self._run_once()\n  File \"/usr/lib/python3.5/asyncio/base_events.py\", line 1312, in _run_once\n    handle._run()\n  File \"/usr/lib/python3.5/asyncio/events.py\", line 125, in _run\n    self._callback(*self._args)\n  File \"/home/lin/.local/lib/python3.5/site-packages/tornado/ioloop.py\", line 758, in _run_callback\n    ret = callback()\n  File \"/home/lin/.local/lib/python3.5/site-packages/tornado/stack_context.py\", line 300, in null_wrapper\n    return fn(*args, **kwargs)\n  File \"/home/lin/.local/lib/python3.5/site-packages/tornado/gen.py\", line 1233, in inner\n    self.run()\n  File \"/home/lin/.local/lib/python3.5/site-packages/tornado/gen.py\", line 1147, in run\n    yielded = self.gen.send(value)\n  File \"/home/lin/.local/lib/python3.5/site-packages/ipykernel/kernelbase.py\", line 370, in dispatch_queue\n    yield self.process_one()\n  File \"/home/lin/.local/lib/python3.5/site-packages/tornado/gen.py\", line 346, in wrapper\n    runner = Runner(result, future, yielded)\n  File \"/home/lin/.local/lib/python3.5/site-packages/tornado/gen.py\", line 1080, in __init__\n    self.run()\n  File \"/home/lin/.local/lib/python3.5/site-packages/tornado/gen.py\", line 1147, in run\n    yielded = self.gen.send(value)\n  File \"/home/lin/.local/lib/python3.5/site-packages/ipykernel/kernelbase.py\", line 357, in process_one\n    yield gen.maybe_future(dispatch(*args))\n  File \"/home/lin/.local/lib/python3.5/site-packages/tornado/gen.py\", line 326, in wrapper\n    yielded = next(result)\n  File \"/home/lin/.local/lib/python3.5/site-packages/ipykernel/kernelbase.py\", line 267, in dispatch_shell\n    yield gen.maybe_future(handler(stream, idents, msg))\n  File \"/home/lin/.local/lib/python3.5/site-packages/tornado/gen.py\", line 326, in wrapper\n    yielded = next(result)\n  File \"/home/lin/.local/lib/python3.5/site-packages/ipykernel/kernelbase.py\", line 534, in execute_request\n    user_expressions, allow_stdin,\n  File \"/home/lin/.local/lib/python3.5/site-packages/tornado/gen.py\", line 326, in wrapper\n    yielded = next(result)\n  File \"/home/lin/.local/lib/python3.5/site-packages/ipykernel/ipkernel.py\", line 294, in do_execute\n    res = shell.run_cell(code, store_history=store_history, silent=silent)\n  File \"/home/lin/.local/lib/python3.5/site-packages/ipykernel/zmqshell.py\", line 536, in run_cell\n    return super(ZMQInteractiveShell, self).run_cell(*args, **kwargs)\n  File \"/home/lin/.local/lib/python3.5/site-packages/IPython/core/interactiveshell.py\", line 2817, in run_cell\n    raw_cell, store_history, silent, shell_futures)\n  File \"/home/lin/.local/lib/python3.5/site-packages/IPython/core/interactiveshell.py\", line 2843, in _run_cell\n    return runner(coro)\n  File \"/home/lin/.local/lib/python3.5/site-packages/IPython/core/async_helpers.py\", line 67, in _pseudo_sync_runner\n    coro.send(None)\n  File \"/home/lin/.local/lib/python3.5/site-packages/IPython/core/interactiveshell.py\", line 3018, in run_cell_async\n    interactivity=interactivity, compiler=compiler, result=result)\n  File \"/home/lin/.local/lib/python3.5/site-packages/IPython/core/interactiveshell.py\", line 3183, in run_ast_nodes\n    if (yield from self.run_code(code, result)):\n  File \"/home/lin/.local/lib/python3.5/site-packages/IPython/core/interactiveshell.py\", line 3265, in run_code\n    exec(code_obj, self.user_global_ns, self.user_ns)\n  File \"<ipython-input-50-5f18ed16c4f7>\", line 2, in <module>\n    model4.add(CuDNNLSTM(units=512, input_shape=(14, 1), return_sequences=True))\n  File \"/home/lin/.local/lib/python3.5/site-packages/keras/engine/sequential.py\", line 165, in add\n    layer(x)\n  File \"/home/lin/.local/lib/python3.5/site-packages/keras/layers/recurrent.py\", line 532, in __call__\n    return super(RNN, self).__call__(inputs, **kwargs)\n  File \"/home/lin/.local/lib/python3.5/site-packages/keras/engine/base_layer.py\", line 457, in __call__\n    output = self.call(inputs, **kwargs)\n  File \"/home/lin/.local/lib/python3.5/site-packages/keras/layers/cudnn_recurrent.py\", line 90, in call\n    output, states = self._process_batch(inputs, initial_state)\n  File \"/home/lin/.local/lib/python3.5/site-packages/keras/layers/cudnn_recurrent.py\", line 517, in _process_batch\n    is_training=True)\n  File \"/home/lin/.local/lib/python3.5/site-packages/tensorflow/contrib/cudnn_rnn/python/ops/cudnn_rnn_ops.py\", line 1544, in __call__\n    input_data, input_h, input_c, params, is_training=is_training)\n  File \"/home/lin/.local/lib/python3.5/site-packages/tensorflow/contrib/cudnn_rnn/python/ops/cudnn_rnn_ops.py\", line 1435, in __call__\n    seed=self._seed)\n  File \"/home/lin/.local/lib/python3.5/site-packages/tensorflow/contrib/cudnn_rnn/python/ops/cudnn_rnn_ops.py\", line 922, in _cudnn_rnn\n    outputs, output_h, output_c, _ = gen_cudnn_rnn_ops.cudnn_rnn(**args)\n  File \"/home/lin/.local/lib/python3.5/site-packages/tensorflow/python/ops/gen_cudnn_rnn_ops.py\", line 116, in cudnn_rnn\n    is_training=is_training, name=name)\n  File \"/home/lin/.local/lib/python3.5/site-packages/tensorflow/python/framework/op_def_library.py\", line 787, in _apply_op_helper\n    op_def=op_def)\n  File \"/home/lin/.local/lib/python3.5/site-packages/tensorflow/python/util/deprecation.py\", line 488, in new_func\n    return func(*args, **kwargs)\n  File \"/home/lin/.local/lib/python3.5/site-packages/tensorflow/python/framework/ops.py\", line 3272, in create_op\n    op_def=op_def)\n  File \"/home/lin/.local/lib/python3.5/site-packages/tensorflow/python/framework/ops.py\", line 1768, in __init__\n    self._traceback = tf_stack.extract_stack()\n\nInvalidArgumentError (see above for traceback): No OpKernel was registered to support Op 'CudnnRNN' with these attrs.  Registered devices: [CPU], Registered kernels:\n  <no registered kernels>\n\n\t [[{{node cu_dnnlstm_1/CudnnRNN}} = CudnnRNN[T=DT_FLOAT, direction=\"unidirectional\", dropout=0, input_mode=\"linear_input\", is_training=true, rnn_mode=\"lstm\", seed=87654321, seed2=0](cu_dnnlstm_1/transpose, cu_dnnlstm_1/ExpandDims_1, cu_dnnlstm_1/ExpandDims_2, cu_dnnlstm_1/concat_1)]]\n"
     ]
    }
   ],
   "source": [
    "#from keras.callbacks import ModelCheckpoint\n",
    "#from tensorflow.contrib.rnn import *\n",
    "\n",
    "#checkpointer = ModelCheckpoint(filepath = 'LSTM_new.weights.best.hdf5', verbose = 1, save_best_only = True)\n",
    "#hist = model4.fit(X_train, y_train, epochs = 300, batch_size= 512, validation_split = 0.1, callbacks = [checkpointer], verbose = 2, shuffle = True)"
   ]
  },
  {
   "cell_type": "code",
   "execution_count": null,
   "metadata": {
    "colab": {
     "autoexec": {
      "startup": false,
      "wait_interval": 0
     },
     "base_uri": "https://localhost:8080/",
     "height": 54
    },
    "colab_type": "code",
    "executionInfo": {
     "elapsed": 1870,
     "status": "ok",
     "timestamp": 1528839612276,
     "user": {
      "displayName": "SHUBHAM VERMA",
      "photoUrl": "https://lh3.googleusercontent.com/a/default-user=s128",
      "userId": "108363614808362191748"
     },
     "user_tz": -330
    },
    "id": "JQugXwes_aIR",
    "outputId": "934c2289-2e6a-4b99-da80-6ddeda6e442c"
   },
   "outputs": [],
   "source": [
    "#score = model4.evaluate(X_test, y_test, verbose=1)\n",
    "#print(\"Accuracy: \", score[1])"
   ]
  },
  {
   "cell_type": "code",
   "execution_count": null,
   "metadata": {
    "colab": {
     "autoexec": {
      "startup": false,
      "wait_interval": 0
     }
    },
    "colab_type": "code",
    "id": "UVV2ZFc-EcB-"
   },
   "outputs": [],
   "source": [
    "#predict5 =  [1 if a>0.5 else 0 for a in model4.predict(X_test)]"
   ]
  },
  {
   "cell_type": "code",
   "execution_count": null,
   "metadata": {
    "colab": {
     "autoexec": {
      "startup": false,
      "wait_interval": 0
     },
     "base_uri": "https://localhost:8080/",
     "height": 91
    },
    "colab_type": "code",
    "executionInfo": {
     "elapsed": 941,
     "status": "ok",
     "timestamp": 1528839807810,
     "user": {
      "displayName": "SHUBHAM VERMA",
      "photoUrl": "https://lh3.googleusercontent.com/a/default-user=s128",
      "userId": "108363614808362191748"
     },
     "user_tz": -330
    },
    "id": "xdUgnqHrDeog",
    "outputId": "17343632-1328-4401-ebfb-f82a7a51fbc0"
   },
   "outputs": [],
   "source": [
    "#print(\"Accuracy = {}\\nPrecision = {}\\nRecall = {}\\nF1 Score = {}\".format(metrics.accuracy_score(y_test, predict5), metrics.precision_score(y_test, predict5),metrics.recall_score(y_test, predict5),metrics.f1_score(y_test, predict5)))\n",
    "#score_p.append([metrics.accuracy_score(y_test, predict5), metrics.precision_score(y_test, predict5),metrics.recall_score(y_test, predict5),metrics.f1_score(y_test, predict5)])"
   ]
  },
  {
   "cell_type": "code",
   "execution_count": null,
   "metadata": {
    "colab": {
     "autoexec": {
      "startup": false,
      "wait_interval": 0
     },
     "base_uri": "https://localhost:8080/",
     "height": 433
    },
    "colab_type": "code",
    "executionInfo": {
     "elapsed": 1654,
     "status": "ok",
     "timestamp": 1528840923415,
     "user": {
      "displayName": "SHUBHAM VERMA",
      "photoUrl": "https://lh3.googleusercontent.com/a/default-user=s128",
      "userId": "108363614808362191748"
     },
     "user_tz": -330
    },
    "id": "1DdDgA0tBBaA",
    "outputId": "dc119fd8-07e2-4426-cbb7-d90d6bbe89bd"
   },
   "outputs": [],
   "source": [
    "#plt.plot(hist.history['loss'], label = 'train')\n",
    "#plt.plot(hist.history['val_loss'], label = 'valid')\n",
    "#plt.legend()\n",
    "#plt.show()"
   ]
  },
  {
   "cell_type": "markdown",
   "metadata": {
    "colab_type": "text",
    "id": "abJ6a5A5WQsw"
   },
   "source": [
    "# Conclusion"
   ]
  },
  {
   "cell_type": "markdown",
   "metadata": {
    "colab_type": "text",
    "id": "_ynCq160WxHd"
   },
   "source": [
    "## Ploting the results"
   ]
  },
  {
   "cell_type": "code",
   "execution_count": 53,
   "metadata": {
    "colab": {
     "autoexec": {
      "startup": false,
      "wait_interval": 0
     },
     "base_uri": "https://localhost:8080/",
     "height": 555
    },
    "colab_type": "code",
    "executionInfo": {
     "elapsed": 1318,
     "status": "ok",
     "timestamp": 1528839815479,
     "user": {
      "displayName": "SHUBHAM VERMA",
      "photoUrl": "https://lh3.googleusercontent.com/a/default-user=s128",
      "userId": "108363614808362191748"
     },
     "user_tz": -330
    },
    "id": "fqXg8759Wy4c",
    "outputId": "77825d5f-3b6b-4d55-8bd6-cacb7325f2fe"
   },
   "outputs": [
    {
     "data": {
      "image/png": "[encoded data removed]",
      "text/plain": [
       "<Figure size 640x480 with 1 Axes>"
      ]
     },
     "metadata": {},
     "output_type": "display_data"
    }
   ],
   "source": [
    "#For plotting the results code is copied from Udacity Finding Donors for Charity ML Project\n",
    "\n",
    "\n",
    "import matplotlib.pyplot as plt; plt.rcdefaults()\n",
    "import numpy as np\n",
    "import matplotlib.pyplot as plt\n",
    "import matplotlib.patches as mpatches\n",
    "\n",
    "objects = ['Accuracy score', 'Precision score', 'Recall score', 'F1 score']\n",
    "w =  0.15\n",
    "y_pos = np.arange(len(objects))\n",
    "\n",
    "color = ['#A00000','#00A0A0','#00A000', '#FFFF00']\n",
    "s = 0\n",
    "for i in range(len(score_p)):\n",
    "    plt.bar(y_pos+s, score_p[i], color = color[i], width = w )\n",
    "    s += w\n",
    "    \n",
    "plt.xticks(y_pos + 0.22, objects)\n",
    "plt.ylabel('Scores')\n",
    "plt.title('Performance')\n",
    "plt.suptitle(\"Performance Metrics for Models\", fontsize = 16, y = 1.10)\n",
    "\n",
    "p = ['SVM',  'Logistic Regression', 'Neural Network', 'LSTM']\n",
    "\n",
    "patches = []\n",
    "\n",
    "for k in range(len(p)):\n",
    "    patches.append(mpatches.Patch(color = color[k], label = p[k]))\n",
    "\n",
    "plt.legend(handles = patches, bbox_to_anchor = (0.5, 1.19),loc = 'upper center', borderaxespad = 0., ncol = 4, fontsize = 'x-large')\n",
    "\n",
    "plt.show();"
   ]
  }
 ],
 "metadata": {
  "accelerator": "GPU",
  "colab": {
   "collapsed_sections": [],
   "default_view": {},
   "name": "Capstone.ipynb",
   "provenance": [],
   "version": "0.3.2",
   "views": {}
  },
  "kernelspec": {
   "display_name": "Python 3",
   "language": "python",
   "name": "python3"
  },
  "language_info": {
   "codemirror_mode": {
    "name": "ipython",
    "version": 3
   },
   "file_extension": ".py",
   "mimetype": "text/x-python",
   "name": "python",
   "nbconvert_exporter": "python",
   "pygments_lexer": "ipython3",
   "version": "3.5.2"
  }
 },
 "nbformat": 4,
 "nbformat_minor": 1
}

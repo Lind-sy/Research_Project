{
 "cells": [
  {
   "cell_type": "markdown",
   "metadata": {
    "colab_type": "text",
    "id": "SvPQAWreT63x"
   },
   "source": [
    "# Udacity Capstone Project"
   ]
  },
  {
   "cell_type": "markdown",
   "metadata": {
    "colab_type": "text",
    "id": "le3WdOCST7Xm"
   },
   "source": [
    "## EEG signal Based Eye State Classification"
   ]
  },
  {
   "cell_type": "markdown",
   "metadata": {
    "colab_type": "text",
    "id": "ZtrY0ulL5Zl2"
   },
   "source": [
    "### Loading the files in Google colab"
   ]
  },
  {
   "cell_type": "code",
   "execution_count": 1,
   "metadata": {
    "colab": {
     "autoexec": {
      "startup": false,
      "wait_interval": 0
     }
    },
    "colab_type": "code",
    "id": "i2QS1zSNfF8k"
   },
   "outputs": [],
   "source": [
    "# You can skip this step if you are training on local System\n",
    "\n",
    "#!pip install -U -q PyDrive\n",
    "#from pydrive.auth import GoogleAuth\n",
    "#from pydrive.drive import GoogleDrive\n",
    "#from google.colab import auth\n",
    "#from oauth2client.client import GoogleCredentials\n",
    "\n",
    "#auth.authenticate_user()\n",
    "#gauth = GoogleAuth()\n",
    "#gauth.credentials = GoogleCredentials.get_application_default()\n",
    "#drive = GoogleDrive(gauth)\n",
    "\n",
    "#fid = drive.ListFile({'q':\"title='EEG Eye State.txt'\"}).GetList()[0]['id']\n",
    "#f = drive.CreateFile({'id': fid})\n",
    "#f.GetContentFile('EEG Eye State.txt')"
   ]
  },
  {
   "cell_type": "code",
   "execution_count": 2,
   "metadata": {
    "colab": {
     "autoexec": {
      "startup": false,
      "wait_interval": 0
     }
    },
    "colab_type": "code",
    "id": "60hZQgdqflKU"
   },
   "outputs": [],
   "source": [
    "# Loading the dataset\n",
    "\n",
    "fname = \"EEG Eye State.txt\"\n",
    "with open(fname) as f:\n",
    "    content = f.readlines()\n",
    "\n",
    "content = [x.strip() for x in content] \n",
    "content = [x.split(\",\") for x in content]"
   ]
  },
  {
   "cell_type": "code",
   "execution_count": 3,
   "metadata": {
    "colab": {
     "autoexec": {
      "startup": false,
      "wait_interval": 0
     }
    },
    "colab_type": "code",
    "id": "aYVDStrLgnid"
   },
   "outputs": [],
   "source": [
    "# Converting list to numpy array\n",
    "\n",
    "import numpy as np\n",
    "\n",
    "content = np.array(content, dtype = 'float32')"
   ]
  },
  {
   "cell_type": "code",
   "execution_count": 4,
   "metadata": {
    "colab": {
     "autoexec": {
      "startup": false,
      "wait_interval": 0
     }
    },
    "colab_type": "code",
    "id": "W1m_uyCfse2y"
   },
   "outputs": [],
   "source": [
    "# Shuffling the dataset\n",
    "\n",
    "import random\n",
    "random.shuffle(content)"
   ]
  },
  {
   "cell_type": "code",
   "execution_count": 5,
   "metadata": {
    "colab": {
     "autoexec": {
      "startup": false,
      "wait_interval": 0
     }
    },
    "colab_type": "code",
    "id": "LwqzamB1XFmk"
   },
   "outputs": [],
   "source": [
    "# Storing results of algorithms\n",
    "score_p = []"
   ]
  },
  {
   "cell_type": "markdown",
   "metadata": {
    "colab_type": "text",
    "id": "S41pxHVJ5epZ"
   },
   "source": [
    "### Creating X and Y"
   ]
  },
  {
   "cell_type": "code",
   "execution_count": 6,
   "metadata": {
    "colab": {
     "autoexec": {
      "startup": false,
      "wait_interval": 0
     }
    },
    "colab_type": "code",
    "id": "DjnxZvhpgqKy"
   },
   "outputs": [],
   "source": [
    "x = content[:, :-1]\n",
    "y = np.array(content[:, -1], dtype = 'int32')"
   ]
  },
  {
   "cell_type": "code",
   "execution_count": 7,
   "metadata": {
    "colab": {
     "autoexec": {
      "startup": false,
      "wait_interval": 0
     },
     "base_uri": "https://localhost:8080/",
     "height": 73
    },
    "colab_type": "code",
    "executionInfo": {
     "elapsed": 866,
     "status": "ok",
     "timestamp": 1528838208612,
     "user": {
      "displayName": "SHUBHAM VERMA",
      "photoUrl": "https://lh3.googleusercontent.com/a/default-user=s128",
      "userId": "108363614808362191748"
     },
     "user_tz": -330
    },
    "id": "BVr2ve7Ckp1U",
    "outputId": "0c09278d-c6db-4414-803b-8afb7c6a736e"
   },
   "outputs": [
    {
     "data": {
      "text/plain": [
       "array([4329.23, 4009.23, 4289.23, 4148.21, 4350.26, 4586.15, 4096.92,\n",
       "       4641.03, 4222.05, 4238.46, 4211.28, 4280.51, 4635.9 , 4393.85],\n",
       "      dtype=float32)"
      ]
     },
     "execution_count": 7,
     "metadata": {},
     "output_type": "execute_result"
    }
   ],
   "source": [
    "x[0]"
   ]
  },
  {
   "cell_type": "code",
   "execution_count": 8,
   "metadata": {
    "colab": {
     "autoexec": {
      "startup": false,
      "wait_interval": 0
     },
     "base_uri": "https://localhost:8080/",
     "height": 36
    },
    "colab_type": "code",
    "executionInfo": {
     "elapsed": 775,
     "status": "ok",
     "timestamp": 1528838211087,
     "user": {
      "displayName": "SHUBHAM VERMA",
      "photoUrl": "https://lh3.googleusercontent.com/a/default-user=s128",
      "userId": "108363614808362191748"
     },
     "user_tz": -330
    },
    "id": "JTySF2jYUyrO",
    "outputId": "2bef2805-02bb-4180-f6c9-397f60175b41"
   },
   "outputs": [
    {
     "data": {
      "text/plain": [
       "0"
      ]
     },
     "execution_count": 8,
     "metadata": {},
     "output_type": "execute_result"
    }
   ],
   "source": [
    "y[0]"
   ]
  },
  {
   "cell_type": "markdown",
   "metadata": {
    "colab_type": "text",
    "id": "X1tcVoh6kq9p"
   },
   "source": [
    "# Statistical Features approach"
   ]
  },
  {
   "cell_type": "markdown",
   "metadata": {
    "colab_type": "text",
    "id": "Ie0mMLieqB2t"
   },
   "source": [
    "## Data Preparation"
   ]
  },
  {
   "cell_type": "code",
   "execution_count": 9,
   "metadata": {
    "colab": {
     "autoexec": {
      "startup": false,
      "wait_interval": 0
     }
    },
    "colab_type": "code",
    "id": "Tw8m8Wsklewm"
   },
   "outputs": [],
   "source": [
    "import pandas as pd\n",
    "import numpy as np\n",
    "import scipy\n",
    "import scipy.stats"
   ]
  },
  {
   "cell_type": "code",
   "execution_count": 10,
   "metadata": {
    "colab": {
     "autoexec": {
      "startup": false,
      "wait_interval": 0
     }
    },
    "colab_type": "code",
    "id": "CkOJrTBwkqQG"
   },
   "outputs": [],
   "source": [
    "X_columns = ['mean', 'standard deviation', 'kurt', 'skewness']\n",
    "Y_columns = ['label']"
   ]
  },
  {
   "cell_type": "code",
   "execution_count": 11,
   "metadata": {
    "colab": {
     "autoexec": {
      "startup": false,
      "wait_interval": 0
     }
    },
    "colab_type": "code",
    "id": "zlMuSMqSkqUJ"
   },
   "outputs": [],
   "source": [
    "X = pd.DataFrame(columns = X_columns)\n",
    "Y = pd.DataFrame(columns = Y_columns)"
   ]
  },
  {
   "cell_type": "code",
   "execution_count": 12,
   "metadata": {
    "colab": {
     "autoexec": {
      "startup": false,
      "wait_interval": 0
     }
    },
    "colab_type": "code",
    "id": "-SkGMSZHkqOF"
   },
   "outputs": [],
   "source": [
    "for i in range(len(x)):\n",
    "  X.loc[i] = np.array([np.mean(x[i]), np.std(x[i]), scipy.stats.kurtosis(x[i]), scipy.stats.skew(x[i])])\n",
    "  Y.loc[i] = y[i]"
   ]
  },
  {
   "cell_type": "code",
   "execution_count": 13,
   "metadata": {
    "colab": {
     "autoexec": {
      "startup": false,
      "wait_interval": 0
     },
     "base_uri": "https://localhost:8080/",
     "height": 677
    },
    "colab_type": "code",
    "executionInfo": {
     "elapsed": 794,
     "status": "ok",
     "timestamp": 1528838298864,
     "user": {
      "displayName": "SHUBHAM VERMA",
      "photoUrl": "https://lh3.googleusercontent.com/a/default-user=s128",
      "userId": "108363614808362191748"
     },
     "user_tz": -330
    },
    "id": "kkpqklZPowkK",
    "outputId": "34ee5ed1-0bdf-4d6f-91f1-6d4f7958235f"
   },
   "outputs": [
    {
     "data": {
      "text/html": [
       "<div>\n",
       "<style scoped>\n",
       "    .dataframe tbody tr th:only-of-type {\n",
       "        vertical-align: middle;\n",
       "    }\n",
       "\n",
       "    .dataframe tbody tr th {\n",
       "        vertical-align: top;\n",
       "    }\n",
       "\n",
       "    .dataframe thead th {\n",
       "        text-align: right;\n",
       "    }\n",
       "</style>\n",
       "<table border=\"1\" class=\"dataframe\">\n",
       "  <thead>\n",
       "    <tr style=\"text-align: right;\">\n",
       "      <th></th>\n",
       "      <th>mean</th>\n",
       "      <th>standard deviation</th>\n",
       "      <th>kurt</th>\n",
       "      <th>skewness</th>\n",
       "    </tr>\n",
       "  </thead>\n",
       "  <tbody>\n",
       "    <tr>\n",
       "      <th>0</th>\n",
       "      <td>4316.593750</td>\n",
       "      <td>186.395279</td>\n",
       "      <td>-0.686817</td>\n",
       "      <td>0.439234</td>\n",
       "    </tr>\n",
       "    <tr>\n",
       "      <th>1</th>\n",
       "      <td>4312.748535</td>\n",
       "      <td>186.797379</td>\n",
       "      <td>-0.673855</td>\n",
       "      <td>0.459162</td>\n",
       "    </tr>\n",
       "    <tr>\n",
       "      <th>2</th>\n",
       "      <td>4312.748535</td>\n",
       "      <td>186.797379</td>\n",
       "      <td>-0.673855</td>\n",
       "      <td>0.459162</td>\n",
       "    </tr>\n",
       "    <tr>\n",
       "      <th>3</th>\n",
       "      <td>4316.593750</td>\n",
       "      <td>186.395279</td>\n",
       "      <td>-0.686817</td>\n",
       "      <td>0.439234</td>\n",
       "    </tr>\n",
       "    <tr>\n",
       "      <th>4</th>\n",
       "      <td>4316.189941</td>\n",
       "      <td>184.204300</td>\n",
       "      <td>-0.716226</td>\n",
       "      <td>0.414606</td>\n",
       "    </tr>\n",
       "    <tr>\n",
       "      <th>5</th>\n",
       "      <td>4316.227051</td>\n",
       "      <td>183.612762</td>\n",
       "      <td>-0.696899</td>\n",
       "      <td>0.422589</td>\n",
       "    </tr>\n",
       "    <tr>\n",
       "      <th>6</th>\n",
       "      <td>4307.143555</td>\n",
       "      <td>183.993057</td>\n",
       "      <td>-0.686661</td>\n",
       "      <td>0.435931</td>\n",
       "    </tr>\n",
       "    <tr>\n",
       "      <th>7</th>\n",
       "      <td>4316.593750</td>\n",
       "      <td>186.395279</td>\n",
       "      <td>-0.686817</td>\n",
       "      <td>0.439234</td>\n",
       "    </tr>\n",
       "    <tr>\n",
       "      <th>8</th>\n",
       "      <td>4310.731934</td>\n",
       "      <td>183.971970</td>\n",
       "      <td>-0.709318</td>\n",
       "      <td>0.420956</td>\n",
       "    </tr>\n",
       "    <tr>\n",
       "      <th>9</th>\n",
       "      <td>4312.160645</td>\n",
       "      <td>184.608978</td>\n",
       "      <td>-0.693921</td>\n",
       "      <td>0.443294</td>\n",
       "    </tr>\n",
       "    <tr>\n",
       "      <th>10</th>\n",
       "      <td>4307.947754</td>\n",
       "      <td>183.828476</td>\n",
       "      <td>-0.711179</td>\n",
       "      <td>0.456295</td>\n",
       "    </tr>\n",
       "    <tr>\n",
       "      <th>11</th>\n",
       "      <td>4306.008301</td>\n",
       "      <td>183.946869</td>\n",
       "      <td>-0.734426</td>\n",
       "      <td>0.439418</td>\n",
       "    </tr>\n",
       "    <tr>\n",
       "      <th>12</th>\n",
       "      <td>4316.189941</td>\n",
       "      <td>184.204300</td>\n",
       "      <td>-0.716226</td>\n",
       "      <td>0.414606</td>\n",
       "    </tr>\n",
       "    <tr>\n",
       "      <th>13</th>\n",
       "      <td>4316.593750</td>\n",
       "      <td>186.395279</td>\n",
       "      <td>-0.686817</td>\n",
       "      <td>0.439234</td>\n",
       "    </tr>\n",
       "    <tr>\n",
       "      <th>14</th>\n",
       "      <td>4303.917969</td>\n",
       "      <td>185.143890</td>\n",
       "      <td>-0.711733</td>\n",
       "      <td>0.475173</td>\n",
       "    </tr>\n",
       "    <tr>\n",
       "      <th>15</th>\n",
       "      <td>4309.229980</td>\n",
       "      <td>184.245834</td>\n",
       "      <td>-0.741166</td>\n",
       "      <td>0.445671</td>\n",
       "    </tr>\n",
       "    <tr>\n",
       "      <th>16</th>\n",
       "      <td>4294.762695</td>\n",
       "      <td>185.378082</td>\n",
       "      <td>-0.729120</td>\n",
       "      <td>0.477894</td>\n",
       "    </tr>\n",
       "    <tr>\n",
       "      <th>17</th>\n",
       "      <td>4303.917969</td>\n",
       "      <td>185.143890</td>\n",
       "      <td>-0.711733</td>\n",
       "      <td>0.475173</td>\n",
       "    </tr>\n",
       "    <tr>\n",
       "      <th>18</th>\n",
       "      <td>4316.227051</td>\n",
       "      <td>183.612762</td>\n",
       "      <td>-0.696899</td>\n",
       "      <td>0.422589</td>\n",
       "    </tr>\n",
       "    <tr>\n",
       "      <th>19</th>\n",
       "      <td>4298.790527</td>\n",
       "      <td>185.073944</td>\n",
       "      <td>-0.714309</td>\n",
       "      <td>0.475782</td>\n",
       "    </tr>\n",
       "  </tbody>\n",
       "</table>\n",
       "</div>"
      ],
      "text/plain": [
       "           mean  standard deviation      kurt  skewness\n",
       "0   4316.593750          186.395279 -0.686817  0.439234\n",
       "1   4312.748535          186.797379 -0.673855  0.459162\n",
       "2   4312.748535          186.797379 -0.673855  0.459162\n",
       "3   4316.593750          186.395279 -0.686817  0.439234\n",
       "4   4316.189941          184.204300 -0.716226  0.414606\n",
       "5   4316.227051          183.612762 -0.696899  0.422589\n",
       "6   4307.143555          183.993057 -0.686661  0.435931\n",
       "7   4316.593750          186.395279 -0.686817  0.439234\n",
       "8   4310.731934          183.971970 -0.709318  0.420956\n",
       "9   4312.160645          184.608978 -0.693921  0.443294\n",
       "10  4307.947754          183.828476 -0.711179  0.456295\n",
       "11  4306.008301          183.946869 -0.734426  0.439418\n",
       "12  4316.189941          184.204300 -0.716226  0.414606\n",
       "13  4316.593750          186.395279 -0.686817  0.439234\n",
       "14  4303.917969          185.143890 -0.711733  0.475173\n",
       "15  4309.229980          184.245834 -0.741166  0.445671\n",
       "16  4294.762695          185.378082 -0.729120  0.477894\n",
       "17  4303.917969          185.143890 -0.711733  0.475173\n",
       "18  4316.227051          183.612762 -0.696899  0.422589\n",
       "19  4298.790527          185.073944 -0.714309  0.475782"
      ]
     },
     "execution_count": 13,
     "metadata": {},
     "output_type": "execute_result"
    }
   ],
   "source": [
    "X.head(n=20)"
   ]
  },
  {
   "cell_type": "code",
   "execution_count": 14,
   "metadata": {
    "colab": {
     "autoexec": {
      "startup": false,
      "wait_interval": 0
     },
     "base_uri": "https://localhost:8080/",
     "height": 206
    },
    "colab_type": "code",
    "executionInfo": {
     "elapsed": 800,
     "status": "ok",
     "timestamp": 1528838301215,
     "user": {
      "displayName": "SHUBHAM VERMA",
      "photoUrl": "https://lh3.googleusercontent.com/a/default-user=s128",
      "userId": "108363614808362191748"
     },
     "user_tz": -330
    },
    "id": "Exz5fojXo1ZD",
    "outputId": "c19aff3b-9f82-4c35-d727-b348bc0e78a2"
   },
   "outputs": [
    {
     "data": {
      "text/html": [
       "<div>\n",
       "<style scoped>\n",
       "    .dataframe tbody tr th:only-of-type {\n",
       "        vertical-align: middle;\n",
       "    }\n",
       "\n",
       "    .dataframe tbody tr th {\n",
       "        vertical-align: top;\n",
       "    }\n",
       "\n",
       "    .dataframe thead th {\n",
       "        text-align: right;\n",
       "    }\n",
       "</style>\n",
       "<table border=\"1\" class=\"dataframe\">\n",
       "  <thead>\n",
       "    <tr style=\"text-align: right;\">\n",
       "      <th></th>\n",
       "      <th>label</th>\n",
       "    </tr>\n",
       "  </thead>\n",
       "  <tbody>\n",
       "    <tr>\n",
       "      <th>0</th>\n",
       "      <td>0</td>\n",
       "    </tr>\n",
       "    <tr>\n",
       "      <th>1</th>\n",
       "      <td>0</td>\n",
       "    </tr>\n",
       "    <tr>\n",
       "      <th>2</th>\n",
       "      <td>0</td>\n",
       "    </tr>\n",
       "    <tr>\n",
       "      <th>3</th>\n",
       "      <td>0</td>\n",
       "    </tr>\n",
       "    <tr>\n",
       "      <th>4</th>\n",
       "      <td>0</td>\n",
       "    </tr>\n",
       "  </tbody>\n",
       "</table>\n",
       "</div>"
      ],
      "text/plain": [
       "  label\n",
       "0     0\n",
       "1     0\n",
       "2     0\n",
       "3     0\n",
       "4     0"
      ]
     },
     "execution_count": 14,
     "metadata": {},
     "output_type": "execute_result"
    }
   ],
   "source": [
    "Y.head()"
   ]
  },
  {
   "cell_type": "code",
   "execution_count": 15,
   "metadata": {
    "colab": {
     "autoexec": {
      "startup": false,
      "wait_interval": 0
     }
    },
    "colab_type": "code",
    "id": "ZNr_a9BSpe2M"
   },
   "outputs": [],
   "source": [
    "from sklearn.model_selection import train_test_split\n",
    "\n",
    "# Split the 'features' and 'income' data into training and testing sets\n",
    "X_train1, X_test1, y_train1, y_test1 = train_test_split(X, \n",
    "                                                    y, \n",
    "                                                    test_size = 0.2, \n",
    "                                                    random_state = 0)\n",
    "\n"
   ]
  },
  {
   "cell_type": "markdown",
   "metadata": {
    "colab_type": "text",
    "id": "tOVKmTlm975G"
   },
   "source": [
    "## Training on SVM"
   ]
  },
  {
   "cell_type": "code",
   "execution_count": 16,
   "metadata": {
    "colab": {
     "autoexec": {
      "startup": false,
      "wait_interval": 0
     },
     "base_uri": "https://localhost:8080/",
     "height": 91
    },
    "colab_type": "code",
    "executionInfo": {
     "elapsed": 8633,
     "status": "ok",
     "timestamp": 1528838313637,
     "user": {
      "displayName": "SHUBHAM VERMA",
      "photoUrl": "https://lh3.googleusercontent.com/a/default-user=s128",
      "userId": "108363614808362191748"
     },
     "user_tz": -330
    },
    "id": "paKVcOIqpe6R",
    "outputId": "ca6c31e3-be10-4883-d6a3-34a28b6187d4"
   },
   "outputs": [
    {
     "name": "stderr",
     "output_type": "stream",
     "text": [
      "/home/lin/.local/lib/python3.5/site-packages/sklearn/svm/base.py:196: FutureWarning: The default value of gamma will change from 'auto' to 'scale' in version 0.22 to account better for unscaled features. Set gamma explicitly to 'auto' or 'scale' to avoid this warning.\n",
      "  \"avoid this warning.\", FutureWarning)\n"
     ]
    },
    {
     "data": {
      "text/plain": [
       "SVC(C=1.0, cache_size=200, class_weight=None, coef0=0.0,\n",
       "  decision_function_shape='ovr', degree=3, gamma='auto_deprecated',\n",
       "  kernel='rbf', max_iter=-1, probability=False, random_state=None,\n",
       "  shrinking=True, tol=0.001, verbose=False)"
      ]
     },
     "execution_count": 16,
     "metadata": {},
     "output_type": "execute_result"
    }
   ],
   "source": [
    "from sklearn.svm import SVC\n",
    "clf = SVC()\n",
    "clf.fit(X_train1, y_train1) "
   ]
  },
  {
   "cell_type": "code",
   "execution_count": 17,
   "metadata": {
    "colab": {
     "autoexec": {
      "startup": false,
      "wait_interval": 0
     }
    },
    "colab_type": "code",
    "id": "cFTjEv8wpezm"
   },
   "outputs": [],
   "source": [
    "predicted = clf.predict(X_test1)"
   ]
  },
  {
   "cell_type": "code",
   "execution_count": 18,
   "metadata": {
    "colab": {
     "autoexec": {
      "startup": false,
      "wait_interval": 0
     }
    },
    "colab_type": "code",
    "id": "ctpAFaeo8y5u"
   },
   "outputs": [],
   "source": [
    "from sklearn import metrics"
   ]
  },
  {
   "cell_type": "markdown",
   "metadata": {
    "colab_type": "text",
    "id": "fA32BmL1VHdS"
   },
   "source": [
    "### Performance"
   ]
  },
  {
   "cell_type": "code",
   "execution_count": 19,
   "metadata": {
    "colab": {
     "autoexec": {
      "startup": false,
      "wait_interval": 0
     },
     "base_uri": "https://localhost:8080/",
     "height": 91
    },
    "colab_type": "code",
    "executionInfo": {
     "elapsed": 685,
     "status": "ok",
     "timestamp": 1528839731562,
     "user": {
      "displayName": "SHUBHAM VERMA",
      "photoUrl": "https://lh3.googleusercontent.com/a/default-user=s128",
      "userId": "108363614808362191748"
     },
     "user_tz": -330
    },
    "id": "gaISrM048y2n",
    "outputId": "2aa18b1b-4dc3-4892-9026-4eda9fae30ed"
   },
   "outputs": [
    {
     "name": "stdout",
     "output_type": "stream",
     "text": [
      "Accuracy = 0.6899198931909212\n",
      "Precision = 0.700952380952381\n",
      "Recall = 0.706786171574904\n",
      "F1 Score = 0.7038571883965573\n"
     ]
    }
   ],
   "source": [
    "print(\"Accuracy = {}\\nPrecision = {}\\nRecall = {}\\nF1 Score = {}\".format(metrics.accuracy_score(y_test1, predicted), metrics.precision_score(y_test1, predicted),metrics.recall_score(y_test1, predicted),metrics.f1_score(y_test1, predicted)))\n",
    "\n",
    "score_p.append([metrics.accuracy_score(y_test1, predicted), metrics.precision_score(y_test1, predicted),metrics.recall_score(y_test1, predicted),metrics.f1_score(y_test1, predicted)]) \n"
   ]
  },
  {
   "cell_type": "code",
   "execution_count": null,
   "metadata": {
    "colab": {
     "autoexec": {
      "startup": false,
      "wait_interval": 0
     }
    },
    "colab_type": "code",
    "id": "q4u3LnbbsNR8"
   },
   "outputs": [],
   "source": []
  },
  {
   "cell_type": "markdown",
   "metadata": {
    "colab_type": "text",
    "id": "aDvHS8kU-JUh"
   },
   "source": [
    "## Training on Logistic Regression"
   ]
  },
  {
   "cell_type": "code",
   "execution_count": 20,
   "metadata": {
    "colab": {
     "autoexec": {
      "startup": false,
      "wait_interval": 0
     }
    },
    "colab_type": "code",
    "id": "pc4_RzElmvdZ"
   },
   "outputs": [],
   "source": [
    "from sklearn.linear_model import LogisticRegression"
   ]
  },
  {
   "cell_type": "code",
   "execution_count": 21,
   "metadata": {
    "colab": {
     "autoexec": {
      "startup": false,
      "wait_interval": 0
     },
     "base_uri": "https://localhost:8080/",
     "height": 111
    },
    "colab_type": "code",
    "executionInfo": {
     "elapsed": 784,
     "status": "ok",
     "timestamp": 1528838337090,
     "user": {
      "displayName": "SHUBHAM VERMA",
      "photoUrl": "https://lh3.googleusercontent.com/a/default-user=s128",
      "userId": "108363614808362191748"
     },
     "user_tz": -330
    },
    "id": "ckjIJXyF-ccn",
    "outputId": "78bef499-c8ab-4d1d-c214-27c21dab3041"
   },
   "outputs": [
    {
     "name": "stderr",
     "output_type": "stream",
     "text": [
      "/home/lin/.local/lib/python3.5/site-packages/sklearn/linear_model/logistic.py:432: FutureWarning: Default solver will be changed to 'lbfgs' in 0.22. Specify a solver to silence this warning.\n",
      "  FutureWarning)\n"
     ]
    },
    {
     "data": {
      "text/plain": [
       "LogisticRegression(C=1.0, class_weight=None, dual=False, fit_intercept=True,\n",
       "          intercept_scaling=1, max_iter=100, multi_class='warn',\n",
       "          n_jobs=None, penalty='l2', random_state=None, solver='warn',\n",
       "          tol=0.0001, verbose=0, warm_start=False)"
      ]
     },
     "execution_count": 21,
     "metadata": {},
     "output_type": "execute_result"
    }
   ],
   "source": [
    "clf_D = LogisticRegression()\n",
    "clf_D.fit(X_train1, y_train1)\n"
   ]
  },
  {
   "cell_type": "code",
   "execution_count": 22,
   "metadata": {
    "colab": {
     "autoexec": {
      "startup": false,
      "wait_interval": 0
     }
    },
    "colab_type": "code",
    "id": "PGT09n8G_U0e"
   },
   "outputs": [],
   "source": [
    "predict = clf_D.predict(X_test1)\n"
   ]
  },
  {
   "cell_type": "markdown",
   "metadata": {
    "colab_type": "text",
    "id": "1cch7p1zVPCO"
   },
   "source": [
    "### Performance"
   ]
  },
  {
   "cell_type": "code",
   "execution_count": 23,
   "metadata": {
    "colab": {
     "autoexec": {
      "startup": false,
      "wait_interval": 0
     },
     "base_uri": "https://localhost:8080/",
     "height": 91
    },
    "colab_type": "code",
    "executionInfo": {
     "elapsed": 1016,
     "status": "ok",
     "timestamp": 1528839743803,
     "user": {
      "displayName": "SHUBHAM VERMA",
      "photoUrl": "https://lh3.googleusercontent.com/a/default-user=s128",
      "userId": "108363614808362191748"
     },
     "user_tz": -330
    },
    "id": "Phhv-p2p_VAk",
    "outputId": "db3f9548-72c9-4c7e-8f49-77983a4ec9d5"
   },
   "outputs": [
    {
     "name": "stdout",
     "output_type": "stream",
     "text": [
      "Accuracy = 0.5367156208277704\n",
      "Precision = 0.5520334928229665\n",
      "Recall = 0.5909090909090909\n",
      "F1 Score = 0.5708101422387137\n"
     ]
    }
   ],
   "source": [
    "print(\"Accuracy = {}\\nPrecision = {}\\nRecall = {}\\nF1 Score = {}\".format(metrics.accuracy_score(y_test1, predict), metrics.precision_score(y_test1, predict),metrics.recall_score(y_test1, predict),metrics.f1_score(y_test1, predict)))\n",
    "score_p.append([metrics.accuracy_score(y_test1, predict), metrics.precision_score(y_test1, predict),metrics.recall_score(y_test1, predict),metrics.f1_score(y_test1, predict)])"
   ]
  },
  {
   "cell_type": "markdown",
   "metadata": {
    "colab_type": "text",
    "id": "GnFFg0vtVeCH"
   },
   "source": [
    "## Second Approach Directly use 14 values of EEG data and use it for prediction "
   ]
  },
  {
   "cell_type": "markdown",
   "metadata": {
    "colab_type": "text",
    "id": "sgqdtQHV6Ce7"
   },
   "source": [
    "### Normalization of data"
   ]
  },
  {
   "cell_type": "markdown",
   "metadata": {
    "colab_type": "text",
    "id": "6odWgZ7wVWGF"
   },
   "source": [
    "Normalization of data is required before using it on Nueral Networks"
   ]
  },
  {
   "cell_type": "code",
   "execution_count": 24,
   "metadata": {
    "colab": {
     "autoexec": {
      "startup": false,
      "wait_interval": 0
     }
    },
    "colab_type": "code",
    "id": "qwpiaNsqg7EU"
   },
   "outputs": [],
   "source": [
    "from sklearn.preprocessing import MinMaxScaler\n",
    "scaler = MinMaxScaler()"
   ]
  },
  {
   "cell_type": "code",
   "execution_count": 25,
   "metadata": {
    "colab": {
     "autoexec": {
      "startup": false,
      "wait_interval": 0
     }
    },
    "colab_type": "code",
    "id": "F1oNrbyBiO0z"
   },
   "outputs": [],
   "source": [
    "scaler.fit(x)\n",
    "x_new = scaler.transform(x)"
   ]
  },
  {
   "cell_type": "code",
   "execution_count": 26,
   "metadata": {
    "colab": {
     "autoexec": {
      "startup": false,
      "wait_interval": 0
     }
    },
    "colab_type": "code",
    "id": "kUrGdTA2Nvjk"
   },
   "outputs": [],
   "source": [
    "data_mean = x.mean()\n",
    "data_std = x.std()\n",
    "x = (x - data_mean)/data_std"
   ]
  },
  {
   "cell_type": "code",
   "execution_count": 27,
   "metadata": {
    "colab": {
     "autoexec": {
      "startup": false,
      "wait_interval": 0
     }
    },
    "colab_type": "code",
    "id": "cIhNcStuldzi"
   },
   "outputs": [],
   "source": [
    "(x_train, x_test) = x[:11000], x[11000:]\n",
    "(y_train, y_test) = y[:11000], y[11000:]"
   ]
  },
  {
   "cell_type": "markdown",
   "metadata": {
    "colab_type": "text",
    "id": "hCJlgBEy58II"
   },
   "source": [
    "## Training on Neural Networks"
   ]
  },
  {
   "cell_type": "markdown",
   "metadata": {
    "colab_type": "text",
    "id": "MN_--9h56Mi9"
   },
   "source": [
    "### Creating Model"
   ]
  },
  {
   "cell_type": "code",
   "execution_count": 28,
   "metadata": {
    "colab": {
     "autoexec": {
      "startup": false,
      "wait_interval": 0
     }
    },
    "colab_type": "code",
    "id": "G8tW2xROi6lz"
   },
   "outputs": [
    {
     "name": "stderr",
     "output_type": "stream",
     "text": [
      "Using TensorFlow backend.\n"
     ]
    }
   ],
   "source": [
    "from keras.models import Sequential\n",
    "from keras.layers import Dense, Dropout"
   ]
  },
  {
   "cell_type": "code",
   "execution_count": 29,
   "metadata": {
    "colab": {
     "autoexec": {
      "startup": false,
      "wait_interval": 0
     },
     "base_uri": "https://localhost:8080/",
     "height": 221
    },
    "colab_type": "code",
    "executionInfo": {
     "elapsed": 836,
     "status": "ok",
     "timestamp": 1528838368502,
     "user": {
      "displayName": "SHUBHAM VERMA",
      "photoUrl": "https://lh3.googleusercontent.com/a/default-user=s128",
      "userId": "108363614808362191748"
     },
     "user_tz": -330
    },
    "id": "4AxUgQBli8xN",
    "outputId": "307361bc-640f-4bef-de28-13600b6523e2"
   },
   "outputs": [
    {
     "name": "stdout",
     "output_type": "stream",
     "text": [
      "_________________________________________________________________\n",
      "Layer (type)                 Output Shape              Param #   \n",
      "=================================================================\n",
      "dense_1 (Dense)              (None, 512)               7680      \n",
      "_________________________________________________________________\n",
      "dense_2 (Dense)              (None, 1)                 513       \n",
      "=================================================================\n",
      "Total params: 8,193\n",
      "Trainable params: 8,193\n",
      "Non-trainable params: 0\n",
      "_________________________________________________________________\n"
     ]
    }
   ],
   "source": [
    "model = Sequential()\n",
    "model.add(Dense(512, activation = 'relu', input_shape = (x.shape[1], )))\n",
    "model.add(Dense(1, activation = 'sigmoid'))\n",
    "model.summary()"
   ]
  },
  {
   "cell_type": "code",
   "execution_count": 30,
   "metadata": {
    "colab": {
     "autoexec": {
      "startup": false,
      "wait_interval": 0
     },
     "base_uri": "https://localhost:8080/",
     "height": 221
    },
    "colab_type": "code",
    "executionInfo": {
     "elapsed": 733,
     "status": "ok",
     "timestamp": 1528838372215,
     "user": {
      "displayName": "SHUBHAM VERMA",
      "photoUrl": "https://lh3.googleusercontent.com/a/default-user=s128",
      "userId": "108363614808362191748"
     },
     "user_tz": -330
    },
    "id": "Lpwu-Tg3jZr2",
    "outputId": "1895fc93-dd34-495a-c551-10a06227d411"
   },
   "outputs": [
    {
     "name": "stdout",
     "output_type": "stream",
     "text": [
      "_________________________________________________________________\n",
      "Layer (type)                 Output Shape              Param #   \n",
      "=================================================================\n",
      "dense_1 (Dense)              (None, 512)               7680      \n",
      "_________________________________________________________________\n",
      "dense_2 (Dense)              (None, 1)                 513       \n",
      "=================================================================\n",
      "Total params: 8,193\n",
      "Trainable params: 8,193\n",
      "Non-trainable params: 0\n",
      "_________________________________________________________________\n"
     ]
    }
   ],
   "source": [
    "model.compile(loss = 'binary_crossentropy', optimizer='adam', metrics=['accuracy'])\n",
    "model.summary()"
   ]
  },
  {
   "cell_type": "markdown",
   "metadata": {
    "colab_type": "text",
    "id": "N9hvDrSn4y4N"
   },
   "source": [
    "### Training"
   ]
  },
  {
   "cell_type": "code",
   "execution_count": 31,
   "metadata": {
    "colab": {
     "autoexec": {
      "startup": false,
      "wait_interval": 0
     },
     "base_uri": "https://localhost:8080/",
     "height": 7482
    },
    "colab_type": "code",
    "executionInfo": {
     "elapsed": 27056,
     "status": "ok",
     "timestamp": 1528838410588,
     "user": {
      "displayName": "SHUBHAM VERMA",
      "photoUrl": "https://lh3.googleusercontent.com/a/default-user=s128",
      "userId": "108363614808362191748"
     },
     "user_tz": -330
    },
    "id": "vKh20CJrmYV7",
    "outputId": "55aa30fa-fdf5-45a6-b6ed-3461156bc844"
   },
   "outputs": [
    {
     "name": "stdout",
     "output_type": "stream",
     "text": [
      "Train on 9900 samples, validate on 1100 samples\n",
      "Epoch 1/100\n",
      " - 1s - loss: 0.6901 - acc: 0.5317 - val_loss: 0.6911 - val_acc: 0.5264\n",
      "\n",
      "Epoch 00001: val_loss improved from inf to 0.69112, saving model to MLP.weights.best.hdf5\n",
      "Epoch 2/100\n",
      " - 0s - loss: 0.6888 - acc: 0.5330 - val_loss: 0.6908 - val_acc: 0.5264\n",
      "\n",
      "Epoch 00002: val_loss improved from 0.69112 to 0.69082, saving model to MLP.weights.best.hdf5\n",
      "Epoch 3/100\n",
      " - 0s - loss: 0.6877 - acc: 0.5339 - val_loss: 0.6898 - val_acc: 0.5273\n",
      "\n",
      "Epoch 00003: val_loss improved from 0.69082 to 0.68977, saving model to MLP.weights.best.hdf5\n",
      "Epoch 4/100\n",
      " - 0s - loss: 0.6857 - acc: 0.5376 - val_loss: 0.6887 - val_acc: 0.5391\n",
      "\n",
      "Epoch 00004: val_loss improved from 0.68977 to 0.68875, saving model to MLP.weights.best.hdf5\n",
      "Epoch 5/100\n",
      " - 0s - loss: 0.6846 - acc: 0.5523 - val_loss: 0.6880 - val_acc: 0.5500\n",
      "\n",
      "Epoch 00005: val_loss improved from 0.68875 to 0.68799, saving model to MLP.weights.best.hdf5\n",
      "Epoch 6/100\n",
      " - 1s - loss: 0.6819 - acc: 0.5506 - val_loss: 0.6866 - val_acc: 0.5482\n",
      "\n",
      "Epoch 00006: val_loss improved from 0.68799 to 0.68664, saving model to MLP.weights.best.hdf5\n",
      "Epoch 7/100\n",
      " - 1s - loss: 0.6797 - acc: 0.5571 - val_loss: 0.6862 - val_acc: 0.5509\n",
      "\n",
      "Epoch 00007: val_loss improved from 0.68664 to 0.68617, saving model to MLP.weights.best.hdf5\n",
      "Epoch 8/100\n",
      " - 1s - loss: 0.6773 - acc: 0.5606 - val_loss: 0.6845 - val_acc: 0.5418\n",
      "\n",
      "Epoch 00008: val_loss improved from 0.68617 to 0.68451, saving model to MLP.weights.best.hdf5\n",
      "Epoch 9/100\n",
      " - 0s - loss: 0.6747 - acc: 0.5622 - val_loss: 0.6833 - val_acc: 0.5427\n",
      "\n",
      "Epoch 00009: val_loss improved from 0.68451 to 0.68330, saving model to MLP.weights.best.hdf5\n",
      "Epoch 10/100\n",
      " - 0s - loss: 0.6725 - acc: 0.5613 - val_loss: 0.6823 - val_acc: 0.5509\n",
      "\n",
      "Epoch 00010: val_loss improved from 0.68330 to 0.68227, saving model to MLP.weights.best.hdf5\n",
      "Epoch 11/100\n",
      " - 0s - loss: 0.6698 - acc: 0.5602 - val_loss: 0.6813 - val_acc: 0.5464\n",
      "\n",
      "Epoch 00011: val_loss improved from 0.68227 to 0.68133, saving model to MLP.weights.best.hdf5\n",
      "Epoch 12/100\n",
      " - 0s - loss: 0.6677 - acc: 0.5651 - val_loss: 0.6817 - val_acc: 0.5264\n",
      "\n",
      "Epoch 00012: val_loss did not improve from 0.68133\n",
      "Epoch 13/100\n",
      " - 0s - loss: 0.6648 - acc: 0.5641 - val_loss: 0.6797 - val_acc: 0.5409\n",
      "\n",
      "Epoch 00013: val_loss improved from 0.68133 to 0.67971, saving model to MLP.weights.best.hdf5\n",
      "Epoch 14/100\n",
      " - 0s - loss: 0.6632 - acc: 0.5664 - val_loss: 0.6790 - val_acc: 0.5409\n",
      "\n",
      "Epoch 00014: val_loss improved from 0.67971 to 0.67899, saving model to MLP.weights.best.hdf5\n",
      "Epoch 15/100\n",
      " - 0s - loss: 0.6600 - acc: 0.5638 - val_loss: 0.6802 - val_acc: 0.5400\n",
      "\n",
      "Epoch 00015: val_loss did not improve from 0.67899\n",
      "Epoch 16/100\n",
      " - 0s - loss: 0.6593 - acc: 0.5677 - val_loss: 0.6777 - val_acc: 0.5300\n",
      "\n",
      "Epoch 00016: val_loss improved from 0.67899 to 0.67773, saving model to MLP.weights.best.hdf5\n",
      "Epoch 17/100\n",
      " - 0s - loss: 0.6562 - acc: 0.5723 - val_loss: 0.6771 - val_acc: 0.5291\n",
      "\n",
      "Epoch 00017: val_loss improved from 0.67773 to 0.67715, saving model to MLP.weights.best.hdf5\n",
      "Epoch 18/100\n",
      " - 0s - loss: 0.6537 - acc: 0.5690 - val_loss: 0.6770 - val_acc: 0.5309\n",
      "\n",
      "Epoch 00018: val_loss improved from 0.67715 to 0.67699, saving model to MLP.weights.best.hdf5\n",
      "Epoch 19/100\n",
      " - 0s - loss: 0.6512 - acc: 0.5742 - val_loss: 0.6760 - val_acc: 0.5464\n",
      "\n",
      "Epoch 00019: val_loss improved from 0.67699 to 0.67601, saving model to MLP.weights.best.hdf5\n",
      "Epoch 20/100\n",
      " - 0s - loss: 0.6523 - acc: 0.5834 - val_loss: 0.6783 - val_acc: 0.5427\n",
      "\n",
      "Epoch 00020: val_loss did not improve from 0.67601\n",
      "Epoch 21/100\n",
      " - 0s - loss: 0.6475 - acc: 0.5878 - val_loss: 0.6763 - val_acc: 0.5518\n",
      "\n",
      "Epoch 00021: val_loss did not improve from 0.67601\n",
      "Epoch 22/100\n",
      " - 0s - loss: 0.6456 - acc: 0.5879 - val_loss: 0.6742 - val_acc: 0.5518\n",
      "\n",
      "Epoch 00022: val_loss improved from 0.67601 to 0.67415, saving model to MLP.weights.best.hdf5\n",
      "Epoch 23/100\n",
      " - 0s - loss: 0.6425 - acc: 0.5934 - val_loss: 0.6738 - val_acc: 0.5482\n",
      "\n",
      "Epoch 00023: val_loss improved from 0.67415 to 0.67377, saving model to MLP.weights.best.hdf5\n",
      "Epoch 24/100\n",
      " - 0s - loss: 0.6411 - acc: 0.5977 - val_loss: 0.6732 - val_acc: 0.5345\n",
      "\n",
      "Epoch 00024: val_loss improved from 0.67377 to 0.67325, saving model to MLP.weights.best.hdf5\n",
      "Epoch 25/100\n",
      " - 0s - loss: 0.6386 - acc: 0.6054 - val_loss: 0.6781 - val_acc: 0.5545\n",
      "\n",
      "Epoch 00025: val_loss did not improve from 0.67325\n",
      "Epoch 26/100\n",
      " - 0s - loss: 0.6380 - acc: 0.5993 - val_loss: 0.6724 - val_acc: 0.5527\n",
      "\n",
      "Epoch 00026: val_loss improved from 0.67325 to 0.67240, saving model to MLP.weights.best.hdf5\n",
      "Epoch 27/100\n",
      " - 0s - loss: 0.6355 - acc: 0.6008 - val_loss: 0.6721 - val_acc: 0.5473\n",
      "\n",
      "Epoch 00027: val_loss improved from 0.67240 to 0.67209, saving model to MLP.weights.best.hdf5\n",
      "Epoch 28/100\n",
      " - 0s - loss: 0.6348 - acc: 0.5992 - val_loss: 0.6724 - val_acc: 0.5555\n",
      "\n",
      "Epoch 00028: val_loss did not improve from 0.67209\n",
      "Epoch 29/100\n",
      " - 0s - loss: 0.6321 - acc: 0.6081 - val_loss: 0.6738 - val_acc: 0.5464\n",
      "\n",
      "Epoch 00029: val_loss did not improve from 0.67209\n",
      "Epoch 30/100\n",
      " - 0s - loss: 0.6321 - acc: 0.6127 - val_loss: 0.6746 - val_acc: 0.5427\n",
      "\n",
      "Epoch 00030: val_loss did not improve from 0.67209\n",
      "Epoch 31/100\n",
      " - 0s - loss: 0.6289 - acc: 0.6121 - val_loss: 0.6706 - val_acc: 0.5482\n",
      "\n",
      "Epoch 00031: val_loss improved from 0.67209 to 0.67065, saving model to MLP.weights.best.hdf5\n",
      "Epoch 32/100\n",
      " - 0s - loss: 0.6266 - acc: 0.6140 - val_loss: 0.6715 - val_acc: 0.5527\n",
      "\n",
      "Epoch 00032: val_loss did not improve from 0.67065\n",
      "Epoch 33/100\n",
      " - 0s - loss: 0.6258 - acc: 0.6153 - val_loss: 0.6704 - val_acc: 0.5527\n",
      "\n",
      "Epoch 00033: val_loss improved from 0.67065 to 0.67045, saving model to MLP.weights.best.hdf5\n",
      "Epoch 34/100\n",
      " - 0s - loss: 0.6249 - acc: 0.6108 - val_loss: 0.6707 - val_acc: 0.5482\n",
      "\n",
      "Epoch 00034: val_loss did not improve from 0.67045\n",
      "Epoch 35/100\n",
      " - 0s - loss: 0.6228 - acc: 0.6127 - val_loss: 0.6742 - val_acc: 0.5382\n",
      "\n",
      "Epoch 00035: val_loss did not improve from 0.67045\n",
      "Epoch 36/100\n",
      " - 0s - loss: 0.6222 - acc: 0.6185 - val_loss: 0.6704 - val_acc: 0.5518\n",
      "\n",
      "Epoch 00036: val_loss improved from 0.67045 to 0.67040, saving model to MLP.weights.best.hdf5\n",
      "Epoch 37/100\n",
      " - 0s - loss: 0.6206 - acc: 0.6194 - val_loss: 0.6710 - val_acc: 0.5555\n",
      "\n",
      "Epoch 00037: val_loss did not improve from 0.67040\n",
      "Epoch 38/100\n",
      " - 0s - loss: 0.6216 - acc: 0.6202 - val_loss: 0.6699 - val_acc: 0.5509\n",
      "\n",
      "Epoch 00038: val_loss improved from 0.67040 to 0.66993, saving model to MLP.weights.best.hdf5\n",
      "Epoch 39/100\n",
      " - 0s - loss: 0.6193 - acc: 0.6198 - val_loss: 0.6700 - val_acc: 0.5536\n",
      "\n",
      "Epoch 00039: val_loss did not improve from 0.66993\n",
      "Epoch 40/100\n",
      " - 0s - loss: 0.6184 - acc: 0.6217 - val_loss: 0.6696 - val_acc: 0.5509\n",
      "\n",
      "Epoch 00040: val_loss improved from 0.66993 to 0.66957, saving model to MLP.weights.best.hdf5\n",
      "Epoch 41/100\n",
      " - 0s - loss: 0.6174 - acc: 0.6219 - val_loss: 0.6759 - val_acc: 0.5391\n",
      "\n",
      "Epoch 00041: val_loss did not improve from 0.66957\n",
      "Epoch 42/100\n",
      " - 0s - loss: 0.6162 - acc: 0.6257 - val_loss: 0.6752 - val_acc: 0.5436\n",
      "\n",
      "Epoch 00042: val_loss did not improve from 0.66957\n",
      "Epoch 43/100\n",
      " - 0s - loss: 0.6165 - acc: 0.6233 - val_loss: 0.6713 - val_acc: 0.5491\n",
      "\n",
      "Epoch 00043: val_loss did not improve from 0.66957\n",
      "Epoch 44/100\n",
      " - 0s - loss: 0.6139 - acc: 0.6221 - val_loss: 0.6694 - val_acc: 0.5564\n",
      "\n",
      "Epoch 00044: val_loss improved from 0.66957 to 0.66938, saving model to MLP.weights.best.hdf5\n",
      "Epoch 45/100\n",
      " - 0s - loss: 0.6124 - acc: 0.6285 - val_loss: 0.6713 - val_acc: 0.5573\n",
      "\n",
      "Epoch 00045: val_loss did not improve from 0.66938\n",
      "Epoch 46/100\n",
      " - 0s - loss: 0.6125 - acc: 0.6248 - val_loss: 0.6746 - val_acc: 0.5445\n",
      "\n",
      "Epoch 00046: val_loss did not improve from 0.66938\n",
      "Epoch 47/100\n",
      " - 0s - loss: 0.6123 - acc: 0.6285 - val_loss: 0.6698 - val_acc: 0.5482\n",
      "\n",
      "Epoch 00047: val_loss did not improve from 0.66938\n",
      "Epoch 48/100\n",
      " - 0s - loss: 0.6132 - acc: 0.6277 - val_loss: 0.6695 - val_acc: 0.5573\n",
      "\n",
      "Epoch 00048: val_loss did not improve from 0.66938\n",
      "Epoch 49/100\n",
      " - 0s - loss: 0.6099 - acc: 0.6270 - val_loss: 0.6724 - val_acc: 0.5464\n",
      "\n",
      "Epoch 00049: val_loss did not improve from 0.66938\n",
      "Epoch 50/100\n",
      " - 0s - loss: 0.6088 - acc: 0.6319 - val_loss: 0.6694 - val_acc: 0.5591\n",
      "\n",
      "Epoch 00050: val_loss did not improve from 0.66938\n",
      "Epoch 51/100\n",
      " - 0s - loss: 0.6079 - acc: 0.6313 - val_loss: 0.6691 - val_acc: 0.5509\n",
      "\n",
      "Epoch 00051: val_loss improved from 0.66938 to 0.66911, saving model to MLP.weights.best.hdf5\n",
      "Epoch 52/100\n"
     ]
    },
    {
     "name": "stdout",
     "output_type": "stream",
     "text": [
      " - 0s - loss: 0.6077 - acc: 0.6332 - val_loss: 0.6698 - val_acc: 0.5600\n",
      "\n",
      "Epoch 00052: val_loss did not improve from 0.66911\n",
      "Epoch 53/100\n",
      " - 0s - loss: 0.6081 - acc: 0.6282 - val_loss: 0.6689 - val_acc: 0.5600\n",
      "\n",
      "Epoch 00053: val_loss improved from 0.66911 to 0.66888, saving model to MLP.weights.best.hdf5\n",
      "Epoch 54/100\n",
      " - 0s - loss: 0.6065 - acc: 0.6330 - val_loss: 0.6738 - val_acc: 0.5464\n",
      "\n",
      "Epoch 00054: val_loss did not improve from 0.66888\n",
      "Epoch 55/100\n",
      " - 0s - loss: 0.6073 - acc: 0.6316 - val_loss: 0.6694 - val_acc: 0.5536\n",
      "\n",
      "Epoch 00055: val_loss did not improve from 0.66888\n",
      "Epoch 56/100\n",
      " - 0s - loss: 0.6054 - acc: 0.6307 - val_loss: 0.6693 - val_acc: 0.5564\n",
      "\n",
      "Epoch 00056: val_loss did not improve from 0.66888\n",
      "Epoch 57/100\n",
      " - 0s - loss: 0.6042 - acc: 0.6360 - val_loss: 0.6696 - val_acc: 0.5618\n",
      "\n",
      "Epoch 00057: val_loss did not improve from 0.66888\n",
      "Epoch 58/100\n",
      " - 0s - loss: 0.6053 - acc: 0.6292 - val_loss: 0.6716 - val_acc: 0.5545\n",
      "\n",
      "Epoch 00058: val_loss did not improve from 0.66888\n",
      "Epoch 59/100\n",
      " - 0s - loss: 0.6032 - acc: 0.6377 - val_loss: 0.6705 - val_acc: 0.5518\n",
      "\n",
      "Epoch 00059: val_loss did not improve from 0.66888\n",
      "Epoch 60/100\n",
      " - 0s - loss: 0.6038 - acc: 0.6377 - val_loss: 0.6727 - val_acc: 0.5500\n",
      "\n",
      "Epoch 00060: val_loss did not improve from 0.66888\n",
      "Epoch 61/100\n",
      " - 0s - loss: 0.6020 - acc: 0.6365 - val_loss: 0.6707 - val_acc: 0.5573\n",
      "\n",
      "Epoch 00061: val_loss did not improve from 0.66888\n",
      "Epoch 62/100\n",
      " - 0s - loss: 0.6017 - acc: 0.6382 - val_loss: 0.6694 - val_acc: 0.5536\n",
      "\n",
      "Epoch 00062: val_loss did not improve from 0.66888\n",
      "Epoch 63/100\n",
      " - 0s - loss: 0.6005 - acc: 0.6387 - val_loss: 0.6695 - val_acc: 0.5609\n",
      "\n",
      "Epoch 00063: val_loss did not improve from 0.66888\n",
      "Epoch 64/100\n",
      " - 0s - loss: 0.5999 - acc: 0.6390 - val_loss: 0.6682 - val_acc: 0.5600\n",
      "\n",
      "Epoch 00064: val_loss improved from 0.66888 to 0.66818, saving model to MLP.weights.best.hdf5\n",
      "Epoch 65/100\n",
      " - 0s - loss: 0.5993 - acc: 0.6429 - val_loss: 0.6683 - val_acc: 0.5618\n",
      "\n",
      "Epoch 00065: val_loss did not improve from 0.66818\n",
      "Epoch 66/100\n",
      " - 0s - loss: 0.5999 - acc: 0.6402 - val_loss: 0.6779 - val_acc: 0.5318\n",
      "\n",
      "Epoch 00066: val_loss did not improve from 0.66818\n",
      "Epoch 67/100\n",
      " - 0s - loss: 0.5989 - acc: 0.6381 - val_loss: 0.6682 - val_acc: 0.5636\n",
      "\n",
      "Epoch 00067: val_loss did not improve from 0.66818\n",
      "Epoch 68/100\n",
      " - 0s - loss: 0.5972 - acc: 0.6437 - val_loss: 0.6679 - val_acc: 0.5600\n",
      "\n",
      "Epoch 00068: val_loss improved from 0.66818 to 0.66786, saving model to MLP.weights.best.hdf5\n",
      "Epoch 69/100\n",
      " - 0s - loss: 0.5970 - acc: 0.6432 - val_loss: 0.6733 - val_acc: 0.5518\n",
      "\n",
      "Epoch 00069: val_loss did not improve from 0.66786\n",
      "Epoch 70/100\n",
      " - 0s - loss: 0.5972 - acc: 0.6398 - val_loss: 0.6701 - val_acc: 0.5500\n",
      "\n",
      "Epoch 00070: val_loss did not improve from 0.66786\n",
      "Epoch 71/100\n",
      " - 0s - loss: 0.5956 - acc: 0.6443 - val_loss: 0.6678 - val_acc: 0.5655\n",
      "\n",
      "Epoch 00071: val_loss improved from 0.66786 to 0.66780, saving model to MLP.weights.best.hdf5\n",
      "Epoch 72/100\n",
      " - 0s - loss: 0.5954 - acc: 0.6459 - val_loss: 0.6706 - val_acc: 0.5591\n",
      "\n",
      "Epoch 00072: val_loss did not improve from 0.66780\n",
      "Epoch 73/100\n",
      " - 0s - loss: 0.5945 - acc: 0.6470 - val_loss: 0.6713 - val_acc: 0.5655\n",
      "\n",
      "Epoch 00073: val_loss did not improve from 0.66780\n",
      "Epoch 74/100\n",
      " - 0s - loss: 0.5951 - acc: 0.6445 - val_loss: 0.6700 - val_acc: 0.5645\n",
      "\n",
      "Epoch 00074: val_loss did not improve from 0.66780\n",
      "Epoch 75/100\n",
      " - 0s - loss: 0.5945 - acc: 0.6462 - val_loss: 0.6709 - val_acc: 0.5591\n",
      "\n",
      "Epoch 00075: val_loss did not improve from 0.66780\n",
      "Epoch 76/100\n",
      " - 0s - loss: 0.5928 - acc: 0.6466 - val_loss: 0.6704 - val_acc: 0.5591\n",
      "\n",
      "Epoch 00076: val_loss did not improve from 0.66780\n",
      "Epoch 77/100\n",
      " - 0s - loss: 0.5931 - acc: 0.6483 - val_loss: 0.6698 - val_acc: 0.5645\n",
      "\n",
      "Epoch 00077: val_loss did not improve from 0.66780\n",
      "Epoch 78/100\n",
      " - 0s - loss: 0.5937 - acc: 0.6525 - val_loss: 0.6692 - val_acc: 0.5600\n",
      "\n",
      "Epoch 00078: val_loss did not improve from 0.66780\n",
      "Epoch 79/100\n",
      " - 0s - loss: 0.5918 - acc: 0.6488 - val_loss: 0.6681 - val_acc: 0.5636\n",
      "\n",
      "Epoch 00079: val_loss did not improve from 0.66780\n",
      "Epoch 80/100\n",
      " - 0s - loss: 0.5918 - acc: 0.6494 - val_loss: 0.6672 - val_acc: 0.5645\n",
      "\n",
      "Epoch 00080: val_loss improved from 0.66780 to 0.66720, saving model to MLP.weights.best.hdf5\n",
      "Epoch 81/100\n",
      " - 0s - loss: 0.5922 - acc: 0.6540 - val_loss: 0.6679 - val_acc: 0.5655\n",
      "\n",
      "Epoch 00081: val_loss did not improve from 0.66720\n",
      "Epoch 82/100\n",
      " - 0s - loss: 0.5893 - acc: 0.6521 - val_loss: 0.6673 - val_acc: 0.5700\n",
      "\n",
      "Epoch 00082: val_loss did not improve from 0.66720\n",
      "Epoch 83/100\n",
      " - 0s - loss: 0.5885 - acc: 0.6536 - val_loss: 0.6689 - val_acc: 0.5718\n",
      "\n",
      "Epoch 00083: val_loss did not improve from 0.66720\n",
      "Epoch 84/100\n",
      " - 0s - loss: 0.5885 - acc: 0.6557 - val_loss: 0.6674 - val_acc: 0.5645\n",
      "\n",
      "Epoch 00084: val_loss did not improve from 0.66720\n",
      "Epoch 85/100\n",
      " - 0s - loss: 0.5878 - acc: 0.6547 - val_loss: 0.6663 - val_acc: 0.5691\n",
      "\n",
      "Epoch 00085: val_loss improved from 0.66720 to 0.66633, saving model to MLP.weights.best.hdf5\n",
      "Epoch 86/100\n",
      " - 0s - loss: 0.5871 - acc: 0.6566 - val_loss: 0.6678 - val_acc: 0.5682\n",
      "\n",
      "Epoch 00086: val_loss did not improve from 0.66633\n",
      "Epoch 87/100\n",
      " - 0s - loss: 0.5869 - acc: 0.6540 - val_loss: 0.6705 - val_acc: 0.5600\n",
      "\n",
      "Epoch 00087: val_loss did not improve from 0.66633\n",
      "Epoch 88/100\n",
      " - 0s - loss: 0.5863 - acc: 0.6577 - val_loss: 0.6724 - val_acc: 0.5527\n",
      "\n",
      "Epoch 00088: val_loss did not improve from 0.66633\n",
      "Epoch 89/100\n",
      " - 0s - loss: 0.5866 - acc: 0.6559 - val_loss: 0.6667 - val_acc: 0.5664\n",
      "\n",
      "Epoch 00089: val_loss did not improve from 0.66633\n",
      "Epoch 90/100\n",
      " - 0s - loss: 0.5852 - acc: 0.6569 - val_loss: 0.6668 - val_acc: 0.5709\n",
      "\n",
      "Epoch 00090: val_loss did not improve from 0.66633\n",
      "Epoch 91/100\n",
      " - 0s - loss: 0.5846 - acc: 0.6606 - val_loss: 0.6664 - val_acc: 0.5709\n",
      "\n",
      "Epoch 00091: val_loss did not improve from 0.66633\n",
      "Epoch 92/100\n",
      " - 0s - loss: 0.5856 - acc: 0.6600 - val_loss: 0.6695 - val_acc: 0.5600\n",
      "\n",
      "Epoch 00092: val_loss did not improve from 0.66633\n",
      "Epoch 93/100\n",
      " - 0s - loss: 0.5831 - acc: 0.6647 - val_loss: 0.6689 - val_acc: 0.5600\n",
      "\n",
      "Epoch 00093: val_loss did not improve from 0.66633\n",
      "Epoch 94/100\n",
      " - 0s - loss: 0.5827 - acc: 0.6641 - val_loss: 0.6660 - val_acc: 0.5809\n",
      "\n",
      "Epoch 00094: val_loss improved from 0.66633 to 0.66601, saving model to MLP.weights.best.hdf5\n",
      "Epoch 95/100\n",
      " - 0s - loss: 0.5829 - acc: 0.6660 - val_loss: 0.6685 - val_acc: 0.5636\n",
      "\n",
      "Epoch 00095: val_loss did not improve from 0.66601\n",
      "Epoch 96/100\n",
      " - 0s - loss: 0.5847 - acc: 0.6619 - val_loss: 0.6665 - val_acc: 0.5618\n",
      "\n",
      "Epoch 00096: val_loss did not improve from 0.66601\n",
      "Epoch 97/100\n",
      " - 0s - loss: 0.5816 - acc: 0.6644 - val_loss: 0.6661 - val_acc: 0.5736\n",
      "\n",
      "Epoch 00097: val_loss did not improve from 0.66601\n",
      "Epoch 98/100\n",
      " - 0s - loss: 0.5801 - acc: 0.6712 - val_loss: 0.6657 - val_acc: 0.5782\n",
      "\n",
      "Epoch 00098: val_loss improved from 0.66601 to 0.66572, saving model to MLP.weights.best.hdf5\n",
      "Epoch 99/100\n",
      " - 0s - loss: 0.5799 - acc: 0.6665 - val_loss: 0.6735 - val_acc: 0.5482\n",
      "\n",
      "Epoch 00099: val_loss did not improve from 0.66572\n",
      "Epoch 100/100\n",
      " - 0s - loss: 0.5801 - acc: 0.6703 - val_loss: 0.6667 - val_acc: 0.5855\n",
      "\n",
      "Epoch 00100: val_loss did not improve from 0.66572\n"
     ]
    }
   ],
   "source": [
    "from keras.callbacks import ModelCheckpoint\n",
    "\n",
    "checkpointer = ModelCheckpoint(filepath = 'MLP.weights.best.hdf5', verbose = 1, save_best_only = True)\n",
    "hist = model.fit(x_train, y_train, epochs = 100, batch_size=256, validation_split = 0.1, callbacks = [checkpointer], verbose = 2, shuffle = True)"
   ]
  },
  {
   "cell_type": "code",
   "execution_count": 32,
   "metadata": {
    "colab": {
     "autoexec": {
      "startup": false,
      "wait_interval": 0
     },
     "base_uri": "https://localhost:8080/",
     "height": 54
    },
    "colab_type": "code",
    "executionInfo": {
     "elapsed": 1046,
     "status": "ok",
     "timestamp": 1528838421631,
     "user": {
      "displayName": "SHUBHAM VERMA",
      "photoUrl": "https://lh3.googleusercontent.com/a/default-user=s128",
      "userId": "108363614808362191748"
     },
     "user_tz": -330
    },
    "id": "zpdk9x9xngJG",
    "outputId": "40298a3d-369b-4699-ea0e-775cddbc3efd"
   },
   "outputs": [
    {
     "name": "stdout",
     "output_type": "stream",
     "text": [
      "3980/3980 [==============================] - 0s 88us/step\n",
      "Accuracy:  0.5701005024826107\n"
     ]
    }
   ],
   "source": [
    "score = model.evaluate(x_test, y_test, verbose=1)\n",
    "print(\"Accuracy: \", score[1])"
   ]
  },
  {
   "cell_type": "code",
   "execution_count": 33,
   "metadata": {
    "colab": {
     "autoexec": {
      "startup": false,
      "wait_interval": 0
     }
    },
    "colab_type": "code",
    "id": "zL_el0fmwOPF"
   },
   "outputs": [],
   "source": [
    "predict2 = [1 if a>0.5 else 0 for a in model.predict(x_test)] "
   ]
  },
  {
   "cell_type": "markdown",
   "metadata": {
    "colab_type": "text",
    "id": "OINWUOwYV5A0"
   },
   "source": [
    "### Performance"
   ]
  },
  {
   "cell_type": "code",
   "execution_count": 34,
   "metadata": {
    "colab": {
     "autoexec": {
      "startup": false,
      "wait_interval": 0
     },
     "base_uri": "https://localhost:8080/",
     "height": 91
    },
    "colab_type": "code",
    "executionInfo": {
     "elapsed": 982,
     "status": "ok",
     "timestamp": 1528838432724,
     "user": {
      "displayName": "SHUBHAM VERMA",
      "photoUrl": "https://lh3.googleusercontent.com/a/default-user=s128",
      "userId": "108363614808362191748"
     },
     "user_tz": -330
    },
    "id": "ScN-ERsEwXjw",
    "outputId": "b8b64d5c-5c76-4772-cd35-aae9a763d916"
   },
   "outputs": [
    {
     "name": "stdout",
     "output_type": "stream",
     "text": [
      "Accuracy = 0.5701005025125628\n",
      "Precision = 0.5518134715025906\n",
      "Recall = 0.65504869297796\n",
      "F1 Score = 0.5990157018982891\n"
     ]
    }
   ],
   "source": [
    "print(\"Accuracy = {}\\nPrecision = {}\\nRecall = {}\\nF1 Score = {}\".format(metrics.accuracy_score(y_test, predict2), metrics.precision_score(y_test, predict2),metrics.recall_score(y_test, predict2),metrics.f1_score(y_test, predict2)))\n",
    "#score_p.append([metrics.accuracy_score(y_test, predict2), metrics.precision_score(y_test, predict2),metrics.recall_score(y_test, predict2),metrics.f1_score(y_test, predict2)])"
   ]
  },
  {
   "cell_type": "markdown",
   "metadata": {
    "colab_type": "text",
    "id": "L9mkRjYIa1iz"
   },
   "source": [
    "# Improved Neural Network (Tuning Parameters)"
   ]
  },
  {
   "cell_type": "code",
   "execution_count": 35,
   "metadata": {
    "colab": {
     "autoexec": {
      "startup": false,
      "wait_interval": 0
     },
     "base_uri": "https://localhost:8080/",
     "height": 407
    },
    "colab_type": "code",
    "executionInfo": {
     "elapsed": 948,
     "status": "ok",
     "timestamp": 1528838441631,
     "user": {
      "displayName": "SHUBHAM VERMA",
      "photoUrl": "https://lh3.googleusercontent.com/a/default-user=s128",
      "userId": "108363614808362191748"
     },
     "user_tz": -330
    },
    "id": "tzNim7esa0g7",
    "outputId": "2541c970-7c8c-49d8-fa2d-744f1138fa2d"
   },
   "outputs": [
    {
     "name": "stdout",
     "output_type": "stream",
     "text": [
      "_________________________________________________________________\n",
      "Layer (type)                 Output Shape              Param #   \n",
      "=================================================================\n",
      "dense_3 (Dense)              (None, 1000)              15000     \n",
      "_________________________________________________________________\n",
      "dropout_1 (Dropout)          (None, 1000)              0         \n",
      "_________________________________________________________________\n",
      "dense_4 (Dense)              (None, 1000)              1001000   \n",
      "_________________________________________________________________\n",
      "dropout_2 (Dropout)          (None, 1000)              0         \n",
      "_________________________________________________________________\n",
      "dense_5 (Dense)              (None, 1000)              1001000   \n",
      "_________________________________________________________________\n",
      "dropout_3 (Dropout)          (None, 1000)              0         \n",
      "_________________________________________________________________\n",
      "dense_6 (Dense)              (None, 1)                 1001      \n",
      "=================================================================\n",
      "Total params: 2,018,001\n",
      "Trainable params: 2,018,001\n",
      "Non-trainable params: 0\n",
      "_________________________________________________________________\n"
     ]
    }
   ],
   "source": [
    "model2 = Sequential()\n",
    "model2.add(Dense(1000, activation = 'relu', input_shape = (x.shape[1], )))\n",
    "model2.add(Dropout(0.2))\n",
    "model2.add(Dense(1000, activation = 'relu'))\n",
    "model2.add(Dropout(0.2))\n",
    "model2.add(Dense(1000, activation = 'relu'))\n",
    "model2.add(Dropout(0.2))\n",
    "model2.add(Dense(1, activation = 'sigmoid'))\n",
    "model2.summary()"
   ]
  },
  {
   "cell_type": "code",
   "execution_count": 36,
   "metadata": {
    "colab": {
     "autoexec": {
      "startup": false,
      "wait_interval": 0
     },
     "base_uri": "https://localhost:8080/",
     "height": 407
    },
    "colab_type": "code",
    "executionInfo": {
     "elapsed": 974,
     "status": "ok",
     "timestamp": 1528838447248,
     "user": {
      "displayName": "SHUBHAM VERMA",
      "photoUrl": "https://lh3.googleusercontent.com/a/default-user=s128",
      "userId": "108363614808362191748"
     },
     "user_tz": -330
    },
    "id": "3DCvBvfKbzpn",
    "outputId": "3ebb0199-df7f-442b-bb40-84760eec4f53"
   },
   "outputs": [
    {
     "name": "stdout",
     "output_type": "stream",
     "text": [
      "_________________________________________________________________\n",
      "Layer (type)                 Output Shape              Param #   \n",
      "=================================================================\n",
      "dense_3 (Dense)              (None, 1000)              15000     \n",
      "_________________________________________________________________\n",
      "dropout_1 (Dropout)          (None, 1000)              0         \n",
      "_________________________________________________________________\n",
      "dense_4 (Dense)              (None, 1000)              1001000   \n",
      "_________________________________________________________________\n",
      "dropout_2 (Dropout)          (None, 1000)              0         \n",
      "_________________________________________________________________\n",
      "dense_5 (Dense)              (None, 1000)              1001000   \n",
      "_________________________________________________________________\n",
      "dropout_3 (Dropout)          (None, 1000)              0         \n",
      "_________________________________________________________________\n",
      "dense_6 (Dense)              (None, 1)                 1001      \n",
      "=================================================================\n",
      "Total params: 2,018,001\n",
      "Trainable params: 2,018,001\n",
      "Non-trainable params: 0\n",
      "_________________________________________________________________\n"
     ]
    }
   ],
   "source": [
    "model2.compile(loss = 'binary_crossentropy', optimizer='adam', metrics=['accuracy'])\n",
    "model2.summary()"
   ]
  },
  {
   "cell_type": "code",
   "execution_count": 37,
   "metadata": {
    "colab": {
     "autoexec": {
      "startup": false,
      "wait_interval": 0
     },
     "base_uri": "https://localhost:8080/",
     "height": 14909
    },
    "colab_type": "code",
    "executionInfo": {
     "elapsed": 53194,
     "status": "ok",
     "timestamp": 1528840496221,
     "user": {
      "displayName": "SHUBHAM VERMA",
      "photoUrl": "https://lh3.googleusercontent.com/a/default-user=s128",
      "userId": "108363614808362191748"
     },
     "user_tz": -330
    },
    "id": "qepgTEuYb206",
    "outputId": "6c696856-6b94-45d3-80c0-f7a13b0d393e"
   },
   "outputs": [
    {
     "name": "stdout",
     "output_type": "stream",
     "text": [
      "Train on 9900 samples, validate on 1100 samples\n",
      "Epoch 1/200\n",
      " - 18s - loss: 0.6928 - acc: 0.5349 - val_loss: 0.6900 - val_acc: 0.5264\n",
      "\n",
      "Epoch 00001: val_loss improved from inf to 0.69000, saving model to MLP_new.weights.best.hdf5\n",
      "Epoch 2/200\n",
      " - 12s - loss: 0.6831 - acc: 0.5487 - val_loss: 0.6834 - val_acc: 0.5445\n",
      "\n",
      "Epoch 00002: val_loss improved from 0.69000 to 0.68341, saving model to MLP_new.weights.best.hdf5\n",
      "Epoch 3/200\n",
      " - 12s - loss: 0.6600 - acc: 0.5883 - val_loss: 0.6754 - val_acc: 0.5445\n",
      "\n",
      "Epoch 00003: val_loss improved from 0.68341 to 0.67541, saving model to MLP_new.weights.best.hdf5\n",
      "Epoch 4/200\n",
      " - 11s - loss: 0.6326 - acc: 0.6096 - val_loss: 0.6758 - val_acc: 0.5500\n",
      "\n",
      "Epoch 00004: val_loss did not improve from 0.67541\n",
      "Epoch 5/200\n",
      " - 11s - loss: 0.6208 - acc: 0.6146 - val_loss: 0.7173 - val_acc: 0.5555\n",
      "\n",
      "Epoch 00005: val_loss did not improve from 0.67541\n",
      "Epoch 6/200\n",
      " - 12s - loss: 0.6223 - acc: 0.6107 - val_loss: 0.6688 - val_acc: 0.5518\n",
      "\n",
      "Epoch 00006: val_loss improved from 0.67541 to 0.66884, saving model to MLP_new.weights.best.hdf5\n",
      "Epoch 7/200\n",
      " - 12s - loss: 0.6044 - acc: 0.6229 - val_loss: 0.6726 - val_acc: 0.5255\n",
      "\n",
      "Epoch 00007: val_loss did not improve from 0.66884\n",
      "Epoch 8/200\n",
      " - 11s - loss: 0.5943 - acc: 0.6336 - val_loss: 0.6812 - val_acc: 0.5382\n",
      "\n",
      "Epoch 00008: val_loss did not improve from 0.66884\n",
      "Epoch 9/200\n",
      " - 12s - loss: 0.5855 - acc: 0.6351 - val_loss: 0.6736 - val_acc: 0.5618\n",
      "\n",
      "Epoch 00009: val_loss did not improve from 0.66884\n",
      "Epoch 10/200\n",
      " - 12s - loss: 0.5848 - acc: 0.6406 - val_loss: 0.6683 - val_acc: 0.5300\n",
      "\n",
      "Epoch 00010: val_loss improved from 0.66884 to 0.66828, saving model to MLP_new.weights.best.hdf5\n",
      "Epoch 11/200\n",
      " - 18s - loss: 0.5926 - acc: 0.6379 - val_loss: 0.6726 - val_acc: 0.5427\n",
      "\n",
      "Epoch 00011: val_loss did not improve from 0.66828\n",
      "Epoch 12/200\n",
      " - 13s - loss: 0.5734 - acc: 0.6512 - val_loss: 0.6754 - val_acc: 0.5209\n",
      "\n",
      "Epoch 00012: val_loss did not improve from 0.66828\n",
      "Epoch 13/200\n",
      " - 11s - loss: 0.5603 - acc: 0.6677 - val_loss: 0.7025 - val_acc: 0.5418\n",
      "\n",
      "Epoch 00013: val_loss did not improve from 0.66828\n",
      "Epoch 14/200\n",
      " - 11s - loss: 0.5535 - acc: 0.6803 - val_loss: 0.6749 - val_acc: 0.5545\n",
      "\n",
      "Epoch 00014: val_loss did not improve from 0.66828\n",
      "Epoch 15/200\n",
      " - 12s - loss: 0.5502 - acc: 0.6870 - val_loss: 0.7250 - val_acc: 0.5691\n",
      "\n",
      "Epoch 00015: val_loss did not improve from 0.66828\n",
      "Epoch 16/200\n",
      " - 14s - loss: 0.5664 - acc: 0.6597 - val_loss: 0.6732 - val_acc: 0.5700\n",
      "\n",
      "Epoch 00016: val_loss did not improve from 0.66828\n",
      "Epoch 17/200\n",
      " - 13s - loss: 0.5445 - acc: 0.7055 - val_loss: 0.6850 - val_acc: 0.5627\n",
      "\n",
      "Epoch 00017: val_loss did not improve from 0.66828\n",
      "Epoch 18/200\n",
      " - 12s - loss: 0.5481 - acc: 0.7039 - val_loss: 0.7021 - val_acc: 0.5755\n",
      "\n",
      "Epoch 00018: val_loss did not improve from 0.66828\n",
      "Epoch 19/200\n",
      " - 13s - loss: 0.5271 - acc: 0.7172 - val_loss: 0.7264 - val_acc: 0.5482\n",
      "\n",
      "Epoch 00019: val_loss did not improve from 0.66828\n",
      "Epoch 20/200\n",
      " - 12s - loss: 0.5058 - acc: 0.7405 - val_loss: 0.6738 - val_acc: 0.5973\n",
      "\n",
      "Epoch 00020: val_loss did not improve from 0.66828\n",
      "Epoch 21/200\n",
      " - 12s - loss: 0.4938 - acc: 0.7521 - val_loss: 0.6737 - val_acc: 0.6027\n",
      "\n",
      "Epoch 00021: val_loss did not improve from 0.66828\n",
      "Epoch 22/200\n",
      " - 12s - loss: 0.5197 - acc: 0.7263 - val_loss: 0.7162 - val_acc: 0.5718\n",
      "\n",
      "Epoch 00022: val_loss did not improve from 0.66828\n",
      "Epoch 23/200\n",
      " - 11s - loss: 0.5039 - acc: 0.7337 - val_loss: 0.6711 - val_acc: 0.6100\n",
      "\n",
      "Epoch 00023: val_loss did not improve from 0.66828\n",
      "Epoch 24/200\n",
      " - 12s - loss: 0.4916 - acc: 0.7541 - val_loss: 0.7157 - val_acc: 0.5891\n",
      "\n",
      "Epoch 00024: val_loss did not improve from 0.66828\n",
      "Epoch 25/200\n",
      " - 12s - loss: 0.4731 - acc: 0.7632 - val_loss: 0.6656 - val_acc: 0.6118\n",
      "\n",
      "Epoch 00025: val_loss improved from 0.66828 to 0.66560, saving model to MLP_new.weights.best.hdf5\n",
      "Epoch 26/200\n",
      " - 12s - loss: 0.4574 - acc: 0.7826 - val_loss: 0.6828 - val_acc: 0.6064\n",
      "\n",
      "Epoch 00026: val_loss did not improve from 0.66560\n",
      "Epoch 27/200\n",
      " - 12s - loss: 0.4573 - acc: 0.7754 - val_loss: 0.6648 - val_acc: 0.6245\n",
      "\n",
      "Epoch 00027: val_loss improved from 0.66560 to 0.66478, saving model to MLP_new.weights.best.hdf5\n",
      "Epoch 28/200\n",
      " - 12s - loss: 0.4456 - acc: 0.7888 - val_loss: 0.6828 - val_acc: 0.6309\n",
      "\n",
      "Epoch 00028: val_loss did not improve from 0.66478\n",
      "Epoch 29/200\n",
      " - 12s - loss: 0.4513 - acc: 0.7825 - val_loss: 0.7045 - val_acc: 0.6273\n",
      "\n",
      "Epoch 00029: val_loss did not improve from 0.66478\n",
      "Epoch 30/200\n",
      " - 12s - loss: 0.4642 - acc: 0.7663 - val_loss: 0.7999 - val_acc: 0.5827\n",
      "\n",
      "Epoch 00030: val_loss did not improve from 0.66478\n",
      "Epoch 31/200\n",
      " - 12s - loss: 0.4602 - acc: 0.7672 - val_loss: 0.6645 - val_acc: 0.6209\n",
      "\n",
      "Epoch 00031: val_loss improved from 0.66478 to 0.66450, saving model to MLP_new.weights.best.hdf5\n",
      "Epoch 32/200\n",
      " - 11s - loss: 0.4212 - acc: 0.8030 - val_loss: 0.6817 - val_acc: 0.6455\n",
      "\n",
      "Epoch 00032: val_loss did not improve from 0.66450\n",
      "Epoch 33/200\n",
      " - 11s - loss: 0.4267 - acc: 0.7969 - val_loss: 0.6747 - val_acc: 0.6318\n",
      "\n",
      "Epoch 00033: val_loss did not improve from 0.66450\n",
      "Epoch 34/200\n",
      " - 12s - loss: 0.4242 - acc: 0.7979 - val_loss: 0.7044 - val_acc: 0.6464\n",
      "\n",
      "Epoch 00034: val_loss did not improve from 0.66450\n",
      "Epoch 35/200\n",
      " - 11s - loss: 0.4254 - acc: 0.7976 - val_loss: 0.7138 - val_acc: 0.6418\n",
      "\n",
      "Epoch 00035: val_loss did not improve from 0.66450\n",
      "Epoch 36/200\n",
      " - 12s - loss: 0.4270 - acc: 0.7930 - val_loss: 0.7024 - val_acc: 0.6382\n",
      "\n",
      "Epoch 00036: val_loss did not improve from 0.66450\n",
      "Epoch 37/200\n",
      " - 13s - loss: 0.4173 - acc: 0.8031 - val_loss: 0.7207 - val_acc: 0.6336\n",
      "\n",
      "Epoch 00037: val_loss did not improve from 0.66450\n",
      "Epoch 38/200\n",
      " - 11s - loss: 0.4102 - acc: 0.8094 - val_loss: 0.6849 - val_acc: 0.6464\n",
      "\n",
      "Epoch 00038: val_loss did not improve from 0.66450\n",
      "Epoch 39/200\n",
      " - 12s - loss: 0.3977 - acc: 0.8174 - val_loss: 0.7238 - val_acc: 0.6400\n",
      "\n",
      "Epoch 00039: val_loss did not improve from 0.66450\n",
      "Epoch 40/200\n",
      " - 12s - loss: 0.3951 - acc: 0.8201 - val_loss: 0.7145 - val_acc: 0.6482\n",
      "\n",
      "Epoch 00040: val_loss did not improve from 0.66450\n",
      "Epoch 41/200\n",
      " - 12s - loss: 0.4027 - acc: 0.8176 - val_loss: 0.6845 - val_acc: 0.6409\n",
      "\n",
      "Epoch 00041: val_loss did not improve from 0.66450\n",
      "Epoch 42/200\n",
      " - 12s - loss: 0.4065 - acc: 0.8064 - val_loss: 0.6922 - val_acc: 0.6536\n",
      "\n",
      "Epoch 00042: val_loss did not improve from 0.66450\n",
      "Epoch 43/200\n",
      " - 12s - loss: 0.3901 - acc: 0.8248 - val_loss: 0.6971 - val_acc: 0.6445\n",
      "\n",
      "Epoch 00043: val_loss did not improve from 0.66450\n",
      "Epoch 44/200\n",
      " - 11s - loss: 0.3993 - acc: 0.8163 - val_loss: 0.7329 - val_acc: 0.6427\n",
      "\n",
      "Epoch 00044: val_loss did not improve from 0.66450\n",
      "Epoch 45/200\n",
      " - 12s - loss: 0.3897 - acc: 0.8260 - val_loss: 0.7169 - val_acc: 0.6682\n",
      "\n",
      "Epoch 00045: val_loss did not improve from 0.66450\n",
      "Epoch 46/200\n",
      " - 14s - loss: 0.4086 - acc: 0.8147 - val_loss: 0.7277 - val_acc: 0.6455\n",
      "\n",
      "Epoch 00046: val_loss did not improve from 0.66450\n",
      "Epoch 47/200\n",
      " - 13s - loss: 0.3910 - acc: 0.8277 - val_loss: 0.7170 - val_acc: 0.6727\n",
      "\n",
      "Epoch 00047: val_loss did not improve from 0.66450\n",
      "Epoch 48/200\n",
      " - 15s - loss: 0.3665 - acc: 0.8394 - val_loss: 0.7869 - val_acc: 0.6655\n",
      "\n",
      "Epoch 00048: val_loss did not improve from 0.66450\n",
      "Epoch 49/200\n",
      " - 14s - loss: 0.3854 - acc: 0.8271 - val_loss: 0.7341 - val_acc: 0.6673\n",
      "\n",
      "Epoch 00049: val_loss did not improve from 0.66450\n",
      "Epoch 50/200\n",
      " - 12s - loss: 0.4023 - acc: 0.8154 - val_loss: 0.7215 - val_acc: 0.6482\n",
      "\n",
      "Epoch 00050: val_loss did not improve from 0.66450\n",
      "Epoch 51/200\n",
      " - 12s - loss: 0.4372 - acc: 0.7889 - val_loss: 0.7551 - val_acc: 0.6264\n",
      "\n",
      "Epoch 00051: val_loss did not improve from 0.66450\n",
      "Epoch 52/200\n",
      " - 11s - loss: 0.3960 - acc: 0.8202 - val_loss: 0.7165 - val_acc: 0.6791\n",
      "\n",
      "Epoch 00052: val_loss did not improve from 0.66450\n",
      "Epoch 53/200\n",
      " - 12s - loss: 0.3579 - acc: 0.8442 - val_loss: 0.7265 - val_acc: 0.6709\n",
      "\n",
      "Epoch 00053: val_loss did not improve from 0.66450\n",
      "Epoch 54/200\n",
      " - 11s - loss: 0.3740 - acc: 0.8331 - val_loss: 0.7134 - val_acc: 0.6845\n",
      "\n",
      "Epoch 00054: val_loss did not improve from 0.66450\n",
      "Epoch 55/200\n",
      " - 11s - loss: 0.3643 - acc: 0.8416 - val_loss: 0.7501 - val_acc: 0.6745\n",
      "\n",
      "Epoch 00055: val_loss did not improve from 0.66450\n",
      "Epoch 56/200\n",
      " - 12s - loss: 0.3687 - acc: 0.8351 - val_loss: 0.7284 - val_acc: 0.6591\n",
      "\n",
      "Epoch 00056: val_loss did not improve from 0.66450\n",
      "Epoch 57/200\n",
      " - 11s - loss: 0.3726 - acc: 0.8338 - val_loss: 0.7018 - val_acc: 0.6664\n"
     ]
    },
    {
     "name": "stdout",
     "output_type": "stream",
     "text": [
      "\n",
      "Epoch 00057: val_loss did not improve from 0.66450\n",
      "Epoch 58/200\n",
      " - 12s - loss: 0.3674 - acc: 0.8358 - val_loss: 0.8937 - val_acc: 0.6545\n",
      "\n",
      "Epoch 00058: val_loss did not improve from 0.66450\n",
      "Epoch 59/200\n",
      " - 12s - loss: 0.3864 - acc: 0.8221 - val_loss: 0.7437 - val_acc: 0.6773\n",
      "\n",
      "Epoch 00059: val_loss did not improve from 0.66450\n",
      "Epoch 60/200\n",
      " - 12s - loss: 0.3682 - acc: 0.8345 - val_loss: 0.7181 - val_acc: 0.6391\n",
      "\n",
      "Epoch 00060: val_loss did not improve from 0.66450\n",
      "Epoch 61/200\n",
      " - 12s - loss: 0.3962 - acc: 0.8143 - val_loss: 0.7064 - val_acc: 0.6745\n",
      "\n",
      "Epoch 00061: val_loss did not improve from 0.66450\n",
      "Epoch 62/200\n",
      " - 11s - loss: 0.3590 - acc: 0.8427 - val_loss: 0.7433 - val_acc: 0.6945\n",
      "\n",
      "Epoch 00062: val_loss did not improve from 0.66450\n",
      "Epoch 63/200\n",
      " - 11s - loss: 0.3565 - acc: 0.8427 - val_loss: 0.7248 - val_acc: 0.6900\n",
      "\n",
      "Epoch 00063: val_loss did not improve from 0.66450\n",
      "Epoch 64/200\n",
      " - 11s - loss: 0.3598 - acc: 0.8368 - val_loss: 0.7335 - val_acc: 0.6918\n",
      "\n",
      "Epoch 00064: val_loss did not improve from 0.66450\n",
      "Epoch 65/200\n",
      " - 11s - loss: 0.3525 - acc: 0.8446 - val_loss: 0.7490 - val_acc: 0.6818\n",
      "\n",
      "Epoch 00065: val_loss did not improve from 0.66450\n",
      "Epoch 66/200\n",
      " - 11s - loss: 0.3455 - acc: 0.8477 - val_loss: 0.7850 - val_acc: 0.6873\n",
      "\n",
      "Epoch 00066: val_loss did not improve from 0.66450\n",
      "Epoch 67/200\n",
      " - 12s - loss: 0.3510 - acc: 0.8454 - val_loss: 0.7470 - val_acc: 0.6364\n",
      "\n",
      "Epoch 00067: val_loss did not improve from 0.66450\n",
      "Epoch 68/200\n",
      " - 12s - loss: 0.3653 - acc: 0.8380 - val_loss: 0.7332 - val_acc: 0.6964\n",
      "\n",
      "Epoch 00068: val_loss did not improve from 0.66450\n",
      "Epoch 69/200\n",
      " - 12s - loss: 0.3471 - acc: 0.8482 - val_loss: 0.7286 - val_acc: 0.6673\n",
      "\n",
      "Epoch 00069: val_loss did not improve from 0.66450\n",
      "Epoch 70/200\n",
      " - 11s - loss: 0.3423 - acc: 0.8503 - val_loss: 0.7290 - val_acc: 0.6818\n",
      "\n",
      "Epoch 00070: val_loss did not improve from 0.66450\n",
      "Epoch 71/200\n",
      " - 11s - loss: 0.3303 - acc: 0.8581 - val_loss: 0.7363 - val_acc: 0.7055\n",
      "\n",
      "Epoch 00071: val_loss did not improve from 0.66450\n",
      "Epoch 72/200\n",
      " - 12s - loss: 0.3322 - acc: 0.8566 - val_loss: 0.7089 - val_acc: 0.6918\n",
      "\n",
      "Epoch 00072: val_loss did not improve from 0.66450\n",
      "Epoch 73/200\n",
      " - 11s - loss: 0.3695 - acc: 0.8361 - val_loss: 0.7621 - val_acc: 0.6855\n",
      "\n",
      "Epoch 00073: val_loss did not improve from 0.66450\n",
      "Epoch 74/200\n",
      " - 11s - loss: 0.3441 - acc: 0.8478 - val_loss: 0.6865 - val_acc: 0.6818\n",
      "\n",
      "Epoch 00074: val_loss did not improve from 0.66450\n",
      "Epoch 75/200\n",
      " - 11s - loss: 0.3310 - acc: 0.8566 - val_loss: 0.7369 - val_acc: 0.7064\n",
      "\n",
      "Epoch 00075: val_loss did not improve from 0.66450\n",
      "Epoch 76/200\n",
      " - 13s - loss: 0.3420 - acc: 0.8470 - val_loss: 0.7168 - val_acc: 0.6727\n",
      "\n",
      "Epoch 00076: val_loss did not improve from 0.66450\n",
      "Epoch 77/200\n",
      " - 19s - loss: 0.3501 - acc: 0.8434 - val_loss: 0.7763 - val_acc: 0.6827\n",
      "\n",
      "Epoch 00077: val_loss did not improve from 0.66450\n",
      "Epoch 78/200\n",
      " - 23s - loss: 0.3358 - acc: 0.8545 - val_loss: 0.7511 - val_acc: 0.6964\n",
      "\n",
      "Epoch 00078: val_loss did not improve from 0.66450\n",
      "Epoch 79/200\n",
      " - 36s - loss: 0.3355 - acc: 0.8522 - val_loss: 0.7055 - val_acc: 0.6791\n",
      "\n",
      "Epoch 00079: val_loss did not improve from 0.66450\n",
      "Epoch 80/200\n",
      " - 16s - loss: 0.3453 - acc: 0.8468 - val_loss: 0.7387 - val_acc: 0.6873\n",
      "\n",
      "Epoch 00080: val_loss did not improve from 0.66450\n",
      "Epoch 81/200\n",
      " - 12s - loss: 0.3398 - acc: 0.8501 - val_loss: 0.7239 - val_acc: 0.6845\n",
      "\n",
      "Epoch 00081: val_loss did not improve from 0.66450\n",
      "Epoch 82/200\n",
      " - 12s - loss: 0.3820 - acc: 0.8258 - val_loss: 0.7192 - val_acc: 0.6827\n",
      "\n",
      "Epoch 00082: val_loss did not improve from 0.66450\n",
      "Epoch 83/200\n",
      " - 12s - loss: 0.4044 - acc: 0.8120 - val_loss: 0.7015 - val_acc: 0.6736\n",
      "\n",
      "Epoch 00083: val_loss did not improve from 0.66450\n",
      "Epoch 84/200\n",
      " - 12s - loss: 0.3374 - acc: 0.8536 - val_loss: 0.7413 - val_acc: 0.7027\n",
      "\n",
      "Epoch 00084: val_loss did not improve from 0.66450\n",
      "Epoch 85/200\n",
      " - 12s - loss: 0.3297 - acc: 0.8560 - val_loss: 0.7079 - val_acc: 0.6618\n",
      "\n",
      "Epoch 00085: val_loss did not improve from 0.66450\n",
      "Epoch 86/200\n",
      " - 12s - loss: 0.3410 - acc: 0.8494 - val_loss: 0.6549 - val_acc: 0.6973\n",
      "\n",
      "Epoch 00086: val_loss improved from 0.66450 to 0.65492, saving model to MLP_new.weights.best.hdf5\n",
      "Epoch 87/200\n",
      " - 12s - loss: 0.3331 - acc: 0.8497 - val_loss: 0.7164 - val_acc: 0.6773\n",
      "\n",
      "Epoch 00087: val_loss did not improve from 0.65492\n",
      "Epoch 88/200\n",
      " - 12s - loss: 0.3328 - acc: 0.8553 - val_loss: 0.7151 - val_acc: 0.7100\n",
      "\n",
      "Epoch 00088: val_loss did not improve from 0.65492\n",
      "Epoch 89/200\n",
      " - 12s - loss: 0.3189 - acc: 0.8645 - val_loss: 0.7084 - val_acc: 0.6800\n",
      "\n",
      "Epoch 00089: val_loss did not improve from 0.65492\n",
      "Epoch 90/200\n",
      " - 12s - loss: 0.3235 - acc: 0.8579 - val_loss: 0.6899 - val_acc: 0.7073\n",
      "\n",
      "Epoch 00090: val_loss did not improve from 0.65492\n",
      "Epoch 91/200\n",
      " - 12s - loss: 0.3307 - acc: 0.8507 - val_loss: 0.7566 - val_acc: 0.7036\n",
      "\n",
      "Epoch 00091: val_loss did not improve from 0.65492\n",
      "Epoch 92/200\n",
      " - 12s - loss: 0.3184 - acc: 0.8636 - val_loss: 0.7255 - val_acc: 0.6982\n",
      "\n",
      "Epoch 00092: val_loss did not improve from 0.65492\n",
      "Epoch 93/200\n",
      " - 12s - loss: 0.3124 - acc: 0.8673 - val_loss: 0.8369 - val_acc: 0.6964\n",
      "\n",
      "Epoch 00093: val_loss did not improve from 0.65492\n",
      "Epoch 94/200\n",
      " - 12s - loss: 0.3234 - acc: 0.8590 - val_loss: 0.7173 - val_acc: 0.7173\n",
      "\n",
      "Epoch 00094: val_loss did not improve from 0.65492\n",
      "Epoch 95/200\n",
      " - 11s - loss: 0.3293 - acc: 0.8541 - val_loss: 0.7467 - val_acc: 0.7082\n",
      "\n",
      "Epoch 00095: val_loss did not improve from 0.65492\n",
      "Epoch 96/200\n",
      " - 12s - loss: 0.3211 - acc: 0.8559 - val_loss: 0.7421 - val_acc: 0.7073\n",
      "\n",
      "Epoch 00096: val_loss did not improve from 0.65492\n",
      "Epoch 97/200\n",
      " - 12s - loss: 0.3071 - acc: 0.8654 - val_loss: 0.7956 - val_acc: 0.6955\n",
      "\n",
      "Epoch 00097: val_loss did not improve from 0.65492\n",
      "Epoch 98/200\n",
      " - 12s - loss: 0.3120 - acc: 0.8626 - val_loss: 0.6792 - val_acc: 0.7073\n",
      "\n",
      "Epoch 00098: val_loss did not improve from 0.65492\n",
      "Epoch 99/200\n",
      " - 12s - loss: 0.3196 - acc: 0.8598 - val_loss: 0.6764 - val_acc: 0.7064\n",
      "\n",
      "Epoch 00099: val_loss did not improve from 0.65492\n",
      "Epoch 100/200\n",
      " - 12s - loss: 0.3101 - acc: 0.8644 - val_loss: 0.6884 - val_acc: 0.7000\n",
      "\n",
      "Epoch 00100: val_loss did not improve from 0.65492\n",
      "Epoch 101/200\n",
      " - 11s - loss: 0.3054 - acc: 0.8676 - val_loss: 0.7265 - val_acc: 0.7145\n",
      "\n",
      "Epoch 00101: val_loss did not improve from 0.65492\n",
      "Epoch 102/200\n",
      " - 11s - loss: 0.3071 - acc: 0.8643 - val_loss: 0.7113 - val_acc: 0.7100\n",
      "\n",
      "Epoch 00102: val_loss did not improve from 0.65492\n",
      "Epoch 103/200\n",
      " - 11s - loss: 0.3075 - acc: 0.8659 - val_loss: 0.6883 - val_acc: 0.7155\n",
      "\n",
      "Epoch 00103: val_loss did not improve from 0.65492\n",
      "Epoch 104/200\n",
      " - 12s - loss: 0.3206 - acc: 0.8537 - val_loss: 0.6998 - val_acc: 0.7027\n",
      "\n",
      "Epoch 00104: val_loss did not improve from 0.65492\n",
      "Epoch 105/200\n",
      " - 12s - loss: 0.3123 - acc: 0.8619 - val_loss: 0.6505 - val_acc: 0.7000\n",
      "\n",
      "Epoch 00105: val_loss improved from 0.65492 to 0.65049, saving model to MLP_new.weights.best.hdf5\n",
      "Epoch 106/200\n",
      " - 12s - loss: 0.3078 - acc: 0.8641 - val_loss: 0.7523 - val_acc: 0.6882\n",
      "\n",
      "Epoch 00106: val_loss did not improve from 0.65049\n",
      "Epoch 107/200\n",
      " - 11s - loss: 0.3100 - acc: 0.8603 - val_loss: 0.7322 - val_acc: 0.7255\n",
      "\n",
      "Epoch 00107: val_loss did not improve from 0.65049\n",
      "Epoch 108/200\n",
      " - 11s - loss: 0.3073 - acc: 0.8639 - val_loss: 0.7132 - val_acc: 0.7036\n",
      "\n",
      "Epoch 00108: val_loss did not improve from 0.65049\n",
      "Epoch 109/200\n",
      " - 12s - loss: 0.3058 - acc: 0.8641 - val_loss: 0.7501 - val_acc: 0.7200\n",
      "\n",
      "Epoch 00109: val_loss did not improve from 0.65049\n",
      "Epoch 110/200\n",
      " - 11s - loss: 0.3090 - acc: 0.8595 - val_loss: 0.6758 - val_acc: 0.6955\n",
      "\n",
      "Epoch 00110: val_loss did not improve from 0.65049\n",
      "Epoch 111/200\n",
      " - 12s - loss: 0.2991 - acc: 0.8634 - val_loss: 0.6812 - val_acc: 0.6936\n",
      "\n",
      "Epoch 00111: val_loss did not improve from 0.65049\n",
      "Epoch 112/200\n",
      " - 11s - loss: 0.3029 - acc: 0.8615 - val_loss: 0.6757 - val_acc: 0.7182\n",
      "\n",
      "Epoch 00112: val_loss did not improve from 0.65049\n",
      "Epoch 113/200\n",
      " - 11s - loss: 0.2884 - acc: 0.8712 - val_loss: 0.7738 - val_acc: 0.7109\n",
      "\n",
      "Epoch 00113: val_loss did not improve from 0.65049\n",
      "Epoch 114/200\n",
      " - 12s - loss: 0.2898 - acc: 0.8690 - val_loss: 0.7212 - val_acc: 0.7027\n",
      "\n",
      "Epoch 00114: val_loss did not improve from 0.65049\n",
      "Epoch 115/200\n",
      " - 12s - loss: 0.3021 - acc: 0.8674 - val_loss: 0.6582 - val_acc: 0.7091\n",
      "\n",
      "Epoch 00115: val_loss did not improve from 0.65049\n",
      "Epoch 116/200\n",
      " - 12s - loss: 0.3036 - acc: 0.8654 - val_loss: 0.7330 - val_acc: 0.6927\n"
     ]
    },
    {
     "name": "stdout",
     "output_type": "stream",
     "text": [
      "\n",
      "Epoch 00116: val_loss did not improve from 0.65049\n",
      "Epoch 117/200\n",
      " - 12s - loss: 0.3228 - acc: 0.8534 - val_loss: 0.6913 - val_acc: 0.6991\n",
      "\n",
      "Epoch 00117: val_loss did not improve from 0.65049\n",
      "Epoch 118/200\n",
      " - 11s - loss: 0.2921 - acc: 0.8682 - val_loss: 0.6756 - val_acc: 0.7091\n",
      "\n",
      "Epoch 00118: val_loss did not improve from 0.65049\n",
      "Epoch 119/200\n",
      " - 12s - loss: 0.2927 - acc: 0.8629 - val_loss: 0.8882 - val_acc: 0.6900\n",
      "\n",
      "Epoch 00119: val_loss did not improve from 0.65049\n",
      "Epoch 120/200\n",
      " - 12s - loss: 0.2905 - acc: 0.8692 - val_loss: 0.7058 - val_acc: 0.7027\n",
      "\n",
      "Epoch 00120: val_loss did not improve from 0.65049\n",
      "Epoch 121/200\n",
      " - 11s - loss: 0.2861 - acc: 0.8673 - val_loss: 0.7202 - val_acc: 0.7318\n",
      "\n",
      "Epoch 00121: val_loss did not improve from 0.65049\n",
      "Epoch 122/200\n",
      " - 11s - loss: 0.2709 - acc: 0.8779 - val_loss: 0.6790 - val_acc: 0.7209\n",
      "\n",
      "Epoch 00122: val_loss did not improve from 0.65049\n",
      "Epoch 123/200\n",
      " - 12s - loss: 0.2741 - acc: 0.8771 - val_loss: 0.6950 - val_acc: 0.7200\n",
      "\n",
      "Epoch 00123: val_loss did not improve from 0.65049\n",
      "Epoch 124/200\n",
      " - 12s - loss: 0.2894 - acc: 0.8717 - val_loss: 0.6349 - val_acc: 0.7200\n",
      "\n",
      "Epoch 00124: val_loss improved from 0.65049 to 0.63486, saving model to MLP_new.weights.best.hdf5\n",
      "Epoch 125/200\n",
      " - 12s - loss: 0.2780 - acc: 0.8737 - val_loss: 0.6753 - val_acc: 0.7291\n",
      "\n",
      "Epoch 00125: val_loss did not improve from 0.63486\n",
      "Epoch 126/200\n",
      " - 12s - loss: 0.2783 - acc: 0.8729 - val_loss: 0.6400 - val_acc: 0.7336\n",
      "\n",
      "Epoch 00126: val_loss did not improve from 0.63486\n",
      "Epoch 127/200\n",
      " - 11s - loss: 0.2766 - acc: 0.8777 - val_loss: 0.7213 - val_acc: 0.7282\n",
      "\n",
      "Epoch 00127: val_loss did not improve from 0.63486\n",
      "Epoch 128/200\n",
      " - 11s - loss: 0.2738 - acc: 0.8753 - val_loss: 0.6431 - val_acc: 0.7273\n",
      "\n",
      "Epoch 00128: val_loss did not improve from 0.63486\n",
      "Epoch 129/200\n",
      " - 11s - loss: 0.2988 - acc: 0.8662 - val_loss: 0.7620 - val_acc: 0.6991\n",
      "\n",
      "Epoch 00129: val_loss did not improve from 0.63486\n",
      "Epoch 130/200\n",
      " - 12s - loss: 0.2775 - acc: 0.8702 - val_loss: 0.7200 - val_acc: 0.7264\n",
      "\n",
      "Epoch 00130: val_loss did not improve from 0.63486\n",
      "Epoch 131/200\n",
      " - 12s - loss: 0.2792 - acc: 0.8749 - val_loss: 0.6599 - val_acc: 0.7164\n",
      "\n",
      "Epoch 00131: val_loss did not improve from 0.63486\n",
      "Epoch 132/200\n",
      " - 11s - loss: 0.2811 - acc: 0.8708 - val_loss: 0.6282 - val_acc: 0.7273\n",
      "\n",
      "Epoch 00132: val_loss improved from 0.63486 to 0.62819, saving model to MLP_new.weights.best.hdf5\n",
      "Epoch 133/200\n",
      " - 11s - loss: 0.2723 - acc: 0.8800 - val_loss: 0.6601 - val_acc: 0.7418\n",
      "\n",
      "Epoch 00133: val_loss did not improve from 0.62819\n",
      "Epoch 134/200\n",
      " - 11s - loss: 0.2706 - acc: 0.8775 - val_loss: 0.6375 - val_acc: 0.7400\n",
      "\n",
      "Epoch 00134: val_loss did not improve from 0.62819\n",
      "Epoch 135/200\n",
      " - 11s - loss: 0.2710 - acc: 0.8798 - val_loss: 0.7188 - val_acc: 0.7118\n",
      "\n",
      "Epoch 00135: val_loss did not improve from 0.62819\n",
      "Epoch 136/200\n",
      " - 12s - loss: 0.2696 - acc: 0.8763 - val_loss: 0.7524 - val_acc: 0.7427\n",
      "\n",
      "Epoch 00136: val_loss did not improve from 0.62819\n",
      "Epoch 137/200\n",
      " - 12s - loss: 0.2872 - acc: 0.8698 - val_loss: 0.6798 - val_acc: 0.7209\n",
      "\n",
      "Epoch 00137: val_loss did not improve from 0.62819\n",
      "Epoch 138/200\n",
      " - 11s - loss: 0.2681 - acc: 0.8773 - val_loss: 0.7120 - val_acc: 0.7227\n",
      "\n",
      "Epoch 00138: val_loss did not improve from 0.62819\n",
      "Epoch 139/200\n",
      " - 11s - loss: 0.2562 - acc: 0.8872 - val_loss: 0.7548 - val_acc: 0.7409\n",
      "\n",
      "Epoch 00139: val_loss did not improve from 0.62819\n",
      "Epoch 140/200\n",
      " - 11s - loss: 0.2764 - acc: 0.8799 - val_loss: 0.6731 - val_acc: 0.7273\n",
      "\n",
      "Epoch 00140: val_loss did not improve from 0.62819\n",
      "Epoch 141/200\n",
      " - 12s - loss: 0.2706 - acc: 0.8803 - val_loss: 0.6848 - val_acc: 0.7373\n",
      "\n",
      "Epoch 00141: val_loss did not improve from 0.62819\n",
      "Epoch 142/200\n",
      " - 11s - loss: 0.2465 - acc: 0.8906 - val_loss: 0.6230 - val_acc: 0.7300\n",
      "\n",
      "Epoch 00142: val_loss improved from 0.62819 to 0.62299, saving model to MLP_new.weights.best.hdf5\n",
      "Epoch 143/200\n",
      " - 12s - loss: 0.2637 - acc: 0.8792 - val_loss: 0.7526 - val_acc: 0.7209\n",
      "\n",
      "Epoch 00143: val_loss did not improve from 0.62299\n",
      "Epoch 144/200\n",
      " - 11s - loss: 0.2681 - acc: 0.8779 - val_loss: 0.6407 - val_acc: 0.7200\n",
      "\n",
      "Epoch 00144: val_loss did not improve from 0.62299\n",
      "Epoch 145/200\n",
      " - 14s - loss: 0.3018 - acc: 0.8611 - val_loss: 0.6410 - val_acc: 0.7473\n",
      "\n",
      "Epoch 00145: val_loss did not improve from 0.62299\n",
      "Epoch 146/200\n",
      " - 13s - loss: 0.2890 - acc: 0.8696 - val_loss: 0.6747 - val_acc: 0.7191\n",
      "\n",
      "Epoch 00146: val_loss did not improve from 0.62299\n",
      "Epoch 147/200\n",
      " - 12s - loss: 0.2551 - acc: 0.8866 - val_loss: 0.7988 - val_acc: 0.7091\n",
      "\n",
      "Epoch 00147: val_loss did not improve from 0.62299\n",
      "Epoch 148/200\n",
      " - 12s - loss: 0.2787 - acc: 0.8743 - val_loss: 0.7896 - val_acc: 0.7255\n",
      "\n",
      "Epoch 00148: val_loss did not improve from 0.62299\n",
      "Epoch 149/200\n",
      " - 12s - loss: 0.2900 - acc: 0.8665 - val_loss: 0.7535 - val_acc: 0.7455\n",
      "\n",
      "Epoch 00149: val_loss did not improve from 0.62299\n",
      "Epoch 150/200\n",
      " - 16s - loss: 0.2621 - acc: 0.8862 - val_loss: 0.6832 - val_acc: 0.7436\n",
      "\n",
      "Epoch 00150: val_loss did not improve from 0.62299\n",
      "Epoch 151/200\n",
      " - 15s - loss: 0.2442 - acc: 0.8932 - val_loss: 0.6915 - val_acc: 0.7300\n",
      "\n",
      "Epoch 00151: val_loss did not improve from 0.62299\n",
      "Epoch 152/200\n",
      " - 14s - loss: 0.2407 - acc: 0.8948 - val_loss: 0.6408 - val_acc: 0.7500\n",
      "\n",
      "Epoch 00152: val_loss did not improve from 0.62299\n",
      "Epoch 153/200\n",
      " - 14s - loss: 0.2555 - acc: 0.8851 - val_loss: 0.7098 - val_acc: 0.7373\n",
      "\n",
      "Epoch 00153: val_loss did not improve from 0.62299\n",
      "Epoch 154/200\n",
      " - 14s - loss: 0.2671 - acc: 0.8808 - val_loss: 0.6532 - val_acc: 0.7427\n",
      "\n",
      "Epoch 00154: val_loss did not improve from 0.62299\n",
      "Epoch 155/200\n",
      " - 15s - loss: 0.2731 - acc: 0.8779 - val_loss: 0.5892 - val_acc: 0.7400\n",
      "\n",
      "Epoch 00155: val_loss improved from 0.62299 to 0.58920, saving model to MLP_new.weights.best.hdf5\n",
      "Epoch 156/200\n",
      " - 14s - loss: 0.2609 - acc: 0.8830 - val_loss: 0.6993 - val_acc: 0.7018\n",
      "\n",
      "Epoch 00156: val_loss did not improve from 0.58920\n",
      "Epoch 157/200\n",
      " - 14s - loss: 0.2566 - acc: 0.8843 - val_loss: 0.7263 - val_acc: 0.7473\n",
      "\n",
      "Epoch 00157: val_loss did not improve from 0.58920\n",
      "Epoch 158/200\n",
      " - 14s - loss: 0.2453 - acc: 0.8908 - val_loss: 0.6029 - val_acc: 0.7227\n",
      "\n",
      "Epoch 00158: val_loss did not improve from 0.58920\n",
      "Epoch 159/200\n",
      " - 14s - loss: 0.2713 - acc: 0.8785 - val_loss: 0.6440 - val_acc: 0.7473\n",
      "\n",
      "Epoch 00159: val_loss did not improve from 0.58920\n",
      "Epoch 160/200\n",
      " - 14s - loss: 0.2373 - acc: 0.8987 - val_loss: 0.6136 - val_acc: 0.7682\n",
      "\n",
      "Epoch 00160: val_loss did not improve from 0.58920\n",
      "Epoch 161/200\n",
      " - 14s - loss: 0.2311 - acc: 0.8960 - val_loss: 0.6053 - val_acc: 0.7582\n",
      "\n",
      "Epoch 00161: val_loss did not improve from 0.58920\n",
      "Epoch 162/200\n",
      " - 14s - loss: 0.2485 - acc: 0.8883 - val_loss: 0.6314 - val_acc: 0.7400\n",
      "\n",
      "Epoch 00162: val_loss did not improve from 0.58920\n",
      "Epoch 163/200\n",
      " - 14s - loss: 0.2512 - acc: 0.8859 - val_loss: 0.6760 - val_acc: 0.7618\n",
      "\n",
      "Epoch 00163: val_loss did not improve from 0.58920\n",
      "Epoch 164/200\n",
      " - 21s - loss: 0.2847 - acc: 0.8703 - val_loss: 0.7688 - val_acc: 0.7164\n",
      "\n",
      "Epoch 00164: val_loss did not improve from 0.58920\n",
      "Epoch 165/200\n",
      " - 17s - loss: 0.2580 - acc: 0.8832 - val_loss: 0.6404 - val_acc: 0.7536\n",
      "\n",
      "Epoch 00165: val_loss did not improve from 0.58920\n",
      "Epoch 166/200\n",
      " - 12s - loss: 0.2413 - acc: 0.8934 - val_loss: 0.6029 - val_acc: 0.7336\n",
      "\n",
      "Epoch 00166: val_loss did not improve from 0.58920\n",
      "Epoch 167/200\n",
      " - 13s - loss: 0.2596 - acc: 0.8851 - val_loss: 0.6443 - val_acc: 0.7627\n",
      "\n",
      "Epoch 00167: val_loss did not improve from 0.58920\n",
      "Epoch 168/200\n",
      " - 13s - loss: 0.2321 - acc: 0.8980 - val_loss: 0.7245 - val_acc: 0.7582\n",
      "\n",
      "Epoch 00168: val_loss did not improve from 0.58920\n",
      "Epoch 169/200\n",
      " - 13s - loss: 0.2314 - acc: 0.9013 - val_loss: 0.6680 - val_acc: 0.7700\n",
      "\n",
      "Epoch 00169: val_loss did not improve from 0.58920\n",
      "Epoch 170/200\n",
      " - 13s - loss: 0.2254 - acc: 0.8990 - val_loss: 0.6237 - val_acc: 0.7418\n",
      "\n",
      "Epoch 00170: val_loss did not improve from 0.58920\n",
      "Epoch 171/200\n",
      " - 13s - loss: 0.2388 - acc: 0.8928 - val_loss: 0.7731 - val_acc: 0.7482\n",
      "\n",
      "Epoch 00171: val_loss did not improve from 0.58920\n",
      "Epoch 172/200\n",
      " - 13s - loss: 0.2746 - acc: 0.8713 - val_loss: 0.5961 - val_acc: 0.7291\n",
      "\n",
      "Epoch 00172: val_loss did not improve from 0.58920\n",
      "Epoch 173/200\n",
      " - 12s - loss: 0.2495 - acc: 0.8886 - val_loss: 0.6221 - val_acc: 0.7409\n",
      "\n",
      "Epoch 00173: val_loss did not improve from 0.58920\n",
      "Epoch 174/200\n",
      " - 13s - loss: 0.2400 - acc: 0.8939 - val_loss: 0.6307 - val_acc: 0.7364\n"
     ]
    },
    {
     "name": "stdout",
     "output_type": "stream",
     "text": [
      "\n",
      "Epoch 00174: val_loss did not improve from 0.58920\n",
      "Epoch 175/200\n",
      " - 12s - loss: 0.2359 - acc: 0.8968 - val_loss: 0.6886 - val_acc: 0.7218\n",
      "\n",
      "Epoch 00175: val_loss did not improve from 0.58920\n",
      "Epoch 176/200\n",
      " - 12s - loss: 0.2568 - acc: 0.8870 - val_loss: 0.5710 - val_acc: 0.7455\n",
      "\n",
      "Epoch 00176: val_loss improved from 0.58920 to 0.57098, saving model to MLP_new.weights.best.hdf5\n",
      "Epoch 177/200\n",
      " - 12s - loss: 0.2439 - acc: 0.8949 - val_loss: 0.6855 - val_acc: 0.7427\n",
      "\n",
      "Epoch 00177: val_loss did not improve from 0.57098\n",
      "Epoch 178/200\n",
      " - 12s - loss: 0.2178 - acc: 0.9081 - val_loss: 0.6619 - val_acc: 0.7491\n",
      "\n",
      "Epoch 00178: val_loss did not improve from 0.57098\n",
      "Epoch 179/200\n",
      " - 12s - loss: 0.2087 - acc: 0.9137 - val_loss: 0.6905 - val_acc: 0.7255\n",
      "\n",
      "Epoch 00179: val_loss did not improve from 0.57098\n",
      "Epoch 180/200\n",
      " - 13s - loss: 0.2493 - acc: 0.8903 - val_loss: 0.6522 - val_acc: 0.7482\n",
      "\n",
      "Epoch 00180: val_loss did not improve from 0.57098\n",
      "Epoch 181/200\n",
      " - 12s - loss: 0.2588 - acc: 0.8834 - val_loss: 0.6008 - val_acc: 0.7191\n",
      "\n",
      "Epoch 00181: val_loss did not improve from 0.57098\n",
      "Epoch 182/200\n",
      " - 13s - loss: 0.2645 - acc: 0.8811 - val_loss: 0.6625 - val_acc: 0.7364\n",
      "\n",
      "Epoch 00182: val_loss did not improve from 0.57098\n",
      "Epoch 183/200\n",
      " - 12s - loss: 0.2354 - acc: 0.8954 - val_loss: 0.6403 - val_acc: 0.7555\n",
      "\n",
      "Epoch 00183: val_loss did not improve from 0.57098\n",
      "Epoch 184/200\n",
      " - 12s - loss: 0.2346 - acc: 0.8992 - val_loss: 0.6136 - val_acc: 0.7455\n",
      "\n",
      "Epoch 00184: val_loss did not improve from 0.57098\n",
      "Epoch 185/200\n",
      " - 12s - loss: 0.2455 - acc: 0.8898 - val_loss: 0.7051 - val_acc: 0.7782\n",
      "\n",
      "Epoch 00185: val_loss did not improve from 0.57098\n",
      "Epoch 186/200\n",
      " - 12s - loss: 0.2333 - acc: 0.9003 - val_loss: 0.6166 - val_acc: 0.7655\n",
      "\n",
      "Epoch 00186: val_loss did not improve from 0.57098\n",
      "Epoch 187/200\n",
      " - 13s - loss: 0.2502 - acc: 0.8900 - val_loss: 0.6459 - val_acc: 0.7755\n",
      "\n",
      "Epoch 00187: val_loss did not improve from 0.57098\n",
      "Epoch 188/200\n",
      " - 12s - loss: 0.2360 - acc: 0.8953 - val_loss: 0.6105 - val_acc: 0.7655\n",
      "\n",
      "Epoch 00188: val_loss did not improve from 0.57098\n",
      "Epoch 189/200\n",
      " - 12s - loss: 0.2318 - acc: 0.8967 - val_loss: 0.7797 - val_acc: 0.7536\n",
      "\n",
      "Epoch 00189: val_loss did not improve from 0.57098\n",
      "Epoch 190/200\n",
      " - 12s - loss: 0.2221 - acc: 0.8988 - val_loss: 0.6060 - val_acc: 0.7636\n",
      "\n",
      "Epoch 00190: val_loss did not improve from 0.57098\n",
      "Epoch 191/200\n",
      " - 12s - loss: 0.2200 - acc: 0.9053 - val_loss: 0.6168 - val_acc: 0.7627\n",
      "\n",
      "Epoch 00191: val_loss did not improve from 0.57098\n",
      "Epoch 192/200\n",
      " - 13s - loss: 0.2012 - acc: 0.9163 - val_loss: 0.6580 - val_acc: 0.7636\n",
      "\n",
      "Epoch 00192: val_loss did not improve from 0.57098\n",
      "Epoch 193/200\n",
      " - 12s - loss: 0.2124 - acc: 0.9053 - val_loss: 0.6173 - val_acc: 0.7509\n",
      "\n",
      "Epoch 00193: val_loss did not improve from 0.57098\n",
      "Epoch 194/200\n",
      " - 13s - loss: 0.2301 - acc: 0.9006 - val_loss: 0.6595 - val_acc: 0.7564\n",
      "\n",
      "Epoch 00194: val_loss did not improve from 0.57098\n",
      "Epoch 195/200\n",
      " - 13s - loss: 0.2164 - acc: 0.9092 - val_loss: 0.6055 - val_acc: 0.7636\n",
      "\n",
      "Epoch 00195: val_loss did not improve from 0.57098\n",
      "Epoch 196/200\n",
      " - 12s - loss: 0.2447 - acc: 0.8910 - val_loss: 0.5977 - val_acc: 0.7709\n",
      "\n",
      "Epoch 00196: val_loss did not improve from 0.57098\n",
      "Epoch 197/200\n",
      " - 13s - loss: 0.2064 - acc: 0.9140 - val_loss: 0.7599 - val_acc: 0.7482\n",
      "\n",
      "Epoch 00197: val_loss did not improve from 0.57098\n",
      "Epoch 198/200\n",
      " - 12s - loss: 0.2391 - acc: 0.8941 - val_loss: 0.6001 - val_acc: 0.7491\n",
      "\n",
      "Epoch 00198: val_loss did not improve from 0.57098\n",
      "Epoch 199/200\n",
      " - 12s - loss: 0.2214 - acc: 0.9072 - val_loss: 0.5582 - val_acc: 0.7773\n",
      "\n",
      "Epoch 00199: val_loss improved from 0.57098 to 0.55817, saving model to MLP_new.weights.best.hdf5\n",
      "Epoch 200/200\n",
      " - 12s - loss: 0.2083 - acc: 0.9090 - val_loss: 0.5764 - val_acc: 0.7764\n",
      "\n",
      "Epoch 00200: val_loss did not improve from 0.55817\n"
     ]
    }
   ],
   "source": [
    "from keras.callbacks import ModelCheckpoint\n",
    "\n",
    "checkpointer = ModelCheckpoint(filepath = 'MLP_new.weights.best.hdf5', verbose = 1, save_best_only = True)\n",
    "hist1 = model2.fit( x_train, y_train, epochs = 200, batch_size=512, validation_split = 0.1, callbacks = [checkpointer], verbose = 2, shuffle = True )"
   ]
  },
  {
   "cell_type": "code",
   "execution_count": 38,
   "metadata": {
    "colab": {
     "autoexec": {
      "startup": false,
      "wait_interval": 0
     },
     "base_uri": "https://localhost:8080/",
     "height": 54
    },
    "colab_type": "code",
    "executionInfo": {
     "elapsed": 1036,
     "status": "ok",
     "timestamp": 1528838562560,
     "user": {
      "displayName": "SHUBHAM VERMA",
      "photoUrl": "https://lh3.googleusercontent.com/a/default-user=s128",
      "userId": "108363614808362191748"
     },
     "user_tz": -330
    },
    "id": "aNKmoGdQchbo",
    "outputId": "ae555b2c-cba8-4e72-cc55-5614e8b99c9c"
   },
   "outputs": [
    {
     "name": "stdout",
     "output_type": "stream",
     "text": [
      "3980/3980 [==============================] - 3s 752us/step\n",
      "Accuracy:  0.7233668342307584\n"
     ]
    }
   ],
   "source": [
    "score = model2.evaluate(x_test, y_test, verbose=1)\n",
    "print(\"Accuracy: \", score[1])"
   ]
  },
  {
   "cell_type": "code",
   "execution_count": 39,
   "metadata": {
    "colab": {
     "autoexec": {
      "startup": false,
      "wait_interval": 0
     }
    },
    "colab_type": "code",
    "id": "elVEGDtW3JfM"
   },
   "outputs": [],
   "source": [
    "predict3 = [1 if a>=0.5 else 0 for a in model2.predict(x_test)] "
   ]
  },
  {
   "cell_type": "code",
   "execution_count": 40,
   "metadata": {
    "colab": {
     "autoexec": {
      "startup": false,
      "wait_interval": 0
     },
     "base_uri": "https://localhost:8080/",
     "height": 91
    },
    "colab_type": "code",
    "executionInfo": {
     "elapsed": 1086,
     "status": "ok",
     "timestamp": 1528839774224,
     "user": {
      "displayName": "SHUBHAM VERMA",
      "photoUrl": "https://lh3.googleusercontent.com/a/default-user=s128",
      "userId": "108363614808362191748"
     },
     "user_tz": -330
    },
    "id": "bww5JR0i3PGh",
    "outputId": "6b0b172d-8479-4248-e644-a66fa315f6d3"
   },
   "outputs": [
    {
     "name": "stdout",
     "output_type": "stream",
     "text": [
      "Accuracy = 0.7233668341708542\n",
      "Precision = 0.6720647773279352\n",
      "Recall = 0.8508457201435161\n",
      "F1 Score = 0.7509613209681067\n"
     ]
    }
   ],
   "source": [
    "print(\"Accuracy = {}\\nPrecision = {}\\nRecall = {}\\nF1 Score = {}\".format(metrics.accuracy_score(y_test, predict3), metrics.precision_score(y_test, predict3),metrics.recall_score(y_test, predict3),metrics.f1_score(y_test, predict3)))\n",
    "score_p.append([metrics.accuracy_score(y_test, predict3), metrics.precision_score(y_test, predict3),metrics.recall_score(y_test, predict3),metrics.f1_score(y_test, predict3)])"
   ]
  },
  {
   "cell_type": "code",
   "execution_count": 41,
   "metadata": {
    "colab": {
     "autoexec": {
      "startup": false,
      "wait_interval": 0
     }
    },
    "colab_type": "code",
    "id": "PocmBpI__yv7"
   },
   "outputs": [],
   "source": [
    "import matplotlib.pyplot as plt"
   ]
  },
  {
   "cell_type": "markdown",
   "metadata": {
    "colab_type": "text",
    "id": "lghx16y4_r8Q"
   },
   "source": [
    "# Training on  LSTM"
   ]
  },
  {
   "cell_type": "markdown",
   "metadata": {
    "colab_type": "text",
    "id": "wNp083VrV_ai"
   },
   "source": [
    "### Creating 3D array dataset"
   ]
  },
  {
   "cell_type": "code",
   "execution_count": 42,
   "metadata": {
    "colab": {
     "autoexec": {
      "startup": false,
      "wait_interval": 0
     }
    },
    "colab_type": "code",
    "id": "3AXLNcwEwbIx"
   },
   "outputs": [],
   "source": [
    "X_train = np.asarray(np.reshape(x_train, (x_train.shape[0], 14, 1)))\n",
    "X_test = np.asarray(np.reshape(x_test, (x_test.shape[0], 14, 1)))"
   ]
  },
  {
   "cell_type": "code",
   "execution_count": 43,
   "metadata": {
    "colab": {
     "autoexec": {
      "startup": false,
      "wait_interval": 0
     }
    },
    "colab_type": "code",
    "id": "Krv-k18n3mXy"
   },
   "outputs": [],
   "source": [
    "from keras.layers import Dense, Dropout, CuDNNLSTM, Embedding, LSTM\n",
    "from keras.models import Sequential"
   ]
  },
  {
   "cell_type": "code",
   "execution_count": 44,
   "metadata": {
    "colab": {
     "autoexec": {
      "startup": false,
      "wait_interval": 0
     }
    },
    "colab_type": "code",
    "id": "DR_-hoc-_qx6"
   },
   "outputs": [],
   "source": [
    "model3 = Sequential()\n",
    "model3.add(LSTM(256,input_shape=(14, 1), return_sequences=True))\n",
    "model3.add(LSTM(256))\n",
    "model3.add(Dense(1, activation='sigmoid'))"
   ]
  },
  {
   "cell_type": "code",
   "execution_count": 45,
   "metadata": {
    "colab": {
     "autoexec": {
      "startup": false,
      "wait_interval": 0
     },
     "base_uri": "https://localhost:8080/",
     "height": 258
    },
    "colab_type": "code",
    "executionInfo": {
     "elapsed": 1438,
     "status": "ok",
     "timestamp": 1528838677662,
     "user": {
      "displayName": "SHUBHAM VERMA",
      "photoUrl": "https://lh3.googleusercontent.com/a/default-user=s128",
      "userId": "108363614808362191748"
     },
     "user_tz": -330
    },
    "id": "i8emSgOt_q1c",
    "outputId": "10afeef3-7634-456c-b363-7f6fa8e090c7"
   },
   "outputs": [
    {
     "name": "stdout",
     "output_type": "stream",
     "text": [
      "_________________________________________________________________\n",
      "Layer (type)                 Output Shape              Param #   \n",
      "=================================================================\n",
      "lstm_1 (LSTM)                (None, 14, 256)           264192    \n",
      "_________________________________________________________________\n",
      "lstm_2 (LSTM)                (None, 256)               525312    \n",
      "_________________________________________________________________\n",
      "dense_7 (Dense)              (None, 1)                 257       \n",
      "=================================================================\n",
      "Total params: 789,761\n",
      "Trainable params: 789,761\n",
      "Non-trainable params: 0\n",
      "_________________________________________________________________\n"
     ]
    }
   ],
   "source": [
    "model3.compile(loss='binary_crossentropy', optimizer='adam', metrics=['accuracy'])\n",
    "model3.summary()"
   ]
  },
  {
   "cell_type": "code",
   "execution_count": 46,
   "metadata": {
    "colab": {
     "autoexec": {
      "startup": false,
      "wait_interval": 0
     },
     "base_uri": "https://localhost:8080/",
     "height": 7482
    },
    "colab_type": "code",
    "executionInfo": {
     "elapsed": 276963,
     "status": "ok",
     "timestamp": 1528838958417,
     "user": {
      "displayName": "SHUBHAM VERMA",
      "photoUrl": "https://lh3.googleusercontent.com/a/default-user=s128",
      "userId": "108363614808362191748"
     },
     "user_tz": -330
    },
    "id": "xBzDfMmU_q9s",
    "outputId": "28aab7f6-7404-49ae-b27f-f052677bf381"
   },
   "outputs": [
    {
     "name": "stdout",
     "output_type": "stream",
     "text": [
      "Train on 9900 samples, validate on 1100 samples\n",
      "Epoch 1/100\n",
      " - 103s - loss: 0.6913 - acc: 0.5292 - val_loss: 0.6919 - val_acc: 0.5264\n",
      "\n",
      "Epoch 00001: val_loss improved from inf to 0.69191, saving model to LSTM.weights.best.hdf5\n",
      "Epoch 2/100\n",
      " - 143s - loss: 0.6913 - acc: 0.5330 - val_loss: 0.6917 - val_acc: 0.5264\n",
      "\n",
      "Epoch 00002: val_loss improved from 0.69191 to 0.69166, saving model to LSTM.weights.best.hdf5\n",
      "Epoch 3/100\n",
      " - 151s - loss: 0.6907 - acc: 0.5330 - val_loss: 0.6916 - val_acc: 0.5264\n",
      "\n",
      "Epoch 00003: val_loss improved from 0.69166 to 0.69155, saving model to LSTM.weights.best.hdf5\n",
      "Epoch 4/100\n",
      " - 102s - loss: 0.6899 - acc: 0.5330 - val_loss: 0.6908 - val_acc: 0.5264\n",
      "\n",
      "Epoch 00004: val_loss improved from 0.69155 to 0.69085, saving model to LSTM.weights.best.hdf5\n",
      "Epoch 5/100\n",
      " - 105s - loss: 0.6901 - acc: 0.5367 - val_loss: 0.6905 - val_acc: 0.5264\n",
      "\n",
      "Epoch 00005: val_loss improved from 0.69085 to 0.69048, saving model to LSTM.weights.best.hdf5\n",
      "Epoch 6/100\n",
      " - 97s - loss: 0.6870 - acc: 0.5345 - val_loss: 0.6939 - val_acc: 0.4973\n",
      "\n",
      "Epoch 00006: val_loss did not improve from 0.69048\n",
      "Epoch 7/100\n",
      " - 103s - loss: 0.6781 - acc: 0.5581 - val_loss: 0.6840 - val_acc: 0.5245\n",
      "\n",
      "Epoch 00007: val_loss improved from 0.69048 to 0.68400, saving model to LSTM.weights.best.hdf5\n",
      "Epoch 8/100\n",
      " - 78s - loss: 0.6657 - acc: 0.5663 - val_loss: 0.6811 - val_acc: 0.5455\n",
      "\n",
      "Epoch 00008: val_loss improved from 0.68400 to 0.68114, saving model to LSTM.weights.best.hdf5\n",
      "Epoch 9/100\n",
      " - 73s - loss: 0.6554 - acc: 0.5836 - val_loss: 0.7368 - val_acc: 0.5027\n",
      "\n",
      "Epoch 00009: val_loss did not improve from 0.68114\n",
      "Epoch 10/100\n",
      " - 76s - loss: 0.6587 - acc: 0.5801 - val_loss: 0.6612 - val_acc: 0.5818\n",
      "\n",
      "Epoch 00010: val_loss improved from 0.68114 to 0.66118, saving model to LSTM.weights.best.hdf5\n",
      "Epoch 11/100\n",
      " - 72s - loss: 0.6402 - acc: 0.5979 - val_loss: 0.6751 - val_acc: 0.5873\n",
      "\n",
      "Epoch 00011: val_loss did not improve from 0.66118\n",
      "Epoch 12/100\n",
      " - 81s - loss: 0.6376 - acc: 0.5907 - val_loss: 0.6635 - val_acc: 0.5836\n",
      "\n",
      "Epoch 00012: val_loss did not improve from 0.66118\n",
      "Epoch 13/100\n",
      " - 77s - loss: 0.6169 - acc: 0.6022 - val_loss: 0.7846 - val_acc: 0.5609\n",
      "\n",
      "Epoch 00013: val_loss did not improve from 0.66118\n",
      "Epoch 14/100\n",
      " - 101s - loss: 0.6686 - acc: 0.5761 - val_loss: 0.6713 - val_acc: 0.5664\n",
      "\n",
      "Epoch 00014: val_loss did not improve from 0.66118\n",
      "Epoch 15/100\n",
      " - 75s - loss: 0.6490 - acc: 0.5965 - val_loss: 0.6599 - val_acc: 0.5836\n",
      "\n",
      "Epoch 00015: val_loss improved from 0.66118 to 0.65989, saving model to LSTM.weights.best.hdf5\n",
      "Epoch 16/100\n",
      " - 86s - loss: 0.6408 - acc: 0.6003 - val_loss: 0.6738 - val_acc: 0.5264\n",
      "\n",
      "Epoch 00016: val_loss did not improve from 0.65989\n",
      "Epoch 17/100\n",
      " - 72s - loss: 0.6230 - acc: 0.6106 - val_loss: 0.6783 - val_acc: 0.5800\n",
      "\n",
      "Epoch 00017: val_loss did not improve from 0.65989\n",
      "Epoch 18/100\n",
      " - 70s - loss: 0.6219 - acc: 0.6046 - val_loss: 0.6598 - val_acc: 0.5455\n",
      "\n",
      "Epoch 00018: val_loss improved from 0.65989 to 0.65984, saving model to LSTM.weights.best.hdf5\n",
      "Epoch 19/100\n",
      " - 71s - loss: 0.6110 - acc: 0.6090 - val_loss: 0.6655 - val_acc: 0.5427\n",
      "\n",
      "Epoch 00019: val_loss did not improve from 0.65984\n",
      "Epoch 20/100\n",
      " - 72s - loss: 0.6037 - acc: 0.6197 - val_loss: 0.6595 - val_acc: 0.5555\n",
      "\n",
      "Epoch 00020: val_loss improved from 0.65984 to 0.65947, saving model to LSTM.weights.best.hdf5\n",
      "Epoch 21/100\n",
      " - 75s - loss: 0.6189 - acc: 0.6053 - val_loss: 0.6500 - val_acc: 0.5736\n",
      "\n",
      "Epoch 00021: val_loss improved from 0.65947 to 0.64998, saving model to LSTM.weights.best.hdf5\n",
      "Epoch 22/100\n",
      " - 72s - loss: 0.6059 - acc: 0.6149 - val_loss: 0.6801 - val_acc: 0.5291\n",
      "\n",
      "Epoch 00022: val_loss did not improve from 0.64998\n",
      "Epoch 23/100\n",
      " - 70s - loss: 0.6172 - acc: 0.5992 - val_loss: 0.6783 - val_acc: 0.5455\n",
      "\n",
      "Epoch 00023: val_loss did not improve from 0.64998\n",
      "Epoch 24/100\n",
      " - 72s - loss: 0.6095 - acc: 0.6164 - val_loss: 0.6835 - val_acc: 0.5373\n",
      "\n",
      "Epoch 00024: val_loss did not improve from 0.64998\n",
      "Epoch 25/100\n",
      " - 70s - loss: 0.5975 - acc: 0.6181 - val_loss: 0.6777 - val_acc: 0.5436\n",
      "\n",
      "Epoch 00025: val_loss did not improve from 0.64998\n",
      "Epoch 26/100\n",
      " - 71s - loss: 0.5973 - acc: 0.6260 - val_loss: 0.6898 - val_acc: 0.5491\n",
      "\n",
      "Epoch 00026: val_loss did not improve from 0.64998\n",
      "Epoch 27/100\n",
      " - 77s - loss: 0.5978 - acc: 0.6296 - val_loss: 0.6626 - val_acc: 0.5518\n",
      "\n",
      "Epoch 00027: val_loss did not improve from 0.64998\n",
      "Epoch 28/100\n",
      " - 90s - loss: 0.5809 - acc: 0.6490 - val_loss: 0.6580 - val_acc: 0.5636\n",
      "\n",
      "Epoch 00028: val_loss did not improve from 0.64998\n",
      "Epoch 29/100\n",
      " - 71s - loss: 0.5980 - acc: 0.6377 - val_loss: 0.6525 - val_acc: 0.5600\n",
      "\n",
      "Epoch 00029: val_loss did not improve from 0.64998\n",
      "Epoch 30/100\n",
      " - 71s - loss: 0.5962 - acc: 0.6272 - val_loss: 0.6480 - val_acc: 0.5645\n",
      "\n",
      "Epoch 00030: val_loss improved from 0.64998 to 0.64800, saving model to LSTM.weights.best.hdf5\n",
      "Epoch 31/100\n",
      " - 75s - loss: 0.5904 - acc: 0.6405 - val_loss: 0.6503 - val_acc: 0.5527\n",
      "\n",
      "Epoch 00031: val_loss did not improve from 0.64800\n",
      "Epoch 32/100\n",
      " - 71s - loss: 0.5894 - acc: 0.6385 - val_loss: 0.6694 - val_acc: 0.5673\n",
      "\n",
      "Epoch 00032: val_loss did not improve from 0.64800\n",
      "Epoch 33/100\n",
      " - 81s - loss: 0.5831 - acc: 0.6582 - val_loss: 0.6676 - val_acc: 0.5573\n",
      "\n",
      "Epoch 00033: val_loss did not improve from 0.64800\n",
      "Epoch 34/100\n",
      " - 132s - loss: 0.5940 - acc: 0.6236 - val_loss: 0.6606 - val_acc: 0.5627\n",
      "\n",
      "Epoch 00034: val_loss did not improve from 0.64800\n",
      "Epoch 35/100\n",
      " - 103s - loss: 0.5778 - acc: 0.6724 - val_loss: 0.6931 - val_acc: 0.5764\n",
      "\n",
      "Epoch 00035: val_loss did not improve from 0.64800\n",
      "Epoch 36/100\n",
      " - 86s - loss: 0.6159 - acc: 0.6395 - val_loss: 0.6651 - val_acc: 0.5664\n",
      "\n",
      "Epoch 00036: val_loss did not improve from 0.64800\n",
      "Epoch 37/100\n",
      " - 69s - loss: 0.6081 - acc: 0.6081 - val_loss: 0.6564 - val_acc: 0.5427\n",
      "\n",
      "Epoch 00037: val_loss did not improve from 0.64800\n",
      "Epoch 38/100\n",
      " - 70s - loss: 0.5810 - acc: 0.6461 - val_loss: 0.6797 - val_acc: 0.5382\n",
      "\n",
      "Epoch 00038: val_loss did not improve from 0.64800\n",
      "Epoch 39/100\n",
      " - 73s - loss: 0.5680 - acc: 0.6577 - val_loss: 0.6928 - val_acc: 0.5491\n",
      "\n",
      "Epoch 00039: val_loss did not improve from 0.64800\n",
      "Epoch 40/100\n",
      " - 79s - loss: 0.5847 - acc: 0.6739 - val_loss: 0.6650 - val_acc: 0.5673\n",
      "\n",
      "Epoch 00040: val_loss did not improve from 0.64800\n",
      "Epoch 41/100\n",
      " - 71s - loss: 0.6164 - acc: 0.6120 - val_loss: 0.6495 - val_acc: 0.5891\n",
      "\n",
      "Epoch 00041: val_loss did not improve from 0.64800\n",
      "Epoch 42/100\n",
      " - 74s - loss: 0.5996 - acc: 0.6171 - val_loss: 0.6706 - val_acc: 0.5318\n",
      "\n",
      "Epoch 00042: val_loss did not improve from 0.64800\n",
      "Epoch 43/100\n",
      " - 74s - loss: 0.5858 - acc: 0.6480 - val_loss: 0.6885 - val_acc: 0.5436\n",
      "\n",
      "Epoch 00043: val_loss did not improve from 0.64800\n",
      "Epoch 44/100\n",
      " - 70s - loss: 0.5584 - acc: 0.6723 - val_loss: 0.6690 - val_acc: 0.5845\n",
      "\n",
      "Epoch 00044: val_loss did not improve from 0.64800\n",
      "Epoch 45/100\n",
      " - 232s - loss: 0.5565 - acc: 0.7023 - val_loss: 0.6734 - val_acc: 0.5645\n",
      "\n",
      "Epoch 00045: val_loss did not improve from 0.64800\n",
      "Epoch 46/100\n",
      " - 135s - loss: 0.5377 - acc: 0.7093 - val_loss: 0.6684 - val_acc: 0.5945\n",
      "\n",
      "Epoch 00046: val_loss did not improve from 0.64800\n",
      "Epoch 47/100\n",
      " - 105s - loss: 0.5295 - acc: 0.7141 - val_loss: 0.7004 - val_acc: 0.5900\n",
      "\n",
      "Epoch 00047: val_loss did not improve from 0.64800\n",
      "Epoch 48/100\n",
      " - 102s - loss: 0.5265 - acc: 0.7152 - val_loss: 0.6795 - val_acc: 0.5891\n",
      "\n",
      "Epoch 00048: val_loss did not improve from 0.64800\n",
      "Epoch 49/100\n",
      " - 70s - loss: 0.5180 - acc: 0.7229 - val_loss: 0.6556 - val_acc: 0.5873\n",
      "\n",
      "Epoch 00049: val_loss did not improve from 0.64800\n",
      "Epoch 50/100\n",
      " - 48s - loss: 0.5635 - acc: 0.6902 - val_loss: 0.6729 - val_acc: 0.5909\n",
      "\n",
      "Epoch 00050: val_loss did not improve from 0.64800\n",
      "Epoch 51/100\n",
      " - 48s - loss: 0.5386 - acc: 0.7083 - val_loss: 0.7156 - val_acc: 0.5673\n",
      "\n",
      "Epoch 00051: val_loss did not improve from 0.64800\n",
      "Epoch 52/100\n",
      " - 47s - loss: 0.5357 - acc: 0.7060 - val_loss: 0.6829 - val_acc: 0.5864\n",
      "\n",
      "Epoch 00052: val_loss did not improve from 0.64800\n",
      "Epoch 53/100\n",
      " - 48s - loss: 0.5137 - acc: 0.7253 - val_loss: 0.6571 - val_acc: 0.5827\n",
      "\n",
      "Epoch 00053: val_loss did not improve from 0.64800\n",
      "Epoch 54/100\n",
      " - 48s - loss: 0.5428 - acc: 0.7026 - val_loss: 0.6919 - val_acc: 0.5709\n",
      "\n",
      "Epoch 00054: val_loss did not improve from 0.64800\n",
      "Epoch 55/100\n",
      " - 45s - loss: 0.5107 - acc: 0.7285 - val_loss: 0.6669 - val_acc: 0.5955\n",
      "\n",
      "Epoch 00055: val_loss did not improve from 0.64800\n",
      "Epoch 56/100\n"
     ]
    },
    {
     "name": "stdout",
     "output_type": "stream",
     "text": [
      " - 46s - loss: 0.5176 - acc: 0.7246 - val_loss: 0.6973 - val_acc: 0.5782\n",
      "\n",
      "Epoch 00056: val_loss did not improve from 0.64800\n",
      "Epoch 57/100\n",
      " - 47s - loss: 0.5047 - acc: 0.7329 - val_loss: 0.6922 - val_acc: 0.5845\n",
      "\n",
      "Epoch 00057: val_loss did not improve from 0.64800\n",
      "Epoch 58/100\n",
      " - 48s - loss: 0.4984 - acc: 0.7328 - val_loss: 0.6619 - val_acc: 0.5891\n",
      "\n",
      "Epoch 00058: val_loss did not improve from 0.64800\n",
      "Epoch 59/100\n",
      " - 50s - loss: 0.5002 - acc: 0.7284 - val_loss: 0.6817 - val_acc: 0.5882\n",
      "\n",
      "Epoch 00059: val_loss did not improve from 0.64800\n",
      "Epoch 60/100\n",
      " - 51s - loss: 0.4990 - acc: 0.7413 - val_loss: 0.6711 - val_acc: 0.5918\n",
      "\n",
      "Epoch 00060: val_loss did not improve from 0.64800\n",
      "Epoch 61/100\n",
      " - 49s - loss: 0.4946 - acc: 0.7411 - val_loss: 0.6733 - val_acc: 0.6009\n",
      "\n",
      "Epoch 00061: val_loss did not improve from 0.64800\n",
      "Epoch 62/100\n",
      " - 48s - loss: 0.5230 - acc: 0.7110 - val_loss: 0.6689 - val_acc: 0.5991\n",
      "\n",
      "Epoch 00062: val_loss did not improve from 0.64800\n",
      "Epoch 63/100\n",
      " - 47s - loss: 0.5099 - acc: 0.7345 - val_loss: 0.7002 - val_acc: 0.5782\n",
      "\n",
      "Epoch 00063: val_loss did not improve from 0.64800\n",
      "Epoch 64/100\n",
      " - 51s - loss: 0.4733 - acc: 0.7545 - val_loss: 0.7664 - val_acc: 0.5845\n",
      "\n",
      "Epoch 00064: val_loss did not improve from 0.64800\n",
      "Epoch 65/100\n",
      " - 47s - loss: 0.4845 - acc: 0.7522 - val_loss: 0.6455 - val_acc: 0.6164\n",
      "\n",
      "Epoch 00065: val_loss improved from 0.64800 to 0.64549, saving model to LSTM.weights.best.hdf5\n",
      "Epoch 66/100\n",
      " - 48s - loss: 0.4690 - acc: 0.7591 - val_loss: 0.6596 - val_acc: 0.6018\n",
      "\n",
      "Epoch 00066: val_loss did not improve from 0.64549\n",
      "Epoch 67/100\n",
      " - 37s - loss: 0.4692 - acc: 0.7613 - val_loss: 0.7129 - val_acc: 0.5882\n",
      "\n",
      "Epoch 00067: val_loss did not improve from 0.64549\n",
      "Epoch 68/100\n",
      " - 43s - loss: 0.4903 - acc: 0.7451 - val_loss: 0.7951 - val_acc: 0.5700\n",
      "\n",
      "Epoch 00068: val_loss did not improve from 0.64549\n",
      "Epoch 69/100\n",
      " - 48s - loss: 0.4649 - acc: 0.7666 - val_loss: 0.6812 - val_acc: 0.6109\n",
      "\n",
      "Epoch 00069: val_loss did not improve from 0.64549\n",
      "Epoch 70/100\n",
      " - 47s - loss: 0.5209 - acc: 0.7245 - val_loss: 0.6483 - val_acc: 0.6145\n",
      "\n",
      "Epoch 00070: val_loss did not improve from 0.64549\n",
      "Epoch 71/100\n",
      " - 40s - loss: 0.4573 - acc: 0.7623 - val_loss: 0.6666 - val_acc: 0.6155\n",
      "\n",
      "Epoch 00071: val_loss did not improve from 0.64549\n",
      "Epoch 72/100\n",
      " - 39s - loss: 0.4693 - acc: 0.7628 - val_loss: 0.6710 - val_acc: 0.6036\n",
      "\n",
      "Epoch 00072: val_loss did not improve from 0.64549\n",
      "Epoch 73/100\n",
      " - 41s - loss: 0.4713 - acc: 0.7580 - val_loss: 0.6832 - val_acc: 0.6227\n",
      "\n",
      "Epoch 00073: val_loss did not improve from 0.64549\n",
      "Epoch 74/100\n",
      " - 40s - loss: 0.4493 - acc: 0.7732 - val_loss: 0.6712 - val_acc: 0.6191\n",
      "\n",
      "Epoch 00074: val_loss did not improve from 0.64549\n",
      "Epoch 75/100\n",
      " - 39s - loss: 0.4611 - acc: 0.7630 - val_loss: 0.6680 - val_acc: 0.6155\n",
      "\n",
      "Epoch 00075: val_loss did not improve from 0.64549\n",
      "Epoch 76/100\n",
      " - 41s - loss: 0.4310 - acc: 0.7865 - val_loss: 0.7138 - val_acc: 0.6136\n",
      "\n",
      "Epoch 00076: val_loss did not improve from 0.64549\n",
      "Epoch 77/100\n",
      " - 48s - loss: 0.4407 - acc: 0.7845 - val_loss: 0.7075 - val_acc: 0.6045\n",
      "\n",
      "Epoch 00077: val_loss did not improve from 0.64549\n",
      "Epoch 78/100\n",
      " - 38s - loss: 0.4560 - acc: 0.7691 - val_loss: 0.7001 - val_acc: 0.5936\n",
      "\n",
      "Epoch 00078: val_loss did not improve from 0.64549\n",
      "Epoch 79/100\n",
      " - 39s - loss: 0.4465 - acc: 0.7722 - val_loss: 0.6886 - val_acc: 0.6100\n",
      "\n",
      "Epoch 00079: val_loss did not improve from 0.64549\n",
      "Epoch 80/100\n",
      " - 50s - loss: 0.4265 - acc: 0.7879 - val_loss: 0.7279 - val_acc: 0.6236\n",
      "\n",
      "Epoch 00080: val_loss did not improve from 0.64549\n",
      "Epoch 81/100\n",
      " - 50s - loss: 0.4296 - acc: 0.7885 - val_loss: 0.6814 - val_acc: 0.6309\n",
      "\n",
      "Epoch 00081: val_loss did not improve from 0.64549\n",
      "Epoch 82/100\n",
      " - 47s - loss: 0.4289 - acc: 0.7877 - val_loss: 0.8037 - val_acc: 0.6227\n",
      "\n",
      "Epoch 00082: val_loss did not improve from 0.64549\n",
      "Epoch 83/100\n",
      " - 49s - loss: 0.4667 - acc: 0.7599 - val_loss: 0.6694 - val_acc: 0.6100\n",
      "\n",
      "Epoch 00083: val_loss did not improve from 0.64549\n",
      "Epoch 84/100\n",
      " - 50s - loss: 0.4399 - acc: 0.7777 - val_loss: 0.7170 - val_acc: 0.6291\n",
      "\n",
      "Epoch 00084: val_loss did not improve from 0.64549\n",
      "Epoch 85/100\n",
      " - 47s - loss: 0.4256 - acc: 0.7891 - val_loss: 0.6788 - val_acc: 0.6373\n",
      "\n",
      "Epoch 00085: val_loss did not improve from 0.64549\n",
      "Epoch 86/100\n",
      " - 48s - loss: 0.4176 - acc: 0.7955 - val_loss: 0.7250 - val_acc: 0.6182\n",
      "\n",
      "Epoch 00086: val_loss did not improve from 0.64549\n",
      "Epoch 87/100\n",
      " - 48s - loss: 0.4542 - acc: 0.7714 - val_loss: 0.6808 - val_acc: 0.6282\n",
      "\n",
      "Epoch 00087: val_loss did not improve from 0.64549\n",
      "Epoch 88/100\n",
      " - 47s - loss: 0.4072 - acc: 0.8007 - val_loss: 0.6973 - val_acc: 0.6427\n",
      "\n",
      "Epoch 00088: val_loss did not improve from 0.64549\n",
      "Epoch 89/100\n",
      " - 47s - loss: 0.3960 - acc: 0.8091 - val_loss: 0.8387 - val_acc: 0.5918\n",
      "\n",
      "Epoch 00089: val_loss did not improve from 0.64549\n",
      "Epoch 90/100\n",
      " - 49s - loss: 0.4592 - acc: 0.7696 - val_loss: 0.6534 - val_acc: 0.6227\n",
      "\n",
      "Epoch 00090: val_loss did not improve from 0.64549\n",
      "Epoch 91/100\n",
      " - 48s - loss: 0.4228 - acc: 0.7925 - val_loss: 0.6769 - val_acc: 0.6182\n",
      "\n",
      "Epoch 00091: val_loss did not improve from 0.64549\n",
      "Epoch 92/100\n",
      " - 56s - loss: 0.4037 - acc: 0.8083 - val_loss: 0.7323 - val_acc: 0.6227\n",
      "\n",
      "Epoch 00092: val_loss did not improve from 0.64549\n",
      "Epoch 93/100\n",
      " - 50s - loss: 0.4169 - acc: 0.7980 - val_loss: 0.7145 - val_acc: 0.6373\n",
      "\n",
      "Epoch 00093: val_loss did not improve from 0.64549\n",
      "Epoch 94/100\n",
      " - 48s - loss: 0.4134 - acc: 0.7983 - val_loss: 0.6411 - val_acc: 0.6700\n",
      "\n",
      "Epoch 00094: val_loss improved from 0.64549 to 0.64111, saving model to LSTM.weights.best.hdf5\n",
      "Epoch 95/100\n",
      " - 48s - loss: 0.3833 - acc: 0.8174 - val_loss: 0.7035 - val_acc: 0.6227\n",
      "\n",
      "Epoch 00095: val_loss did not improve from 0.64111\n",
      "Epoch 96/100\n",
      " - 51s - loss: 0.3988 - acc: 0.8012 - val_loss: 0.7090 - val_acc: 0.6255\n",
      "\n",
      "Epoch 00096: val_loss did not improve from 0.64111\n",
      "Epoch 97/100\n",
      " - 48s - loss: 0.4160 - acc: 0.8002 - val_loss: 0.7087 - val_acc: 0.6409\n",
      "\n",
      "Epoch 00097: val_loss did not improve from 0.64111\n",
      "Epoch 98/100\n",
      " - 49s - loss: 0.3859 - acc: 0.8146 - val_loss: 0.6959 - val_acc: 0.6573\n",
      "\n",
      "Epoch 00098: val_loss did not improve from 0.64111\n",
      "Epoch 99/100\n",
      " - 48s - loss: 0.4351 - acc: 0.7834 - val_loss: 0.6947 - val_acc: 0.6255\n",
      "\n",
      "Epoch 00099: val_loss did not improve from 0.64111\n",
      "Epoch 100/100\n",
      " - 48s - loss: 0.3786 - acc: 0.8222 - val_loss: 0.6800 - val_acc: 0.6609\n",
      "\n",
      "Epoch 00100: val_loss did not improve from 0.64111\n"
     ]
    }
   ],
   "source": [
    "from keras.callbacks import ModelCheckpoint\n",
    "\n",
    "checkpointer = ModelCheckpoint(filepath = 'LSTM.weights.best.hdf5', verbose = 1, save_best_only = True)\n",
    "hist = model3.fit(X_train, y_train, epochs = 100, batch_size=256, validation_split = 0.1, callbacks = [checkpointer], verbose = 2, shuffle = True)"
   ]
  },
  {
   "cell_type": "code",
   "execution_count": 47,
   "metadata": {
    "colab": {
     "autoexec": {
      "startup": false,
      "wait_interval": 0
     },
     "base_uri": "https://localhost:8080/",
     "height": 54
    },
    "colab_type": "code",
    "executionInfo": {
     "elapsed": 3253,
     "status": "ok",
     "timestamp": 1528838971145,
     "user": {
      "displayName": "SHUBHAM VERMA",
      "photoUrl": "https://lh3.googleusercontent.com/a/default-user=s128",
      "userId": "108363614808362191748"
     },
     "user_tz": -330
    },
    "id": "BJNcF-Jx_rGD",
    "outputId": "1e48a9ea-72d5-43c8-a843-18f2c778d431"
   },
   "outputs": [
    {
     "name": "stdout",
     "output_type": "stream",
     "text": [
      "3980/3980 [==============================] - 12s 3ms/step\n",
      "Accuracy:  0.6648241206030151\n"
     ]
    }
   ],
   "source": [
    "score = model3.evaluate(X_test, y_test, verbose=1)\n",
    "print(\"Accuracy: \", score[1])"
   ]
  },
  {
   "cell_type": "code",
   "execution_count": 48,
   "metadata": {
    "colab": {
     "autoexec": {
      "startup": false,
      "wait_interval": 0
     }
    },
    "colab_type": "code",
    "id": "sUM5b7oW_qvZ"
   },
   "outputs": [],
   "source": [
    "predict4 =  [1 if a>0.5 else 0 for a in model3.predict(X_test)]\n"
   ]
  },
  {
   "cell_type": "markdown",
   "metadata": {
    "colab_type": "text",
    "id": "w7rvEI-nWMUY"
   },
   "source": [
    "### Performance"
   ]
  },
  {
   "cell_type": "code",
   "execution_count": 49,
   "metadata": {
    "colab": {
     "autoexec": {
      "startup": false,
      "wait_interval": 0
     },
     "base_uri": "https://localhost:8080/",
     "height": 91
    },
    "colab_type": "code",
    "executionInfo": {
     "elapsed": 984,
     "status": "ok",
     "timestamp": 1528839038465,
     "user": {
      "displayName": "SHUBHAM VERMA",
      "photoUrl": "https://lh3.googleusercontent.com/a/default-user=s128",
      "userId": "108363614808362191748"
     },
     "user_tz": -330
    },
    "id": "36JspPsyZkzb",
    "outputId": "f2d84cb6-c371-4f5a-8f16-ac0363257a8e"
   },
   "outputs": [
    {
     "name": "stdout",
     "output_type": "stream",
     "text": [
      "Accuracy = 0.6648241206030151\n",
      "Precision = 0.6776050662061025\n",
      "Recall = 0.6032803690415172\n",
      "F1 Score = 0.6382863340563991\n"
     ]
    }
   ],
   "source": [
    "#print(\"Accuracy = {}\\nPrecision = {}\\nRecall = {}\\nF1 Score = {}\".format(metrics.accuracy_score(y_test, predict4), metrics.precision_score(y_test, predict4),metrics.recall_score(y_test, predict4),metrics.f1_score(y_test, predict4)))\n",
    "print(\"Accuracy = {}\\nPrecision = {}\\nRecall = {}\\nF1 Score = {}\".format(metrics.accuracy_score(y_test, predict4), metrics.precision_score(y_test, predict4),metrics.recall_score(y_test, predict4),metrics.f1_score(y_test, predict4)))\n",
    "score_p.append([metrics.accuracy_score(y_test, predict4), metrics.precision_score(y_test, predict4),metrics.recall_score(y_test, predict4),metrics.f1_score(y_test, predict4)])"
   ]
  },
  {
   "cell_type": "code",
   "execution_count": null,
   "metadata": {
    "colab": {
     "autoexec": {
      "startup": false,
      "wait_interval": 0
     }
    },
    "colab_type": "code",
    "id": "-1A_bedbZo_G"
   },
   "outputs": [],
   "source": []
  },
  {
   "cell_type": "markdown",
   "metadata": {
    "colab_type": "text",
    "id": "UIwPKYoN5H4j"
   },
   "source": [
    "# Improved LSTM (Tuning Parameter)"
   ]
  },
  {
   "cell_type": "code",
   "execution_count": 50,
   "metadata": {
    "colab": {
     "autoexec": {
      "startup": false,
      "wait_interval": 0
     },
     "base_uri": "https://localhost:8080/",
     "height": 258
    },
    "colab_type": "code",
    "executionInfo": {
     "elapsed": 2295,
     "status": "ok",
     "timestamp": 1528839050515,
     "user": {
      "displayName": "SHUBHAM VERMA",
      "photoUrl": "https://lh3.googleusercontent.com/a/default-user=s128",
      "userId": "108363614808362191748"
     },
     "user_tz": -330
    },
    "id": "OG1XXkwD5IfU",
    "outputId": "5d447fd4-7b3d-4160-fa36-b8789e6e70ca"
   },
   "outputs": [],
   "source": [
    "#model4 = Sequential()\n",
    "#model4.add(CuDNNLSTM(units=512, input_shape=(14, 1), return_sequences=True))\n",
    "#model4.add(CuDNNLSTM(units=512))\n",
    "#model4.add(Dense(1, activation='sigmoid'))\n",
    "#model4.summary()"
   ]
  },
  {
   "cell_type": "code",
   "execution_count": 51,
   "metadata": {
    "colab": {
     "autoexec": {
      "startup": false,
      "wait_interval": 0
     },
     "base_uri": "https://localhost:8080/",
     "height": 258
    },
    "colab_type": "code",
    "executionInfo": {
     "elapsed": 959,
     "status": "ok",
     "timestamp": 1528839054269,
     "user": {
      "displayName": "SHUBHAM VERMA",
      "photoUrl": "https://lh3.googleusercontent.com/a/default-user=s128",
      "userId": "108363614808362191748"
     },
     "user_tz": -330
    },
    "id": "SpKkcLWf7Gnr",
    "outputId": "fbb573ca-0fd7-4a07-ebf7-27a5e1dc9e72"
   },
   "outputs": [],
   "source": [
    "#model4.compile(loss='binary_crossentropy', optimizer='adam', metrics=['accuracy'])\n",
    "#model4.summary()"
   ]
  },
  {
   "cell_type": "code",
   "execution_count": 52,
   "metadata": {
    "colab": {
     "autoexec": {
      "startup": false,
      "wait_interval": 0
     },
     "base_uri": "https://localhost:8080/",
     "height": 22336
    },
    "colab_type": "code",
    "executionInfo": {
     "elapsed": 525189,
     "status": "ok",
     "timestamp": 1528839584099,
     "user": {
      "displayName": "SHUBHAM VERMA",
      "photoUrl": "https://lh3.googleusercontent.com/a/default-user=s128",
      "userId": "108363614808362191748"
     },
     "user_tz": -330
    },
    "id": "qkVbrRz-7WaH",
    "outputId": "4ec3b388-49c2-4dda-cf4c-56070ed174db"
   },
   "outputs": [],
   "source": [
    "#from keras.callbacks import ModelCheckpoint\n",
    "#from tensorflow.contrib.rnn import *\n",
    "\n",
    "#checkpointer = ModelCheckpoint(filepath = 'LSTM_new.weights.best.hdf5', verbose = 1, save_best_only = True)\n",
    "#hist = model4.fit(X_train, y_train, epochs = 300, batch_size= 512, validation_split = 0.1, callbacks = [checkpointer], verbose = 2, shuffle = True)"
   ]
  },
  {
   "cell_type": "code",
   "execution_count": 53,
   "metadata": {
    "colab": {
     "autoexec": {
      "startup": false,
      "wait_interval": 0
     },
     "base_uri": "https://localhost:8080/",
     "height": 54
    },
    "colab_type": "code",
    "executionInfo": {
     "elapsed": 1870,
     "status": "ok",
     "timestamp": 1528839612276,
     "user": {
      "displayName": "SHUBHAM VERMA",
      "photoUrl": "https://lh3.googleusercontent.com/a/default-user=s128",
      "userId": "108363614808362191748"
     },
     "user_tz": -330
    },
    "id": "JQugXwes_aIR",
    "outputId": "934c2289-2e6a-4b99-da80-6ddeda6e442c"
   },
   "outputs": [],
   "source": [
    "#score = model4.evaluate(X_test, y_test, verbose=1)\n",
    "#print(\"Accuracy: \", score[1])"
   ]
  },
  {
   "cell_type": "code",
   "execution_count": 54,
   "metadata": {
    "colab": {
     "autoexec": {
      "startup": false,
      "wait_interval": 0
     }
    },
    "colab_type": "code",
    "id": "UVV2ZFc-EcB-"
   },
   "outputs": [],
   "source": [
    "#predict5 =  [1 if a>0.5 else 0 for a in model4.predict(X_test)]"
   ]
  },
  {
   "cell_type": "code",
   "execution_count": 55,
   "metadata": {
    "colab": {
     "autoexec": {
      "startup": false,
      "wait_interval": 0
     },
     "base_uri": "https://localhost:8080/",
     "height": 91
    },
    "colab_type": "code",
    "executionInfo": {
     "elapsed": 941,
     "status": "ok",
     "timestamp": 1528839807810,
     "user": {
      "displayName": "SHUBHAM VERMA",
      "photoUrl": "https://lh3.googleusercontent.com/a/default-user=s128",
      "userId": "108363614808362191748"
     },
     "user_tz": -330
    },
    "id": "xdUgnqHrDeog",
    "outputId": "17343632-1328-4401-ebfb-f82a7a51fbc0"
   },
   "outputs": [],
   "source": [
    "#print(\"Accuracy = {}\\nPrecision = {}\\nRecall = {}\\nF1 Score = {}\".format(metrics.accuracy_score(y_test, predict5), metrics.precision_score(y_test, predict5),metrics.recall_score(y_test, predict5),metrics.f1_score(y_test, predict5)))\n",
    "#score_p.append([metrics.accuracy_score(y_test, predict5), metrics.precision_score(y_test, predict5),metrics.recall_score(y_test, predict5),metrics.f1_score(y_test, predict5)])"
   ]
  },
  {
   "cell_type": "code",
   "execution_count": 56,
   "metadata": {
    "colab": {
     "autoexec": {
      "startup": false,
      "wait_interval": 0
     },
     "base_uri": "https://localhost:8080/",
     "height": 433
    },
    "colab_type": "code",
    "executionInfo": {
     "elapsed": 1654,
     "status": "ok",
     "timestamp": 1528840923415,
     "user": {
      "displayName": "SHUBHAM VERMA",
      "photoUrl": "https://lh3.googleusercontent.com/a/default-user=s128",
      "userId": "108363614808362191748"
     },
     "user_tz": -330
    },
    "id": "1DdDgA0tBBaA",
    "outputId": "dc119fd8-07e2-4426-cbb7-d90d6bbe89bd"
   },
   "outputs": [],
   "source": [
    "#plt.plot(hist.history['loss'], label = 'train')\n",
    "#plt.plot(hist.history['val_loss'], label = 'valid')\n",
    "#plt.legend()\n",
    "#plt.show()"
   ]
  },
  {
   "cell_type": "markdown",
   "metadata": {
    "colab_type": "text",
    "id": "abJ6a5A5WQsw"
   },
   "source": [
    "# Conclusion"
   ]
  },
  {
   "cell_type": "markdown",
   "metadata": {
    "colab_type": "text",
    "id": "_ynCq160WxHd"
   },
   "source": [
    "## Ploting the results"
   ]
  },
  {
   "cell_type": "code",
   "execution_count": 57,
   "metadata": {
    "colab": {
     "autoexec": {
      "startup": false,
      "wait_interval": 0
     },
     "base_uri": "https://localhost:8080/",
     "height": 555
    },
    "colab_type": "code",
    "executionInfo": {
     "elapsed": 1318,
     "status": "ok",
     "timestamp": 1528839815479,
     "user": {
      "displayName": "SHUBHAM VERMA",
      "photoUrl": "https://lh3.googleusercontent.com/a/default-user=s128",
      "userId": "108363614808362191748"
     },
     "user_tz": -330
    },
    "id": "fqXg8759Wy4c",
    "outputId": "77825d5f-3b6b-4d55-8bd6-cacb7325f2fe"
   },
   "outputs": [
    {
     "data": {
      "image/png": "[encoded data removed]",
      "text/plain": [
       "<Figure size 640x480 with 1 Axes>"
      ]
     },
     "metadata": {},
     "output_type": "display_data"
    }
   ],
   "source": [
    "#For plotting the results code is copied from Udacity Finding Donors for Charity ML Project\n",
    "\n",
    "\n",
    "import matplotlib.pyplot as plt; plt.rcdefaults()\n",
    "import numpy as np\n",
    "import matplotlib.pyplot as plt\n",
    "import matplotlib.patches as mpatches\n",
    "\n",
    "objects = ['Accuracy score', 'Precision score', 'Recall score', 'F1 score']\n",
    "w =  0.15\n",
    "y_pos = np.arange(len(objects))\n",
    "\n",
    "color = ['#A00000','#00A0A0','#00A000', '#FFFF00']\n",
    "s = 0\n",
    "for i in range(len(score_p)):\n",
    "    plt.bar(y_pos+s, score_p[i], color = color[i], width = w )\n",
    "    s += w\n",
    "    \n",
    "plt.xticks(y_pos + 0.22, objects)\n",
    "plt.ylabel('Scores')\n",
    "plt.title('Performance')\n",
    "plt.suptitle(\"Performance Metrics for Models\", fontsize = 16, y = 1.10)\n",
    "\n",
    "p = ['SVM',  'Logistic Regression', 'Neural Network', 'LSTM']\n",
    "\n",
    "patches = []\n",
    "\n",
    "for k in range(len(p)):\n",
    "    patches.append(mpatches.Patch(color = color[k], label = p[k]))\n",
    "\n",
    "plt.legend(handles = patches, bbox_to_anchor = (0.5, 1.19),loc = 'upper center', borderaxespad = 0., ncol = 4, fontsize = 'x-large')\n",
    "\n",
    "plt.show();"
   ]
  },
  {
   "cell_type": "code",
   "execution_count": null,
   "metadata": {
    "colab": {
     "autoexec": {
      "startup": false,
      "wait_interval": 0
     }
    },
    "colab_type": "code",
    "id": "ZQLo40OUYRtr"
   },
   "outputs": [],
   "source": []
  },
  {
   "cell_type": "code",
   "execution_count": null,
   "metadata": {},
   "outputs": [],
   "source": []
  },
  {
   "cell_type": "code",
   "execution_count": null,
   "metadata": {},
   "outputs": [],
   "source": []
  }
 ],
 "metadata": {
  "accelerator": "GPU",
  "colab": {
   "collapsed_sections": [],
   "default_view": {},
   "name": "Capstone.ipynb",
   "provenance": [],
   "version": "0.3.2",
   "views": {}
  },
  "kernelspec": {
   "display_name": "Python 3",
   "language": "python",
   "name": "python3"
  },
  "language_info": {
   "codemirror_mode": {
    "name": "ipython",
    "version": 3
   },
   "file_extension": ".py",
   "mimetype": "text/x-python",
   "name": "python",
   "nbconvert_exporter": "python",
   "pygments_lexer": "ipython3",
   "version": "3.5.2"
  }
 },
 "nbformat": 4,
 "nbformat_minor": 1
}

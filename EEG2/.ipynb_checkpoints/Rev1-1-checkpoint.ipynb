{
 "cells": [
  {
   "cell_type": "code",
   "execution_count": 3,
   "metadata": {},
   "outputs": [],
   "source": [
    "from eeg_learn_functions import *"
   ]
  },
  {
   "cell_type": "code",
   "execution_count": 4,
   "metadata": {},
   "outputs": [
    {
     "data": {
      "text/html": [
       "<style>.container { width:100% !important; }</style>"
      ],
      "text/plain": [
       "<IPython.core.display.HTML object>"
      ]
     },
     "metadata": {},
     "output_type": "display_data"
    }
   ],
   "source": [
    "import pandas as pd\n",
    "import numpy as np\n",
    "import matplotlib.pyplot as plt\n",
    "import seaborn as sns\n",
    "import scipy.stats as scs\n",
    "import re\n",
    "from numpy import genfromtxt\n",
    "\n",
    "%matplotlib inline\n",
    "plt.style.use('ggplot')\n",
    "from IPython.core.display import display, HTML\n",
    "display(HTML(\"<style>.container { width:100% !important; }</style>\"))\n",
    "plt.rcParams[\"figure.figsize\"] = (12,12)\n",
    "pd.options.display.max_columns = None\n",
    "pd.options.display.precision = 4"
   ]
  },
  {
   "cell_type": "markdown",
   "metadata": {},
   "source": [
    "## Brainwave Frequencies:\n",
    "Gamma, 30 to 50 Hz.  \n",
    "Beta, 14 to 30 Hz.  \n",
    "Alpha, 8 to 14 Hz.  \n",
    "Theta, 4 to 8 Hz.  \n",
    "Delta, 0.1 to 4 Hz.  "
   ]
  },
  {
   "cell_type": "markdown",
   "metadata": {},
   "source": [
    "## Changing Bin Size: \n",
    "https://stackoverflow.com/questions/25735153/plotting-a-fast-fourier-transform-in-python  \n",
    "(Search for 'bin')"
   ]
  },
  {
   "cell_type": "markdown",
   "metadata": {},
   "source": [
    "An EEG processing library:  \n",
    "https://github.com/pbashivan/EEGLearn"
   ]
  },
  {
   "cell_type": "code",
   "execution_count": 5,
   "metadata": {},
   "outputs": [],
   "source": [
    "theta = (4,8)\n",
    "alpha = (8,12)\n",
    "beta = (12,40)"
   ]
  },
  {
   "cell_type": "code",
   "execution_count": 6,
   "metadata": {},
   "outputs": [],
   "source": [
    "def get_fft(snippet):\n",
    "    Fs = 128.0;  # sampling rate\n",
    "    #Ts = len(snippet)/Fs/Fs; # sampling interval\n",
    "    snippet_time = len(snippet)/Fs\n",
    "    Ts = 1.0/Fs; # sampling interval\n",
    "    t = np.arange(0,snippet_time,Ts) # time vector\n",
    "\n",
    "    # ff = 5;   # frequency of the signal\n",
    "    # y = np.sin(2*np.pi*ff*t)\n",
    "    y = snippet\n",
    "#     print('Ts: ',Ts)\n",
    "#     print(t)\n",
    "#     print(y.shape)\n",
    "    n = len(y) # length of the signal\n",
    "    k = np.arange(n)\n",
    "    T = n/Fs\n",
    "    frq = k/T # two sides frequency range\n",
    "    frq = frq[range(n//2)] # one side frequency range\n",
    "\n",
    "    Y = np.fft.fft(y)/n # fft computing and normalization\n",
    "    Y = Y[range(n//2)]\n",
    "    #Added in: (To remove bias.)\n",
    "    #Y[0] = 0\n",
    "    return frq,abs(Y)\n",
    "#f,Y = get_fft(np.hanning(len(snippet))*snippet)"
   ]
  },
  {
   "cell_type": "code",
   "execution_count": 7,
   "metadata": {},
   "outputs": [],
   "source": [
    "def theta_alpha_beta_averages(f,Y):\n",
    "    theta_range = (4,8)\n",
    "    alpha_range = (8,12)\n",
    "    beta_range = (12,40)\n",
    "    theta = Y[(f>theta_range[0]) & (f<=theta_range[1])].mean()\n",
    "    alpha = Y[(f>alpha_range[0]) & (f<=alpha_range[1])].mean()\n",
    "    beta = Y[(f>beta_range[0]) & (f<=beta_range[1])].mean()\n",
    "    return theta, alpha, beta"
   ]
  },
  {
   "cell_type": "code",
   "execution_count": 8,
   "metadata": {},
   "outputs": [],
   "source": [
    "def make_steps(samples,frame_duration,overlap):\n",
    "    '''\n",
    "    in:\n",
    "    samples - number of samples in the session\n",
    "    frame_duration - frame duration in seconds \n",
    "    overlap - float fraction of frame to overlap in range (0,1)\n",
    "    \n",
    "    out: list of tuple ranges\n",
    "    '''\n",
    "    #steps = np.arange(0,len(df),frame_length)\n",
    "    Fs = 128\n",
    "    i = 0\n",
    "    intervals = []\n",
    "    samples_per_frame = Fs * frame_duration\n",
    "    while i+samples_per_frame <= samples:\n",
    "        intervals.append((i,i+samples_per_frame))\n",
    "        i = i + samples_per_frame - int(samples_per_frame*overlap)\n",
    "    return intervals"
   ]
  },
  {
   "cell_type": "code",
   "execution_count": 9,
   "metadata": {},
   "outputs": [],
   "source": [
    "def make_frames(df,frame_duration):\n",
    "    '''\n",
    "    in: dataframe or array with all channels, frame duration in seconds\n",
    "    out: array of theta, alpha, beta averages for each probe for each time step\n",
    "        shape: (n-frames,m-probes,k-brainwave bands)\n",
    "    '''\n",
    "    Fs = 128.0\n",
    "    frame_length = Fs*frame_duration\n",
    "    frames = []\n",
    "    steps = make_steps(len(df),frame_duration,overlap)\n",
    "    for i,_ in enumerate(steps):\n",
    "        frame = []\n",
    "        if i == 0:\n",
    "            continue\n",
    "        else:\n",
    "            for channel in df.columns:\n",
    "                snippet = np.array(df.loc[steps[i][0]:steps[i][1],int(channel)])\n",
    "                f,Y =  get_fft(snippet)\n",
    "                theta, alpha, beta = theta_alpha_beta_averages(f,Y)\n",
    "                frame.append([theta, alpha, beta])\n",
    "            \n",
    "        frames.append(frame)\n",
    "    return np.array(frames)"
   ]
  },
  {
   "cell_type": "code",
   "execution_count": 10,
   "metadata": {},
   "outputs": [],
   "source": [
    "locs_2d = [(-2.0,4.0),\n",
    "           (2.0,4.0),\n",
    "           (-1.0,3.0),\n",
    "           (1.0,3.0),\n",
    "           (-3.0,3.0),\n",
    "           (3.0,3.0),\n",
    "           (-2.0,2.0),\n",
    "           (2.0,2.0),\n",
    "           (-2.0,-2.0),\n",
    "           (2.0,-2.0),\n",
    "           (-4.0,1.0),\n",
    "           (4.0,1.0),\n",
    "           (-1.0,-3.0),\n",
    "           (1.0,-3.0)]"
   ]
  },
  {
   "cell_type": "code",
   "execution_count": 11,
   "metadata": {},
   "outputs": [],
   "source": [
    "def make_data_pipeline(file_names,labels,image_size,frame_duration,overlap):\n",
    "    '''\n",
    "    IN: \n",
    "    file_names - list of strings for each input file (one for each subject)\n",
    "    labels - list of labels for each\n",
    "    image_size - int size of output images in form (x, x)\n",
    "    frame_duration - time length of each frame (seconds)\n",
    "    overlap - float fraction of frame to overlap in range (0,1)\n",
    "    \n",
    "    OUT:\n",
    "    X: np array of frames (unshuffled)\n",
    "    y: np array of label for each frame (1 or 0)\n",
    "    '''\n",
    "    ##################################\n",
    "    ###Still need to do the overlap###!!!\n",
    "    ##################################\n",
    "    \n",
    "    Fs = 128.0   #sampling rate\n",
    "    frame_length = Fs * frame_duration\n",
    "    \n",
    "    print('Generating training data...')\n",
    "    \n",
    "    \n",
    "    for i, file in enumerate(file_names):\n",
    "        print ('Processing session: ',file, '. (',i+1,' of ',len(file_names),')')\n",
    "        data = genfromtxt(file, delimiter=',').T\n",
    "        df = pd.DataFrame(data)\n",
    "        \n",
    "        X_0 = make_frames(df,frame_duration)\n",
    "        #steps = np.arange(0,len(df),frame_length)\n",
    "        X_1 = X_0.reshape(len(X_0),14*3)\n",
    "        \n",
    "        images = gen_images(np.array(locs_2d),X_1, image_size, normalize=False)\n",
    "        images = np.swapaxes(images, 1, 3) \n",
    "        print(len(images), ' frames generated with label ', labels[i], '.')\n",
    "        print('\\n')\n",
    "        if i == 0:\n",
    "            X = images\n",
    "            y = np.ones(len(images))*labels[0]\n",
    "        else:\n",
    "            X = np.concatenate((X,images),axis = 0)\n",
    "            y = np.concatenate((y,np.ones(len(images))*labels[i]),axis = 0)\n",
    "        \n",
    "        \n",
    "    return X,np.array(y)"
   ]
  },
  {
   "cell_type": "code",
   "execution_count": 12,
   "metadata": {
    "scrolled": false
   },
   "outputs": [
    {
     "name": "stdout",
     "output_type": "stream",
     "text": [
      "Generating training data...\n",
      "Processing session:  data/ML101_KS.csv . ( 1  of  16 )\n",
      "234  frames generated with label  1 .234Interpolating 48/234Interpolating 72/234Interpolating 89/234Interpolating 104/234Interpolating 119/234Interpolating 135/234Interpolating 155/234Interpolating 193/234Interpolating 210/234Interpolating 220/234Interpolating 227/234Interpolating 233/234\n",
      "\n",
      "\n",
      "Processing session:  data/ML101_US.csv . ( 2  of  16 )\n",
      "224  frames generated with label  0 .224Interpolating 47/224Interpolating 66/224Interpolating 89/224Interpolating 116/224Interpolating 142/224Interpolating 163/224Interpolating 172/224Interpolating 189/224Interpolating 208/224Interpolating 222/224\n",
      "\n",
      "\n",
      "Processing session:  data/ML102_KS.csv . ( 3  of  16 )\n",
      "222  frames generated with label  1 .222Interpolating 31/222Interpolating 46/222Interpolating 62/222Interpolating 87/222Interpolating 104/222Interpolating 128/222Interpolating 145/222Interpolating 159/222Interpolating 174/222Interpolating 196/222Interpolating 209/222\n",
      "\n",
      "\n",
      "Processing session:  data/ML102_US.csv . ( 4  of  16 )\n",
      "218  frames generated with label  0 .218Interpolating 42/218Interpolating 64/218Interpolating 87/218Interpolating 131/218Interpolating 149/218Interpolating 170/218Interpolating 186/218Interpolating 205/218\n",
      "\n",
      "\n",
      "Processing session:  data/ML103_KS.csv . ( 5  of  16 )\n",
      "226  frames generated with label  1 .226Interpolating 43/226Interpolating 69/226Interpolating 92/226Interpolating 120/226Interpolating 140/226Interpolating 167/226Interpolating 192/226Interpolating 216/226\n",
      "\n",
      "\n",
      "Processing session:  data/ML103_US.csv . ( 6  of  16 )\n",
      "208  frames generated with label  0 .208Interpolating 31/208Interpolating 40/208Interpolating 52/208Interpolating 69/208Interpolating 86/208Interpolating 103/208Interpolating 120/208Interpolating 142/208Interpolating 168/208Interpolating 192/208\n",
      "\n",
      "\n",
      "Processing session:  data/ML104_KS.csv . ( 7  of  16 )\n",
      "202  frames generated with label  1 .202Interpolating 47/202Interpolating 66/202Interpolating 83/202Interpolating 100/202Interpolating 124/202Interpolating 144/202Interpolating 157/202Interpolating 181/202\n",
      "\n",
      "\n",
      "Processing session:  data/ML104_US.csv . ( 8  of  16 )\n",
      "204  frames generated with label  0 .204Interpolating 61/204Interpolating 87/204Interpolating 110/204Interpolating 136/204Interpolating 167/204Interpolating 195/204\n",
      "\n",
      "\n",
      "Processing session:  data/ML105_KS.csv . ( 9  of  16 )\n",
      "214  frames generated with label  1 .214Interpolating 47/214Interpolating 72/214Interpolating 100/214Interpolating 129/214Interpolating 152/214Interpolating 179/214Interpolating 205/214\n",
      "\n",
      "\n",
      "Processing session:  data/ML105_US.csv . ( 10  of  16 )\n",
      "226  frames generated with label  0 .226Interpolating 55/226Interpolating 71/226Interpolating 87/226Interpolating 109/226Interpolating 133/226Interpolating 160/226Interpolating 175/226Interpolating 192/226Interpolating 213/226\n",
      "\n",
      "\n",
      "Processing session:  data/ML106_KS.csv . ( 11  of  16 )\n",
      "230  frames generated with label  1 .230Interpolating 42/230Interpolating 62/230Interpolating 90/230Interpolating 118/230Interpolating 145/230Interpolating 175/230Interpolating 201/230Interpolating 226/230\n",
      "\n",
      "\n",
      "Processing session:  data/ML106_US.csv . ( 12  of  16 )\n",
      "278  frames generated with label  0 .278Interpolating 32/278Interpolating 51/278Interpolating 65/278Interpolating 83/278Interpolating 109/278Interpolating 139/278Interpolating 169/278Interpolating 199/278Interpolating 224/278Interpolating 254/278\n",
      "\n",
      "\n",
      "Processing session:  data/ML107_KS.csv . ( 13  of  16 )\n",
      "246  frames generated with label  1 .246Interpolating 35/246Interpolating 52/246Interpolating 81/246Interpolating 102/246Interpolating 123/246Interpolating 143/246Interpolating 159/246Interpolating 172/246Interpolating 192/246Interpolating 212/246Interpolating 235/246\n",
      "\n",
      "\n",
      "Processing session:  data/ML107_US.csv . ( 14  of  16 )\n",
      "236  frames generated with label  0 .236Interpolating 96/236Interpolating 120/236Interpolating 145/236Interpolating 171/236Interpolating 194/236Interpolating 220/236\n",
      "\n",
      "\n",
      "Processing session:  data/ML108_KS.csv . ( 15  of  16 )\n",
      "240  frames generated with label  1 .240Interpolating 45/240Interpolating 67/240Interpolating 85/240Interpolating 104/240Interpolating 123/240Interpolating 144/240Interpolating 162/240Interpolating 170/240Interpolating 180/240Interpolating 194/240Interpolating 213/240\n",
      "\n",
      "\n",
      "Processing session:  data/ML108_US.csv . ( 16  of  16 )\n",
      "234  frames generated with label  0 .234Interpolating 49/234Interpolating 76/234Interpolating 98/234Interpolating 126/234Interpolating 152/234Interpolating 178/234Interpolating 199/234Interpolating 210/234Interpolating 233/234\n",
      "\n",
      "\n"
     ]
    }
   ],
   "source": [
    "file_names = ['data/ML101_KS.csv',\n",
    "              'data/ML101_US.csv',\n",
    "              'data/ML102_KS.csv',\n",
    "              'data/ML102_US.csv',\n",
    "              'data/ML103_KS.csv',\n",
    "              'data/ML103_US.csv',\n",
    "              'data/ML104_KS.csv',\n",
    "              'data/ML104_US.csv',\n",
    "              'data/ML105_KS.csv',\n",
    "              'data/ML105_US.csv',\n",
    "              'data/ML106_KS.csv',\n",
    "              'data/ML106_US.csv',\n",
    "              'data/ML107_KS.csv',\n",
    "              'data/ML107_US.csv',\n",
    "              'data/ML108_KS.csv',\n",
    "              'data/ML108_US.csv']\n",
    "labels = [1,0,1,0,1,0,1,0,1,0,1,0,1,0,1,0]\n",
    "image_size = 28\n",
    "frame_duration = 1.0\n",
    "overlap = 0.5\n",
    "X, y = make_data_pipeline(file_names,labels,image_size,frame_duration,overlap)"
   ]
  },
  {
   "cell_type": "code",
   "execution_count": 13,
   "metadata": {},
   "outputs": [
    {
     "data": {
      "text/plain": [
       "(3642, 28, 28, 3)"
      ]
     },
     "execution_count": 13,
     "metadata": {},
     "output_type": "execute_result"
    }
   ],
   "source": [
    "X.shape"
   ]
  },
  {
   "cell_type": "code",
   "execution_count": 12,
   "metadata": {},
   "outputs": [
    {
     "data": {
      "text/plain": [
       "(3642,)"
      ]
     },
     "execution_count": 12,
     "metadata": {},
     "output_type": "execute_result"
    }
   ],
   "source": [
    "y.shape"
   ]
  },
  {
   "cell_type": "code",
   "execution_count": 14,
   "metadata": {},
   "outputs": [
    {
     "name": "stderr",
     "output_type": "stream",
     "text": [
      "Clipping input data to the valid range for imshow with RGB data ([0..1] for floats or [0..255] for integers).\n"
     ]
    },
    {
     "data": {
      "image/png": "[encoded data removed]",
      "text/plain": [
       "<Figure size 432x288 with 1 Axes>"
      ]
     },
     "metadata": {
      "needs_background": "light"
     },
     "output_type": "display_data"
    }
   ],
   "source": [
    "import matplotlib.pyplot as plt\n",
    "%matplotlib inline\n",
    "plt.imshow(X[0]);"
   ]
  },
  {
   "cell_type": "code",
   "execution_count": 15,
   "metadata": {},
   "outputs": [
    {
     "name": "stderr",
     "output_type": "stream",
     "text": [
      "Clipping input data to the valid range for imshow with RGB data ([0..1] for floats or [0..255] for integers).\n",
      "Clipping input data to the valid range for imshow with RGB data ([0..1] for floats or [0..255] for integers).\n",
      "Clipping input data to the valid range for imshow with RGB data ([0..1] for floats or [0..255] for integers).\n",
      "Clipping input data to the valid range for imshow with RGB data ([0..1] for floats or [0..255] for integers).\n"
     ]
    },
    {
     "data": {
      "text/plain": [
       "''"
      ]
     },
     "execution_count": 15,
     "metadata": {},
     "output_type": "execute_result"
    },
    {
     "data": {
      "image/png": "[encoded data removed]",
      "text/plain": [
       "<Figure size 576x576 with 4 Axes>"
      ]
     },
     "metadata": {
      "needs_background": "light"
     },
     "output_type": "display_data"
    }
   ],
   "source": [
    "# Two subplots, the axes array is 1-d\n",
    "f, axarr = plt.subplots(2,2, figsize = (8,8))\n",
    "axarr[0][0].set_title('Known Skill')\n",
    "axarr[0][0].imshow(X[0])\n",
    "axarr[1][0].imshow(X[1])\n",
    "\n",
    "axarr[0][1].set_title('Unknown Skill')\n",
    "axarr[0][1].imshow(X[20])\n",
    "axarr[1][1].imshow(X[21])\n",
    "\n",
    ";"
   ]
  },
  {
   "cell_type": "code",
   "execution_count": 16,
   "metadata": {},
   "outputs": [],
   "source": [
    "from sklearn.model_selection import train_test_split\n",
    "x_train, x_test, y_train, y_test = train_test_split(X, y, test_size=0.20,shuffle=True)"
   ]
  },
  {
   "cell_type": "code",
   "execution_count": 16,
   "metadata": {},
   "outputs": [
    {
     "data": {
      "text/plain": [
       "(2913,)"
      ]
     },
     "execution_count": 16,
     "metadata": {},
     "output_type": "execute_result"
    }
   ],
   "source": [
    "y_train.shape"
   ]
  },
  {
   "cell_type": "code",
   "execution_count": 17,
   "metadata": {},
   "outputs": [
    {
     "name": "stdout",
     "output_type": "stream",
     "text": [
      "x_train shape: (2913, 28, 28, 3)\n",
      "2913 train samples\n",
      "729 test samples\n"
     ]
    }
   ],
   "source": [
    "# input image dimensions\n",
    "img_rows, img_cols = 28, 28\n",
    "\n",
    "x_train = x_train.astype('float32')\n",
    "x_test = x_test.astype('float32')\n",
    "#x_train /= 255\n",
    "#x_test /= 255\n",
    "print('x_train shape:', x_train.shape)\n",
    "print(x_train.shape[0], 'train samples')\n",
    "print(x_test.shape[0], 'test samples')\n",
    "\n",
    "input_shape = (img_rows, img_cols, 3)"
   ]
  },
  {
   "cell_type": "code",
   "execution_count": 18,
   "metadata": {
    "scrolled": false
   },
   "outputs": [],
   "source": [
    "import keras\n",
    "from keras.models import Sequential\n",
    "from keras.layers import Dense, Dropout, Activation, Flatten\n",
    "from keras.layers import Conv2D, MaxPooling2D\n",
    "\n",
    "batch_size = 128\n",
    "num_classes = 2\n",
    "epochs = 250\n",
    "\n",
    "# convert class vectors to binary class matrices\n",
    "y_train = keras.utils.to_categorical(y_train, num_classes)\n",
    "y_test = keras.utils.to_categorical(y_test, num_classes)\n",
    "\n",
    "\n",
    "model = Sequential()\n",
    "model.add(Conv2D(32, (3, 3), padding='same',input_shape=input_shape))\n",
    "model.add(Activation('relu'))\n",
    "model.add(Conv2D(32, (3, 3)))\n",
    "model.add(Activation('relu'))\n",
    "model.add(MaxPooling2D(pool_size=(2, 2)))\n",
    "#model.add(Dropout(0.25))\n",
    "\n",
    "model.add(Flatten())\n",
    "model.add(Dense(10))\n",
    "model.add(Activation('relu'))\n",
    "#model.add(Dropout(0.5))\n",
    "model.add(Dense(num_classes))\n",
    "model.add(Activation('softmax'))\n",
    "\n",
    "# initiate RMSprop optimizer\n",
    "opt = keras.optimizers.rmsprop(lr=0.0001, decay=1e-6)\n",
    "\n",
    "# Let's train the model using RMSprop\n",
    "model.compile(loss='categorical_crossentropy',\n",
    "              optimizer=opt,\n",
    "              metrics=['accuracy'])\n",
    "\n",
    "x_train = x_train.astype('float32')\n",
    "x_test = x_test.astype('float32')\n",
    "#x_train /= 255\n",
    "#x_test /= 255\n",
    "\n",
    "\n",
    "\n",
    "#existingModel.load_weights('weightsfile.h5') "
   ]
  },
  {
   "cell_type": "code",
   "execution_count": null,
   "metadata": {},
   "outputs": [],
   "source": [
    "from keras.callbacks import ModelCheckpoint\n",
    "checkpointer = ModelCheckpoint(filepath = 'DNN_Conv.weights.best.hdf5', verbose = 1, save_best_only = True)\n",
    "\n",
    "model.fit(x_train, y_train,\n",
    "          batch_size=batch_size,\n",
    "          epochs=epochs,\n",
    "          validation_data=(x_test, y_test),\n",
    "          shuffle=True)"
   ]
  },
  {
   "cell_type": "code",
   "execution_count": 19,
   "metadata": {},
   "outputs": [],
   "source": [
    "model.save_weights('DNN_Conv.weights.best.hdf5')\n"
   ]
  },
  {
   "cell_type": "code",
   "execution_count": 19,
   "metadata": {},
   "outputs": [],
   "source": [
    "model.load_weights('DNN_Conv.weights.best.hdf5')\n"
   ]
  },
  {
   "cell_type": "code",
   "execution_count": 20,
   "metadata": {},
   "outputs": [
    {
     "name": "stdout",
     "output_type": "stream",
     "text": [
      "729/729 [==============================] - 2s 2ms/step\n",
      "Accuracy:  0.7325102874117461\n"
     ]
    }
   ],
   "source": [
    "score = model.evaluate(x_test, y_test, verbose=1)\n",
    "print(\"Accuracy: \", score[1])"
   ]
  },
  {
   "cell_type": "code",
   "execution_count": 49,
   "metadata": {},
   "outputs": [],
   "source": [
    "from sklearn import metrics\n",
    "pred3 = model.predict(x_test)\n",
    "predict3 = []\n",
    "for a in pred3:\n",
    "    if a[0]>a[1]:\n",
    "            predict3.append(0)\n",
    "    else:\n",
    "            predict3.append(1)\n",
    "predict3 = keras.utils.to_categorical(predict3, num_classes)"
   ]
  },
  {
   "cell_type": "code",
   "execution_count": 60,
   "metadata": {},
   "outputs": [
    {
     "name": "stdout",
     "output_type": "stream",
     "text": [
      "Accuracy = 0.7325102880658436\n",
      "Precision = [0.76821192 0.70725995]\n",
      "Recall = [0.64985994 0.81182796]\n",
      "F1 Score = [0.70409712 0.75594493]\n"
     ]
    }
   ],
   "source": [
    "print(\"Accuracy = {}\\nPrecision = {}\\nRecall = {}\\nF1 Score = {}\".format(\n",
    "    metrics.accuracy_score(y_test, predict3), \n",
    "    metrics.precision_score(y_test, predict3, average=None),\n",
    "    metrics.recall_score(y_test, predict3, average=None),\n",
    "    metrics.f1_score(y_test, predict3, average=None)))\n",
    "score_p = []\n",
    "score_p.append([metrics.accuracy_score(y_test, predict3), \n",
    "                metrics.precision_score(y_test, predict3, average=None),\n",
    "                metrics.recall_score(y_test, predict3,average=None),\n",
    "                metrics.f1_score(y_test, predict3,average=None)])"
   ]
  },
  {
   "cell_type": "code",
   "execution_count": null,
   "metadata": {},
   "outputs": [],
   "source": []
  }
 ],
 "metadata": {
  "anaconda-cloud": {},
  "kernelspec": {
   "display_name": "Python 3",
   "language": "python",
   "name": "python3"
  },
  "language_info": {
   "codemirror_mode": {
    "name": "ipython",
    "version": 3
   },
   "file_extension": ".py",
   "mimetype": "text/x-python",
   "name": "python",
   "nbconvert_exporter": "python",
   "pygments_lexer": "ipython3",
   "version": "3.5.2"
  }
 },
 "nbformat": 4,
 "nbformat_minor": 1
}
